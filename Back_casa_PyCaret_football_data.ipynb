{
  "cells": [
    {
      "cell_type": "markdown",
      "metadata": {
        "id": "view-in-github",
        "colab_type": "text"
      },
      "source": [
        "<a href=\"https://colab.research.google.com/github/guhgah88/Projetos_Analises_de_dados/blob/main/Back_casa_PyCaret_football_data.ipynb\" target=\"_parent\"><img src=\"https://colab.research.google.com/assets/colab-badge.svg\" alt=\"Open In Colab\"/></a>"
      ]
    },
    {
      "cell_type": "code",
      "execution_count": null,
      "metadata": {
        "id": "h113SdwrUQ-6"
      },
      "outputs": [],
      "source": [
        "!pip install pycaret\n",
        "!pip install lightgbm"
      ]
    },
    {
      "cell_type": "markdown",
      "metadata": {
        "id": "yCdrUX7dvvdH"
      },
      "source": [
        "### Importando as Bibliotecas"
      ]
    },
    {
      "cell_type": "code",
      "execution_count": null,
      "metadata": {
        "id": "BLTj4lbkqv7J"
      },
      "outputs": [],
      "source": [
        "import pandas as pd\n",
        "import numpy as np\n",
        "import matplotlib.pyplot as plt\n",
        "\n",
        "from pycaret.classification import *\n",
        "\n",
        "import warnings\n",
        "warnings.filterwarnings('ignore')\n",
        "\n",
        "def drop_reset_index(df):\n",
        "    df = df.dropna()\n",
        "    df = df.reset_index(drop=True)\n",
        "    df.index += 1\n",
        "    return df\n",
        "\n",
        "def plot_profit_acu(dataframe, title_text):\n",
        "    dataframe['Profit_acu'] = dataframe.Profit.cumsum()\n",
        "    n_apostas = dataframe.shape[0]\n",
        "    profit = round(dataframe.Profit_acu.tail(1).item(), 2)\n",
        "    ROI = round((dataframe.Profit_acu.tail(1) / n_apostas * 100).item(), 2)\n",
        "    drawdown = dataframe['Profit_acu'] - dataframe['Profit_acu'].cummax()\n",
        "    drawdown_maximo = round(drawdown.min(), 2)\n",
        "    winrate_medio = round((dataframe['Profit'] > 0).mean() * 100, 2)\n",
        "    desvio_padrao = round(dataframe['Profit'].std(), 2)\n",
        "    dataframe.Profit_acu.plot(title=title_text, xlabel='Entradas', ylabel='Stakes')\n",
        "    print(\"Método:\",title_text)\n",
        "    print(\"Profit:\", profit, \"stakes em\", n_apostas, \"jogos\")\n",
        "    print(\"ROI:\", ROI, \"%\")\n",
        "    print(\"Drawdown Maximo Acumulado:\", drawdown_maximo)\n",
        "    print(\"Winrate Medio:\", winrate_medio, \"%\")\n",
        "    print(\"Desvio Padrao:\", desvio_padrao)\n",
        "    print(\"\")\n",
        "\n",
        "def avg_total(df, team, date, var_for_column, var_against_column):\n",
        "    prior_matches = df[(df['Home'] == team) | (df['Away'] == team)]\n",
        "    prior_matches = prior_matches[prior_matches['Date'] < date].tail(5)\n",
        "\n",
        "    var_for = 0\n",
        "    var_against = 0\n",
        "\n",
        "    for _, row in prior_matches.iterrows():\n",
        "        if row['Home'] == team:\n",
        "            var_for += row[var_for_column]\n",
        "            var_against += row[var_against_column]\n",
        "        else:\n",
        "            var_for += row[var_against_column]\n",
        "            var_against += row[var_for_column]\n",
        "\n",
        "    num_games = len(prior_matches)\n",
        "    avg_var_for = var_for / num_games if num_games > 0 else 0\n",
        "    avg_var_against = var_against / num_games if num_games > 0 else 0\n",
        "\n",
        "    return avg_var_for, avg_var_against"
      ]
    },
    {
      "cell_type": "markdown",
      "metadata": {
        "id": "g7rNICaGTEu_"
      },
      "source": [
        "### Importando a Base de Dados"
      ]
    },
    {
      "cell_type": "code",
      "execution_count": null,
      "metadata": {
        "id": "hNbZcY4bIfMr"
      },
      "outputs": [],
      "source": [
        "base = pd.read_excel(\"https://github.com/guhgah88/Projetos_Analises_de_dados/raw/main/Planilhas/Base_de_dados_football_data.xlsx\")\n",
        "base[\"Data\"] = pd.to_datetime(base[\"Data\"])\n",
        "base = base.sort_values('Data')\n",
        "base = base[['Data','Home','Away','HG','AG','Result','H_odd','D_odd','A_odd','pro_H','pro_D','pro_A','CV_odd','CV_pro','Med_pts_H','Med_pts_A' ,\n",
        "'CV_pts_H' ,'CV_pts_A',\t'Média_GM_H','Média_GM_A','CV_GM_H','CV_GM_A','Média_GS_H','Média_GS_A','CV_GS_H','CV_GS_A','Média_SG_H',\n",
        "'Média_SG_A','CV_SG_H','CV_SG_A','Média_CG_H','Média_CG_A','CV_CG_H','CV_CG_A']]\n",
        "\n",
        "#[['Data','Home','Away','HG','AG','Result','H_odd','D_odd','A_odd','pro_H','pro_D','pro_A','CV_odd','CV_pro','Med_pts_H','Med_pts_A' ,\n",
        "#'CV_pts_H' ,'CV_pts_A',\t'Média_GM_H','Média_GM_A','CV_GM_H','CV_GM_A','Média_GS_H','Média_GS_A','CV_GS_H','CV_GS_A','Média_SG_H',\n",
        "#'Média_SG_A','CV_SG_H','CV_SG_A','Média_CG_H','Média_CG_A','CV_CG_H','CV_CG_A']]\n",
        "\n",
        "\n",
        "\n",
        "base.columns = ['Data','Home','Away','HG','AG','Result','H_odd','D_odd','A_odd','pro_H','pro_D','pro_A','CV_odd','CV_pro','Med_pts_H','Med_pts_A' ,\n",
        "'CV_pts_H' ,'CV_pts_A',\t'Média_GM_H','Média_GM_A','CV_GM_H','CV_GM_A','Média_GS_H','Média_GS_A','CV_GS_H','CV_GS_A','Média_SG_H',\n",
        "'Média_SG_A','CV_SG_H','CV_SG_A','Média_CG_H','Média_CG_A','CV_CG_H','CV_CG_A']\n",
        "#base = base[base['League'].isin(ligas) == True]\n",
        "base = drop_reset_index(base)"
      ]
    },
    {
      "cell_type": "markdown",
      "metadata": {
        "id": "icBMpGQCVZB8"
      },
      "source": [
        "### Criando Variáveis"
      ]
    },
    {
      "cell_type": "code",
      "execution_count": null,
      "metadata": {
        "id": "QnTcTOC5Ixnz"
      },
      "outputs": [],
      "source": [
        "# Crie uma função para calcular os pontos com base no resultado\n",
        "def calc_pts(result):\n",
        "    if result == 'H':\n",
        "        return 3\n",
        "    elif result == 'D':\n",
        "        return 1\n",
        "    else:\n",
        "        return 0\n",
        "\n",
        "# Aplique a função para criar as colunas de pontos\n",
        "base['Pts_H'] = base['Result'].apply(calc_pts)\n",
        "base['Pts_A'] = base['Result'].apply(lambda x: calc_pts('A' if x == 'H' else ('H' if x == 'A' else 'D')))\n",
        "\n",
        "# Crie uma função para calcular a porcentagem de aproveitamento dos pontos\n",
        "def calc_aproveitamento(df, team_col, pts_col, n_games):\n",
        "    df['Aproveitamento_'+team_col] = 0\n",
        "    teams = df[team_col].unique()\n",
        "    for team in teams:\n",
        "        team_games = df[df[team_col] == team]\n",
        "        team_games['Aproveitamento_'+team_col] = team_games[pts_col].rolling(n_games).sum() / (3 * n_games)\n",
        "        df.loc[df[team_col] == team, 'Aproveitamento_'+team_col] = team_games['Aproveitamento_'+team_col]\n",
        "    return df\n",
        "\n",
        "# Aplique a função ao seu DataFrame\n",
        "base = calc_aproveitamento(base, 'Home', 'Pts_H', 5)\n",
        "base = calc_aproveitamento(base, 'Away', 'Pts_A', 5)\n",
        "\n",
        "\n"
      ]
    },
    {
      "cell_type": "markdown",
      "metadata": {
        "id": "e2j6FmWEWznJ"
      },
      "source": [
        "### Criação do Modelo no Pycaret"
      ]
    },
    {
      "cell_type": "code",
      "execution_count": null,
      "metadata": {
        "id": "TwgEqTioWuhi"
      },
      "outputs": [],
      "source": [
        "# Back Home\n",
        "base.loc[(base['HG'] >  base['AG']), 'Back_Home'] = 1\n",
        "base.loc[(base['HG'] <= base['AG']), 'Back_Home'] = 0"
      ]
    },
    {
      "cell_type": "code",
      "execution_count": null,
      "metadata": {
        "id": "aneEjU4pbJ9x"
      },
      "outputs": [],
      "source": [
        "treino = base[base['Data'].dt.year <= 2022]\n",
        "teste = base[base['Data'].dt.year >= 2023]"
      ]
    },
    {
      "cell_type": "code",
      "execution_count": null,
      "metadata": {
        "id": "avpy-OGlI3nK"
      },
      "outputs": [],
      "source": [
        "base_numeric = base.select_dtypes(include=[np.number])\n",
        "corr = base_numeric.corr()"
      ]
    },
    {
      "cell_type": "markdown",
      "metadata": {
        "id": "QUnEJFY6h1IT"
      },
      "source": [
        "## Criando correlação com mapa de calor"
      ]
    },
    {
      "cell_type": "code",
      "execution_count": null,
      "metadata": {
        "id": "c1v7yBESgsny"
      },
      "outputs": [],
      "source": [
        "import seaborn as sns\n",
        "import matplotlib.pyplot as plt\n",
        "\n",
        "# Calcula a correlação\n",
        "corr = base_numeric.corr()\n",
        "\n",
        "# Seleciona apenas a coluna 'Back_Home'\n",
        "corr_back_home = corr['Back_Home'].sort_values(ascending=False)\n",
        "\n",
        "# Transforma a Series em DataFrame para o heatmap\n",
        "corr_back_home = pd.DataFrame(corr_back_home)\n",
        "\n",
        "# Cria um mapa de calor\n",
        "plt.figure(figsize=(12,10))\n",
        "sns.heatmap(corr_back_home, annot=True, cmap='coolwarm', vmin=-1, vmax=1)\n",
        "plt.show()"
      ]
    },
    {
      "cell_type": "code",
      "execution_count": null,
      "metadata": {
        "id": "nihDpYiTWukU"
      },
      "outputs": [],
      "source": [
        "features = ['Aproveitamento_Home','pro_H','CV_pro','A_odd','CV_odd']\n",
        "\n",
        "label = 'Back_Home'"
      ]
    },
    {
      "cell_type": "code",
      "execution_count": null,
      "metadata": {
        "id": "k-xFuAPUI3nN"
      },
      "outputs": [],
      "source": [
        "# Configurando o ambiente PyCaret\n",
        "Back_Home = setup(data = treino[features], target = treino[label], verbose = False)"
      ]
    },
    {
      "cell_type": "code",
      "execution_count": null,
      "metadata": {
        "id": "zbwOOHQ5ao4O"
      },
      "outputs": [],
      "source": [
        "# Verificando os Modelos existentes no PyCaret\n",
        "df_models = models()\n",
        "modelos = df_models.index.tolist()\n",
        "modelos"
      ]
    },
    {
      "cell_type": "code",
      "execution_count": null,
      "metadata": {
        "id": "_iBrMyoDbj3Y"
      },
      "outputs": [],
      "source": [
        "for i in modelos:\n",
        "    try:\n",
        "        Treino = create_model(i, verbose=False)\n",
        "        df1 = predict_model(Treino, teste, verbose=False)\n",
        "\n",
        "        stake = 1\n",
        "        green = stake * (df1.H_odd - 1)\n",
        "        red = -stake\n",
        "\n",
        "        df1.loc[(df1['prediction_label'] == 1) & (df1['Back_Home'] == 1), 'Profit'] = green\n",
        "        df1.loc[(df1['prediction_label'] == 1) & (df1['Back_Home'] == 0), 'Profit'] = red\n",
        "        df1.loc[(df1['prediction_label'] == 0) & (df1['Back_Home'] == 1), 'Profit'] = 0\n",
        "        df1.loc[(df1['prediction_label'] == 0) & (df1['Back_Home'] == 0), 'Profit'] = 0\n",
        "\n",
        "        filtro = (df1.prediction_label == 1) & (df1.A_odd >= 4) & (df1.Média_CG_A >=2)\n",
        "        df0 = df1[filtro]\n",
        "        df0 = drop_reset_index(df0)\n",
        "        plt.figure()\n",
        "        plot_profit_acu(df0,f'Back Home - {i}')\n",
        "        plt.show()\n",
        "    except Exception as e:\n",
        "        print(f\"Ocorreu um erro: {e}\")\n"
      ]
    },
    {
      "cell_type": "code",
      "execution_count": null,
      "metadata": {
        "id": "sF5YHYPAb9dP"
      },
      "outputs": [],
      "source": [
        "Treino = create_model('svm', verbose=False)\n",
        "df1 = predict_model(Treino, teste, verbose=False)"
      ]
    },
    {
      "cell_type": "code",
      "source": [
        "base_H = base[['Home', 'Aproveitamento_Home']]\n",
        "base_A = base[['Away', 'Aproveitamento_Away']]"
      ],
      "metadata": {
        "id": "MO4UZ2ECPh0p"
      },
      "execution_count": null,
      "outputs": []
    },
    {
      "cell_type": "code",
      "source": [
        "jogos = pd.read_excel('https://www.football-data.co.uk/fixtures.xlsx')\n",
        "jogos = jogos[['Date','HomeTeam','AwayTeam','B365H','B365D','B365A']]\n",
        "jogos.columns = ['Data','Home','Away','H_odd','D_odd','A_odd']\n",
        "\n",
        "jogos['pro_H'] = 1 / jogos.H_odd\n",
        "jogos['pro_D'] = 1 / jogos.D_odd\n",
        "jogos['pro_A'] = 1 / jogos.A_odd\n",
        "\n",
        "#CV das Odds\n",
        "desv_pad = jogos[['H_odd' , 'D_odd' , 'A_odd']].std(axis=1)\n",
        "med_odd = jogos[['H_odd' , 'D_odd' , 'A_odd']].mean(axis=1)\n",
        "cv_odd = desv_pad / med_odd\n",
        "jogos['CV_odd'] = cv_odd\n",
        "\n",
        "#CV das Probabilidades\n",
        "desv_pad = jogos[['pro_H' , 'pro_D' , 'pro_A']].std(axis=1)\n",
        "med_pro = jogos[['pro_H' , 'pro_D' , 'pro_A']].mean(axis=1)\n",
        "cv_pro = desv_pad / med_pro\n",
        "jogos['CV_pro'] = cv_pro\n",
        "\n",
        "\n",
        "\n",
        "jogos"
      ],
      "metadata": {
        "id": "OgsoV6vzQINq"
      },
      "execution_count": null,
      "outputs": []
    },
    {
      "cell_type": "code",
      "source": [
        "ultima_base_H = base_H.groupby('Home').last().reset_index()\n",
        "ultima_base_A = base_A.groupby('Away').last().reset_index()\n",
        "\n",
        "df = pd.merge(jogos, ultima_base_H, how='left', left_on='Home', right_on='Home')\n",
        "df = pd.merge(df, ultima_base_A, how='left', left_on='Away', right_on='Away')\n",
        "\n",
        "df = drop_reset_index(df)\n",
        "#df\n"
      ],
      "metadata": {
        "id": "SPeL4--aPmqa"
      },
      "execution_count": null,
      "outputs": []
    },
    {
      "cell_type": "code",
      "source": [
        "Treino = create_model('svm', verbose=False)\n",
        "df1 = predict_model(Treino, df, verbose=False)\n",
        "filtro = (df1.prediction_label == 1)\n",
        "entradas = df1[filtro]\n",
        "entradas= drop_reset_index(entradas)\n",
        "entradas"
      ],
      "metadata": {
        "id": "otf5HjU-WSKg"
      },
      "execution_count": null,
      "outputs": []
    },
    {
      "cell_type": "code",
      "source": [],
      "metadata": {
        "id": "EfXp-RDRXHZg"
      },
      "execution_count": null,
      "outputs": []
    }
  ],
  "metadata": {
    "colab": {
      "private_outputs": true,
      "provenance": [],
      "include_colab_link": true
    },
    "kernelspec": {
      "display_name": "Python 3 (ipykernel)",
      "language": "python",
      "name": "python3"
    },
    "language_info": {
      "codemirror_mode": {
        "name": "ipython",
        "version": 3
      },
      "file_extension": ".py",
      "mimetype": "text/x-python",
      "name": "python",
      "nbconvert_exporter": "python",
      "pygments_lexer": "ipython3",
      "version": "3.8.10"
    }
  },
  "nbformat": 4,
  "nbformat_minor": 0
}