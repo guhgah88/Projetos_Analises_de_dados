{
 "cells": [
  {
   "cell_type": "code",
   "execution_count": 1,
   "id": "04e4da68-6eec-4cb4-a8f0-568c9b9bbf90",
   "metadata": {},
   "outputs": [],
   "source": [
    "# Instalação das Bibliotecas\n",
    "\n",
    "# pip install selenium\n",
    "# pip install tinydb\n",
    "# pip install fake_useragent"
   ]
  },
  {
   "cell_type": "code",
   "execution_count": 2,
   "id": "a83bae1c",
   "metadata": {},
   "outputs": [],
   "source": [
    "import pandas as pd\n",
    "from time import sleep\n",
    "from datetime import date, datetime, timedelta\n",
    "from selenium import webdriver\n",
    "from selenium.webdriver.common.by import By\n",
    "from selenium.webdriver.support.ui import WebDriverWait\n",
    "from selenium.webdriver.support import expected_conditions as EC\n",
    "from selenium.webdriver.chrome.options import Options\n",
    "from selenium.webdriver.chrome.service import Service\n",
    "from tqdm.auto import tqdm\n",
    "from tinydb import TinyDB,Query\n",
    "from bs4 import BeautifulSoup\n",
    "from fake_useragent import UserAgent\n",
    "\n",
    "import warnings\n",
    "warnings.filterwarnings('ignore')\n",
    "\n",
    "pd.set_option('display.max_columns', None)\n",
    "pd.set_option('display.max_rows', None)"
   ]
  },
  {
   "cell_type": "code",
   "execution_count": 3,
   "id": "f9d61710",
   "metadata": {},
   "outputs": [],
   "source": [
    "links1 = [\n",
    "\n",
    "'https://www.flashscore.com/football/argentina/liga-profesional-2023/results/',\n",
    "'https://www.flashscore.com/football/argentina/liga-profesional-2022/results/',\n",
    "'https://www.flashscore.com/football/argentina/liga-profesional-2021/results/',\n",
    "'https://www.flashscore.com/football/argentina/liga-profesional-2020/results/',\n",
    "'https://www.flashscore.com/football/argentina/copa-de-la-liga-profesional-2023/results/',\n",
    "'https://www.flashscore.com/football/argentina/copa-de-la-liga-profesional-2022/results/',\n",
    "'https://www.flashscore.com/football/argentina/copa-de-la-liga-profesional-2021/results/',\n",
    "'https://www.flashscore.com/football/argentina/copa-de-la-liga-profesional-2020/results/',\n",
    "'https://www.flashscore.com/football/argentina/primera-nacional-2023/results/',\n",
    "'https://www.flashscore.com/football/argentina/primera-nacional-2022/results/',\n",
    "'https://www.flashscore.com/football/argentina/primera-nacional-2021/results/',\n",
    "'https://www.flashscore.com/football/argentina/primera-nacional-2020/results/',\n",
    "'https://www.flashscore.com/football/belarus/vysshaya-liga-2020/results/',\n",
    "'https://www.flashscore.com/football/belarus/vysshaya-liga-2021/results/',\n",
    "'https://www.flashscore.com/football/belarus/vysshaya-liga-2022/results/',\n",
    "'https://www.flashscore.com/football/belarus/vysshaya-liga-2023/results/',\n",
    "'https://www.flashscore.com/football/bolivia/division-profesional-2020/results/',\n",
    "'https://www.flashscore.com/football/bolivia/division-profesional-2021/results/',\n",
    "'https://www.flashscore.com/football/bolivia/division-profesional-2022/results/',    \n",
    "'https://www.flashscore.com/football/bolivia/division-profesional-2023/results/',\n",
    "'https://www.flashscore.com/football/brazil/serie-a-2020/results/',\n",
    "'https://www.flashscore.com/football/brazil/serie-a-2021/results/',\n",
    "'https://www.flashscore.com/football/brazil/serie-a-2022/results/',    \n",
    "'https://www.flashscore.com/football/brazil/serie-a-2023/results/',\n",
    "'https://www.flashscore.com/football/brazil/serie-b-2020/results/',\n",
    "'https://www.flashscore.com/football/brazil/serie-b-2021/results/',\n",
    "'https://www.flashscore.com/football/brazil/serie-b-2022/results/',\n",
    "'https://www.flashscore.com/football/brazil/serie-b-2023/results/',\n",
    "'https://www.flashscore.com/football/chile/primera-division-2020/results/',\n",
    "'https://www.flashscore.com/football/chile/primera-division-2021/results/',\n",
    "'https://www.flashscore.com/football/chile/primera-division-2022/results/',\n",
    "'https://www.flashscore.com/football/chile/primera-division-2023/results/',\n",
    "'https://www.flashscore.com/football/chile/primera-b-2020/results/',\n",
    "'https://www.flashscore.com/football/chile/primera-b-2021/results/',\n",
    "'https://www.flashscore.com/football/chile/primera-b-2022/results/',\n",
    "'https://www.flashscore.com/football/chile/primera-b-2023/results/',\n",
    "'https://www.flashscore.com/football/china/super-league-2020/results/',\n",
    "'https://www.flashscore.com/football/china/super-league-2021/results/',\n",
    "'https://www.flashscore.com/football/china/super-league-2022/results/',\n",
    "'https://www.flashscore.com/football/china/super-league-2023/results/',\n",
    "'https://www.flashscore.com/football/colombia/primera-a-2020/results/',\n",
    "'https://www.flashscore.com/football/colombia/primera-a-2021/results/',\n",
    "'https://www.flashscore.com/football/colombia/primera-a-2022/results/',\n",
    "'https://www.flashscore.com/football/colombia/primera-a-2023/results/',\n",
    "'https://www.flashscore.com/football/ecuador/liga-pro-2020/results/',\n",
    "'https://www.flashscore.com/football/ecuador/liga-pro-2021/results/',\n",
    "'https://www.flashscore.com/football/ecuador/liga-pro-2022/results/',\n",
    "'https://www.flashscore.com/football/ecuador/liga-pro-2023/results/',\n",
    "'https://www.flashscore.com/football/ecuador/serie-b-2020/results/',\n",
    "'https://www.flashscore.com/football/ecuador/serie-b-2021/results/',\n",
    "'https://www.flashscore.com/football/ecuador/serie-b-2022/results/',\n",
    "'https://www.flashscore.com/football/ecuador/serie-b-2023/results/',\n",
    "'https://www.flashscore.com/football/estonia/meistriliiga-2020/results/',\n",
    "'https://www.flashscore.com/football/estonia/meistriliiga-2021/results/',\n",
    "'https://www.flashscore.com/football/estonia/meistriliiga-2022/results/',\n",
    "'https://www.flashscore.com/football/estonia/meistriliiga-2023/results/',\n",
    "'https://www.flashscore.com/football/finland/veikkausliiga-2020/results/',\n",
    "'https://www.flashscore.com/football/finland/veikkausliiga-2021/results/',\n",
    "'https://www.flashscore.com/football/finland/veikkausliiga-2022/results/',\n",
    "'https://www.flashscore.com/football/finland/veikkausliiga-2023/results/',\n",
    "'https://www.flashscore.com/football/finland/ykkonen-2020/results/',\n",
    "'https://www.flashscore.com/football/finland/ykkonen-2021/results/',\n",
    "'https://www.flashscore.com/football/finland/ykkonen-2022/results/',\n",
    "'https://www.flashscore.com/football/finland/ykkonen-2023/results/',\n",
    "'https://www.flashscore.com/football/georgia/crystalbet-erovnuli-liga-2020/results/',\n",
    "'https://www.flashscore.com/football/georgia/crystalbet-erovnuli-liga-2021/results/',\n",
    "'https://www.flashscore.com/football/georgia/crystalbet-erovnuli-liga-2022/results/',\n",
    "'https://www.flashscore.com/football/georgia/crystalbet-erovnuli-liga-2023/results/',\n",
    "'https://www.flashscore.com/football/iceland/besta-deild-karla-2020/results/',\n",
    "'https://www.flashscore.com/football/iceland/besta-deild-karla-2021/results/',\n",
    "'https://www.flashscore.com/football/iceland/besta-deild-karla-2022/results/',\n",
    "'https://www.flashscore.com/football/iceland/besta-deild-karla-2023/results/',\n",
    "'https://www.flashscore.com/football/japan/j1-league-2020/results/',\n",
    "'https://www.flashscore.com/football/japan/j1-league-2021/results/',\n",
    "'https://www.flashscore.com/football/japan/j1-league-2022/results/',\n",
    "'https://www.flashscore.com/football/japan/j1-league-2023/results/',\n",
    "'https://www.flashscore.com/football/japan/j2-league-2020/results/',\n",
    "'https://www.flashscore.com/football/japan/j2-league-2021/results/',\n",
    "'https://www.flashscore.com/football/japan/j2-league-2022/results/',\n",
    "'https://www.flashscore.com/football/japan/j2-league-2023/results/',\n",
    "'https://www.flashscore.com/football/south-korea/k-league-1-2020/results/',\n",
    "'https://www.flashscore.com/football/south-korea/k-league-1-2021/results/',\n",
    "'https://www.flashscore.com/football/south-korea/k-league-1-2022/results/',\n",
    "'https://www.flashscore.com/football/south-korea/k-league-1-2023/results/',\n",
    "'https://www.flashscore.com/football/south-korea/k-league-2-2020/results/',\n",
    "'https://www.flashscore.com/football/south-korea/k-league-2-2021/results/',\n",
    "'https://www.flashscore.com/football/south-korea/k-league-2-2022/results/',\n",
    "'https://www.flashscore.com/football/south-korea/k-league-2-2023/results/',\n",
    "'https://www.flashscore.com/football/lithuania/a-lyga-2020/results/',\n",
    "'https://www.flashscore.com/football/lithuania/a-lyga-2021/results/',\n",
    "'https://www.flashscore.com/football/lithuania/a-lyga-2022/results/',\n",
    "'https://www.flashscore.com/football/lithuania/a-lyga-2023/results/',\n",
    "'https://www.flashscore.com/football/norway/eliteserien-2020/results/',\n",
    "'https://www.flashscore.com/football/norway/eliteserien-2021/results/',\n",
    "'https://www.flashscore.com/football/norway/eliteserien-2022/results/',\n",
    "'https://www.flashscore.com/football/norway/eliteserien-2023/results/',\n",
    "'https://www.flashscore.com/football/norway/obos-ligaen-2020/results/',\n",
    "'https://www.flashscore.com/football/norway/obos-ligaen-2021/results/',\n",
    "'https://www.flashscore.com/football/norway/obos-ligaen-2022/results/',    \n",
    "'https://www.flashscore.com/football/norway/obos-ligaen-2023/results/',\n",
    "'https://www.flashscore.com/football/paraguay/primera-division-2020/results/',\n",
    "'https://www.flashscore.com/football/paraguay/primera-division-2021/results/',\n",
    "'https://www.flashscore.com/football/paraguay/primera-division-2022/results/',\n",
    "'https://www.flashscore.com/football/paraguay/primera-division-2023/results/',\n",
    "'https://www.flashscore.com/football/peru/liga-1-2020/results/',\n",
    "'https://www.flashscore.com/football/peru/liga-1-2021/results/',\n",
    "'https://www.flashscore.com/football/peru/liga-1-2022/results/',\n",
    "'https://www.flashscore.com/football/peru/liga-1-2023/results/',\n",
    "'https://www.flashscore.com/football/ireland/premier-division-2020/results/',\n",
    "'https://www.flashscore.com/football/ireland/premier-division-2021/results/',\n",
    "'https://www.flashscore.com/football/ireland/premier-division-2022/results/',\n",
    "'https://www.flashscore.com/football/ireland/premier-division-2023/results/',\n",
    "'https://www.flashscore.com/football/ireland/division-1-2020/results/',\n",
    "'https://www.flashscore.com/football/ireland/division-1-2021/results/',\n",
    "'https://www.flashscore.com/football/ireland/division-1-2022/results/',\n",
    "'https://www.flashscore.com/football/ireland/division-1-2023/results/',\n",
    "'https://www.flashscore.com/football/south-africa/premier-league-2020/results/',\n",
    "'https://www.flashscore.com/football/south-africa/premier-league-2021/results/',\n",
    "'https://www.flashscore.com/football/south-africa/premier-league-2022/results/',\n",
    "'https://www.flashscore.com/football/south-africa/premier-league-2023/results/',\n",
    "'https://www.flashscore.com/football/sweden/allsvenskan-2020/results/',\n",
    "'https://www.flashscore.com/football/sweden/allsvenskan-2021/results/',\n",
    "'https://www.flashscore.com/football/sweden/allsvenskan-2022/results/',\n",
    "'https://www.flashscore.com/football/sweden/allsvenskan-2023/results/',\n",
    "'https://www.flashscore.com/football/sweden/superettan-2020/results/',\n",
    "'https://www.flashscore.com/football/sweden/superettan-2021/results/',\n",
    "'https://www.flashscore.com/football/sweden/superettan-2022/results/',\n",
    "'https://www.flashscore.com/football/sweden/superettan-2023/results/',\n",
    "'https://www.flashscore.com/football/uruguay/primera-division-2020/results/',\n",
    "'https://www.flashscore.com/football/uruguay/primera-division-2021/results/',\n",
    "'https://www.flashscore.com/football/uruguay/primera-division-2022/results/',\n",
    "'https://www.flashscore.com/football/uruguay/primera-division-2023/results/',\n",
    "'https://www.flashscore.com/football/uruguay/segunda-division-2020/results/',\n",
    "'https://www.flashscore.com/football/uruguay/segunda-division-2021/results/',\n",
    "'https://www.flashscore.com/football/uruguay/segunda-division-2022/results/',\n",
    "'https://www.flashscore.com/football/uruguay/segunda-division-2023/results/',\n",
    "'https://www.flashscore.com/football/usa/mls-2020/results/',\n",
    "'https://www.flashscore.com/football/usa/mls-2021/results/',\n",
    "'https://www.flashscore.com/football/usa/mls-2022/results/',\n",
    "'https://www.flashscore.com/football/usa/mls-2023/results/',\n",
    "'https://www.flashscore.com/football/usa/usl-championship-2020/results/',\n",
    "'https://www.flashscore.com/football/usa/usl-championship-2021/results/',\n",
    "'https://www.flashscore.com/football/usa/usl-championship-2022/results/',\n",
    "'https://www.flashscore.com/football/usa/usl-championship-2023/results/',\n",
    "'https://www.flashscore.com/football/venezuela/liga-futve-2020/results/',\n",
    "'https://www.flashscore.com/football/venezuela/liga-futve-2021/results/',\n",
    "'https://www.flashscore.com/football/venezuela/liga-futve-2022/results/',\n",
    "'https://www.flashscore.com/football/venezuela/liga-futve-2023/results/',]"
   ]
  },
  {
   "cell_type": "code",
   "execution_count": 4,
   "id": "cf37ceea",
   "metadata": {},
   "outputs": [],
   "source": [
    "links2 = [\n",
    "'https://www.flashscore.com/football/albania/superliga-2023-2024/results/',\n",
    "'https://www.flashscore.com/football/albania/superliga-2022-2023/results/',\n",
    "'https://www.flashscore.com/football/albania/superliga-2021-2022/results/',\n",
    "'https://www.flashscore.com/football/albania/superliga-2020-2021/results/',\n",
    "'https://www.flashscore.com/football/algeria/ligue-1-2020-2021/results/',\n",
    "'https://www.flashscore.com/football/algeria/ligue-1-2021-2022/results/',\n",
    "'https://www.flashscore.com/football/algeria/ligue-1-2022-2023/results/',\n",
    "'https://www.flashscore.com/football/algeria/ligue-1-2023-2024/results/',\n",
    "'https://www.flashscore.com/football/australia/a-league-2020-2021/results/',\n",
    "'https://www.flashscore.com/football/australia/a-league-2021-2022/results/',\n",
    "'https://www.flashscore.com/football/australia/a-league-2022-2023/results/',\n",
    "'https://www.flashscore.com/football/australia/a-league-2023-2023/results/',\n",
    "'https://www.flashscore.com/football/austria/bundesliga-2020-2021/results/',\n",
    "'https://www.flashscore.com/football/austria/bundesliga-2021-2022/results/',\n",
    "'https://www.flashscore.com/football/austria/bundesliga-2022-2023/results/',\n",
    "'https://www.flashscore.com/football/austria/bundesliga-2023-2024/results/',\n",
    "'https://www.flashscore.com/football/austria/2-liga-2020-2021/results/',\n",
    "'https://www.flashscore.com/football/austria/2-liga-2021-2022/results/',\n",
    "'https://www.flashscore.com/football/austria/2-liga-2022-2023/results/',\n",
    "'https://www.flashscore.com/football/austria/2-liga-2023-2024/results/',\n",
    "'https://www.flashscore.com/football/belgium/jupiler-pro-league-2020-2021/results/',\n",
    "'https://www.flashscore.com/football/belgium/jupiler-pro-league-2021-2022/results/',\n",
    "'https://www.flashscore.com/football/belgium/jupiler-pro-league-2022-2023/results/',\n",
    "'https://www.flashscore.com/football/belgium/jupiler-pro-league-2023-2024/results/',\n",
    "'https://www.flashscore.com/football/belgium/challenger-pro-league-2020-2021/results/',\n",
    "'https://www.flashscore.com/football/belgium/challenger-pro-league-2021-2022/results/',\n",
    "'https://www.flashscore.com/football/belgium/challenger-pro-league-2022-2023/results/',\n",
    "'https://www.flashscore.com/football/belgium/challenger-pro-league-2023-2024/results/',\n",
    "'https://www.flashscore.com/football/costa-rica/primera-division-2020-2021/results/',\n",
    "'https://www.flashscore.com/football/costa-rica/primera-division-2021-2022/results/',\n",
    "'https://www.flashscore.com/football/costa-rica/primera-division-2022-2023/results/',\n",
    "'https://www.flashscore.com/football/costa-rica/primera-division-2023-2024/results/',\n",
    "'https://www.flashscore.com/football/croatia/hnl-2020-2021/results/',\n",
    "'https://www.flashscore.com/football/croatia/hnl-2021-2022/results/',\n",
    "'https://www.flashscore.com/football/croatia/hnl-2022-2023/results/',\n",
    "'https://www.flashscore.com/football/croatia/hnl-2023-2024/results/',\n",
    "'https://www.flashscore.com/football/croatia/prva-nl-2020-2021/results/',\n",
    "'https://www.flashscore.com/football/croatia/prva-nl-2021-2022/results/',\n",
    "'https://www.flashscore.com/football/croatia/prva-nl-2022-2023/results/',\n",
    "'https://www.flashscore.com/football/croatia/prva-nl-2023-2024/results/',\n",
    "'https://www.flashscore.com/football/czech-republic/fortuna-liga-2020-2021/results/',\n",
    "'https://www.flashscore.com/football/czech-republic/fortuna-liga-2021-2022/results/',\n",
    "'https://www.flashscore.com/football/czech-republic/fortuna-liga-2022-2023/results/',\n",
    "'https://www.flashscore.com/football/czech-republic/fortuna-liga-2023-2024/results/',\n",
    "'https://www.flashscore.com/football/denmark/superliga-2020-2021/results/',\n",
    "'https://www.flashscore.com/football/denmark/superliga-2021-2022/results/',\n",
    "'https://www.flashscore.com/football/denmark/superliga-2022-2023/results/',\n",
    "'https://www.flashscore.com/football/denmark/superliga-2023-2024/results/',\n",
    "'https://www.flashscore.com/football/denmark/1st-division-2020-2021/results/',\n",
    "'https://www.flashscore.com/football/denmark/1st-division-2021-2022/results/',\n",
    "'https://www.flashscore.com/football/denmark/1st-division-2022-2023/results/',\n",
    "'https://www.flashscore.com/football/denmark/1st-division-2023-2024/results/',\n",
    "'https://www.flashscore.com/football/egypt/premier-league-2020-2021/results/',\n",
    "'https://www.flashscore.com/football/egypt/premier-league-2021-2022/results/',\n",
    "'https://www.flashscore.com/football/egypt/premier-league-2022-2023/results/',\n",
    "'https://www.flashscore.com/football/egypt/premier-league-2023-2024/results/',\n",
    "'https://www.flashscore.com/football/england/premier-league-2020-2021/results/',\n",
    "'https://www.flashscore.com/football/england/premier-league-2021-2022/results/',\n",
    "'https://www.flashscore.com/football/england/premier-league-2022-2023/results/',\n",
    "'https://www.flashscore.com/football/england/premier-league-2023-2024/results/',\n",
    "'https://www.flashscore.com/football/england/championship-2020-2021/results/',\n",
    "'https://www.flashscore.com/football/england/championship-2021-2022/results/',\n",
    "'https://www.flashscore.com/football/england/championship-2022-2023/results/',\n",
    "'https://www.flashscore.com/football/england/championship-2023-2024/results/',\n",
    "'https://www.flashscore.com/football/england/league-one-2020-2021/results/',\n",
    "'https://www.flashscore.com/football/england/league-one-2021-2022/results/',\n",
    "'https://www.flashscore.com/football/england/league-one-2022-2023/results/',\n",
    "'https://www.flashscore.com/football/england/league-one-2023-2024/results/',\n",
    "'https://www.flashscore.com/football/england/league-two-2020-2021/results/',\n",
    "'https://www.flashscore.com/football/england/league-two-2021-2022/results/',\n",
    "'https://www.flashscore.com/football/england/league-two-2022-2023/results/',\n",
    "'https://www.flashscore.com/football/england/league-two-2023-2024/results/',\n",
    "'https://www.flashscore.com/football/england/national-league-2020-2021/results/',\n",
    "'https://www.flashscore.com/football/england/national-league-2021-2022/results/',\n",
    "'https://www.flashscore.com/football/england/national-league-2022-2023/results/',\n",
    "'https://www.flashscore.com/football/england/national-league-2023-2024/results/',\n",
    "'https://www.flashscore.com/football/france/ligue-1-2020-2021/results/',\n",
    "'https://www.flashscore.com/football/france/ligue-1-2021-2022/results/',\n",
    "'https://www.flashscore.com/football/france/ligue-1-2022-2023/results/',\n",
    "'https://www.flashscore.com/football/france/ligue-1-2023-2024/results/',\n",
    "'https://www.flashscore.com/football/france/ligue-2-2020-2021/results/',\n",
    "'https://www.flashscore.com/football/france/ligue-2-2021-2022/results/',\n",
    "'https://www.flashscore.com/football/france/ligue-2-2022-2023/results/',\n",
    "'https://www.flashscore.com/football/france/ligue-2-2023-2024/results/',\n",
    "'https://www.flashscore.com/football/france/national-2020-2021/results/',\n",
    "'https://www.flashscore.com/football/france/national-2021-2022/results/',\n",
    "'https://www.flashscore.com/football/france/national-2022-2023/results/',\n",
    "'https://www.flashscore.com/football/france/national-2023-2024/results/',\n",
    "'https://www.flashscore.com/football/germany/bundesliga-2020-2021/results/',\n",
    "'https://www.flashscore.com/football/germany/bundesliga-2021-2022/results/',\n",
    "'https://www.flashscore.com/football/germany/bundesliga-2022-2023/results/',\n",
    "'https://www.flashscore.com/football/germany/bundesliga-2023-2024/results/',\n",
    "'https://www.flashscore.com/football/germany/2-bundesliga-2020-2021/results/',\n",
    "'https://www.flashscore.com/football/germany/2-bundesliga-2021-2022/results/',\n",
    "'https://www.flashscore.com/football/germany/2-bundesliga-2022-2023/results/',\n",
    "'https://www.flashscore.com/football/germany/2-bundesliga-2023-2024/results/',\n",
    "'https://www.flashscore.com/football/germany/3-liga-2020-2021/results/',\n",
    "'https://www.flashscore.com/football/germany/3-liga-2021-2022/results/',\n",
    "'https://www.flashscore.com/football/germany/3-liga-2022-2023/results/',\n",
    "'https://www.flashscore.com/football/germany/3-liga-2023-2024/results/',\n",
    "'https://www.flashscore.com/football/greece/super-league-2020-2021/results/',\n",
    "'https://www.flashscore.com/football/greece/super-league-2021-2022/results/',\n",
    "'https://www.flashscore.com/football/greece/super-league-2022-2023/results/',\n",
    "'https://www.flashscore.com/football/greece/super-league-2023-2024/results/',\n",
    "'https://www.flashscore.com/football/greece/super-league-2-2020-2021/results/',\n",
    "'https://www.flashscore.com/football/greece/super-league-2-2021-2022/results/',\n",
    "'https://www.flashscore.com/football/greece/super-league-2-2022-2023/results/',\n",
    "'https://www.flashscore.com/football/greece/super-league-2-2023-2024/results/',\n",
    "'https://www.flashscore.com/football/hungary/otp-bank-liga-2020-2021/results/',\n",
    "'https://www.flashscore.com/football/hungary/otp-bank-liga-2021-2022/results/',\n",
    "'https://www.flashscore.com/football/hungary/otp-bank-liga-2022-2023/results/',\n",
    "'https://www.flashscore.com/football/hungary/otp-bank-liga-2023-2024/results/',\n",
    "'https://www.flashscore.com/football/india/isl-2020-2021/results/',\n",
    "'https://www.flashscore.com/football/india/isl-2021-2022/results/',\n",
    "'https://www.flashscore.com/football/india/isl-2022-2023/results/',\n",
    "'https://www.flashscore.com/football/india/isl-2023-2024/results/',\n",
    "'https://www.flashscore.com/football/indonesia/liga-1-2020-2021/results/',\n",
    "'https://www.flashscore.com/football/indonesia/liga-1-2021-2022/results/',\n",
    "'https://www.flashscore.com/football/indonesia/liga-1-2022-2023/results/',\n",
    "'https://www.flashscore.com/football/indonesia/liga-1-2023-2024/results/',\n",
    "'https://www.flashscore.com/football/iran/persian-gulf-pro-league-2020-2021/results/',\n",
    "'https://www.flashscore.com/football/iran/persian-gulf-pro-league-2021-2022/results/',\n",
    "'https://www.flashscore.com/football/iran/persian-gulf-pro-league-2022-2023/results/',\n",
    "'https://www.flashscore.com/football/iran/persian-gulf-pro-league-2023-2024/results/',\n",
    "'https://www.flashscore.com/football/israel/ligat-ha-al-2020-2021/results/',\n",
    "'https://www.flashscore.com/football/israel/ligat-ha-al-2021-2022/results/',\n",
    "'https://www.flashscore.com/football/israel/ligat-ha-al-2022-2023/results/',\n",
    "'https://www.flashscore.com/football/israel/ligat-ha-al-2023-2024/results/',\n",
    "'https://www.flashscore.com/football/italy/serie-a-2020-2021/results/',\n",
    "'https://www.flashscore.com/football/italy/serie-a-2021-2022/results/',\n",
    "'https://www.flashscore.com/football/italy/serie-a-2022-2023/results/',\n",
    "'https://www.flashscore.com/football/italy/serie-a-2023-2024/results/',\n",
    "'https://www.flashscore.com/football/italy/serie-b-2020-2021/results/',\n",
    "'https://www.flashscore.com/football/italy/serie-b-2021-2022/results/',\n",
    "'https://www.flashscore.com/football/italy/serie-b-2022-2023/results/',\n",
    "'https://www.flashscore.com/football/italy/serie-b-2023-2024/results/',\n",
    "'https://www.flashscore.com/football/japan/j1-league-2020/results/',\n",
    "'https://www.flashscore.com/football/japan/j1-league-2021/results/',\n",
    "'https://www.flashscore.com/football/japan/j1-league-2022/results/',\n",
    "'https://www.flashscore.com/football/japan/j1-league-2023/results/',\n",
    "'https://www.flashscore.com/football/japan/j2-league-2020/results/',\n",
    "'https://www.flashscore.com/football/japan/j2-league-2021/results/',\n",
    "'https://www.flashscore.com/football/japan/j2-league-2022/results/',\n",
    "'https://www.flashscore.com/football/japan/j2-league-2023/results/',\n",
    "'https://www.flashscore.com/football/south-korea/k-league-1-2020/results/',\n",
    "'https://www.flashscore.com/football/south-korea/k-league-1-2021/results/',\n",
    "'https://www.flashscore.com/football/south-korea/k-league-1-2022/results/',\n",
    "'https://www.flashscore.com/football/south-korea/k-league-1-2023/results/',\n",
    "'https://www.flashscore.com/football/south-korea/k-league-2-2020/results/',\n",
    "'https://www.flashscore.com/football/south-korea/k-league-2-2021/results/',\n",
    "'https://www.flashscore.com/football/south-korea/k-league-2-2022/results/',\n",
    "'https://www.flashscore.com/football/south-korea/k-league-2-2023/results/',\n",
    "'https://www.flashscore.com/football/lithuania/a-lyga-2020/results/',\n",
    "'https://www.flashscore.com/football/lithuania/a-lyga-2021/results/',\n",
    "'https://www.flashscore.com/football/lithuania/a-lyga-2022/results/',\n",
    "'https://www.flashscore.com/football/lithuania/a-lyga-2023/results/',\n",
    "'https://www.flashscore.com/football/malta/premier-league-2020-2021/results/',\n",
    "'https://www.flashscore.com/football/malta/premier-league-2021-2022/results/',\n",
    "'https://www.flashscore.com/football/malta/premier-league-2022-2023/results/',\n",
    "'https://www.flashscore.com/football/malta/premier-league-2023-2024/results/',\n",
    "'https://www.flashscore.com/football/mexico/liga-mx-2020-2021/results/',\n",
    "'https://www.flashscore.com/football/mexico/liga-mx-2021-2022/results/',\n",
    "'https://www.flashscore.com/football/mexico/liga-mx-2022-2023/results/',\n",
    "'https://www.flashscore.com/football/mexico/liga-mx-2023-2024/results/',\n",
    "'https://www.flashscore.com/football/morocco/botola-pro-2020-2021/results/',\n",
    "'https://www.flashscore.com/football/morocco/botola-pro-2021-2022/results/',\n",
    "'https://www.flashscore.com/football/morocco/botola-pro-2022-2023/results/',\n",
    "'https://www.flashscore.com/football/morocco/botola-pro-2023-2024/results/',\n",
    "'https://www.flashscore.com/football/netherlands/eredivisie-2020-2021/results/',\n",
    "'https://www.flashscore.com/football/netherlands/eredivisie-2021-2022/results/',\n",
    "'https://www.flashscore.com/football/netherlands/eredivisie-2022-2023/results/',\n",
    "'https://www.flashscore.com/football/netherlands/eredivisie-2023-2024/results/',\n",
    "'https://www.flashscore.com/football/netherlands/eerste-divisie-2020-2021/results/',\n",
    "'https://www.flashscore.com/football/netherlands/eerste-divisie-2021-2022/results/',\n",
    "'https://www.flashscore.com/football/netherlands/eerste-divisie-2022-2023/results/',\n",
    "'https://www.flashscore.com/football/netherlands/eerste-divisie-2023-2024/results/',\n",
    "'https://www.flashscore.com/football/netherlands/tweede-divisie-2020-2021/results/',\n",
    "'https://www.flashscore.com/football/netherlands/tweede-divisie-2021-2022/results/',\n",
    "'https://www.flashscore.com/football/netherlands/tweede-divisie-2022-2023/results/',\n",
    "'https://www.flashscore.com/football/netherlands/tweede-divisie-2023-2024/results/',\n",
    "'https://www.flashscore.com/football/northern-ireland/nifl-premiership-2020-2021/results/',\n",
    "'https://www.flashscore.com/football/northern-ireland/nifl-premiership-2021-2022/results/',\n",
    "'https://www.flashscore.com/football/northern-ireland/nifl-premiership-2022-2023/results/',\n",
    "'https://www.flashscore.com/football/northern-ireland/nifl-premiership-2023-2024/results/',\n",
    "'https://www.flashscore.com/football/poland/ekstraklasa-2020-2021/results/',\n",
    "'https://www.flashscore.com/football/poland/ekstraklasa-2021-2022/results/',\n",
    "'https://www.flashscore.com/football/poland/ekstraklasa-2022-2023/results/',\n",
    "'https://www.flashscore.com/football/poland/ekstraklasa-2023-2024/results/',\n",
    "'https://www.flashscore.com/football/poland/division-1-2020-2021/results/',\n",
    "'https://www.flashscore.com/football/poland/division-1-2021-2022/results/', \n",
    "'https://www.flashscore.com/football/poland/division-1-2022-2023/results/',\n",
    "'https://www.flashscore.com/football/poland/division-1-2023-2024/results/',\n",
    "'https://www.flashscore.com/football/portugal/liga-portugal-2020-2021/results/',\n",
    "'https://www.flashscore.com/football/portugal/liga-portugal-2021-2022/results/',\n",
    "'https://www.flashscore.com/football/portugal/liga-portugal-2022-2023/results/',\n",
    "'https://www.flashscore.com/football/portugal/liga-portugal-2023-2024/results/',\n",
    "'https://www.flashscore.com/football/portugal/liga-portugal-2-2020-2021/results/',\n",
    "'https://www.flashscore.com/football/portugal/liga-portugal-2-2021-2022/results/',\n",
    "'https://www.flashscore.com/football/portugal/liga-portugal-2-2022-2023/results/',\n",
    "'https://www.flashscore.com/football/portugal/liga-portugal-2-2023-2024/results/',\n",
    "'https://www.flashscore.com/football/qatar/qsl-2020-2021/results/',\n",
    "'https://www.flashscore.com/football/qatar/qsl-2021-2022/results/',\n",
    "'https://www.flashscore.com/football/qatar/qsl-2022-2023/results/',\n",
    "'https://www.flashscore.com/football/qatar/qsl-2023-2024/results/',\n",
    "'https://www.flashscore.com/football/romania/liga-1-2020-2021/results/',\n",
    "'https://www.flashscore.com/football/romania/liga-1-2021-2022/results/',\n",
    "'https://www.flashscore.com/football/romania/liga-1-2022-2023/results/',\n",
    "'https://www.flashscore.com/football/romania/liga-1-2023-2024/results/',\n",
    "'https://www.flashscore.com/football/romania/liga-2-2020-2021/results/',\n",
    "'https://www.flashscore.com/football/romania/liga-2-2021-2022/results/',\n",
    "'https://www.flashscore.com/football/romania/liga-2-2022-2023/results/',\n",
    "'https://www.flashscore.com/football/romania/liga-2-2023-2024/results/',\n",
    "'https://www.flashscore.com/football/russia/premier-league-2020-2021/results/',\n",
    "'https://www.flashscore.com/football/russia/premier-league-2021-2022/results/',\n",
    "'https://www.flashscore.com/football/russia/premier-league-2022-2023/results/',\n",
    "'https://www.flashscore.com/football/russia/premier-league-2023-2024/results/',\n",
    "'https://www.flashscore.com/football/saudi-arabia/saudi-professional-league-2020-2021/results/',\n",
    "'https://www.flashscore.com/football/saudi-arabia/saudi-professional-league-2021-2022/results/',\n",
    "'https://www.flashscore.com/football/saudi-arabia/saudi-professional-league-2022-2023/results/',\n",
    "'https://www.flashscore.com/football/saudi-arabia/saudi-professional-league-2023-2024/results/',\n",
    "'https://www.flashscore.com/football/scotland/premiership-2020-2021/results/',\n",
    "'https://www.flashscore.com/football/scotland/premiership-2021-2022/results/',\n",
    "'https://www.flashscore.com/football/scotland/premiership-2022-2023/results/',\n",
    "'https://www.flashscore.com/football/scotland/premiership-2023-2024/results/',\n",
    "'https://www.flashscore.com/football/scotland/championship-2020-2021/results/',\n",
    "'https://www.flashscore.com/football/scotland/championship-2021-2022/results/',\n",
    "'https://www.flashscore.com/football/scotland/championship-2022-2023/results/',\n",
    "'https://www.flashscore.com/football/scotland/championship-2023-2024/results/',\n",
    "'https://www.flashscore.com/football/scotland/league-one-2020-2021/results/',\n",
    "'https://www.flashscore.com/football/scotland/league-one-2021-2022/results/',\n",
    "'https://www.flashscore.com/football/scotland/league-one-2022-2023/results/',\n",
    "'https://www.flashscore.com/football/scotland/league-one-2023-2024/results/',\n",
    "'https://www.flashscore.com/football/serbia/super-liga-2020-2021/results/',\n",
    "'https://www.flashscore.com/football/serbia/super-liga-2021-2022/results/',\n",
    "'https://www.flashscore.com/football/serbia/super-liga-2022-2023/results/',\n",
    "'https://www.flashscore.com/football/serbia/super-liga-2023-2024/results/',\n",
    "'https://www.flashscore.com/football/slovakia/nike-liga-2020-2021/results/',\n",
    "'https://www.flashscore.com/football/slovakia/nike-liga-2021-2022/results/',\n",
    "'https://www.flashscore.com/football/slovakia/nike-liga-2022-2023/results/',\n",
    "'https://www.flashscore.com/football/slovakia/nike-liga-2023-2024/results/',\n",
    "'https://www.flashscore.com/football/slovenia/prva-liga-2020-2021/results/',\n",
    "'https://www.flashscore.com/football/slovenia/prva-liga-2021-2022/results/',\n",
    "'https://www.flashscore.com/football/slovenia/prva-liga-2022-2023/results/',\n",
    "'https://www.flashscore.com/football/slovenia/prva-liga-2023-2024/results/',\n",
    "'https://www.flashscore.com/football/spain/laliga-2020-2021/results/',\n",
    "'https://www.flashscore.com/football/spain/laliga-2021-2022/results/',\n",
    "'https://www.flashscore.com/football/spain/laliga-2022-2023/results/',\n",
    "'https://www.flashscore.com/football/spain/laliga-2023-2024/results/',\n",
    "'https://www.flashscore.com/football/spain/laliga2-2020-2021/results/',\n",
    "'https://www.flashscore.com/football/spain/laliga2-2021-2022/results/',\n",
    "'https://www.flashscore.com/football/spain/laliga2-2022-2023/results/',\n",
    "'https://www.flashscore.com/football/spain/laliga2-2023-2024/results/',\n",
    "'https://www.flashscore.com/football/switzerland/super-league-2020-2021/results/',\n",
    "'https://www.flashscore.com/football/switzerland/super-league-2021-2022/results/',\n",
    "'https://www.flashscore.com/football/switzerland/super-league-2022-2023/results/',\n",
    "'https://www.flashscore.com/football/switzerland/super-league-2023-2024/results/',\n",
    "'https://www.flashscore.com/football/switzerland/challenge-league-2020-2021/results/',\n",
    "'https://www.flashscore.com/football/switzerland/challenge-league-2021-2022/results/',\n",
    "'https://www.flashscore.com/football/switzerland/challenge-league-2022-2023/results/',\n",
    "'https://www.flashscore.com/football/switzerland/challenge-league-2023-2024/results/',\n",
    "'https://www.flashscore.com/football/turkey/super-lig-2020-2021/results/',\n",
    "'https://www.flashscore.com/football/turkey/super-lig-2021-2022/results/',\n",
    "'https://www.flashscore.com/football/turkey/super-lig-2022-2023/results/',\n",
    "'https://www.flashscore.com/football/turkey/super-lig-2023-2024/results/',\n",
    "'https://www.flashscore.com/football/turkey/1-lig-2020-2021/results/',\n",
    "'https://www.flashscore.com/football/turkey/1-lig-2021-2022/results/',\n",
    "'https://www.flashscore.com/football/turkey/1-lig-2022-2023/results/',\n",
    "'https://www.flashscore.com/football/turkey/1-lig-2023-2024/results/',\n",
    "'https://www.flashscore.com/football/ukraine/premier-league-2020-2021/results/',\n",
    "'https://www.flashscore.com/football/ukraine/premier-league-2021-2022/results/',\n",
    "'https://www.flashscore.com/football/ukraine/premier-league-2022-2023/results/',\n",
    "'https://www.flashscore.com/football/ukraine/premier-league-2023-2024/results/',\n",
    "'https://www.flashscore.com/football/united-arab-emirates/uae-league-2020-2021/results/',\n",
    "'https://www.flashscore.com/football/united-arab-emirates/uae-league-2021-2022/results/',\n",
    "'https://www.flashscore.com/football/united-arab-emirates/uae-league-2022-2023/results/',\n",
    "'https://www.flashscore.com/football/united-arab-emirates/uae-league-2023-2024/results/',\n",
    "'https://www.flashscore.com/football/wales/cymru-premier-2020-2021/results/',\n",
    "'https://www.flashscore.com/football/wales/cymru-premier-2021-2022/results/',\n",
    "'https://www.flashscore.com/football/wales/cymru-premier-2022-2023/results/',\n",
    "'https://www.flashscore.com/football/wales/cymru-premier-2023-2024/results/',]"
   ]
  },
  {
   "cell_type": "code",
   "execution_count": 5,
   "id": "89791a86",
   "metadata": {},
   "outputs": [],
   "source": [
    "def get_main_header(id_jogo,dictionary,driver):\n",
    "    driver.get(f'https://www.flashscore.com/match/{id_jogo}/#/match-summary/match-summary')\n",
    "    dictionary['Id'] = id_jogo\n",
    "    country = driver.find_element(By.CSS_SELECTOR,'span.tournamentHeader__country').text.split(':')[0]\n",
    "    date = driver.find_element(By.CSS_SELECTOR,'div.duelParticipant__startTime').text.split(' ')[0]\n",
    "    dictionary['Date'] = date.replace('.','/')\n",
    "    time = driver.find_element(By.CSS_SELECTOR,'div.duelParticipant__startTime').text.split(' ')[1]\n",
    "    dictionary['Time'] = time\n",
    "    league = driver.find_element(By.CSS_SELECTOR,'span.tournamentHeader__country > a').text.split(' -')[0]\n",
    "    dictionary['League'] = f'{country} - {league}'\n",
    "    home = driver.find_element(By.CSS_SELECTOR,'div.duelParticipant__home').find_element(By.CSS_SELECTOR,'div.participant__participantName').text\n",
    "    dictionary['Home'] = home\n",
    "    away = driver.find_element(By.CSS_SELECTOR,'div.duelParticipant__away').find_element(By.CSS_SELECTOR,'div.participant__participantName').text\n",
    "    dictionary['Away'] = away\n",
    "    try:\n",
    "        rodada = driver.find_element(By.CSS_SELECTOR,'span.tournamentHeader__country > a').text.split('- ')[1]\n",
    "        dictionary['Round'] = rodada\n",
    "    except:\n",
    "        dictionary['Round'] = '-'"
   ]
  },
  {
   "cell_type": "code",
   "execution_count": 6,
   "id": "ed1c0018",
   "metadata": {},
   "outputs": [],
   "source": [
    "def get_odds_ml_ft(id_jogo,dictionary,driver):\n",
    "    url_ml_full_time = f'https://www.flashscore.com/match/{id_jogo}/#/odds-comparison/1x2-odds/full-time'\n",
    "    driver.get(url_ml_full_time)\n",
    "    sleep(1)\n",
    "    if driver.current_url == url_ml_full_time:\n",
    "        WebDriverWait(driver, 8).until(EC.visibility_of_element_located((By.CSS_SELECTOR,'div.ui-table')))\n",
    "        table_odds = driver.find_element(By.CSS_SELECTOR,'div.ui-table')\n",
    "        linha_ml_ft = table_odds.find_element(By.CSS_SELECTOR,'div.ui-table__row')\n",
    "        dictionary['FT_Odd_H'] = float(linha_ml_ft.find_elements(By.CSS_SELECTOR,'a.oddsCell__odd')[0].text)\n",
    "        dictionary['FT_Odd_D'] = float(linha_ml_ft.find_elements(By.CSS_SELECTOR,'a.oddsCell__odd')[1].text)\n",
    "        dictionary['FT_Odd_A'] = float(linha_ml_ft.find_elements(By.CSS_SELECTOR,'a.oddsCell__odd')[2].text)"
   ]
  },
  {
   "cell_type": "code",
   "execution_count": 7,
   "id": "713d7c14",
   "metadata": {},
   "outputs": [],
   "source": [
    "def insert_season(dictionary,season):\n",
    "    dictionary['Season'] = season"
   ]
  },
  {
   "cell_type": "code",
   "execution_count": 8,
   "id": "55384aef",
   "metadata": {},
   "outputs": [],
   "source": [
    "def get_score_ht_ft(id_jogo,dictionary,driver):\n",
    "    try:\n",
    "        if '1st Half' in driver.page_source:\n",
    "            WebDriverWait(driver, 8).until(EC.visibility_of_element_located((By.CSS_SELECTOR,'div.smv__incidentsHeader')))\n",
    "            home_goals_ht = int(driver.find_elements(By.CSS_SELECTOR,'div.smv__incidentsHeader div')[1].text.split('-')[0])\n",
    "            dictionary['HT_Goals_H'] = home_goals_ht\n",
    "            away_goals_ht = int(driver.find_elements(By.CSS_SELECTOR,'div.smv__incidentsHeader div')[1].text.split('-')[1])\n",
    "            dictionary['HT_Goals_A'] = away_goals_ht\n",
    "    except:\n",
    "        pass\n",
    "    home_goals_ft = driver.find_element(By.CSS_SELECTOR,'div.detailScore__wrapper').text.split('-')[0]\n",
    "    dictionary['FT_Goals_H'] = int(home_goals_ft)\n",
    "    away_goals_ft = driver.find_element(By.CSS_SELECTOR,'div.detailScore__wrapper').text.split('-')[1]\n",
    "    dictionary['FT_Goals_A'] = int(away_goals_ft)"
   ]
  },
  {
   "cell_type": "code",
   "execution_count": null,
   "id": "cdc30b4e",
   "metadata": {},
   "outputs": [
    {
     "name": "stdout",
     "output_type": "stream",
     "text": [
      "Liga Profesional 2023 Results - Football/Argentina\n"
     ]
    },
    {
     "data": {
      "application/vnd.jupyter.widget-view+json": {
       "model_id": "88510cf798694d0b89742829bd569047",
       "version_major": 2,
       "version_minor": 0
      },
      "text/plain": [
       "  0%|          | 0/378 [00:00<?, ?it/s]"
      ]
     },
     "metadata": {},
     "output_type": "display_data"
    },
    {
     "name": "stdout",
     "output_type": "stream",
     "text": [
      "Liga Profesional 2022 Results - Football/Argentina\n"
     ]
    },
    {
     "data": {
      "application/vnd.jupyter.widget-view+json": {
       "model_id": "c7db82e968f7425c8b456992d9dc2f3e",
       "version_major": 2,
       "version_minor": 0
      },
      "text/plain": [
       "  0%|          | 0/378 [00:00<?, ?it/s]"
      ]
     },
     "metadata": {},
     "output_type": "display_data"
    },
    {
     "name": "stdout",
     "output_type": "stream",
     "text": [
      "Liga Profesional 2021 Results - Football/Argentina\n"
     ]
    },
    {
     "data": {
      "application/vnd.jupyter.widget-view+json": {
       "model_id": "afe21947e0e94c7cb102e760a13c3a13",
       "version_major": 2,
       "version_minor": 0
      },
      "text/plain": [
       "  0%|          | 0/325 [00:00<?, ?it/s]"
      ]
     },
     "metadata": {},
     "output_type": "display_data"
    },
    {
     "name": "stdout",
     "output_type": "stream",
     "text": [
      "cookies already closed\n",
      "Copa de la Liga Profesional 2023 Results - Football/Argentina\n"
     ]
    },
    {
     "data": {
      "application/vnd.jupyter.widget-view+json": {
       "model_id": "15d2db0151344932a62efeac79d24b64",
       "version_major": 2,
       "version_minor": 0
      },
      "text/plain": [
       "  0%|          | 0/204 [00:00<?, ?it/s]"
      ]
     },
     "metadata": {},
     "output_type": "display_data"
    },
    {
     "name": "stdout",
     "output_type": "stream",
     "text": [
      "Copa de la Liga Profesional 2022 Results - Football/Argentina\n"
     ]
    },
    {
     "data": {
      "application/vnd.jupyter.widget-view+json": {
       "model_id": "cf0058276ad04255a985016915f3bc50",
       "version_major": 2,
       "version_minor": 0
      },
      "text/plain": [
       "  0%|          | 0/203 [00:00<?, ?it/s]"
      ]
     },
     "metadata": {},
     "output_type": "display_data"
    },
    {
     "name": "stdout",
     "output_type": "stream",
     "text": [
      "Copa de la Liga Profesional 2021 Results - Football/Argentina\n"
     ]
    },
    {
     "data": {
      "application/vnd.jupyter.widget-view+json": {
       "model_id": "90450a06accf4ea2b1179db2c99f0d8c",
       "version_major": 2,
       "version_minor": 0
      },
      "text/plain": [
       "  0%|          | 0/176 [00:00<?, ?it/s]"
      ]
     },
     "metadata": {},
     "output_type": "display_data"
    },
    {
     "name": "stdout",
     "output_type": "stream",
     "text": [
      "Copa de la Liga Profesional 2020 Results - Football/Argentina\n"
     ]
    },
    {
     "data": {
      "application/vnd.jupyter.widget-view+json": {
       "model_id": "1f2bad5f5472468aabd4a0f95a322c8b",
       "version_major": 2,
       "version_minor": 0
      },
      "text/plain": [
       "  0%|          | 0/135 [00:00<?, ?it/s]"
      ]
     },
     "metadata": {},
     "output_type": "display_data"
    },
    {
     "name": "stdout",
     "output_type": "stream",
     "text": [
      "Primera Nacional 2023 Results - Football/Argentina\n"
     ]
    },
    {
     "data": {
      "application/vnd.jupyter.widget-view+json": {
       "model_id": "bb1456be4dab4f5ca57c2e1154cfb95f",
       "version_major": 2,
       "version_minor": 0
      },
      "text/plain": [
       "  0%|          | 0/669 [00:00<?, ?it/s]"
      ]
     },
     "metadata": {},
     "output_type": "display_data"
    },
    {
     "name": "stdout",
     "output_type": "stream",
     "text": [
      "Primera Nacional 2022 Results - Football/Argentina\n"
     ]
    },
    {
     "data": {
      "application/vnd.jupyter.widget-view+json": {
       "model_id": "420d53bf3eb148a4b0f75fe7bfffe282",
       "version_major": 2,
       "version_minor": 0
      },
      "text/plain": [
       "  0%|          | 0/680 [00:00<?, ?it/s]"
      ]
     },
     "metadata": {},
     "output_type": "display_data"
    },
    {
     "name": "stdout",
     "output_type": "stream",
     "text": [
      "Primera Nacional 2021 Results - Football/Argentina\n"
     ]
    },
    {
     "data": {
      "application/vnd.jupyter.widget-view+json": {
       "model_id": "25fdb20e2aaa46f5aec5e4f762f64b67",
       "version_major": 2,
       "version_minor": 0
      },
      "text/plain": [
       "  0%|          | 0/590 [00:00<?, ?it/s]"
      ]
     },
     "metadata": {},
     "output_type": "display_data"
    },
    {
     "name": "stdout",
     "output_type": "stream",
     "text": [
      "cookies already closed\n",
      "Vysshaya Liga 2020 Results - Football/Belarus\n"
     ]
    },
    {
     "data": {
      "application/vnd.jupyter.widget-view+json": {
       "model_id": "79ba6ab91bcd4b3bae9310522f23102e",
       "version_major": 2,
       "version_minor": 0
      },
      "text/plain": [
       "  0%|          | 0/241 [00:00<?, ?it/s]"
      ]
     },
     "metadata": {},
     "output_type": "display_data"
    },
    {
     "name": "stdout",
     "output_type": "stream",
     "text": [
      "Vysshaya Liga 2021 Results - Football/Belarus\n"
     ]
    },
    {
     "data": {
      "application/vnd.jupyter.widget-view+json": {
       "model_id": "91da301bb8004b6c9bdcf216e163aefd",
       "version_major": 2,
       "version_minor": 0
      },
      "text/plain": [
       "  0%|          | 0/242 [00:00<?, ?it/s]"
      ]
     },
     "metadata": {},
     "output_type": "display_data"
    },
    {
     "name": "stdout",
     "output_type": "stream",
     "text": [
      "Vysshaya Liga 2022 Results - Football/Belarus\n"
     ]
    },
    {
     "data": {
      "application/vnd.jupyter.widget-view+json": {
       "model_id": "fd368ec273ca439c828df6961fd90bb0",
       "version_major": 2,
       "version_minor": 0
      },
      "text/plain": [
       "  0%|          | 0/242 [00:00<?, ?it/s]"
      ]
     },
     "metadata": {},
     "output_type": "display_data"
    },
    {
     "name": "stdout",
     "output_type": "stream",
     "text": [
      "Vysshaya Liga 2023 Results - Football/Belarus\n"
     ]
    },
    {
     "data": {
      "application/vnd.jupyter.widget-view+json": {
       "model_id": "36f25a486a2a405ab1a8f9f81db5745d",
       "version_major": 2,
       "version_minor": 0
      },
      "text/plain": [
       "  0%|          | 0/212 [00:00<?, ?it/s]"
      ]
     },
     "metadata": {},
     "output_type": "display_data"
    },
    {
     "name": "stdout",
     "output_type": "stream",
     "text": [
      "Division Profesional 2021 Results - Football/Bolivia\n"
     ]
    },
    {
     "data": {
      "application/vnd.jupyter.widget-view+json": {
       "model_id": "18065b0a99cf44f88566a43e0d8c33e3",
       "version_major": 2,
       "version_minor": 0
      },
      "text/plain": [
       "  0%|          | 0/242 [00:00<?, ?it/s]"
      ]
     },
     "metadata": {},
     "output_type": "display_data"
    },
    {
     "name": "stdout",
     "output_type": "stream",
     "text": [
      "Division Profesional 2022 Results - Football/Bolivia\n"
     ]
    },
    {
     "data": {
      "application/vnd.jupyter.widget-view+json": {
       "model_id": "0237b6f5bc2b408eabc5f469366f1ff1",
       "version_major": 2,
       "version_minor": 0
      },
      "text/plain": [
       "  0%|          | 0/335 [00:00<?, ?it/s]"
      ]
     },
     "metadata": {},
     "output_type": "display_data"
    },
    {
     "name": "stdout",
     "output_type": "stream",
     "text": [
      "Division Profesional 2023 Results - Football/Bolivia\n"
     ]
    },
    {
     "data": {
      "application/vnd.jupyter.widget-view+json": {
       "model_id": "8e95f790e00a4e2cbaf3d84ee381c796",
       "version_major": 2,
       "version_minor": 0
      },
      "text/plain": [
       "  0%|          | 0/274 [00:00<?, ?it/s]"
      ]
     },
     "metadata": {},
     "output_type": "display_data"
    },
    {
     "name": "stdout",
     "output_type": "stream",
     "text": [
      "Serie A 2020 Results - Football/Brazil\n"
     ]
    },
    {
     "data": {
      "application/vnd.jupyter.widget-view+json": {
       "model_id": "09db422b53c14317903bcb973eea7d0a",
       "version_major": 2,
       "version_minor": 0
      },
      "text/plain": [
       "  0%|          | 0/380 [00:00<?, ?it/s]"
      ]
     },
     "metadata": {},
     "output_type": "display_data"
    },
    {
     "name": "stdout",
     "output_type": "stream",
     "text": [
      "Serie A 2021 Results - Football/Brazil\n"
     ]
    },
    {
     "data": {
      "application/vnd.jupyter.widget-view+json": {
       "model_id": "582077c38e47441ba02fb6ed6702310c",
       "version_major": 2,
       "version_minor": 0
      },
      "text/plain": [
       "  0%|          | 0/380 [00:00<?, ?it/s]"
      ]
     },
     "metadata": {},
     "output_type": "display_data"
    },
    {
     "name": "stdout",
     "output_type": "stream",
     "text": [
      "Serie A 2022 Results - Football/Brazil\n"
     ]
    },
    {
     "data": {
      "application/vnd.jupyter.widget-view+json": {
       "model_id": "b028c77fbd2d4856b88b6ea3b316fc82",
       "version_major": 2,
       "version_minor": 0
      },
      "text/plain": [
       "  0%|          | 0/380 [00:00<?, ?it/s]"
      ]
     },
     "metadata": {},
     "output_type": "display_data"
    },
    {
     "name": "stdout",
     "output_type": "stream",
     "text": [
      "Serie A Brazil Results - Football/Brazil\n"
     ]
    },
    {
     "data": {
      "application/vnd.jupyter.widget-view+json": {
       "model_id": "06cce0eab85541f5b6ffe84c0069e305",
       "version_major": 2,
       "version_minor": 0
      },
      "text/plain": [
       "  0%|          | 0/380 [00:00<?, ?it/s]"
      ]
     },
     "metadata": {},
     "output_type": "display_data"
    },
    {
     "name": "stdout",
     "output_type": "stream",
     "text": [
      "Serie B 2020 Results - Football/Brazil\n"
     ]
    },
    {
     "data": {
      "application/vnd.jupyter.widget-view+json": {
       "model_id": "5e95a4f9b33c4f5580bf30188743277f",
       "version_major": 2,
       "version_minor": 0
      },
      "text/plain": [
       "  0%|          | 0/380 [00:00<?, ?it/s]"
      ]
     },
     "metadata": {},
     "output_type": "display_data"
    },
    {
     "name": "stdout",
     "output_type": "stream",
     "text": [
      "Serie B 2021 Results - Football/Brazil\n"
     ]
    },
    {
     "data": {
      "application/vnd.jupyter.widget-view+json": {
       "model_id": "336825d1340147bb9c51526c6f4be64c",
       "version_major": 2,
       "version_minor": 0
      },
      "text/plain": [
       "  0%|          | 0/380 [00:00<?, ?it/s]"
      ]
     },
     "metadata": {},
     "output_type": "display_data"
    },
    {
     "name": "stdout",
     "output_type": "stream",
     "text": [
      "Serie B 2022 Results - Football/Brazil\n"
     ]
    },
    {
     "data": {
      "application/vnd.jupyter.widget-view+json": {
       "model_id": "f9e7ae75d87b48c0a172f5c5db7f3d9d",
       "version_major": 2,
       "version_minor": 0
      },
      "text/plain": [
       "  0%|          | 0/380 [00:00<?, ?it/s]"
      ]
     },
     "metadata": {},
     "output_type": "display_data"
    },
    {
     "name": "stdout",
     "output_type": "stream",
     "text": [
      "Serie B 2023 Results - Football/Brazil\n"
     ]
    },
    {
     "data": {
      "application/vnd.jupyter.widget-view+json": {
       "model_id": "f6436013158e4fd8800b22d27fa5f580",
       "version_major": 2,
       "version_minor": 0
      },
      "text/plain": [
       "  0%|          | 0/380 [00:00<?, ?it/s]"
      ]
     },
     "metadata": {},
     "output_type": "display_data"
    },
    {
     "name": "stdout",
     "output_type": "stream",
     "text": [
      "Primera Division 2020 Results - Football/Chile\n"
     ]
    },
    {
     "data": {
      "application/vnd.jupyter.widget-view+json": {
       "model_id": "60bfb0cf2b79466695314a1d59a75d67",
       "version_major": 2,
       "version_minor": 0
      },
      "text/plain": [
       "  0%|          | 0/307 [00:00<?, ?it/s]"
      ]
     },
     "metadata": {},
     "output_type": "display_data"
    },
    {
     "name": "stdout",
     "output_type": "stream",
     "text": [
      "Primera Division 2021 Results - Football/Chile\n"
     ]
    },
    {
     "data": {
      "application/vnd.jupyter.widget-view+json": {
       "model_id": "21ec44c5298c469e84b5a57032b5b56a",
       "version_major": 2,
       "version_minor": 0
      },
      "text/plain": [
       "  0%|          | 0/274 [00:00<?, ?it/s]"
      ]
     },
     "metadata": {},
     "output_type": "display_data"
    },
    {
     "name": "stdout",
     "output_type": "stream",
     "text": [
      "Primera Division 2022 Results - Football/Chile\n"
     ]
    },
    {
     "data": {
      "application/vnd.jupyter.widget-view+json": {
       "model_id": "af84a6c2b8a54e0fb8aced74bb6af0c0",
       "version_major": 2,
       "version_minor": 0
      },
      "text/plain": [
       "  0%|          | 0/240 [00:00<?, ?it/s]"
      ]
     },
     "metadata": {},
     "output_type": "display_data"
    },
    {
     "name": "stdout",
     "output_type": "stream",
     "text": [
      "Chilean Primera División Results - Football/Chile\n"
     ]
    },
    {
     "data": {
      "application/vnd.jupyter.widget-view+json": {
       "model_id": "74cdbb14b3714890b5c21117d23a9d95",
       "version_major": 2,
       "version_minor": 0
      },
      "text/plain": [
       "  0%|          | 0/240 [00:00<?, ?it/s]"
      ]
     },
     "metadata": {},
     "output_type": "display_data"
    },
    {
     "name": "stdout",
     "output_type": "stream",
     "text": [
      "Primera B 2020 Results - Football/Chile\n"
     ]
    },
    {
     "data": {
      "application/vnd.jupyter.widget-view+json": {
       "model_id": "928fb612a8244a9b9d5d3d56bf496c2a",
       "version_major": 2,
       "version_minor": 0
      },
      "text/plain": [
       "  0%|          | 0/218 [00:00<?, ?it/s]"
      ]
     },
     "metadata": {},
     "output_type": "display_data"
    },
    {
     "name": "stdout",
     "output_type": "stream",
     "text": [
      "Primera B 2021 Results - Football/Chile\n"
     ]
    },
    {
     "data": {
      "application/vnd.jupyter.widget-view+json": {
       "model_id": "015cb0e3627045fdb7ff01ad019f26f4",
       "version_major": 2,
       "version_minor": 0
      },
      "text/plain": [
       "  0%|          | 0/246 [00:00<?, ?it/s]"
      ]
     },
     "metadata": {},
     "output_type": "display_data"
    },
    {
     "name": "stdout",
     "output_type": "stream",
     "text": [
      "Primera B 2022 Results - Football/Chile\n"
     ]
    },
    {
     "data": {
      "application/vnd.jupyter.widget-view+json": {
       "model_id": "f4083011ab184dddaf79e5595018f8ef",
       "version_major": 2,
       "version_minor": 0
      },
      "text/plain": [
       "  0%|          | 0/280 [00:00<?, ?it/s]"
      ]
     },
     "metadata": {},
     "output_type": "display_data"
    },
    {
     "name": "stdout",
     "output_type": "stream",
     "text": [
      "Primera B 2023 Results - Football/Chile\n"
     ]
    },
    {
     "data": {
      "application/vnd.jupyter.widget-view+json": {
       "model_id": "2f62e6fe52fd46638b5dd38e1c63bcde",
       "version_major": 2,
       "version_minor": 0
      },
      "text/plain": [
       "  0%|          | 0/252 [00:00<?, ?it/s]"
      ]
     },
     "metadata": {},
     "output_type": "display_data"
    },
    {
     "name": "stdout",
     "output_type": "stream",
     "text": [
      "Super League 2020 Results - Football/China\n"
     ]
    },
    {
     "data": {
      "application/vnd.jupyter.widget-view+json": {
       "model_id": "3c5019022c794e29991be5b098894aa9",
       "version_major": 2,
       "version_minor": 0
      },
      "text/plain": [
       "  0%|          | 0/162 [00:00<?, ?it/s]"
      ]
     },
     "metadata": {},
     "output_type": "display_data"
    },
    {
     "name": "stdout",
     "output_type": "stream",
     "text": [
      "Super League 2021 Results - Football/China\n"
     ]
    },
    {
     "data": {
      "application/vnd.jupyter.widget-view+json": {
       "model_id": "089a3588339e4ffcbf32f2f5a87d923d",
       "version_major": 2,
       "version_minor": 0
      },
      "text/plain": [
       "  0%|          | 0/180 [00:00<?, ?it/s]"
      ]
     },
     "metadata": {},
     "output_type": "display_data"
    },
    {
     "name": "stdout",
     "output_type": "stream",
     "text": [
      "Super League 2022 Results - Football/China\n"
     ]
    },
    {
     "data": {
      "application/vnd.jupyter.widget-view+json": {
       "model_id": "b9af435a5bce4ab2b08399797753eddc",
       "version_major": 2,
       "version_minor": 0
      },
      "text/plain": [
       "  0%|          | 0/306 [00:00<?, ?it/s]"
      ]
     },
     "metadata": {},
     "output_type": "display_data"
    },
    {
     "name": "stdout",
     "output_type": "stream",
     "text": [
      "Super League 2023 Results - Football/China\n"
     ]
    },
    {
     "data": {
      "application/vnd.jupyter.widget-view+json": {
       "model_id": "a9cb2696578247cabf07940c344bf334",
       "version_major": 2,
       "version_minor": 0
      },
      "text/plain": [
       "  0%|          | 0/240 [00:00<?, ?it/s]"
      ]
     },
     "metadata": {},
     "output_type": "display_data"
    },
    {
     "name": "stdout",
     "output_type": "stream",
     "text": [
      "Primera A 2020 Results - Football/Colombia\n"
     ]
    },
    {
     "data": {
      "application/vnd.jupyter.widget-view+json": {
       "model_id": "e5e6b877f44e4754b0e5353513644ff0",
       "version_major": 2,
       "version_minor": 0
      },
      "text/plain": [
       "  0%|          | 0/233 [00:00<?, ?it/s]"
      ]
     },
     "metadata": {},
     "output_type": "display_data"
    },
    {
     "name": "stdout",
     "output_type": "stream",
     "text": [
      "Primera A 2021 Results - Football/Colombia\n"
     ]
    },
    {
     "data": {
      "application/vnd.jupyter.widget-view+json": {
       "model_id": "3e051ca9340a4c749f676e703da22fbe",
       "version_major": 2,
       "version_minor": 0
      },
      "text/plain": [
       "  0%|          | 0/411 [00:00<?, ?it/s]"
      ]
     },
     "metadata": {},
     "output_type": "display_data"
    },
    {
     "name": "stdout",
     "output_type": "stream",
     "text": [
      "Primera A 2022 Results - Football/Colombia\n"
     ]
    },
    {
     "data": {
      "application/vnd.jupyter.widget-view+json": {
       "model_id": "87b1d179276c4729a8e6391a987f79e5",
       "version_major": 2,
       "version_minor": 0
      },
      "text/plain": [
       "  0%|          | 0/452 [00:00<?, ?it/s]"
      ]
     },
     "metadata": {},
     "output_type": "display_data"
    },
    {
     "name": "stdout",
     "output_type": "stream",
     "text": [
      "Primera A 2023 Results - Football/Colombia\n"
     ]
    },
    {
     "data": {
      "application/vnd.jupyter.widget-view+json": {
       "model_id": "1c927909075843dfbeb96f79319f1396",
       "version_major": 2,
       "version_minor": 0
      },
      "text/plain": [
       "  0%|          | 0/452 [00:00<?, ?it/s]"
      ]
     },
     "metadata": {},
     "output_type": "display_data"
    },
    {
     "name": "stdout",
     "output_type": "stream",
     "text": [
      "Liga Pro 2020 Results - Football/Ecuador\n"
     ]
    },
    {
     "data": {
      "application/vnd.jupyter.widget-view+json": {
       "model_id": "f807b19503ae47ebb367972fbf8ee78b",
       "version_major": 2,
       "version_minor": 0
      },
      "text/plain": [
       "  0%|          | 0/242 [00:00<?, ?it/s]"
      ]
     },
     "metadata": {},
     "output_type": "display_data"
    },
    {
     "name": "stdout",
     "output_type": "stream",
     "text": [
      "Liga Pro 2021 Results - Football/Ecuador\n"
     ]
    },
    {
     "data": {
      "application/vnd.jupyter.widget-view+json": {
       "model_id": "dc8bd446a2e1458f94026f6b60e23956",
       "version_major": 2,
       "version_minor": 0
      },
      "text/plain": [
       "  0%|          | 0/242 [00:00<?, ?it/s]"
      ]
     },
     "metadata": {},
     "output_type": "display_data"
    },
    {
     "name": "stdout",
     "output_type": "stream",
     "text": [
      "Liga Pro 2022 Results - Football/Ecuador\n"
     ]
    },
    {
     "data": {
      "application/vnd.jupyter.widget-view+json": {
       "model_id": "d251b2d87d9e494a859d8eff129e283d",
       "version_major": 2,
       "version_minor": 0
      },
      "text/plain": [
       "  0%|          | 0/242 [00:00<?, ?it/s]"
      ]
     },
     "metadata": {},
     "output_type": "display_data"
    },
    {
     "name": "stdout",
     "output_type": "stream",
     "text": [
      "Liga Pro 2023 Results - Football/Ecuador\n"
     ]
    },
    {
     "data": {
      "application/vnd.jupyter.widget-view+json": {
       "model_id": "0e79897bee75452e93f97e1debe6541e",
       "version_major": 2,
       "version_minor": 0
      },
      "text/plain": [
       "  0%|          | 0/242 [00:00<?, ?it/s]"
      ]
     },
     "metadata": {},
     "output_type": "display_data"
    },
    {
     "name": "stdout",
     "output_type": "stream",
     "text": [
      "Serie B 2020 Results - Football/Ecuador\n"
     ]
    },
    {
     "data": {
      "application/vnd.jupyter.widget-view+json": {
       "model_id": "ffa4d291b66046c6abf8c07b3cdf583c",
       "version_major": 2,
       "version_minor": 0
      },
      "text/plain": [
       "  0%|          | 0/90 [00:00<?, ?it/s]"
      ]
     },
     "metadata": {},
     "output_type": "display_data"
    },
    {
     "name": "stdout",
     "output_type": "stream",
     "text": [
      "Serie B 2021 Results - Football/Ecuador\n"
     ]
    },
    {
     "data": {
      "application/vnd.jupyter.widget-view+json": {
       "model_id": "6ca8fab18ae4499da530f794fd58a9e8",
       "version_major": 2,
       "version_minor": 0
      },
      "text/plain": [
       "  0%|          | 0/180 [00:00<?, ?it/s]"
      ]
     },
     "metadata": {},
     "output_type": "display_data"
    },
    {
     "name": "stdout",
     "output_type": "stream",
     "text": [
      "Serie B 2022 Results - Football/Ecuador\n"
     ]
    },
    {
     "data": {
      "application/vnd.jupyter.widget-view+json": {
       "model_id": "a45c94095d294eddbc3997d5d4b49516",
       "version_major": 2,
       "version_minor": 0
      },
      "text/plain": [
       "  0%|          | 0/180 [00:00<?, ?it/s]"
      ]
     },
     "metadata": {},
     "output_type": "display_data"
    },
    {
     "name": "stdout",
     "output_type": "stream",
     "text": [
      "Serie B 2023 Results - Football/Ecuador\n"
     ]
    },
    {
     "data": {
      "application/vnd.jupyter.widget-view+json": {
       "model_id": "58f3948c3b8843069bccb59bf710d2ad",
       "version_major": 2,
       "version_minor": 0
      },
      "text/plain": [
       "  0%|          | 0/180 [00:00<?, ?it/s]"
      ]
     },
     "metadata": {},
     "output_type": "display_data"
    },
    {
     "name": "stdout",
     "output_type": "stream",
     "text": [
      "Meistriliiga 2020 Results - Football/Estonia\n"
     ]
    },
    {
     "data": {
      "application/vnd.jupyter.widget-view+json": {
       "model_id": "21ce996e530347d691d1c061cd469541",
       "version_major": 2,
       "version_minor": 0
      },
      "text/plain": [
       "  0%|          | 0/149 [00:00<?, ?it/s]"
      ]
     },
     "metadata": {},
     "output_type": "display_data"
    },
    {
     "name": "stdout",
     "output_type": "stream",
     "text": [
      "Meistriliiga 2021 Results - Football/Estonia\n"
     ]
    },
    {
     "data": {
      "application/vnd.jupyter.widget-view+json": {
       "model_id": "dabfcf0ee83a4212839b0566272ee897",
       "version_major": 2,
       "version_minor": 0
      },
      "text/plain": [
       "  0%|          | 0/158 [00:00<?, ?it/s]"
      ]
     },
     "metadata": {},
     "output_type": "display_data"
    },
    {
     "name": "stdout",
     "output_type": "stream",
     "text": [
      "Meistriliiga 2022 Results - Football/Estonia\n"
     ]
    },
    {
     "data": {
      "application/vnd.jupyter.widget-view+json": {
       "model_id": "e00c3667368743e9a0d46bfc863eeda3",
       "version_major": 2,
       "version_minor": 0
      },
      "text/plain": [
       "  0%|          | 0/182 [00:00<?, ?it/s]"
      ]
     },
     "metadata": {},
     "output_type": "display_data"
    },
    {
     "name": "stdout",
     "output_type": "stream",
     "text": [
      "Meistriliiga 2023 Results - Football/Estonia\n"
     ]
    },
    {
     "data": {
      "application/vnd.jupyter.widget-view+json": {
       "model_id": "ccc07dbd89074df4ac7153a8bf09cd58",
       "version_major": 2,
       "version_minor": 0
      },
      "text/plain": [
       "  0%|          | 0/182 [00:00<?, ?it/s]"
      ]
     },
     "metadata": {},
     "output_type": "display_data"
    },
    {
     "name": "stdout",
     "output_type": "stream",
     "text": [
      "Veikkausliiga 2020 Results - Football/Finland\n"
     ]
    },
    {
     "data": {
      "application/vnd.jupyter.widget-view+json": {
       "model_id": "3968db30912c4fd5ab427a619fed1a6a",
       "version_major": 2,
       "version_minor": 0
      },
      "text/plain": [
       "  0%|          | 0/134 [00:00<?, ?it/s]"
      ]
     },
     "metadata": {},
     "output_type": "display_data"
    },
    {
     "name": "stdout",
     "output_type": "stream",
     "text": [
      "Veikkausliiga 2021 Results - Football/Finland\n"
     ]
    },
    {
     "data": {
      "application/vnd.jupyter.widget-view+json": {
       "model_id": "6d9faf6968d44549b9a5eba88c3a7b0d",
       "version_major": 2,
       "version_minor": 0
      },
      "text/plain": [
       "  0%|          | 0/164 [00:00<?, ?it/s]"
      ]
     },
     "metadata": {},
     "output_type": "display_data"
    },
    {
     "name": "stdout",
     "output_type": "stream",
     "text": [
      "Veikkausliiga 2022 Results - Football/Finland\n"
     ]
    },
    {
     "data": {
      "application/vnd.jupyter.widget-view+json": {
       "model_id": "ce3e006352de4a24bc69f168dfdf6025",
       "version_major": 2,
       "version_minor": 0
      },
      "text/plain": [
       "  0%|          | 0/171 [00:00<?, ?it/s]"
      ]
     },
     "metadata": {},
     "output_type": "display_data"
    },
    {
     "name": "stdout",
     "output_type": "stream",
     "text": [
      "Veikkausliiga 2023 Results - Football/Finland\n"
     ]
    },
    {
     "data": {
      "application/vnd.jupyter.widget-view+json": {
       "model_id": "f8034655a7c040058c7c3ea2cddd7876",
       "version_major": 2,
       "version_minor": 0
      },
      "text/plain": [
       "  0%|          | 0/171 [00:00<?, ?it/s]"
      ]
     },
     "metadata": {},
     "output_type": "display_data"
    },
    {
     "name": "stdout",
     "output_type": "stream",
     "text": [
      "Ykkonen 2020 Results - Football/Finland\n"
     ]
    },
    {
     "data": {
      "application/vnd.jupyter.widget-view+json": {
       "model_id": "6aa9b43edc9c4bfca0bb0d68706d9a28",
       "version_major": 2,
       "version_minor": 0
      },
      "text/plain": [
       "  0%|          | 0/132 [00:00<?, ?it/s]"
      ]
     },
     "metadata": {},
     "output_type": "display_data"
    },
    {
     "name": "stdout",
     "output_type": "stream",
     "text": [
      "Ykkonen 2021 Results - Football/Finland\n"
     ]
    },
    {
     "data": {
      "application/vnd.jupyter.widget-view+json": {
       "model_id": "631b1edefc4f49e79b8f4ceb6c7c0ad0",
       "version_major": 2,
       "version_minor": 0
      },
      "text/plain": [
       "  0%|          | 0/162 [00:00<?, ?it/s]"
      ]
     },
     "metadata": {},
     "output_type": "display_data"
    },
    {
     "name": "stdout",
     "output_type": "stream",
     "text": [
      "Ykkonen 2022 Results - Football/Finland\n"
     ]
    },
    {
     "data": {
      "application/vnd.jupyter.widget-view+json": {
       "model_id": "d20e149d891246388b343fb261b87ad5",
       "version_major": 2,
       "version_minor": 0
      },
      "text/plain": [
       "  0%|          | 0/162 [00:00<?, ?it/s]"
      ]
     },
     "metadata": {},
     "output_type": "display_data"
    },
    {
     "name": "stdout",
     "output_type": "stream",
     "text": [
      "Ykkonen 2023 Results - Football/Finland\n"
     ]
    },
    {
     "data": {
      "application/vnd.jupyter.widget-view+json": {
       "model_id": "282e1565a640459281843e3cfd2c7212",
       "version_major": 2,
       "version_minor": 0
      },
      "text/plain": [
       "  0%|          | 0/162 [00:00<?, ?it/s]"
      ]
     },
     "metadata": {},
     "output_type": "display_data"
    },
    {
     "name": "stdout",
     "output_type": "stream",
     "text": [
      "Crystalbet Erovnuli Liga 2020 Results - Football/Georgia\n"
     ]
    },
    {
     "data": {
      "application/vnd.jupyter.widget-view+json": {
       "model_id": "fb876a01160447b7b64c8ca0a8870132",
       "version_major": 2,
       "version_minor": 0
      },
      "text/plain": [
       "  0%|          | 0/94 [00:00<?, ?it/s]"
      ]
     },
     "metadata": {},
     "output_type": "display_data"
    },
    {
     "name": "stdout",
     "output_type": "stream",
     "text": [
      "Crystalbet Erovnuli Liga 2021 Results - Football/Georgia\n"
     ]
    },
    {
     "data": {
      "application/vnd.jupyter.widget-view+json": {
       "model_id": "9eec8910476540ce9878c529ca003db3",
       "version_major": 2,
       "version_minor": 0
      },
      "text/plain": [
       "  0%|          | 0/184 [00:00<?, ?it/s]"
      ]
     },
     "metadata": {},
     "output_type": "display_data"
    },
    {
     "name": "stdout",
     "output_type": "stream",
     "text": [
      "Crystalbet Erovnuli Liga 2022 Results - Football/Georgia\n"
     ]
    },
    {
     "data": {
      "application/vnd.jupyter.widget-view+json": {
       "model_id": "2f3e938f4876429782af4a0296ce62b8",
       "version_major": 2,
       "version_minor": 0
      },
      "text/plain": [
       "  0%|          | 0/184 [00:00<?, ?it/s]"
      ]
     },
     "metadata": {},
     "output_type": "display_data"
    },
    {
     "name": "stdout",
     "output_type": "stream",
     "text": [
      "Crystalbet Erovnuli Liga 2023 Results - Football/Georgia\n"
     ]
    },
    {
     "data": {
      "application/vnd.jupyter.widget-view+json": {
       "model_id": "8989a201101046ca8121449cc5d45231",
       "version_major": 2,
       "version_minor": 0
      },
      "text/plain": [
       "  0%|          | 0/184 [00:00<?, ?it/s]"
      ]
     },
     "metadata": {},
     "output_type": "display_data"
    },
    {
     "name": "stdout",
     "output_type": "stream",
     "text": [
      "Besta deild karla 2020 Results - Football/Iceland\n"
     ]
    },
    {
     "data": {
      "application/vnd.jupyter.widget-view+json": {
       "model_id": "a7033ccfd45e4d19a1c672c15e0c5bb1",
       "version_major": 2,
       "version_minor": 0
      },
      "text/plain": [
       "  0%|          | 0/107 [00:00<?, ?it/s]"
      ]
     },
     "metadata": {},
     "output_type": "display_data"
    },
    {
     "name": "stdout",
     "output_type": "stream",
     "text": [
      "Besta deild karla 2021 Results - Football/Iceland\n"
     ]
    },
    {
     "data": {
      "application/vnd.jupyter.widget-view+json": {
       "model_id": "5b372424a30745abb4188f8ba13e1aca",
       "version_major": 2,
       "version_minor": 0
      },
      "text/plain": [
       "  0%|          | 0/132 [00:00<?, ?it/s]"
      ]
     },
     "metadata": {},
     "output_type": "display_data"
    },
    {
     "name": "stdout",
     "output_type": "stream",
     "text": [
      "Besta deild karla 2022 Results - Football/Iceland\n"
     ]
    },
    {
     "data": {
      "application/vnd.jupyter.widget-view+json": {
       "model_id": "3165ba5dbfaf4aa389272da7287691b1",
       "version_major": 2,
       "version_minor": 0
      },
      "text/plain": [
       "  0%|          | 0/162 [00:00<?, ?it/s]"
      ]
     },
     "metadata": {},
     "output_type": "display_data"
    },
    {
     "name": "stdout",
     "output_type": "stream",
     "text": [
      "Besta deild karla 2023 Results - Football/Iceland\n"
     ]
    },
    {
     "data": {
      "application/vnd.jupyter.widget-view+json": {
       "model_id": "c9e0ef3aab794e2bace844fdbce65cf1",
       "version_major": 2,
       "version_minor": 0
      },
      "text/plain": [
       "  0%|          | 0/162 [00:00<?, ?it/s]"
      ]
     },
     "metadata": {},
     "output_type": "display_data"
    },
    {
     "name": "stdout",
     "output_type": "stream",
     "text": [
      "J1 League 2020 Results - Football/Japan\n"
     ]
    },
    {
     "data": {
      "application/vnd.jupyter.widget-view+json": {
       "model_id": "5b1d192924cf43a2b1646024fbc477dc",
       "version_major": 2,
       "version_minor": 0
      },
      "text/plain": [
       "  0%|          | 0/306 [00:00<?, ?it/s]"
      ]
     },
     "metadata": {},
     "output_type": "display_data"
    },
    {
     "name": "stdout",
     "output_type": "stream",
     "text": [
      "J1 League 2021 Results - Football/Japan\n"
     ]
    },
    {
     "data": {
      "application/vnd.jupyter.widget-view+json": {
       "model_id": "b5e605453f8b4145bd66ec3c94aa1d3c",
       "version_major": 2,
       "version_minor": 0
      },
      "text/plain": [
       "  0%|          | 0/380 [00:00<?, ?it/s]"
      ]
     },
     "metadata": {},
     "output_type": "display_data"
    },
    {
     "name": "stdout",
     "output_type": "stream",
     "text": [
      "J1 League 2022 Results - Football/Japan\n"
     ]
    },
    {
     "data": {
      "application/vnd.jupyter.widget-view+json": {
       "model_id": "55c3b83040414e21928d8773262da541",
       "version_major": 2,
       "version_minor": 0
      },
      "text/plain": [
       "  0%|          | 0/310 [00:00<?, ?it/s]"
      ]
     },
     "metadata": {},
     "output_type": "display_data"
    },
    {
     "name": "stdout",
     "output_type": "stream",
     "text": [
      "J1 League 2023 Results - Football/Japan\n"
     ]
    },
    {
     "data": {
      "application/vnd.jupyter.widget-view+json": {
       "model_id": "8430c14f729a49729d9be4f81ddb0f74",
       "version_major": 2,
       "version_minor": 0
      },
      "text/plain": [
       "  0%|          | 0/306 [00:00<?, ?it/s]"
      ]
     },
     "metadata": {},
     "output_type": "display_data"
    },
    {
     "name": "stdout",
     "output_type": "stream",
     "text": [
      "J2 League 2020 Results - Football/Japan\n"
     ]
    },
    {
     "data": {
      "application/vnd.jupyter.widget-view+json": {
       "model_id": "6460cd8826424d60b5f6a8a4d76dc9e9",
       "version_major": 2,
       "version_minor": 0
      },
      "text/plain": [
       "  0%|          | 0/462 [00:00<?, ?it/s]"
      ]
     },
     "metadata": {},
     "output_type": "display_data"
    },
    {
     "name": "stdout",
     "output_type": "stream",
     "text": [
      "J2 League 2021 Results - Football/Japan\n"
     ]
    },
    {
     "data": {
      "application/vnd.jupyter.widget-view+json": {
       "model_id": "d0880b3987bf4c8680ac67e92f3aef48",
       "version_major": 2,
       "version_minor": 0
      },
      "text/plain": [
       "  0%|          | 0/462 [00:00<?, ?it/s]"
      ]
     },
     "metadata": {},
     "output_type": "display_data"
    },
    {
     "name": "stdout",
     "output_type": "stream",
     "text": [
      "J2 League 2022 Results - Football/Japan\n"
     ]
    },
    {
     "data": {
      "application/vnd.jupyter.widget-view+json": {
       "model_id": "d744b5945fc642cab34e60f157c831f6",
       "version_major": 2,
       "version_minor": 0
      },
      "text/plain": [
       "  0%|          | 0/462 [00:00<?, ?it/s]"
      ]
     },
     "metadata": {},
     "output_type": "display_data"
    },
    {
     "name": "stdout",
     "output_type": "stream",
     "text": [
      "J2 League 2023 Results - Football/Japan\n"
     ]
    },
    {
     "data": {
      "application/vnd.jupyter.widget-view+json": {
       "model_id": "d1152dd294954d508395c1e273c6f68e",
       "version_major": 2,
       "version_minor": 0
      },
      "text/plain": [
       "  0%|          | 0/465 [00:00<?, ?it/s]"
      ]
     },
     "metadata": {},
     "output_type": "display_data"
    },
    {
     "name": "stdout",
     "output_type": "stream",
     "text": [
      "K League 1 2020 Results - Football/South Korea\n"
     ]
    },
    {
     "data": {
      "application/vnd.jupyter.widget-view+json": {
       "model_id": "d7bec2adafb046d58851c37b876e125f",
       "version_major": 2,
       "version_minor": 0
      },
      "text/plain": [
       "  0%|          | 0/162 [00:00<?, ?it/s]"
      ]
     },
     "metadata": {},
     "output_type": "display_data"
    },
    {
     "name": "stdout",
     "output_type": "stream",
     "text": [
      "K League 1 2021 Results - Football/South Korea\n"
     ]
    },
    {
     "data": {
      "application/vnd.jupyter.widget-view+json": {
       "model_id": "50d5bac6ec984178af6feb4c7acd0029",
       "version_major": 2,
       "version_minor": 0
      },
      "text/plain": [
       "  0%|          | 0/232 [00:00<?, ?it/s]"
      ]
     },
     "metadata": {},
     "output_type": "display_data"
    },
    {
     "name": "stdout",
     "output_type": "stream",
     "text": [
      "K League 1 2022 Results - Football/South Korea\n"
     ]
    },
    {
     "data": {
      "application/vnd.jupyter.widget-view+json": {
       "model_id": "c5bb91b093714b92974b300c44598da0",
       "version_major": 2,
       "version_minor": 0
      },
      "text/plain": [
       "  0%|          | 0/232 [00:00<?, ?it/s]"
      ]
     },
     "metadata": {},
     "output_type": "display_data"
    },
    {
     "name": "stdout",
     "output_type": "stream",
     "text": [
      "K-League Results - Football/South Korea\n"
     ]
    },
    {
     "data": {
      "application/vnd.jupyter.widget-view+json": {
       "model_id": "cc48b137b014426f8a6f84e2e40885e0",
       "version_major": 2,
       "version_minor": 0
      },
      "text/plain": [
       "  0%|          | 0/232 [00:00<?, ?it/s]"
      ]
     },
     "metadata": {},
     "output_type": "display_data"
    },
    {
     "name": "stdout",
     "output_type": "stream",
     "text": [
      "K League 2 2020 Results - Football/South Korea\n"
     ]
    },
    {
     "data": {
      "application/vnd.jupyter.widget-view+json": {
       "model_id": "d8565389753b4fd48d193ebed68d504d",
       "version_major": 2,
       "version_minor": 0
      },
      "text/plain": [
       "  0%|          | 0/137 [00:00<?, ?it/s]"
      ]
     },
     "metadata": {},
     "output_type": "display_data"
    },
    {
     "name": "stdout",
     "output_type": "stream",
     "text": [
      "K League 2 2021 Results - Football/South Korea\n"
     ]
    },
    {
     "data": {
      "application/vnd.jupyter.widget-view+json": {
       "model_id": "10971f75696643009dccbcb7e07e3108",
       "version_major": 2,
       "version_minor": 0
      },
      "text/plain": [
       "  0%|          | 0/180 [00:00<?, ?it/s]"
      ]
     },
     "metadata": {},
     "output_type": "display_data"
    },
    {
     "name": "stdout",
     "output_type": "stream",
     "text": [
      "K League 2 2022 Results - Football/South Korea\n"
     ]
    },
    {
     "data": {
      "application/vnd.jupyter.widget-view+json": {
       "model_id": "5fd40b452b514ab1b4bdfbf695e72a6a",
       "version_major": 2,
       "version_minor": 0
      },
      "text/plain": [
       "  0%|          | 0/222 [00:00<?, ?it/s]"
      ]
     },
     "metadata": {},
     "output_type": "display_data"
    },
    {
     "name": "stdout",
     "output_type": "stream",
     "text": [
      "K League 2 2023 Results - Football/South Korea\n"
     ]
    },
    {
     "data": {
      "application/vnd.jupyter.widget-view+json": {
       "model_id": "0af48f9a22a14eeb93ccbad9144baeae",
       "version_major": 2,
       "version_minor": 0
      },
      "text/plain": [
       "  0%|          | 0/236 [00:00<?, ?it/s]"
      ]
     },
     "metadata": {},
     "output_type": "display_data"
    },
    {
     "name": "stdout",
     "output_type": "stream",
     "text": [
      "A Lyga 2020 Results - Football/Lithuania\n"
     ]
    },
    {
     "data": {
      "application/vnd.jupyter.widget-view+json": {
       "model_id": "ef71651edd874faa91676fdb5a408fbc",
       "version_major": 2,
       "version_minor": 0
      },
      "text/plain": [
       "  0%|          | 0/60 [00:00<?, ?it/s]"
      ]
     },
     "metadata": {},
     "output_type": "display_data"
    },
    {
     "name": "stdout",
     "output_type": "stream",
     "text": [
      "A Lyga 2021 Results - Football/Lithuania\n"
     ]
    },
    {
     "data": {
      "application/vnd.jupyter.widget-view+json": {
       "model_id": "e0e7202137fe4518ba8c4d5b375ee818",
       "version_major": 2,
       "version_minor": 0
      },
      "text/plain": [
       "  0%|          | 0/180 [00:00<?, ?it/s]"
      ]
     },
     "metadata": {},
     "output_type": "display_data"
    },
    {
     "name": "stdout",
     "output_type": "stream",
     "text": [
      "A Lyga 2022 Results - Football/Lithuania\n"
     ]
    },
    {
     "data": {
      "application/vnd.jupyter.widget-view+json": {
       "model_id": "5624109d1a04404b9ec3d9fab0dd2f72",
       "version_major": 2,
       "version_minor": 0
      },
      "text/plain": [
       "  0%|          | 0/182 [00:00<?, ?it/s]"
      ]
     },
     "metadata": {},
     "output_type": "display_data"
    },
    {
     "name": "stdout",
     "output_type": "stream",
     "text": [
      "A Lyga 2023 Results - Football/Lithuania\n"
     ]
    },
    {
     "data": {
      "application/vnd.jupyter.widget-view+json": {
       "model_id": "41e97d4a52aa4b739cb8e616a77b4fad",
       "version_major": 2,
       "version_minor": 0
      },
      "text/plain": [
       "  0%|          | 0/182 [00:00<?, ?it/s]"
      ]
     },
     "metadata": {},
     "output_type": "display_data"
    },
    {
     "name": "stdout",
     "output_type": "stream",
     "text": [
      "Eliteserien 2020 Results - Football/Norway\n"
     ]
    },
    {
     "data": {
      "application/vnd.jupyter.widget-view+json": {
       "model_id": "d46d8ed8f8804dc89179012076826baa",
       "version_major": 2,
       "version_minor": 0
      },
      "text/plain": [
       "  0%|          | 0/241 [00:00<?, ?it/s]"
      ]
     },
     "metadata": {},
     "output_type": "display_data"
    },
    {
     "name": "stdout",
     "output_type": "stream",
     "text": [
      "Eliteserien 2021 Results - Football/Norway\n"
     ]
    },
    {
     "data": {
      "application/vnd.jupyter.widget-view+json": {
       "model_id": "329a3f98f0734ac281d61cf11af6a79a",
       "version_major": 2,
       "version_minor": 0
      },
      "text/plain": [
       "  0%|          | 0/241 [00:00<?, ?it/s]"
      ]
     },
     "metadata": {},
     "output_type": "display_data"
    },
    {
     "name": "stdout",
     "output_type": "stream",
     "text": [
      "Eliteserien 2022 Results - Football/Norway\n"
     ]
    },
    {
     "data": {
      "application/vnd.jupyter.widget-view+json": {
       "model_id": "3a27cea3352543bfb332515e88fa77be",
       "version_major": 2,
       "version_minor": 0
      },
      "text/plain": [
       "  0%|          | 0/242 [00:00<?, ?it/s]"
      ]
     },
     "metadata": {},
     "output_type": "display_data"
    },
    {
     "name": "stdout",
     "output_type": "stream",
     "text": [
      "Eliteserien 2023 Results - Football/Norway\n"
     ]
    },
    {
     "data": {
      "application/vnd.jupyter.widget-view+json": {
       "model_id": "991b6205d81044bfa4c9b789987d1643",
       "version_major": 2,
       "version_minor": 0
      },
      "text/plain": [
       "  0%|          | 0/242 [00:00<?, ?it/s]"
      ]
     },
     "metadata": {},
     "output_type": "display_data"
    },
    {
     "name": "stdout",
     "output_type": "stream",
     "text": [
      "OBOS-ligaen 2020 Results - Football/Norway\n"
     ]
    },
    {
     "data": {
      "application/vnd.jupyter.widget-view+json": {
       "model_id": "7fec1897f24a4877aa8babce3ab314ea",
       "version_major": 2,
       "version_minor": 0
      },
      "text/plain": [
       "  0%|          | 0/247 [00:00<?, ?it/s]"
      ]
     },
     "metadata": {},
     "output_type": "display_data"
    },
    {
     "name": "stdout",
     "output_type": "stream",
     "text": [
      "OBOS-ligaen 2021 Results - Football/Norway\n"
     ]
    },
    {
     "data": {
      "application/vnd.jupyter.widget-view+json": {
       "model_id": "55a1a435a7ca40da8a42ff5cc035a8a4",
       "version_major": 2,
       "version_minor": 0
      },
      "text/plain": [
       "  0%|          | 0/247 [00:00<?, ?it/s]"
      ]
     },
     "metadata": {},
     "output_type": "display_data"
    },
    {
     "name": "stdout",
     "output_type": "stream",
     "text": [
      "OBOS-ligaen 2022 Results - Football/Norway\n"
     ]
    },
    {
     "data": {
      "application/vnd.jupyter.widget-view+json": {
       "model_id": "9ae330d5073147f280980bc0670db6f0",
       "version_major": 2,
       "version_minor": 0
      },
      "text/plain": [
       "  0%|          | 0/247 [00:00<?, ?it/s]"
      ]
     },
     "metadata": {},
     "output_type": "display_data"
    },
    {
     "name": "stdout",
     "output_type": "stream",
     "text": [
      "OBOS-ligaen 2023 Results - Football/Norway\n"
     ]
    },
    {
     "data": {
      "application/vnd.jupyter.widget-view+json": {
       "model_id": "a8183eeec87f4682a8724dc0eb86983b",
       "version_major": 2,
       "version_minor": 0
      },
      "text/plain": [
       "  0%|          | 0/247 [00:00<?, ?it/s]"
      ]
     },
     "metadata": {},
     "output_type": "display_data"
    },
    {
     "name": "stdout",
     "output_type": "stream",
     "text": [
      "Primera Division 2020 Results - Football/Paraguay\n"
     ]
    },
    {
     "data": {
      "application/vnd.jupyter.widget-view+json": {
       "model_id": "3e052bd23e734b04aa66d0ddd00f6773",
       "version_major": 2,
       "version_minor": 0
      },
      "text/plain": [
       "  0%|          | 0/205 [00:00<?, ?it/s]"
      ]
     },
     "metadata": {},
     "output_type": "display_data"
    },
    {
     "name": "stdout",
     "output_type": "stream",
     "text": [
      "Primera Division 2021 Results - Football/Paraguay\n"
     ]
    },
    {
     "data": {
      "application/vnd.jupyter.widget-view+json": {
       "model_id": "d94bccf3c17846ac9f93f6bfca952af4",
       "version_major": 2,
       "version_minor": 0
      },
      "text/plain": [
       "  0%|          | 0/182 [00:00<?, ?it/s]"
      ]
     },
     "metadata": {},
     "output_type": "display_data"
    },
    {
     "name": "stdout",
     "output_type": "stream",
     "text": [
      "Primera Division 2022 Results - Football/Paraguay\n"
     ]
    },
    {
     "data": {
      "application/vnd.jupyter.widget-view+json": {
       "model_id": "076cf42dea404526bfc28f19bd606d45",
       "version_major": 2,
       "version_minor": 0
      },
      "text/plain": [
       "  0%|          | 0/264 [00:00<?, ?it/s]"
      ]
     },
     "metadata": {},
     "output_type": "display_data"
    },
    {
     "name": "stdout",
     "output_type": "stream",
     "text": [
      "Primera Division 2023 Results - Football/Paraguay\n"
     ]
    },
    {
     "data": {
      "application/vnd.jupyter.widget-view+json": {
       "model_id": "dbbf49f835e545098e08faa2fa8499de",
       "version_major": 2,
       "version_minor": 0
      },
      "text/plain": [
       "  0%|          | 0/264 [00:00<?, ?it/s]"
      ]
     },
     "metadata": {},
     "output_type": "display_data"
    },
    {
     "name": "stdout",
     "output_type": "stream",
     "text": [
      "Liga 1 2020 Results - Football/Peru\n"
     ]
    },
    {
     "data": {
      "application/vnd.jupyter.widget-view+json": {
       "model_id": "d563cd8e45e64f848e113f24500d91d7",
       "version_major": 2,
       "version_minor": 0
      },
      "text/plain": [
       "  0%|          | 0/285 [00:00<?, ?it/s]"
      ]
     },
     "metadata": {},
     "output_type": "display_data"
    },
    {
     "name": "stdout",
     "output_type": "stream",
     "text": [
      "Liga 1 2021 Results - Football/Peru\n"
     ]
    },
    {
     "data": {
      "application/vnd.jupyter.widget-view+json": {
       "model_id": "e43800dbc835498bbfa47fa6df475675",
       "version_major": 2,
       "version_minor": 0
      },
      "text/plain": [
       "  0%|          | 0/240 [00:00<?, ?it/s]"
      ]
     },
     "metadata": {},
     "output_type": "display_data"
    },
    {
     "name": "stdout",
     "output_type": "stream",
     "text": [
      "Liga 1 2022 Results - Football/Peru\n"
     ]
    },
    {
     "data": {
      "application/vnd.jupyter.widget-view+json": {
       "model_id": "b7399b9dacfd4bd5aff97d90370df39a",
       "version_major": 2,
       "version_minor": 0
      },
      "text/plain": [
       "  0%|          | 0/348 [00:00<?, ?it/s]"
      ]
     },
     "metadata": {},
     "output_type": "display_data"
    },
    {
     "name": "stdout",
     "output_type": "stream",
     "text": [
      "Liga 1 2023 Results - Football/Peru\n"
     ]
    },
    {
     "data": {
      "application/vnd.jupyter.widget-view+json": {
       "model_id": "2fd54dbe335d43c39cd6153851246296",
       "version_major": 2,
       "version_minor": 0
      },
      "text/plain": [
       "  0%|          | 0/344 [00:00<?, ?it/s]"
      ]
     },
     "metadata": {},
     "output_type": "display_data"
    },
    {
     "name": "stdout",
     "output_type": "stream",
     "text": [
      "Premier Division 2020 Results - Football/Ireland\n"
     ]
    },
    {
     "data": {
      "application/vnd.jupyter.widget-view+json": {
       "model_id": "5ada7b9c68e943b184a53e6423a92674",
       "version_major": 2,
       "version_minor": 0
      },
      "text/plain": [
       "  0%|          | 0/94 [00:00<?, ?it/s]"
      ]
     },
     "metadata": {},
     "output_type": "display_data"
    },
    {
     "name": "stdout",
     "output_type": "stream",
     "text": [
      "Premier Division 2021 Results - Football/Ireland\n"
     ]
    },
    {
     "data": {
      "application/vnd.jupyter.widget-view+json": {
       "model_id": "f28d5fd9eeef4de68d6785ad47689572",
       "version_major": 2,
       "version_minor": 0
      },
      "text/plain": [
       "  0%|          | 0/186 [00:00<?, ?it/s]"
      ]
     },
     "metadata": {},
     "output_type": "display_data"
    },
    {
     "name": "stdout",
     "output_type": "stream",
     "text": [
      "Premier Division 2022 Results - Football/Ireland\n"
     ]
    },
    {
     "data": {
      "application/vnd.jupyter.widget-view+json": {
       "model_id": "730f01a6b17540b1bef135ba730720db",
       "version_major": 2,
       "version_minor": 0
      },
      "text/plain": [
       "  0%|          | 0/181 [00:00<?, ?it/s]"
      ]
     },
     "metadata": {},
     "output_type": "display_data"
    },
    {
     "name": "stdout",
     "output_type": "stream",
     "text": [
      "Premier Division 2023 Results - Football/Ireland\n"
     ]
    },
    {
     "data": {
      "application/vnd.jupyter.widget-view+json": {
       "model_id": "b1f6368c3a3046ce969f39872fff055b",
       "version_major": 2,
       "version_minor": 0
      },
      "text/plain": [
       "  0%|          | 0/181 [00:00<?, ?it/s]"
      ]
     },
     "metadata": {},
     "output_type": "display_data"
    },
    {
     "name": "stdout",
     "output_type": "stream",
     "text": [
      "Division 1 2020 Results - Football/Ireland\n"
     ]
    },
    {
     "data": {
      "application/vnd.jupyter.widget-view+json": {
       "model_id": "a4f5a0daf65b415c8626308316b21e9b",
       "version_major": 2,
       "version_minor": 0
      },
      "text/plain": [
       "  0%|          | 0/90 [00:00<?, ?it/s]"
      ]
     },
     "metadata": {},
     "output_type": "display_data"
    },
    {
     "name": "stdout",
     "output_type": "stream",
     "text": [
      "Division 1 2021 Results - Football/Ireland\n"
     ]
    },
    {
     "data": {
      "application/vnd.jupyter.widget-view+json": {
       "model_id": "477dbedf3ebb4f0db3b6682e085d739e",
       "version_major": 2,
       "version_minor": 0
      },
      "text/plain": [
       "  0%|          | 0/135 [00:00<?, ?it/s]"
      ]
     },
     "metadata": {},
     "output_type": "display_data"
    },
    {
     "name": "stdout",
     "output_type": "stream",
     "text": [
      "Division 1 2022 Results - Football/Ireland\n"
     ]
    },
    {
     "data": {
      "application/vnd.jupyter.widget-view+json": {
       "model_id": "42e4fd02287c49a29467eca7bc23e089",
       "version_major": 2,
       "version_minor": 0
      },
      "text/plain": [
       "  0%|          | 0/149 [00:00<?, ?it/s]"
      ]
     },
     "metadata": {},
     "output_type": "display_data"
    },
    {
     "name": "stdout",
     "output_type": "stream",
     "text": [
      "Division 1 2023 Results - Football/Ireland\n"
     ]
    },
    {
     "data": {
      "application/vnd.jupyter.widget-view+json": {
       "model_id": "6c5edd555f4344db8c8ab0ff55dc8eba",
       "version_major": 2,
       "version_minor": 0
      },
      "text/plain": [
       "  0%|          | 0/185 [00:00<?, ?it/s]"
      ]
     },
     "metadata": {},
     "output_type": "display_data"
    },
    {
     "name": "stdout",
     "output_type": "stream",
     "text": [
      "cookies already closed\n",
      "cookies already closed\n",
      "cookies already closed\n",
      "cookies already closed\n",
      "Allsvenskan 2020 Results - Football/Sweden\n"
     ]
    },
    {
     "data": {
      "application/vnd.jupyter.widget-view+json": {
       "model_id": "651c11e4fc7c44d08296c0b35f852a6a",
       "version_major": 2,
       "version_minor": 0
      },
      "text/plain": [
       "  0%|          | 0/242 [00:00<?, ?it/s]"
      ]
     },
     "metadata": {},
     "output_type": "display_data"
    },
    {
     "name": "stdout",
     "output_type": "stream",
     "text": [
      "Allsvenskan 2021 Results - Football/Sweden\n"
     ]
    },
    {
     "data": {
      "application/vnd.jupyter.widget-view+json": {
       "model_id": "74a2e71363b04385947453776a1e4103",
       "version_major": 2,
       "version_minor": 0
      },
      "text/plain": [
       "  0%|          | 0/242 [00:00<?, ?it/s]"
      ]
     },
     "metadata": {},
     "output_type": "display_data"
    },
    {
     "name": "stdout",
     "output_type": "stream",
     "text": [
      "Allsvenskan 2022 Results - Football/Sweden\n"
     ]
    },
    {
     "data": {
      "application/vnd.jupyter.widget-view+json": {
       "model_id": "293b382d175d49b98bd69051184b532c",
       "version_major": 2,
       "version_minor": 0
      },
      "text/plain": [
       "  0%|          | 0/242 [00:00<?, ?it/s]"
      ]
     },
     "metadata": {},
     "output_type": "display_data"
    },
    {
     "name": "stdout",
     "output_type": "stream",
     "text": [
      "Allsvenskan 2023 Results - Football/Sweden\n"
     ]
    },
    {
     "data": {
      "application/vnd.jupyter.widget-view+json": {
       "model_id": "618d548a2b864737a80d48d9196f159b",
       "version_major": 2,
       "version_minor": 0
      },
      "text/plain": [
       "  0%|          | 0/242 [00:00<?, ?it/s]"
      ]
     },
     "metadata": {},
     "output_type": "display_data"
    },
    {
     "name": "stdout",
     "output_type": "stream",
     "text": [
      "Superettan 2020 Results - Football/Sweden\n"
     ]
    },
    {
     "data": {
      "application/vnd.jupyter.widget-view+json": {
       "model_id": "40aa2eb17899400eb6dbddf676339201",
       "version_major": 2,
       "version_minor": 0
      },
      "text/plain": [
       "  0%|          | 0/244 [00:00<?, ?it/s]"
      ]
     },
     "metadata": {},
     "output_type": "display_data"
    },
    {
     "name": "stdout",
     "output_type": "stream",
     "text": [
      "Superettan 2021 Results - Football/Sweden\n"
     ]
    },
    {
     "data": {
      "application/vnd.jupyter.widget-view+json": {
       "model_id": "c2a3017888c24b248683eca732f76dd6",
       "version_major": 2,
       "version_minor": 0
      },
      "text/plain": [
       "  0%|          | 0/244 [00:00<?, ?it/s]"
      ]
     },
     "metadata": {},
     "output_type": "display_data"
    },
    {
     "name": "stdout",
     "output_type": "stream",
     "text": [
      "Superettan 2022 Results - Football/Sweden\n"
     ]
    },
    {
     "data": {
      "application/vnd.jupyter.widget-view+json": {
       "model_id": "d0890f7874204b34bc9e2816d7c5f283",
       "version_major": 2,
       "version_minor": 0
      },
      "text/plain": [
       "  0%|          | 0/244 [00:00<?, ?it/s]"
      ]
     },
     "metadata": {},
     "output_type": "display_data"
    },
    {
     "name": "stdout",
     "output_type": "stream",
     "text": [
      "Superettan 2023 Results - Football/Sweden\n"
     ]
    },
    {
     "data": {
      "application/vnd.jupyter.widget-view+json": {
       "model_id": "440a66cb966642fcb093f8299bc44244",
       "version_major": 2,
       "version_minor": 0
      },
      "text/plain": [
       "  0%|          | 0/244 [00:00<?, ?it/s]"
      ]
     },
     "metadata": {},
     "output_type": "display_data"
    },
    {
     "name": "stdout",
     "output_type": "stream",
     "text": [
      "Primera Division 2020 Results - Football/Uruguay\n"
     ]
    },
    {
     "data": {
      "application/vnd.jupyter.widget-view+json": {
       "model_id": "80075dbbabfe475e8094bdc2d2220253",
       "version_major": 2,
       "version_minor": 0
      },
      "text/plain": [
       "  0%|          | 0/301 [00:00<?, ?it/s]"
      ]
     },
     "metadata": {},
     "output_type": "display_data"
    },
    {
     "name": "stdout",
     "output_type": "stream",
     "text": [
      "Primera Division 2021 Results - Football/Uruguay\n"
     ]
    },
    {
     "data": {
      "application/vnd.jupyter.widget-view+json": {
       "model_id": "b69d316ef6694a95b9347f6fe09513ef",
       "version_major": 2,
       "version_minor": 0
      },
      "text/plain": [
       "  0%|          | 0/241 [00:00<?, ?it/s]"
      ]
     },
     "metadata": {},
     "output_type": "display_data"
    },
    {
     "name": "stdout",
     "output_type": "stream",
     "text": [
      "Primera Division 2022 Results - Football/Uruguay\n"
     ]
    },
    {
     "data": {
      "application/vnd.jupyter.widget-view+json": {
       "model_id": "32bc9dba1d3142c6a8d799d9143beab8",
       "version_major": 2,
       "version_minor": 0
      },
      "text/plain": [
       "  0%|          | 0/298 [00:00<?, ?it/s]"
      ]
     },
     "metadata": {},
     "output_type": "display_data"
    },
    {
     "name": "stdout",
     "output_type": "stream",
     "text": [
      "Primera División de Uruguay Results - Football/Uruguay\n"
     ]
    },
    {
     "data": {
      "application/vnd.jupyter.widget-view+json": {
       "model_id": "011707ecb8004998ad35614f335bd6a2",
       "version_major": 2,
       "version_minor": 0
      },
      "text/plain": [
       "  0%|          | 0/300 [00:00<?, ?it/s]"
      ]
     },
     "metadata": {},
     "output_type": "display_data"
    },
    {
     "name": "stdout",
     "output_type": "stream",
     "text": [
      "Segunda Division 2020 Results - Football/Uruguay\n"
     ]
    },
    {
     "data": {
      "application/vnd.jupyter.widget-view+json": {
       "model_id": "5047b812bbda45399a6610994596c0e7",
       "version_major": 2,
       "version_minor": 0
      },
      "text/plain": [
       "  0%|          | 0/140 [00:00<?, ?it/s]"
      ]
     },
     "metadata": {},
     "output_type": "display_data"
    },
    {
     "name": "stdout",
     "output_type": "stream",
     "text": [
      "Segunda Division 2021 Results - Football/Uruguay\n"
     ]
    },
    {
     "data": {
      "application/vnd.jupyter.widget-view+json": {
       "model_id": "b3577ac5bd1e4d81ba57e25835df9995",
       "version_major": 2,
       "version_minor": 0
      },
      "text/plain": [
       "  0%|          | 0/140 [00:00<?, ?it/s]"
      ]
     },
     "metadata": {},
     "output_type": "display_data"
    },
    {
     "name": "stdout",
     "output_type": "stream",
     "text": [
      "Segunda Division 2022 Results - Football/Uruguay\n"
     ]
    },
    {
     "data": {
      "application/vnd.jupyter.widget-view+json": {
       "model_id": "cfa63cbf48e044b2a40f883666d3dc46",
       "version_major": 2,
       "version_minor": 0
      },
      "text/plain": [
       "  0%|          | 0/173 [00:00<?, ?it/s]"
      ]
     },
     "metadata": {},
     "output_type": "display_data"
    },
    {
     "name": "stdout",
     "output_type": "stream",
     "text": [
      "Segunda Division 2023 Results - Football/Uruguay\n"
     ]
    },
    {
     "data": {
      "application/vnd.jupyter.widget-view+json": {
       "model_id": "8b9d15ed5e2b451684d8fca3de80d8b3",
       "version_major": 2,
       "version_minor": 0
      },
      "text/plain": [
       "  0%|          | 0/225 [00:00<?, ?it/s]"
      ]
     },
     "metadata": {},
     "output_type": "display_data"
    },
    {
     "name": "stdout",
     "output_type": "stream",
     "text": [
      "MLS 2020 Results - Football/USA\n"
     ]
    },
    {
     "data": {
      "application/vnd.jupyter.widget-view+json": {
       "model_id": "118899d84b9a41a08f029e94b9fa3eba",
       "version_major": 2,
       "version_minor": 0
      },
      "text/plain": [
       "  0%|          | 0/273 [00:00<?, ?it/s]"
      ]
     },
     "metadata": {},
     "output_type": "display_data"
    },
    {
     "name": "stdout",
     "output_type": "stream",
     "text": [
      "MLS 2021 Results - Football/USA\n"
     ]
    },
    {
     "data": {
      "application/vnd.jupyter.widget-view+json": {
       "model_id": "902657b309304aea84c6d24c7600c9e5",
       "version_major": 2,
       "version_minor": 0
      },
      "text/plain": [
       "  0%|          | 0/473 [00:00<?, ?it/s]"
      ]
     },
     "metadata": {},
     "output_type": "display_data"
    },
    {
     "name": "stdout",
     "output_type": "stream",
     "text": [
      "MLS 2022 Results - Football/USA\n"
     ]
    },
    {
     "data": {
      "application/vnd.jupyter.widget-view+json": {
       "model_id": "1c4db688bbe74d098937b33a97df02d3",
       "version_major": 2,
       "version_minor": 0
      },
      "text/plain": [
       "  0%|          | 0/490 [00:00<?, ?it/s]"
      ]
     },
     "metadata": {},
     "output_type": "display_data"
    },
    {
     "name": "stdout",
     "output_type": "stream",
     "text": [
      "MLS 2023 Results - Football/USA\n"
     ]
    },
    {
     "data": {
      "application/vnd.jupyter.widget-view+json": {
       "model_id": "96154aaaa70d419b94163a5ffbbd66c3",
       "version_major": 2,
       "version_minor": 0
      },
      "text/plain": [
       "  0%|          | 0/521 [00:00<?, ?it/s]"
      ]
     },
     "metadata": {},
     "output_type": "display_data"
    },
    {
     "name": "stdout",
     "output_type": "stream",
     "text": [
      "USL Championship 2020 Results - Football/USA\n"
     ]
    },
    {
     "data": {
      "application/vnd.jupyter.widget-view+json": {
       "model_id": "2df639cab7bf4870b300487ae848c140",
       "version_major": 2,
       "version_minor": 0
      },
      "text/plain": [
       "  0%|          | 0/289 [00:00<?, ?it/s]"
      ]
     },
     "metadata": {},
     "output_type": "display_data"
    },
    {
     "name": "stdout",
     "output_type": "stream",
     "text": [
      "USL Championship 2021 Results - Football/USA\n"
     ]
    },
    {
     "data": {
      "application/vnd.jupyter.widget-view+json": {
       "model_id": "1a568ef1cc16466480e036188b2ffd0b",
       "version_major": 2,
       "version_minor": 0
      },
      "text/plain": [
       "  0%|          | 0/511 [00:00<?, ?it/s]"
      ]
     },
     "metadata": {},
     "output_type": "display_data"
    },
    {
     "name": "stdout",
     "output_type": "stream",
     "text": [
      "USL Championship 2022 Results - Football/USA\n"
     ]
    },
    {
     "data": {
      "application/vnd.jupyter.widget-view+json": {
       "model_id": "37d16d1283184440b9de0368aa71a163",
       "version_major": 2,
       "version_minor": 0
      },
      "text/plain": [
       "  0%|          | 0/472 [00:00<?, ?it/s]"
      ]
     },
     "metadata": {},
     "output_type": "display_data"
    }
   ],
   "source": [
    "for i in links1:\n",
    "    \n",
    "    url = i\n",
    "    colecao_partidas = TinyDB('./base_flashscore_inverno2.json')\n",
    "    \n",
    "    options = webdriver.ChromeOptions()\n",
    "    options.add_argument('--headless')\n",
    "\n",
    "    s = Service('./chromedriver.exe')\n",
    "    driver = webdriver.Chrome(service=s, options=options)\n",
    "    driver.maximize_window()\n",
    "    \n",
    "    try:\n",
    "        driver.get(url)\n",
    "\n",
    "        if ('No match found.' in driver.page_source) == False:\n",
    "            try:\n",
    "                WebDriverWait(driver, 8).until(EC.visibility_of_element_located((By.CSS_SELECTOR,'button#onetrust-accept-btn-handler')))\n",
    "                button_cookies = driver.find_element(By.CSS_SELECTOR,'button#onetrust-accept-btn-handler')\n",
    "                button_cookies.click()\n",
    "            except:\n",
    "                print(\"cookies already closed\")\n",
    "\n",
    "            while('event__more' in driver.page_source):\n",
    "                driver.execute_script(\"window.scrollTo(0, document.body.scrollHeight);\")    \n",
    "                button_more = driver.find_element(By.CSS_SELECTOR,'a.event__more.event__more--static')\n",
    "                button_more.click()\n",
    "                sleep(2)\n",
    "\n",
    "            jogos = driver.find_elements(By.CSS_SELECTOR,'div.event__match--twoLine')\n",
    "            id_jogos =[]\n",
    "            for i in jogos:\n",
    "                id_jogos.append(i.get_attribute(\"id\")[4:])\n",
    "\n",
    "            season = driver.find_element(By.CSS_SELECTOR,'div.heading__info').text\n",
    "\n",
    "            print(driver.title)\n",
    "            for id_jogo in tqdm(id_jogos):\n",
    "                procura_duplicado = Query()\n",
    "                if colecao_partidas.search(procura_duplicado.Id == id_jogo) == []:\n",
    "                    try:\n",
    "                        jogo = {}\n",
    "\n",
    "                        get_main_header(id_jogo,jogo,driver)\n",
    "                        insert_season(jogo,season)\n",
    "                        get_score_ht_ft(id_jogo,jogo,driver)\n",
    "                        get_odds_ml_ft(id_jogo,jogo,driver)\n",
    "                        \n",
    "                       \n",
    "\n",
    "                        colecao_partidas.insert(jogo.copy())\n",
    "                    except:\n",
    "                        pass\n",
    "        driver.close()\n",
    "    except:\n",
    "        pass"
   ]
  },
  {
   "cell_type": "code",
   "execution_count": null,
   "id": "9641752b",
   "metadata": {},
   "outputs": [],
   "source": [
    "for i in links2:\n",
    "    \n",
    "    url = i\n",
    "    colecao_partidas = TinyDB('./base_flashscore_verão2.json')\n",
    "    \n",
    "    options = webdriver.ChromeOptions()\n",
    "    options.add_argument('--headless')\n",
    "\n",
    "    s = Service('./chromedriver.exe')\n",
    "    driver = webdriver.Chrome(service=s, options=options)\n",
    "    driver.maximize_window()\n",
    "\n",
    "    \n",
    "    try:\n",
    "        driver.get(url)\n",
    "\n",
    "        if ('No match found.' in driver.page_source) == False:\n",
    "            try:\n",
    "                WebDriverWait(driver, 8).until(EC.visibility_of_element_located((By.CSS_SELECTOR,'button#onetrust-accept-btn-handler')))\n",
    "                button_cookies = driver.find_element(By.CSS_SELECTOR,'button#onetrust-accept-btn-handler')\n",
    "                button_cookies.click()\n",
    "            except:\n",
    "                print(\"cookies already closed\")\n",
    "\n",
    "            while('event__more' in driver.page_source):\n",
    "                driver.execute_script(\"window.scrollTo(0, document.body.scrollHeight);\")    \n",
    "                button_more = driver.find_element(By.CSS_SELECTOR,'a.event__more.event__more--static')\n",
    "                button_more.click()\n",
    "                sleep(2)\n",
    "\n",
    "            jogos = driver.find_elements(By.CSS_SELECTOR,'div.event__match--twoLine')\n",
    "            id_jogos =[]\n",
    "            for i in jogos:\n",
    "                id_jogos.append(i.get_attribute(\"id\")[4:])\n",
    "\n",
    "            season = driver.find_element(By.CSS_SELECTOR,'div.heading__info').text\n",
    "\n",
    "            print(driver.title)\n",
    "            for id_jogo in tqdm(id_jogos):\n",
    "                procura_duplicado = Query()\n",
    "                if colecao_partidas.search(procura_duplicado.Id == id_jogo) == []:\n",
    "                    try:\n",
    "                        jogo = {}\n",
    "\n",
    "                        get_main_header(id_jogo,jogo,driver)\n",
    "                        insert_season(jogo,season)\n",
    "                        get_score_ht_ft(id_jogo,jogo,driver)\n",
    "                        get_odds_ml_ft(id_jogo,jogo,driver)\n",
    "                   \n",
    "                       \n",
    "\n",
    "                        colecao_partidas.insert(jogo.copy())\n",
    "                    except:\n",
    "                        pass\n",
    "        driver.close()\n",
    "    except:\n",
    "        pass"
   ]
  },
  {
   "cell_type": "code",
   "execution_count": null,
   "id": "08ac2b02",
   "metadata": {},
   "outputs": [],
   "source": [
    "colecao_partidas1 = TinyDB('./base_flashscore_inverno2.json')\n",
    "colecao_partidas2 = TinyDB('./base_flashscore_verão2.json')\n",
    "\n",
    "df1 = pd.DataFrame(colecao_partidas1.all())\n",
    "df2 = pd.DataFrame(colecao_partidas2.all())\n",
    "\n",
    "df = pd.concat([df1,df2])\n",
    "df.drop_duplicates(subset=['Id'], inplace=True)\n",
    "\n",
    "df[['Dia','Mes','Ano']] = df['Date'].str.split('/',expand=True)\n",
    "df = df.drop(['Date'], axis=1)\n",
    "df['Date'] = df['Ano']+'-'+df['Mes']+'-'+ df['Dia']\n",
    "df = df.drop(columns=['Dia','Mes','Ano'], axis=1)\n",
    "\n",
    "df = df[['Date','Time','League','Season','Round','Home','Away','HT_Goals_H','HT_Goals_A','FT_Goals_H','FT_Goals_A',\n",
    "'FT_Odd_H','FT_Odd_D','FT_Odd_A']]\n",
    "\n",
    "df.columns = ['Date','Time','League','Season','Round','Home','Away','HT_Goals_H','HT_Goals_A','FT_Goals_H','FT_Goals_A',\n",
    "'FT_Odd_H','FT_Odd_D','FT_Odd_A']\n",
    "\n",
    "df.fillna(0, inplace=True)\n",
    "\n",
    "df = df.sort_values(['Date','Time'])\n",
    "\n",
    "df = df.dropna()\n",
    "df = df.reset_index(drop=True)\n",
    "df.index += 1\n",
    "\n",
    "df.to_excel('Base_de_Dados_FlashScore_1x2.xlsx')"
   ]
  }
 ],
 "metadata": {
  "kernelspec": {
   "display_name": "Python 3 (ipykernel)",
   "language": "python",
   "name": "python3"
  },
  "language_info": {
   "codemirror_mode": {
    "name": "ipython",
    "version": 3
   },
   "file_extension": ".py",
   "mimetype": "text/x-python",
   "name": "python",
   "nbconvert_exporter": "python",
   "pygments_lexer": "ipython3",
   "version": "3.8.10"
  },
  "widgets": {
   "application/vnd.jupyter.widget-state+json": {
    "state": {
     "0003125e330049c98132ae9294e483d0": {
      "model_module": "@jupyter-widgets/base",
      "model_module_version": "2.0.0",
      "model_name": "LayoutModel",
      "state": {}
     },
     "001d99f7faf645629a5f6d20043f4779": {
      "model_module": "@jupyter-widgets/controls",
      "model_module_version": "2.0.0",
      "model_name": "HTMLModel",
      "state": {
       "layout": "IPY_MODEL_4a7d29063f0642ccae78a464a1217354",
       "style": "IPY_MODEL_9f384dac0fa443dc8796fa1c3602f7a4",
       "value": "100%"
      }
     },
     "00240df43b764b4d87714295251cbd6b": {
      "model_module": "@jupyter-widgets/controls",
      "model_module_version": "2.0.0",
      "model_name": "HTMLStyleModel",
      "state": {
       "description_width": "",
       "font_size": null,
       "text_color": null
      }
     },
     "003e08db79df47f6a6f9fb306cf2c310": {
      "model_module": "@jupyter-widgets/base",
      "model_module_version": "2.0.0",
      "model_name": "LayoutModel",
      "state": {}
     },
     "004ba7446f504ef1a2cdc51292ad6b8c": {
      "model_module": "@jupyter-widgets/controls",
      "model_module_version": "2.0.0",
      "model_name": "HTMLModel",
      "state": {
       "layout": "IPY_MODEL_8cb2e577b78f4f3099da59dd1cde914b",
       "style": "IPY_MODEL_29f8998a8c5e4d1ea34e2a0ab3d83b10",
       "value": " 380/380 [02:58&lt;00:00,  2.19it/s]"
      }
     },
     "008b1f15613740839135fc1a1533fa6a": {
      "model_module": "@jupyter-widgets/base",
      "model_module_version": "2.0.0",
      "model_name": "LayoutModel",
      "state": {}
     },
     "009d3c62ccdb42408f4937ec53abeaa2": {
      "model_module": "@jupyter-widgets/controls",
      "model_module_version": "2.0.0",
      "model_name": "HTMLModel",
      "state": {
       "layout": "IPY_MODEL_2ce9604765ba449dbc699aae231b0cc8",
       "style": "IPY_MODEL_1a0fab813e7b4772b7ab22175c190427",
       "value": "100%"
      }
     },
     "011707ecb8004998ad35614f335bd6a2": {
      "model_module": "@jupyter-widgets/controls",
      "model_module_version": "2.0.0",
      "model_name": "HBoxModel",
      "state": {
       "children": [
        "IPY_MODEL_d790ab0b89fd486fb3dc56bc391a581d",
        "IPY_MODEL_2676dd0cd8b94e9c99450be37209bafc",
        "IPY_MODEL_1256c97312294e7384f51c01f01898bc"
       ],
       "layout": "IPY_MODEL_83630cb794ae4d82bf1d4d4c6aabda3d"
      }
     },
     "01197d12bb464aafbceb7408ef898958": {
      "model_module": "@jupyter-widgets/controls",
      "model_module_version": "2.0.0",
      "model_name": "ProgressStyleModel",
      "state": {
       "description_width": ""
      }
     },
     "015a8a3047b34d6ea4d0ae0b5b0e21ec": {
      "model_module": "@jupyter-widgets/controls",
      "model_module_version": "2.0.0",
      "model_name": "FloatProgressModel",
      "state": {
       "bar_style": "success",
       "layout": "IPY_MODEL_54aa7d6a6daf47649f0f5231ce7d8cfe",
       "max": 184,
       "style": "IPY_MODEL_b91e42490a004c559cd2840e665cbebc",
       "value": 184
      }
     },
     "015cb0e3627045fdb7ff01ad019f26f4": {
      "model_module": "@jupyter-widgets/controls",
      "model_module_version": "2.0.0",
      "model_name": "HBoxModel",
      "state": {
       "children": [
        "IPY_MODEL_586e41c389d046fe99126296b43ed085",
        "IPY_MODEL_9c77fa5e649b447b9a4c20d437487344",
        "IPY_MODEL_98ce8dac97784fa8807c546c434d79d9"
       ],
       "layout": "IPY_MODEL_ab4105ed53ef4a92804af815cfe58849"
      }
     },
     "018d3831c3ae4cb8893708389e39c78a": {
      "model_module": "@jupyter-widgets/base",
      "model_module_version": "2.0.0",
      "model_name": "LayoutModel",
      "state": {}
     },
     "01ca0827f6644e8a9f925812f6498a99": {
      "model_module": "@jupyter-widgets/controls",
      "model_module_version": "2.0.0",
      "model_name": "ProgressStyleModel",
      "state": {
       "description_width": ""
      }
     },
     "01ce595806554ed4a6f16e142ac10488": {
      "model_module": "@jupyter-widgets/base",
      "model_module_version": "2.0.0",
      "model_name": "LayoutModel",
      "state": {}
     },
     "0204ad1d16b442dd9f735220f1bf482d": {
      "model_module": "@jupyter-widgets/controls",
      "model_module_version": "2.0.0",
      "model_name": "HTMLStyleModel",
      "state": {
       "description_width": "",
       "font_size": null,
       "text_color": null
      }
     },
     "0208ee824bae4cf3bcf9adaf4bdf47f5": {
      "model_module": "@jupyter-widgets/base",
      "model_module_version": "2.0.0",
      "model_name": "LayoutModel",
      "state": {}
     },
     "0237b6f5bc2b408eabc5f469366f1ff1": {
      "model_module": "@jupyter-widgets/controls",
      "model_module_version": "2.0.0",
      "model_name": "HBoxModel",
      "state": {
       "children": [
        "IPY_MODEL_b24ccc13ca9741e785516a0b8165cd76",
        "IPY_MODEL_03f6a680ba104fe6a0aaa365c33e2690",
        "IPY_MODEL_0af779d52181492e96502251e040d268"
       ],
       "layout": "IPY_MODEL_90f39d09edcc4e149cb557ad81416c0d"
      }
     },
     "023be4441d3d49859543345edc15891f": {
      "model_module": "@jupyter-widgets/base",
      "model_module_version": "2.0.0",
      "model_name": "LayoutModel",
      "state": {}
     },
     "024744b6135d425f931a0515bb7adfc8": {
      "model_module": "@jupyter-widgets/controls",
      "model_module_version": "2.0.0",
      "model_name": "HTMLModel",
      "state": {
       "layout": "IPY_MODEL_3e6af4fbc1fc4ca48356832e003182bf",
       "style": "IPY_MODEL_2f0d09c0e292432cb4b6f21e767563b6",
       "value": " 247/247 [01:52&lt;00:00,  2.25it/s]"
      }
     },
     "02a2d72952c345c1876283f83d036595": {
      "model_module": "@jupyter-widgets/base",
      "model_module_version": "2.0.0",
      "model_name": "LayoutModel",
      "state": {}
     },
     "02acec5c7889413db7098bbefc946a5c": {
      "model_module": "@jupyter-widgets/controls",
      "model_module_version": "2.0.0",
      "model_name": "FloatProgressModel",
      "state": {
       "bar_style": "success",
       "layout": "IPY_MODEL_7e55a7de16704a768896fbd0749c53a1",
       "max": 344,
       "style": "IPY_MODEL_b439849feec54b89bb2c4d7afcf8a6e0",
       "value": 344
      }
     },
     "03000b0734d94b05a3ef3ebe9dbf7287": {
      "model_module": "@jupyter-widgets/base",
      "model_module_version": "2.0.0",
      "model_name": "LayoutModel",
      "state": {}
     },
     "035d6792d2f2402f8b4620460d3e0149": {
      "model_module": "@jupyter-widgets/base",
      "model_module_version": "2.0.0",
      "model_name": "LayoutModel",
      "state": {}
     },
     "038e4d8ee2124918a9b91423d5f1441f": {
      "model_module": "@jupyter-widgets/controls",
      "model_module_version": "2.0.0",
      "model_name": "FloatProgressModel",
      "state": {
       "bar_style": "success",
       "layout": "IPY_MODEL_d462f1540a314f4bbb561b937f462a35",
       "max": 242,
       "style": "IPY_MODEL_b03729f149a44f3087a5f8526c84508e",
       "value": 242
      }
     },
     "03e68b33369d4993a60df2e0a87dcbdb": {
      "model_module": "@jupyter-widgets/base",
      "model_module_version": "2.0.0",
      "model_name": "LayoutModel",
      "state": {}
     },
     "03f6a680ba104fe6a0aaa365c33e2690": {
      "model_module": "@jupyter-widgets/controls",
      "model_module_version": "2.0.0",
      "model_name": "FloatProgressModel",
      "state": {
       "bar_style": "success",
       "layout": "IPY_MODEL_1369bdb83d0c4e4ba3b0cce393dd5dee",
       "max": 335,
       "style": "IPY_MODEL_5ac13c1c02284cbcb0870be2c61392c5",
       "value": 335
      }
     },
     "03fc86ae2caf44468d697bc2c0bf9f08": {
      "model_module": "@jupyter-widgets/base",
      "model_module_version": "2.0.0",
      "model_name": "LayoutModel",
      "state": {}
     },
     "0404f4b55fe148c29ffa21d8c1b2111c": {
      "model_module": "@jupyter-widgets/controls",
      "model_module_version": "2.0.0",
      "model_name": "ProgressStyleModel",
      "state": {
       "description_width": ""
      }
     },
     "043959b833714e78a918b246025e8033": {
      "model_module": "@jupyter-widgets/controls",
      "model_module_version": "2.0.0",
      "model_name": "HTMLModel",
      "state": {
       "layout": "IPY_MODEL_2c881fdbe567482ca9e5489bc91946b4",
       "style": "IPY_MODEL_3f1454abca6f406fb9fb1dddacada171",
       "value": " 242/242 [01:51&lt;00:00,  2.23it/s]"
      }
     },
     "045e3451b1134e41b6bcc1fa54d95363": {
      "model_module": "@jupyter-widgets/controls",
      "model_module_version": "2.0.0",
      "model_name": "HTMLStyleModel",
      "state": {
       "description_width": "",
       "font_size": null,
       "text_color": null
      }
     },
     "04dae7d0ddfb4b3f9c74373d64581225": {
      "model_module": "@jupyter-widgets/base",
      "model_module_version": "2.0.0",
      "model_name": "LayoutModel",
      "state": {}
     },
     "05204d51511e4abf8245ec0f93001c60": {
      "model_module": "@jupyter-widgets/base",
      "model_module_version": "2.0.0",
      "model_name": "LayoutModel",
      "state": {}
     },
     "0532a92e6350434094057ac6e837bf6d": {
      "model_module": "@jupyter-widgets/controls",
      "model_module_version": "2.0.0",
      "model_name": "FloatProgressModel",
      "state": {
       "bar_style": "success",
       "layout": "IPY_MODEL_96fdaf435258461c8f2ece40b03e88da",
       "max": 242,
       "style": "IPY_MODEL_09b2ecedf5494642873d035669d80302",
       "value": 242
      }
     },
     "053916dbe59c4dc3b998ae99d7e06d77": {
      "model_module": "@jupyter-widgets/base",
      "model_module_version": "2.0.0",
      "model_name": "LayoutModel",
      "state": {}
     },
     "053f30d3fa2940bbb73753ba6120445f": {
      "model_module": "@jupyter-widgets/controls",
      "model_module_version": "2.0.0",
      "model_name": "HTMLStyleModel",
      "state": {
       "description_width": "",
       "font_size": null,
       "text_color": null
      }
     },
     "0580101fd9b64643b4e8bf22b90188da": {
      "model_module": "@jupyter-widgets/controls",
      "model_module_version": "2.0.0",
      "model_name": "HTMLModel",
      "state": {
       "layout": "IPY_MODEL_f1b501d0577b4b27a7e896aa9faf5535",
       "style": "IPY_MODEL_8da264472c944040aead6fc7074a2635",
       "value": "100%"
      }
     },
     "062d549782094bebb0223f118e68e6fd": {
      "model_module": "@jupyter-widgets/base",
      "model_module_version": "2.0.0",
      "model_name": "LayoutModel",
      "state": {}
     },
     "0664770e538a4fa39a483f6edcefee2a": {
      "model_module": "@jupyter-widgets/controls",
      "model_module_version": "2.0.0",
      "model_name": "HTMLModel",
      "state": {
       "layout": "IPY_MODEL_d4df7f6008334eafb3f94cbf3aea857d",
       "style": "IPY_MODEL_94c9185219da4a10914f5e01aed4b974",
       "value": "100%"
      }
     },
     "069c3021b0194ebd9d78c838fca99daa": {
      "model_module": "@jupyter-widgets/controls",
      "model_module_version": "2.0.0",
      "model_name": "HTMLModel",
      "state": {
       "layout": "IPY_MODEL_deb4dd25044245fd983b8a754a2ef2a2",
       "style": "IPY_MODEL_b863379d71d24d32958e620081d16272",
       "value": "100%"
      }
     },
     "06cce0eab85541f5b6ffe84c0069e305": {
      "model_module": "@jupyter-widgets/controls",
      "model_module_version": "2.0.0",
      "model_name": "HBoxModel",
      "state": {
       "children": [
        "IPY_MODEL_c619f1542fad4842ad8d699582650435",
        "IPY_MODEL_95dd2407802446279d5a80f980ce27be",
        "IPY_MODEL_004ba7446f504ef1a2cdc51292ad6b8c"
       ],
       "layout": "IPY_MODEL_5e311ba910c74f959d49b26f9d16df6b"
      }
     },
     "0739798cbef34c628406dbbc83e1dde6": {
      "model_module": "@jupyter-widgets/controls",
      "model_module_version": "2.0.0",
      "model_name": "HTMLStyleModel",
      "state": {
       "description_width": "",
       "font_size": null,
       "text_color": null
      }
     },
     "076cf42dea404526bfc28f19bd606d45": {
      "model_module": "@jupyter-widgets/controls",
      "model_module_version": "2.0.0",
      "model_name": "HBoxModel",
      "state": {
       "children": [
        "IPY_MODEL_41b8a56b6627479e982410ef5a788324",
        "IPY_MODEL_fac8173223064be7988f9dc3c768a4c1",
        "IPY_MODEL_09fe59d8441948bba4f1ea0edec5cb1e"
       ],
       "layout": "IPY_MODEL_623985a83bb04b7296d4846d4f0ee172"
      }
     },
     "0775d810aa414194ade2af62b92d47c2": {
      "model_module": "@jupyter-widgets/controls",
      "model_module_version": "2.0.0",
      "model_name": "HTMLModel",
      "state": {
       "layout": "IPY_MODEL_cf5caacb002f40fe85ea04e8ef830dd4",
       "style": "IPY_MODEL_93211c00a4924e04b088a4b9dbcdf8e7",
       "value": " 473/473 [1:05:48&lt;00:00,  8.17s/it]"
      }
     },
     "07a9048c910e4248a731f88955d753cd": {
      "model_module": "@jupyter-widgets/base",
      "model_module_version": "2.0.0",
      "model_name": "LayoutModel",
      "state": {}
     },
     "07db7cf0638b4f2b8fc7126537068170": {
      "model_module": "@jupyter-widgets/base",
      "model_module_version": "2.0.0",
      "model_name": "LayoutModel",
      "state": {}
     },
     "07dcdcf1db0d42d8862af1f8cefd3db2": {
      "model_module": "@jupyter-widgets/controls",
      "model_module_version": "2.0.0",
      "model_name": "ProgressStyleModel",
      "state": {
       "description_width": ""
      }
     },
     "082c8e22b8174dd9938c1783ad4ac3f1": {
      "model_module": "@jupyter-widgets/controls",
      "model_module_version": "2.0.0",
      "model_name": "HTMLModel",
      "state": {
       "layout": "IPY_MODEL_a5003d6220ad4b92828b982c7939e748",
       "style": "IPY_MODEL_cade4a06390247afb48e1779e963ec07",
       "value": "100%"
      }
     },
     "08455469202f44f0ae056f9d5adceb6b": {
      "model_module": "@jupyter-widgets/controls",
      "model_module_version": "2.0.0",
      "model_name": "FloatProgressModel",
      "state": {
       "bar_style": "success",
       "layout": "IPY_MODEL_1754dbe2a86740458fcb57ba77081ae3",
       "max": 180,
       "style": "IPY_MODEL_89445cc9d19447eb8435da00d8cfd567",
       "value": 180
      }
     },
     "085ff8ef1cf64383b3fb1c2ce9a4f7ea": {
      "model_module": "@jupyter-widgets/base",
      "model_module_version": "2.0.0",
      "model_name": "LayoutModel",
      "state": {}
     },
     "0878d23b9c0848a7920521e1bd7dbf6a": {
      "model_module": "@jupyter-widgets/controls",
      "model_module_version": "2.0.0",
      "model_name": "HTMLModel",
      "state": {
       "layout": "IPY_MODEL_053916dbe59c4dc3b998ae99d7e06d77",
       "style": "IPY_MODEL_ba3a3c38cc8d471e890de3b91b4f58b7",
       "value": " 162/162 [01:15&lt;00:00,  2.15it/s]"
      }
     },
     "0896a92e3ed449e9b8709a004c463615": {
      "model_module": "@jupyter-widgets/controls",
      "model_module_version": "2.0.0",
      "model_name": "HTMLStyleModel",
      "state": {
       "description_width": "",
       "font_size": null,
       "text_color": null
      }
     },
     "089a3588339e4ffcbf32f2f5a87d923d": {
      "model_module": "@jupyter-widgets/controls",
      "model_module_version": "2.0.0",
      "model_name": "HBoxModel",
      "state": {
       "children": [
        "IPY_MODEL_2350e0fdd1e54161ad79ee2b4fe4226c",
        "IPY_MODEL_7eefbbd5fa2241e0a7492ed0026e92cd",
        "IPY_MODEL_cc4c36fd703e41f2a72b53f01707dae5"
       ],
       "layout": "IPY_MODEL_b4cfa0c322b449febe23f604a956c2a7"
      }
     },
     "08bf1e48879f4a6abe0d3634a267ff8a": {
      "model_module": "@jupyter-widgets/controls",
      "model_module_version": "2.0.0",
      "model_name": "FloatProgressModel",
      "state": {
       "bar_style": "success",
       "layout": "IPY_MODEL_61593dd251244eb3b81f9e3842d31be3",
       "max": 149,
       "style": "IPY_MODEL_56c929e2b2f2486f85f6160273e711ff",
       "value": 149
      }
     },
     "08e79f2c4a224f64b2e003f1ee7ea638": {
      "model_module": "@jupyter-widgets/base",
      "model_module_version": "2.0.0",
      "model_name": "LayoutModel",
      "state": {}
     },
     "09372a219d63451e90bc660c411dd043": {
      "model_module": "@jupyter-widgets/base",
      "model_module_version": "2.0.0",
      "model_name": "LayoutModel",
      "state": {}
     },
     "093f7282c0194a5691ceabbe3b67930c": {
      "model_module": "@jupyter-widgets/base",
      "model_module_version": "2.0.0",
      "model_name": "LayoutModel",
      "state": {}
     },
     "097a87bcab524e15850998caac5fb66e": {
      "model_module": "@jupyter-widgets/controls",
      "model_module_version": "2.0.0",
      "model_name": "HTMLModel",
      "state": {
       "layout": "IPY_MODEL_f64e171bda6542eb97b838b46fd44d00",
       "style": "IPY_MODEL_5e829d2d242d4c289fb53ec2629e7283",
       "value": " 171/171 [01:19&lt;00:00,  2.16it/s]"
      }
     },
     "098605bde7994ab7a232a926d307bb5d": {
      "model_module": "@jupyter-widgets/base",
      "model_module_version": "2.0.0",
      "model_name": "LayoutModel",
      "state": {}
     },
     "09b2ecedf5494642873d035669d80302": {
      "model_module": "@jupyter-widgets/controls",
      "model_module_version": "2.0.0",
      "model_name": "ProgressStyleModel",
      "state": {
       "description_width": ""
      }
     },
     "09db422b53c14317903bcb973eea7d0a": {
      "model_module": "@jupyter-widgets/controls",
      "model_module_version": "2.0.0",
      "model_name": "HBoxModel",
      "state": {
       "children": [
        "IPY_MODEL_804df257c6504dc1b06b0b34ff0ee3e5",
        "IPY_MODEL_94b33f12240e489ea5a7b23d1f379215",
        "IPY_MODEL_732455ea1ac145dea9c8e6e592d92dbe"
       ],
       "layout": "IPY_MODEL_441380e1d70f4873a0ed481032f324a8"
      }
     },
     "09fe59d8441948bba4f1ea0edec5cb1e": {
      "model_module": "@jupyter-widgets/controls",
      "model_module_version": "2.0.0",
      "model_name": "HTMLModel",
      "state": {
       "layout": "IPY_MODEL_c525ddd87fb04619a85235ac0cd06995",
       "style": "IPY_MODEL_0f49979e923f44ffa155cfa0c46c6779",
       "value": " 264/264 [01:59&lt;00:00,  2.15it/s]"
      }
     },
     "0a33013c4fca446a9ac40ff1b1b62e0d": {
      "model_module": "@jupyter-widgets/controls",
      "model_module_version": "2.0.0",
      "model_name": "HTMLStyleModel",
      "state": {
       "description_width": "",
       "font_size": null,
       "text_color": null
      }
     },
     "0a4ba01013ca4d249dcbf5c5f679390d": {
      "model_module": "@jupyter-widgets/base",
      "model_module_version": "2.0.0",
      "model_name": "LayoutModel",
      "state": {}
     },
     "0aa9f445af9c47818513e0eeaa081ae9": {
      "model_module": "@jupyter-widgets/controls",
      "model_module_version": "2.0.0",
      "model_name": "HTMLModel",
      "state": {
       "layout": "IPY_MODEL_4c893bbb77d84170a7a0ce7820323ffe",
       "style": "IPY_MODEL_571c6709e0874d1ca7e9b4f232d81c31",
       "value": "100%"
      }
     },
     "0af48f9a22a14eeb93ccbad9144baeae": {
      "model_module": "@jupyter-widgets/controls",
      "model_module_version": "2.0.0",
      "model_name": "HBoxModel",
      "state": {
       "children": [
        "IPY_MODEL_ec4d1300c8134dacbb058c257af7a9c9",
        "IPY_MODEL_505626e406644d08976d16cc90a53b24",
        "IPY_MODEL_75dfadc7d3094764a90508afd29a7a4a"
       ],
       "layout": "IPY_MODEL_8699aa9133b0441b98212bb993ca48b8"
      }
     },
     "0af779d52181492e96502251e040d268": {
      "model_module": "@jupyter-widgets/controls",
      "model_module_version": "2.0.0",
      "model_name": "HTMLModel",
      "state": {
       "layout": "IPY_MODEL_8763897b317e4bb68515c64eabea52bb",
       "style": "IPY_MODEL_d968f77d96ca4076b392b639d05f0342",
       "value": " 335/335 [02:37&lt;00:00,  2.07it/s]"
      }
     },
     "0b08f7051d93437387935b7a615d42e9": {
      "model_module": "@jupyter-widgets/base",
      "model_module_version": "2.0.0",
      "model_name": "LayoutModel",
      "state": {}
     },
     "0b177a1e881940c0baaa92cd558ed2f5": {
      "model_module": "@jupyter-widgets/controls",
      "model_module_version": "2.0.0",
      "model_name": "ProgressStyleModel",
      "state": {
       "description_width": ""
      }
     },
     "0b301877ae624e1f972670994f5cb469": {
      "model_module": "@jupyter-widgets/controls",
      "model_module_version": "2.0.0",
      "model_name": "HTMLModel",
      "state": {
       "layout": "IPY_MODEL_7ba4b152f2554988bb695371f1aa6a37",
       "style": "IPY_MODEL_d4150fc0e6244e789afe22ff102162e8",
       "value": " 180/180 [01:21&lt;00:00,  2.19it/s]"
      }
     },
     "0b63a40e48084e1f909e35aa13a06cd3": {
      "model_module": "@jupyter-widgets/base",
      "model_module_version": "2.0.0",
      "model_name": "LayoutModel",
      "state": {}
     },
     "0b744279839640d381e1d24e747df3f0": {
      "model_module": "@jupyter-widgets/controls",
      "model_module_version": "2.0.0",
      "model_name": "HTMLStyleModel",
      "state": {
       "description_width": "",
       "font_size": null,
       "text_color": null
      }
     },
     "0b7837fcc78844bc95d561845a7a0efe": {
      "model_module": "@jupyter-widgets/base",
      "model_module_version": "2.0.0",
      "model_name": "LayoutModel",
      "state": {}
     },
     "0b8de89a359f491098e337b4619cb19b": {
      "model_module": "@jupyter-widgets/base",
      "model_module_version": "2.0.0",
      "model_name": "LayoutModel",
      "state": {}
     },
     "0baa7417d7dc4451a95b9715db1d92f2": {
      "model_module": "@jupyter-widgets/base",
      "model_module_version": "2.0.0",
      "model_name": "LayoutModel",
      "state": {}
     },
     "0bcaf8774bce40b0be99eed1f880a69e": {
      "model_module": "@jupyter-widgets/base",
      "model_module_version": "2.0.0",
      "model_name": "LayoutModel",
      "state": {}
     },
     "0c1830ee34cf403e8c59642659ec2f51": {
      "model_module": "@jupyter-widgets/base",
      "model_module_version": "2.0.0",
      "model_name": "LayoutModel",
      "state": {}
     },
     "0c350a38c6e14727a86a6c81e0ff97c5": {
      "model_module": "@jupyter-widgets/base",
      "model_module_version": "2.0.0",
      "model_name": "LayoutModel",
      "state": {}
     },
     "0c3677b886f34926be8c8840ae52df9b": {
      "model_module": "@jupyter-widgets/controls",
      "model_module_version": "2.0.0",
      "model_name": "HTMLModel",
      "state": {
       "layout": "IPY_MODEL_b5ec47f999c34404933e2e4126650aa3",
       "style": "IPY_MODEL_a8f8aa5b996b451face0588e3e4cc55c",
       "value": " 149/149 [01:08&lt;00:00,  2.21it/s]"
      }
     },
     "0c6046a3a0cb47e5a3c69defd80ef812": {
      "model_module": "@jupyter-widgets/controls",
      "model_module_version": "2.0.0",
      "model_name": "HTMLModel",
      "state": {
       "layout": "IPY_MODEL_c1766c5be54b46c4a6daf29baa36f0ee",
       "style": "IPY_MODEL_2085cad23113491b802cf4b2fe72bc33",
       "value": "100%"
      }
     },
     "0cc6314366994b7da07bb029d3c7899e": {
      "model_module": "@jupyter-widgets/controls",
      "model_module_version": "2.0.0",
      "model_name": "ProgressStyleModel",
      "state": {
       "description_width": ""
      }
     },
     "0d1493787a2641baa10b65340fbf8999": {
      "model_module": "@jupyter-widgets/base",
      "model_module_version": "2.0.0",
      "model_name": "LayoutModel",
      "state": {}
     },
     "0d1c114ef0b34c2e82dafd76bbcec4ad": {
      "model_module": "@jupyter-widgets/controls",
      "model_module_version": "2.0.0",
      "model_name": "HTMLStyleModel",
      "state": {
       "description_width": "",
       "font_size": null,
       "text_color": null
      }
     },
     "0d30fd3a30344d04a14a7a5462ec68d3": {
      "model_module": "@jupyter-widgets/base",
      "model_module_version": "2.0.0",
      "model_name": "LayoutModel",
      "state": {}
     },
     "0d94505901fb420dac2293c79432c000": {
      "model_module": "@jupyter-widgets/controls",
      "model_module_version": "2.0.0",
      "model_name": "HTMLModel",
      "state": {
       "layout": "IPY_MODEL_f51622b6e9314e549b9bdb63d0801d8b",
       "style": "IPY_MODEL_9ff5f0db41314656b151718c4fc86537",
       "value": " 107/107 [00:50&lt;00:00,  2.18it/s]"
      }
     },
     "0d9f6884b0014c3d9ff51549e46d8a77": {
      "model_module": "@jupyter-widgets/controls",
      "model_module_version": "2.0.0",
      "model_name": "HTMLStyleModel",
      "state": {
       "description_width": "",
       "font_size": null,
       "text_color": null
      }
     },
     "0e30dfa82ae94a52a7d430de6cd6a75d": {
      "model_module": "@jupyter-widgets/controls",
      "model_module_version": "2.0.0",
      "model_name": "HTMLModel",
      "state": {
       "layout": "IPY_MODEL_4f93212902694842aeaf799a150d104e",
       "style": "IPY_MODEL_0ee5459b5536440e8d1e98e068dbc084",
       "value": "100%"
      }
     },
     "0e34a9e5e7d14c34863ec74cb8817b28": {
      "model_module": "@jupyter-widgets/controls",
      "model_module_version": "2.0.0",
      "model_name": "FloatProgressModel",
      "state": {
       "bar_style": "success",
       "layout": "IPY_MODEL_7d13d83b1e364ffdb553f32cd6c20af0",
       "max": 232,
       "style": "IPY_MODEL_135a8c614b6b43e28a53076ba1c06be1",
       "value": 232
      }
     },
     "0e6066d0ae834bf39f17235686599383": {
      "model_module": "@jupyter-widgets/controls",
      "model_module_version": "2.0.0",
      "model_name": "HTMLStyleModel",
      "state": {
       "description_width": "",
       "font_size": null,
       "text_color": null
      }
     },
     "0e79897bee75452e93f97e1debe6541e": {
      "model_module": "@jupyter-widgets/controls",
      "model_module_version": "2.0.0",
      "model_name": "HBoxModel",
      "state": {
       "children": [
        "IPY_MODEL_92f338783e3741efa0c3434127824770",
        "IPY_MODEL_a86a031e59b54498889ee211eeae391a",
        "IPY_MODEL_496ef78ec161485d9290787e1d30e0f6"
       ],
       "layout": "IPY_MODEL_dc69d6a1e5b04d8d8766bd6a78071fe3"
      }
     },
     "0e9fe9e792d849fcac458e62e23a8229": {
      "model_module": "@jupyter-widgets/controls",
      "model_module_version": "2.0.0",
      "model_name": "FloatProgressModel",
      "state": {
       "bar_style": "success",
       "layout": "IPY_MODEL_500ff08fb7d044459cb780afffbd9da8",
       "max": 94,
       "style": "IPY_MODEL_4784fcc6057c4e2d9672c63863de932d",
       "value": 94
      }
     },
     "0eb0490a5b3148779a51f630172d9efc": {
      "model_module": "@jupyter-widgets/base",
      "model_module_version": "2.0.0",
      "model_name": "LayoutModel",
      "state": {}
     },
     "0ee5459b5536440e8d1e98e068dbc084": {
      "model_module": "@jupyter-widgets/controls",
      "model_module_version": "2.0.0",
      "model_name": "HTMLStyleModel",
      "state": {
       "description_width": "",
       "font_size": null,
       "text_color": null
      }
     },
     "0ef131a6c7fa4ecd87023ff31cdc5b84": {
      "model_module": "@jupyter-widgets/controls",
      "model_module_version": "2.0.0",
      "model_name": "FloatProgressModel",
      "state": {
       "bar_style": "success",
       "layout": "IPY_MODEL_20895fc14451482798b12a3d6c95f3a9",
       "max": 241,
       "style": "IPY_MODEL_10598ca50fb049a681e2fdd72df6c45d",
       "value": 241
      }
     },
     "0f49979e923f44ffa155cfa0c46c6779": {
      "model_module": "@jupyter-widgets/controls",
      "model_module_version": "2.0.0",
      "model_name": "HTMLStyleModel",
      "state": {
       "description_width": "",
       "font_size": null,
       "text_color": null
      }
     },
     "0f66a54c8bca47ea9044d92b0581b110": {
      "model_module": "@jupyter-widgets/controls",
      "model_module_version": "2.0.0",
      "model_name": "HTMLModel",
      "state": {
       "layout": "IPY_MODEL_407169e946e64bbd855edf329fae8bfd",
       "style": "IPY_MODEL_9b49f3f3ba3e4b8b98ced90215401829",
       "value": " 378/378 [03:03&lt;00:00,  2.10it/s]"
      }
     },
     "0f7a4e5ec5b6496a8ad276720ec3d94a": {
      "model_module": "@jupyter-widgets/controls",
      "model_module_version": "2.0.0",
      "model_name": "FloatProgressModel",
      "state": {
       "bar_style": "success",
       "layout": "IPY_MODEL_e36bfc11952f4ea583f78393315fbf1a",
       "max": 180,
       "style": "IPY_MODEL_448b564a63b64e76b86a6d1d242e375e",
       "value": 180
      }
     },
     "0f86d39b96cb456386fc5f84e0647663": {
      "model_module": "@jupyter-widgets/base",
      "model_module_version": "2.0.0",
      "model_name": "LayoutModel",
      "state": {}
     },
     "0f9c1dc6dc384cbf9d5c002b82cf3540": {
      "model_module": "@jupyter-widgets/controls",
      "model_module_version": "2.0.0",
      "model_name": "FloatProgressModel",
      "state": {
       "bar_style": "success",
       "layout": "IPY_MODEL_098605bde7994ab7a232a926d307bb5d",
       "max": 162,
       "style": "IPY_MODEL_9029992a4bd54c8e95d8f3272e3863d3",
       "value": 162
      }
     },
     "1012a49e37de41d2a4ee99434fb339a8": {
      "model_module": "@jupyter-widgets/controls",
      "model_module_version": "2.0.0",
      "model_name": "ProgressStyleModel",
      "state": {
       "description_width": ""
      }
     },
     "1030332cb37449b987f6be3d859ed20f": {
      "model_module": "@jupyter-widgets/controls",
      "model_module_version": "2.0.0",
      "model_name": "ProgressStyleModel",
      "state": {
       "description_width": ""
      }
     },
     "10560e845cc94f67a22cdd9a620030c8": {
      "model_module": "@jupyter-widgets/controls",
      "model_module_version": "2.0.0",
      "model_name": "HTMLModel",
      "state": {
       "layout": "IPY_MODEL_507dc7ea3b1f4afaa07ebf46fdce49d4",
       "style": "IPY_MODEL_b7c7ac3a2bab406894106e464b0848f0",
       "value": "100%"
      }
     },
     "10598ca50fb049a681e2fdd72df6c45d": {
      "model_module": "@jupyter-widgets/controls",
      "model_module_version": "2.0.0",
      "model_name": "ProgressStyleModel",
      "state": {
       "description_width": ""
      }
     },
     "1064154611294f18b7c31d68ff50be73": {
      "model_module": "@jupyter-widgets/base",
      "model_module_version": "2.0.0",
      "model_name": "LayoutModel",
      "state": {}
     },
     "10971f75696643009dccbcb7e07e3108": {
      "model_module": "@jupyter-widgets/controls",
      "model_module_version": "2.0.0",
      "model_name": "HBoxModel",
      "state": {
       "children": [
        "IPY_MODEL_53974af1b75947be9f03f956a894f532",
        "IPY_MODEL_f5ba8db58a654b0b9f94ec8a96b03dc5",
        "IPY_MODEL_0b301877ae624e1f972670994f5cb469"
       ],
       "layout": "IPY_MODEL_953029e390684a9bb66c50b9eaba4b5d"
      }
     },
     "10d4123a8934423eaa6ce27109bb82d6": {
      "model_module": "@jupyter-widgets/controls",
      "model_module_version": "2.0.0",
      "model_name": "HTMLModel",
      "state": {
       "layout": "IPY_MODEL_f350e6984bf8496eaa3a4937edfad6fe",
       "style": "IPY_MODEL_a914f75b31764c30836f861033fa4566",
       "value": " 212/212 [01:39&lt;00:00,  2.13it/s]"
      }
     },
     "1156679dd5db4de482cbd8be47d5dcd0": {
      "model_module": "@jupyter-widgets/base",
      "model_module_version": "2.0.0",
      "model_name": "LayoutModel",
      "state": {}
     },
     "11630ddc5c564bb6931a599255bd1f6a": {
      "model_module": "@jupyter-widgets/base",
      "model_module_version": "2.0.0",
      "model_name": "LayoutModel",
      "state": {}
     },
     "11655e1adfe142b6b7f7ac69f6824221": {
      "model_module": "@jupyter-widgets/base",
      "model_module_version": "2.0.0",
      "model_name": "LayoutModel",
      "state": {}
     },
     "1182fc0c51cf4ce1885d9e2ca388be73": {
      "model_module": "@jupyter-widgets/controls",
      "model_module_version": "2.0.0",
      "model_name": "ProgressStyleModel",
      "state": {
       "description_width": ""
      }
     },
     "118899d84b9a41a08f029e94b9fa3eba": {
      "model_module": "@jupyter-widgets/controls",
      "model_module_version": "2.0.0",
      "model_name": "HBoxModel",
      "state": {
       "children": [
        "IPY_MODEL_5b41d210413a485985e4265e66350d1e",
        "IPY_MODEL_d5a2e58544214a66bc7cbe6921417fb1",
        "IPY_MODEL_42f679e92abd4232ba1f7960778cf950"
       ],
       "layout": "IPY_MODEL_8347874a4fb5476b9c9273ffe0715c49"
      }
     },
     "1195e8091e524f0e8988827bd60d256c": {
      "model_module": "@jupyter-widgets/base",
      "model_module_version": "2.0.0",
      "model_name": "LayoutModel",
      "state": {}
     },
     "11dd43a5fd6242d2be1b17e5c3b6ebf4": {
      "model_module": "@jupyter-widgets/base",
      "model_module_version": "2.0.0",
      "model_name": "LayoutModel",
      "state": {}
     },
     "1205f264f56c48f3ba65055fcc289c7d": {
      "model_module": "@jupyter-widgets/base",
      "model_module_version": "2.0.0",
      "model_name": "LayoutModel",
      "state": {}
     },
     "1256c97312294e7384f51c01f01898bc": {
      "model_module": "@jupyter-widgets/controls",
      "model_module_version": "2.0.0",
      "model_name": "HTMLModel",
      "state": {
       "layout": "IPY_MODEL_95a98daffb5c43e09de76794e34fee62",
       "style": "IPY_MODEL_318c39539c3249c49578a1197e25f1d8",
       "value": " 300/300 [02:38&lt;00:00,  1.99it/s]"
      }
     },
     "126d1c859a1c4e139c29289f0384b86d": {
      "model_module": "@jupyter-widgets/base",
      "model_module_version": "2.0.0",
      "model_name": "LayoutModel",
      "state": {}
     },
     "1312e66833b641e69887d93a155a3a0c": {
      "model_module": "@jupyter-widgets/base",
      "model_module_version": "2.0.0",
      "model_name": "LayoutModel",
      "state": {}
     },
     "1318607d6e12498b800b3ad429a4b507": {
      "model_module": "@jupyter-widgets/controls",
      "model_module_version": "2.0.0",
      "model_name": "ProgressStyleModel",
      "state": {
       "description_width": ""
      }
     },
     "13225cf0011749fda430f8abf821125a": {
      "model_module": "@jupyter-widgets/controls",
      "model_module_version": "2.0.0",
      "model_name": "HTMLStyleModel",
      "state": {
       "description_width": "",
       "font_size": null,
       "text_color": null
      }
     },
     "135a8c614b6b43e28a53076ba1c06be1": {
      "model_module": "@jupyter-widgets/controls",
      "model_module_version": "2.0.0",
      "model_name": "ProgressStyleModel",
      "state": {
       "description_width": ""
      }
     },
     "1369bdb83d0c4e4ba3b0cce393dd5dee": {
      "model_module": "@jupyter-widgets/base",
      "model_module_version": "2.0.0",
      "model_name": "LayoutModel",
      "state": {}
     },
     "137ed87235594650945f035ac27cbb2b": {
      "model_module": "@jupyter-widgets/controls",
      "model_module_version": "2.0.0",
      "model_name": "HTMLStyleModel",
      "state": {
       "description_width": "",
       "font_size": null,
       "text_color": null
      }
     },
     "14b298b504134b8aa15ee00a49a9c024": {
      "model_module": "@jupyter-widgets/base",
      "model_module_version": "2.0.0",
      "model_name": "LayoutModel",
      "state": {}
     },
     "14d56654037449799a1e3cf52bf0dc88": {
      "model_module": "@jupyter-widgets/controls",
      "model_module_version": "2.0.0",
      "model_name": "HTMLModel",
      "state": {
       "layout": "IPY_MODEL_512a52e9afb94309af8f8e17b2f9309a",
       "style": "IPY_MODEL_aa2dc421eb1d4ef7957640dca019ab33",
       "value": "100%"
      }
     },
     "15109921b4e14f31babb005b621595cf": {
      "model_module": "@jupyter-widgets/controls",
      "model_module_version": "2.0.0",
      "model_name": "HTMLStyleModel",
      "state": {
       "description_width": "",
       "font_size": null,
       "text_color": null
      }
     },
     "15751784e5844f9dbcab6d3eccef86c5": {
      "model_module": "@jupyter-widgets/controls",
      "model_module_version": "2.0.0",
      "model_name": "HTMLModel",
      "state": {
       "layout": "IPY_MODEL_1809080face14dd89281918bd0a725d7",
       "style": "IPY_MODEL_5c989b77b661419bb5f116f60eebe35a",
       "value": "100%"
      }
     },
     "15d2db0151344932a62efeac79d24b64": {
      "model_module": "@jupyter-widgets/controls",
      "model_module_version": "2.0.0",
      "model_name": "HBoxModel",
      "state": {
       "children": [
        "IPY_MODEL_f7bd8dc0b97843a9b976f4279110f504",
        "IPY_MODEL_b393497532e74935979d53ba7e13740b",
        "IPY_MODEL_c99e5519b66745688bb21c497fd0f634"
       ],
       "layout": "IPY_MODEL_ac6e2658906a4af18d602b1e52b5aafa"
      }
     },
     "163798ee2056479d92e27df6a0c05cd4": {
      "model_module": "@jupyter-widgets/base",
      "model_module_version": "2.0.0",
      "model_name": "LayoutModel",
      "state": {}
     },
     "1639048ffc304879830341daf3ba3d41": {
      "model_module": "@jupyter-widgets/base",
      "model_module_version": "2.0.0",
      "model_name": "LayoutModel",
      "state": {}
     },
     "163bf77d86a84828b54e2e5286fef8a8": {
      "model_module": "@jupyter-widgets/base",
      "model_module_version": "2.0.0",
      "model_name": "LayoutModel",
      "state": {}
     },
     "166a4f4f54d2416cbe393d85d66c9127": {
      "model_module": "@jupyter-widgets/controls",
      "model_module_version": "2.0.0",
      "model_name": "HTMLStyleModel",
      "state": {
       "description_width": "",
       "font_size": null,
       "text_color": null
      }
     },
     "167642d4f2574ccc83814c219d759b3a": {
      "model_module": "@jupyter-widgets/controls",
      "model_module_version": "2.0.0",
      "model_name": "FloatProgressModel",
      "state": {
       "bar_style": "success",
       "layout": "IPY_MODEL_69b2ce17b125414a80405a12f12a95c8",
       "max": 180,
       "style": "IPY_MODEL_01197d12bb464aafbceb7408ef898958",
       "value": 180
      }
     },
     "16c193f2c7bf40c3b21929e0d87cd5e1": {
      "model_module": "@jupyter-widgets/controls",
      "model_module_version": "2.0.0",
      "model_name": "HTMLStyleModel",
      "state": {
       "description_width": "",
       "font_size": null,
       "text_color": null
      }
     },
     "16d27faf8fd04a468ad886466d87cffd": {
      "model_module": "@jupyter-widgets/base",
      "model_module_version": "2.0.0",
      "model_name": "LayoutModel",
      "state": {}
     },
     "1754dbe2a86740458fcb57ba77081ae3": {
      "model_module": "@jupyter-widgets/base",
      "model_module_version": "2.0.0",
      "model_name": "LayoutModel",
      "state": {}
     },
     "17704388117143c08115475e224ddedc": {
      "model_module": "@jupyter-widgets/base",
      "model_module_version": "2.0.0",
      "model_name": "LayoutModel",
      "state": {}
     },
     "1791fc0149df4b49b4ac38a44f95e1e6": {
      "model_module": "@jupyter-widgets/base",
      "model_module_version": "2.0.0",
      "model_name": "LayoutModel",
      "state": {}
     },
     "17d1238732074154b2f51057ccaddce7": {
      "model_module": "@jupyter-widgets/controls",
      "model_module_version": "2.0.0",
      "model_name": "HTMLStyleModel",
      "state": {
       "description_width": "",
       "font_size": null,
       "text_color": null
      }
     },
     "18065b0a99cf44f88566a43e0d8c33e3": {
      "model_module": "@jupyter-widgets/controls",
      "model_module_version": "2.0.0",
      "model_name": "HBoxModel",
      "state": {
       "children": [
        "IPY_MODEL_c89b9b5adaa44f94ba5175b5f355796f",
        "IPY_MODEL_51bbbd55a0c34c22a9a405274d2b0a10",
        "IPY_MODEL_961c940d4dda47a6afd5330bc1634c07"
       ],
       "layout": "IPY_MODEL_f867503ed4214ad9a37ddd8d5a02cccd"
      }
     },
     "1809080face14dd89281918bd0a725d7": {
      "model_module": "@jupyter-widgets/base",
      "model_module_version": "2.0.0",
      "model_name": "LayoutModel",
      "state": {}
     },
     "1824d41d88e943aba8662c6fb0199678": {
      "model_module": "@jupyter-widgets/base",
      "model_module_version": "2.0.0",
      "model_name": "LayoutModel",
      "state": {}
     },
     "1826890a1e6e43b689f3932895f7beaa": {
      "model_module": "@jupyter-widgets/controls",
      "model_module_version": "2.0.0",
      "model_name": "HTMLStyleModel",
      "state": {
       "description_width": "",
       "font_size": null,
       "text_color": null
      }
     },
     "18295d35281245359aa16cbce0fb88d1": {
      "model_module": "@jupyter-widgets/controls",
      "model_module_version": "2.0.0",
      "model_name": "HTMLStyleModel",
      "state": {
       "description_width": "",
       "font_size": null,
       "text_color": null
      }
     },
     "184fd3196dd74ecea324dcf414d268f9": {
      "model_module": "@jupyter-widgets/base",
      "model_module_version": "2.0.0",
      "model_name": "LayoutModel",
      "state": {}
     },
     "186deec987fd4802a2c29e6ea2d4a82a": {
      "model_module": "@jupyter-widgets/controls",
      "model_module_version": "2.0.0",
      "model_name": "HTMLStyleModel",
      "state": {
       "description_width": "",
       "font_size": null,
       "text_color": null
      }
     },
     "1887f7ddf56e482bbd0edbc6f1d94f0f": {
      "model_module": "@jupyter-widgets/controls",
      "model_module_version": "2.0.0",
      "model_name": "ProgressStyleModel",
      "state": {
       "description_width": ""
      }
     },
     "18ef89547133429290441067189be16d": {
      "model_module": "@jupyter-widgets/controls",
      "model_module_version": "2.0.0",
      "model_name": "HTMLStyleModel",
      "state": {
       "description_width": "",
       "font_size": null,
       "text_color": null
      }
     },
     "1910656b33bf4aa688d6300899dfc21d": {
      "model_module": "@jupyter-widgets/base",
      "model_module_version": "2.0.0",
      "model_name": "LayoutModel",
      "state": {}
     },
     "1918428f064542d4be8084c0e669db5c": {
      "model_module": "@jupyter-widgets/controls",
      "model_module_version": "2.0.0",
      "model_name": "HTMLStyleModel",
      "state": {
       "description_width": "",
       "font_size": null,
       "text_color": null
      }
     },
     "191889ed51314ac2a1de6950f34f70f2": {
      "model_module": "@jupyter-widgets/base",
      "model_module_version": "2.0.0",
      "model_name": "LayoutModel",
      "state": {}
     },
     "1924a9c8b76149dab3a7036db831a32f": {
      "model_module": "@jupyter-widgets/base",
      "model_module_version": "2.0.0",
      "model_name": "LayoutModel",
      "state": {}
     },
     "1992379675394bab9126947f344ad23a": {
      "model_module": "@jupyter-widgets/controls",
      "model_module_version": "2.0.0",
      "model_name": "HTMLStyleModel",
      "state": {
       "description_width": "",
       "font_size": null,
       "text_color": null
      }
     },
     "19a17c9ccafb4bb5a72133a708f5dd83": {
      "model_module": "@jupyter-widgets/controls",
      "model_module_version": "2.0.0",
      "model_name": "HTMLStyleModel",
      "state": {
       "description_width": "",
       "font_size": null,
       "text_color": null
      }
     },
     "19db92a760ae4f41b0189fb70cecb951": {
      "model_module": "@jupyter-widgets/controls",
      "model_module_version": "2.0.0",
      "model_name": "HTMLStyleModel",
      "state": {
       "description_width": "",
       "font_size": null,
       "text_color": null
      }
     },
     "1a02f0e532f744cd80e7a91510a22654": {
      "model_module": "@jupyter-widgets/controls",
      "model_module_version": "2.0.0",
      "model_name": "HTMLModel",
      "state": {
       "layout": "IPY_MODEL_71ce3a4fa2044a7f976004a6d11e7861",
       "style": "IPY_MODEL_f1f29c5743674cf88222496de01cf168",
       "value": " 344/344 [03:22&lt;00:00,  2.01it/s]"
      }
     },
     "1a0fab813e7b4772b7ab22175c190427": {
      "model_module": "@jupyter-widgets/controls",
      "model_module_version": "2.0.0",
      "model_name": "HTMLStyleModel",
      "state": {
       "description_width": "",
       "font_size": null,
       "text_color": null
      }
     },
     "1a15ce1647f34aa59b1363c351b97ef7": {
      "model_module": "@jupyter-widgets/controls",
      "model_module_version": "2.0.0",
      "model_name": "FloatProgressModel",
      "state": {
       "bar_style": "success",
       "layout": "IPY_MODEL_36f74f04f70843a6a48f57f9c6dbcff2",
       "max": 162,
       "style": "IPY_MODEL_41c1eb918ed8479b8fefad711245a0fe",
       "value": 162
      }
     },
     "1a568ef1cc16466480e036188b2ffd0b": {
      "model_module": "@jupyter-widgets/controls",
      "model_module_version": "2.0.0",
      "model_name": "HBoxModel",
      "state": {
       "children": [
        "IPY_MODEL_b2c029ea580c4f4f8d6cb3e640865410",
        "IPY_MODEL_45ecf53190d943c7852950bce1d553f2",
        "IPY_MODEL_3705c3a83e0e40d2a39cb5ab6edd046e"
       ],
       "layout": "IPY_MODEL_9515fa87600f4cd5bcdd2dd6b0876bbf"
      }
     },
     "1ac3cbec0bd34c6ca4ed116b7442b005": {
      "model_module": "@jupyter-widgets/base",
      "model_module_version": "2.0.0",
      "model_name": "LayoutModel",
      "state": {}
     },
     "1af51cc2be8c4d318e7fb1744f3fdb9b": {
      "model_module": "@jupyter-widgets/base",
      "model_module_version": "2.0.0",
      "model_name": "LayoutModel",
      "state": {}
     },
     "1b81a5f4e146421cb4a290b3613e2d12": {
      "model_module": "@jupyter-widgets/controls",
      "model_module_version": "2.0.0",
      "model_name": "HTMLModel",
      "state": {
       "layout": "IPY_MODEL_1ac3cbec0bd34c6ca4ed116b7442b005",
       "style": "IPY_MODEL_3f37be2100094d259a9a5926d13b0e2b",
       "value": "100%"
      }
     },
     "1ba0e69400324ca487357796b0800501": {
      "model_module": "@jupyter-widgets/controls",
      "model_module_version": "2.0.0",
      "model_name": "FloatProgressModel",
      "state": {
       "bar_style": "success",
       "layout": "IPY_MODEL_e71e6dccab694718bfc19ef271333e51",
       "max": 132,
       "style": "IPY_MODEL_5bea3791713a457b8efec526c421b11c",
       "value": 132
      }
     },
     "1bdb8081814c4757867e7e788fb9c550": {
      "model_module": "@jupyter-widgets/controls",
      "model_module_version": "2.0.0",
      "model_name": "HTMLModel",
      "state": {
       "layout": "IPY_MODEL_7822194361e54260957a71c904e1dbd2",
       "style": "IPY_MODEL_e564fb8b2f514aaf8045f181278917a5",
       "value": " 380/380 [02:54&lt;00:00,  2.23it/s]"
      }
     },
     "1bf4401f86374b9c87db43bf7705523c": {
      "model_module": "@jupyter-widgets/base",
      "model_module_version": "2.0.0",
      "model_name": "LayoutModel",
      "state": {}
     },
     "1c4410dde7024886a9baa8f624db969c": {
      "model_module": "@jupyter-widgets/controls",
      "model_module_version": "2.0.0",
      "model_name": "HTMLStyleModel",
      "state": {
       "description_width": "",
       "font_size": null,
       "text_color": null
      }
     },
     "1c4db688bbe74d098937b33a97df02d3": {
      "model_module": "@jupyter-widgets/controls",
      "model_module_version": "2.0.0",
      "model_name": "HBoxModel",
      "state": {
       "children": [
        "IPY_MODEL_069c3021b0194ebd9d78c838fca99daa",
        "IPY_MODEL_fc330d6f9359449f8d61aabe5e10994c",
        "IPY_MODEL_ddc5112f0c244d6e9d83025244f738e8"
       ],
       "layout": "IPY_MODEL_2979fe9aedce40fdbfdb67874a70c8d9"
      }
     },
     "1c625f722e2c4b3281260e78064e6c6d": {
      "model_module": "@jupyter-widgets/base",
      "model_module_version": "2.0.0",
      "model_name": "LayoutModel",
      "state": {}
     },
     "1c794df6c9594ae78a2a24cfc299cf70": {
      "model_module": "@jupyter-widgets/controls",
      "model_module_version": "2.0.0",
      "model_name": "HTMLModel",
      "state": {
       "layout": "IPY_MODEL_e1a6864a55dd4b34b52d2895662bd558",
       "style": "IPY_MODEL_ea6682ef0a9446929dbc60bd144a51d6",
       "value": "100%"
      }
     },
     "1c927909075843dfbeb96f79319f1396": {
      "model_module": "@jupyter-widgets/controls",
      "model_module_version": "2.0.0",
      "model_name": "HBoxModel",
      "state": {
       "children": [
        "IPY_MODEL_22ce6966ec8b435094fe79bcbb88f61d",
        "IPY_MODEL_7260af2415e648fc8ae5b8ff05823950",
        "IPY_MODEL_e36ee53312ec4ed9ba09f2876be0d77c"
       ],
       "layout": "IPY_MODEL_f0f334b995c9498ea0cf60d86529917d"
      }
     },
     "1cbbbaf110da42bcb2ea40229520f163": {
      "model_module": "@jupyter-widgets/controls",
      "model_module_version": "2.0.0",
      "model_name": "HTMLStyleModel",
      "state": {
       "description_width": "",
       "font_size": null,
       "text_color": null
      }
     },
     "1ce2dc7df1a6440fa35528b47fe57669": {
      "model_module": "@jupyter-widgets/base",
      "model_module_version": "2.0.0",
      "model_name": "LayoutModel",
      "state": {}
     },
     "1d1cf4af58b04a5dba7921d9b681fd7f": {
      "model_module": "@jupyter-widgets/base",
      "model_module_version": "2.0.0",
      "model_name": "LayoutModel",
      "state": {}
     },
     "1d30cae0ce1146ad9d8d06ecdc0e5fc3": {
      "model_module": "@jupyter-widgets/controls",
      "model_module_version": "2.0.0",
      "model_name": "ProgressStyleModel",
      "state": {
       "description_width": ""
      }
     },
     "1d821838c2cb4aa38c04668f1b6b974b": {
      "model_module": "@jupyter-widgets/base",
      "model_module_version": "2.0.0",
      "model_name": "LayoutModel",
      "state": {}
     },
     "1dbdada1b0ab45b8a0d53b6055971c8a": {
      "model_module": "@jupyter-widgets/controls",
      "model_module_version": "2.0.0",
      "model_name": "ProgressStyleModel",
      "state": {
       "description_width": ""
      }
     },
     "1de0ad53ddee4093a9d96f369f5bc3fb": {
      "model_module": "@jupyter-widgets/controls",
      "model_module_version": "2.0.0",
      "model_name": "HTMLStyleModel",
      "state": {
       "description_width": "",
       "font_size": null,
       "text_color": null
      }
     },
     "1e109ba8749f41a2bf2814dab2ac6703": {
      "model_module": "@jupyter-widgets/base",
      "model_module_version": "2.0.0",
      "model_name": "LayoutModel",
      "state": {}
     },
     "1e1b2b519a7341b89140418aebbeac37": {
      "model_module": "@jupyter-widgets/controls",
      "model_module_version": "2.0.0",
      "model_name": "HTMLModel",
      "state": {
       "layout": "IPY_MODEL_b584dfd439f64d4d88f4e1b201bd1f6c",
       "style": "IPY_MODEL_dfa1dee168ab453d8b03a8bacdfa333e",
       "value": "100%"
      }
     },
     "1e8a8dc097994f4a8a662fcb18105b8f": {
      "model_module": "@jupyter-widgets/controls",
      "model_module_version": "2.0.0",
      "model_name": "HTMLModel",
      "state": {
       "layout": "IPY_MODEL_90e39e7ab5654f10955ab8818d8a2560",
       "style": "IPY_MODEL_bffa7064c17441018ffd22a952dd3776",
       "value": " 380/380 [02:55&lt;00:00,  2.17it/s]"
      }
     },
     "1ece10126a124b55963dcb72a0819190": {
      "model_module": "@jupyter-widgets/base",
      "model_module_version": "2.0.0",
      "model_name": "LayoutModel",
      "state": {}
     },
     "1ede5d65a7384f11a966e0fd498a8a6a": {
      "model_module": "@jupyter-widgets/controls",
      "model_module_version": "2.0.0",
      "model_name": "HTMLModel",
      "state": {
       "layout": "IPY_MODEL_35d6d58711d047c9941c0061bb499741",
       "style": "IPY_MODEL_405752c049bb472eb372fe77d60711b5",
       "value": " 242/242 [01:49&lt;00:00,  2.26it/s]"
      }
     },
     "1ee2cb395f384484bf857628329fba35": {
      "model_module": "@jupyter-widgets/base",
      "model_module_version": "2.0.0",
      "model_name": "LayoutModel",
      "state": {}
     },
     "1f2bad5f5472468aabd4a0f95a322c8b": {
      "model_module": "@jupyter-widgets/controls",
      "model_module_version": "2.0.0",
      "model_name": "HBoxModel",
      "state": {
       "children": [
        "IPY_MODEL_4bb4e2f706ac4bac8ff2610e6c7e0a23",
        "IPY_MODEL_93bba2be73a94daf9a7e7e989c558a77",
        "IPY_MODEL_d6addbae0c724c8d9abe1868aa1576bb"
       ],
       "layout": "IPY_MODEL_b5d1189352614b8baf55e51c221ed566"
      }
     },
     "1faf590cc0d44b85ab407d3e98d5895e": {
      "model_module": "@jupyter-widgets/base",
      "model_module_version": "2.0.0",
      "model_name": "LayoutModel",
      "state": {}
     },
     "1fc30df502a54f45b7fac4b79e50eeb1": {
      "model_module": "@jupyter-widgets/controls",
      "model_module_version": "2.0.0",
      "model_name": "ProgressStyleModel",
      "state": {
       "description_width": ""
      }
     },
     "203cb5e88605417ca8376652d6921665": {
      "model_module": "@jupyter-widgets/base",
      "model_module_version": "2.0.0",
      "model_name": "LayoutModel",
      "state": {}
     },
     "203f37fd3b394ddeaa3f1417b3fe67c4": {
      "model_module": "@jupyter-widgets/controls",
      "model_module_version": "2.0.0",
      "model_name": "FloatProgressModel",
      "state": {
       "bar_style": "success",
       "layout": "IPY_MODEL_9b5e2cbf2d9c42edbd62c8f9c23aaa73",
       "max": 162,
       "style": "IPY_MODEL_4b90b326cd5646b6aa9f635daeaff00f",
       "value": 162
      }
     },
     "205a5de116a6439f8b272268d0d46c56": {
      "model_module": "@jupyter-widgets/base",
      "model_module_version": "2.0.0",
      "model_name": "LayoutModel",
      "state": {}
     },
     "205da5d178bb4a44b10e8f5b3927ef11": {
      "model_module": "@jupyter-widgets/controls",
      "model_module_version": "2.0.0",
      "model_name": "HTMLModel",
      "state": {
       "layout": "IPY_MODEL_552ade25ae7d478c932813596d4d6180",
       "style": "IPY_MODEL_7c8f05d3d542474bbaf09dcc366fb70b",
       "value": " 380/380 [02:57&lt;00:00,  2.19it/s]"
      }
     },
     "2085cad23113491b802cf4b2fe72bc33": {
      "model_module": "@jupyter-widgets/controls",
      "model_module_version": "2.0.0",
      "model_name": "HTMLStyleModel",
      "state": {
       "description_width": "",
       "font_size": null,
       "text_color": null
      }
     },
     "20895fc14451482798b12a3d6c95f3a9": {
      "model_module": "@jupyter-widgets/base",
      "model_module_version": "2.0.0",
      "model_name": "LayoutModel",
      "state": {}
     },
     "20afa7425f7145ea987d5c2bbb7a8774": {
      "model_module": "@jupyter-widgets/controls",
      "model_module_version": "2.0.0",
      "model_name": "FloatProgressModel",
      "state": {
       "bar_style": "success",
       "layout": "IPY_MODEL_003e08db79df47f6a6f9fb306cf2c310",
       "max": 242,
       "style": "IPY_MODEL_67a2897ae518496e8c1f0586a3964352",
       "value": 242
      }
     },
     "20c3412a4ecc442e845d0eaadf2394e4": {
      "model_module": "@jupyter-widgets/base",
      "model_module_version": "2.0.0",
      "model_name": "LayoutModel",
      "state": {}
     },
     "21ce996e530347d691d1c061cd469541": {
      "model_module": "@jupyter-widgets/controls",
      "model_module_version": "2.0.0",
      "model_name": "HBoxModel",
      "state": {
       "children": [
        "IPY_MODEL_7b435bcd3e2a4a9d8853ad1142ed01a0",
        "IPY_MODEL_47fe81f094f44bb6be3ab47139c90826",
        "IPY_MODEL_bb051a271eba4adca147cc90890322bf"
       ],
       "layout": "IPY_MODEL_529db78138bd42378abd97a4c3f6f837"
      }
     },
     "21ec44c5298c469e84b5a57032b5b56a": {
      "model_module": "@jupyter-widgets/controls",
      "model_module_version": "2.0.0",
      "model_name": "HBoxModel",
      "state": {
       "children": [
        "IPY_MODEL_ce4d89d1140d4ffe99e17b30995aa8c2",
        "IPY_MODEL_73045a52139a4905842bcf6978f1cb8c",
        "IPY_MODEL_75872c89d01c46c6bfaf0f3b721e324a"
       ],
       "layout": "IPY_MODEL_86abfc1cfdd344c9b246f81b129d6b26"
      }
     },
     "2227928bf5f34cfcade437d439f038c0": {
      "model_module": "@jupyter-widgets/base",
      "model_module_version": "2.0.0",
      "model_name": "LayoutModel",
      "state": {}
     },
     "223fc47ae05c47399b5d5707e95c93a1": {
      "model_module": "@jupyter-widgets/controls",
      "model_module_version": "2.0.0",
      "model_name": "HTMLModel",
      "state": {
       "layout": "IPY_MODEL_3d75c79095234944aa4b5c8e7f83c9e4",
       "style": "IPY_MODEL_d66d0d73b03749529ac6263a7e6167ad",
       "value": " 242/242 [01:50&lt;00:00,  2.23it/s]"
      }
     },
     "229fc79c70884ea1844d27830b6d5693": {
      "model_module": "@jupyter-widgets/controls",
      "model_module_version": "2.0.0",
      "model_name": "ProgressStyleModel",
      "state": {
       "description_width": ""
      }
     },
     "22bef109ebdc46619a57635e83e9b5e0": {
      "model_module": "@jupyter-widgets/controls",
      "model_module_version": "2.0.0",
      "model_name": "HTMLModel",
      "state": {
       "layout": "IPY_MODEL_ba88dd0290d7482aa223597cdd95e51c",
       "style": "IPY_MODEL_7ce07ea3da1845d2803d434f1b6d959a",
       "value": "100%"
      }
     },
     "22ce6966ec8b435094fe79bcbb88f61d": {
      "model_module": "@jupyter-widgets/controls",
      "model_module_version": "2.0.0",
      "model_name": "HTMLModel",
      "state": {
       "layout": "IPY_MODEL_8a0da13fc38a4d8483f3d2ea657e9671",
       "style": "IPY_MODEL_4de0582621b041d984b93b7b4af47460",
       "value": "100%"
      }
     },
     "22f91c3f58464cf7835aa376eab60b23": {
      "model_module": "@jupyter-widgets/base",
      "model_module_version": "2.0.0",
      "model_name": "LayoutModel",
      "state": {}
     },
     "2315e3bbb8574d7daa267fb21d2d47f5": {
      "model_module": "@jupyter-widgets/base",
      "model_module_version": "2.0.0",
      "model_name": "LayoutModel",
      "state": {}
     },
     "2350e0fdd1e54161ad79ee2b4fe4226c": {
      "model_module": "@jupyter-widgets/controls",
      "model_module_version": "2.0.0",
      "model_name": "HTMLModel",
      "state": {
       "layout": "IPY_MODEL_d57a9c3b66424863a5ef79b7c18940ee",
       "style": "IPY_MODEL_15109921b4e14f31babb005b621595cf",
       "value": "100%"
      }
     },
     "2368c7b50d0c41c3af053951ba30a4fc": {
      "model_module": "@jupyter-widgets/controls",
      "model_module_version": "2.0.0",
      "model_name": "HTMLStyleModel",
      "state": {
       "description_width": "",
       "font_size": null,
       "text_color": null
      }
     },
     "245f3700b22a44169718242c11e309ef": {
      "model_module": "@jupyter-widgets/controls",
      "model_module_version": "2.0.0",
      "model_name": "FloatProgressModel",
      "state": {
       "bar_style": "success",
       "layout": "IPY_MODEL_f51a2adc4795405c8baf0d55abba2bd8",
       "max": 182,
       "style": "IPY_MODEL_853693632acc49fab50474733a2bf476",
       "value": 182
      }
     },
     "2460f1235a94424aa716d74bdb81a59e": {
      "model_module": "@jupyter-widgets/base",
      "model_module_version": "2.0.0",
      "model_name": "LayoutModel",
      "state": {}
     },
     "248eb58f70ba4d51b8fc99ec2e5b98f1": {
      "model_module": "@jupyter-widgets/base",
      "model_module_version": "2.0.0",
      "model_name": "LayoutModel",
      "state": {}
     },
     "249ff15c116045829a6e4c9a2d1443c0": {
      "model_module": "@jupyter-widgets/controls",
      "model_module_version": "2.0.0",
      "model_name": "HTMLModel",
      "state": {
       "layout": "IPY_MODEL_810d32b7b01b471fb7cb67ef77bb95ac",
       "style": "IPY_MODEL_9080d5a1c843462d9233122dd3167cc0",
       "value": "100%"
      }
     },
     "24b462d1ec124566b7b5d9c80a0c4483": {
      "model_module": "@jupyter-widgets/base",
      "model_module_version": "2.0.0",
      "model_name": "LayoutModel",
      "state": {}
     },
     "24bc2e39cb314d6bb856c848d9222243": {
      "model_module": "@jupyter-widgets/controls",
      "model_module_version": "2.0.0",
      "model_name": "HTMLModel",
      "state": {
       "layout": "IPY_MODEL_e67abf9711bf4e49ae35ecefbbaba53e",
       "style": "IPY_MODEL_489f9d351fdd4438b2be723936fa2bb0",
       "value": " 232/232 [01:47&lt;00:00,  1.96it/s]"
      }
     },
     "252c42567c3c43fa8c734b7b03e3b51d": {
      "model_module": "@jupyter-widgets/controls",
      "model_module_version": "2.0.0",
      "model_name": "HTMLModel",
      "state": {
       "layout": "IPY_MODEL_e09d5fabf28a43c287b0262b08d00d5a",
       "style": "IPY_MODEL_d14b0b44348946f8bc4d7672ce1ee441",
       "value": "100%"
      }
     },
     "253a03df629345df8765bb3a455d6a91": {
      "model_module": "@jupyter-widgets/base",
      "model_module_version": "2.0.0",
      "model_name": "LayoutModel",
      "state": {}
     },
     "25607156afc341e98a9521bced3bf721": {
      "model_module": "@jupyter-widgets/controls",
      "model_module_version": "2.0.0",
      "model_name": "HTMLStyleModel",
      "state": {
       "description_width": "",
       "font_size": null,
       "text_color": null
      }
     },
     "2574ed49d64b4aa08b771e64f9d924f7": {
      "model_module": "@jupyter-widgets/controls",
      "model_module_version": "2.0.0",
      "model_name": "ProgressStyleModel",
      "state": {
       "description_width": ""
      }
     },
     "2596ccfc82904c96aed233ef2551b185": {
      "model_module": "@jupyter-widgets/controls",
      "model_module_version": "2.0.0",
      "model_name": "HTMLStyleModel",
      "state": {
       "description_width": "",
       "font_size": null,
       "text_color": null
      }
     },
     "2597fbbf1679415b88418d9fc566420e": {
      "model_module": "@jupyter-widgets/base",
      "model_module_version": "2.0.0",
      "model_name": "LayoutModel",
      "state": {}
     },
     "25dad97c48634936ad6473763cf7b402": {
      "model_module": "@jupyter-widgets/controls",
      "model_module_version": "2.0.0",
      "model_name": "ProgressStyleModel",
      "state": {
       "description_width": ""
      }
     },
     "25e20240f6fc460bb1f6a6f7dbbc9158": {
      "model_module": "@jupyter-widgets/base",
      "model_module_version": "2.0.0",
      "model_name": "LayoutModel",
      "state": {}
     },
     "25e3c0aaac724151b80917d46b687c18": {
      "model_module": "@jupyter-widgets/controls",
      "model_module_version": "2.0.0",
      "model_name": "FloatProgressModel",
      "state": {
       "bar_style": "success",
       "layout": "IPY_MODEL_e1ec2ac426684296864d7fc831e59298",
       "max": 244,
       "style": "IPY_MODEL_290921972a9e4ecdb64619be7f181986",
       "value": 244
      }
     },
     "25fdb20e2aaa46f5aec5e4f762f64b67": {
      "model_module": "@jupyter-widgets/controls",
      "model_module_version": "2.0.0",
      "model_name": "HBoxModel",
      "state": {
       "children": [
        "IPY_MODEL_009d3c62ccdb42408f4937ec53abeaa2",
        "IPY_MODEL_bcf768d9c69a4a83acba5edb2e64a1d1",
        "IPY_MODEL_9990a495b663472eba889b1b2b49d42e"
       ],
       "layout": "IPY_MODEL_e82cc8e59d5645ca9948f41a0bc68c94"
      }
     },
     "261eba3060b547f0ba1717bae3dd2b15": {
      "model_module": "@jupyter-widgets/controls",
      "model_module_version": "2.0.0",
      "model_name": "ProgressStyleModel",
      "state": {
       "description_width": ""
      }
     },
     "2650060c80c445febba13b6118f00b1c": {
      "model_module": "@jupyter-widgets/controls",
      "model_module_version": "2.0.0",
      "model_name": "HTMLModel",
      "state": {
       "layout": "IPY_MODEL_6e14af43d5ae49cd9f79cf00196d61b7",
       "style": "IPY_MODEL_2ef9cf680342408f9d3e6747ed29dc64",
       "value": "100%"
      }
     },
     "2676dd0cd8b94e9c99450be37209bafc": {
      "model_module": "@jupyter-widgets/controls",
      "model_module_version": "2.0.0",
      "model_name": "FloatProgressModel",
      "state": {
       "bar_style": "success",
       "layout": "IPY_MODEL_ecb83334a68d4856bc83e84627dbce42",
       "max": 300,
       "style": "IPY_MODEL_591ca4a056ce42d786c3b479127c35de",
       "value": 300
      }
     },
     "2702b1037a9f446ea617935d97126037": {
      "model_module": "@jupyter-widgets/controls",
      "model_module_version": "2.0.0",
      "model_name": "HTMLModel",
      "state": {
       "layout": "IPY_MODEL_7379c1bff1c246bd891c793769537890",
       "style": "IPY_MODEL_81d85055e8034b9388d36f07f0da9a44",
       "value": " 162/162 [01:13&lt;00:00,  2.23it/s]"
      }
     },
     "2704bf2eba554f9aac04cd7e2fa43c48": {
      "model_module": "@jupyter-widgets/controls",
      "model_module_version": "2.0.0",
      "model_name": "ProgressStyleModel",
      "state": {
       "description_width": ""
      }
     },
     "276357f5ebd0448793da2e2e16d07766": {
      "model_module": "@jupyter-widgets/controls",
      "model_module_version": "2.0.0",
      "model_name": "ProgressStyleModel",
      "state": {
       "description_width": ""
      }
     },
     "276972c241cc47619e3897507c50d3e3": {
      "model_module": "@jupyter-widgets/base",
      "model_module_version": "2.0.0",
      "model_name": "LayoutModel",
      "state": {}
     },
     "2789736a62794b71a75daf7240543acc": {
      "model_module": "@jupyter-widgets/controls",
      "model_module_version": "2.0.0",
      "model_name": "FloatProgressModel",
      "state": {
       "bar_style": "success",
       "layout": "IPY_MODEL_f6c5b4058e6940afac6b69de6200c2d6",
       "max": 242,
       "style": "IPY_MODEL_93c0a7f8fa194ffcaf52c74d93595fcf",
       "value": 242
      }
     },
     "27b8969e73f1438fb40415ff687265d2": {
      "model_module": "@jupyter-widgets/base",
      "model_module_version": "2.0.0",
      "model_name": "LayoutModel",
      "state": {}
     },
     "28033c05718846498768528c3d442ab5": {
      "model_module": "@jupyter-widgets/controls",
      "model_module_version": "2.0.0",
      "model_name": "HTMLModel",
      "state": {
       "layout": "IPY_MODEL_01ce595806554ed4a6f16e142ac10488",
       "style": "IPY_MODEL_1cbbbaf110da42bcb2ea40229520f163",
       "value": "100%"
      }
     },
     "281392f7623347e2bd89ff913174193d": {
      "model_module": "@jupyter-widgets/controls",
      "model_module_version": "2.0.0",
      "model_name": "HTMLStyleModel",
      "state": {
       "description_width": "",
       "font_size": null,
       "text_color": null
      }
     },
     "2828d7a154574968867a74d17417cfed": {
      "model_module": "@jupyter-widgets/controls",
      "model_module_version": "2.0.0",
      "model_name": "ProgressStyleModel",
      "state": {
       "description_width": ""
      }
     },
     "282e1565a640459281843e3cfd2c7212": {
      "model_module": "@jupyter-widgets/controls",
      "model_module_version": "2.0.0",
      "model_name": "HBoxModel",
      "state": {
       "children": [
        "IPY_MODEL_324d03e903ea4629baf128417b94c26c",
        "IPY_MODEL_203f37fd3b394ddeaa3f1417b3fe67c4",
        "IPY_MODEL_d1641b3ad5124e8eb60461f0d8b70ba5"
       ],
       "layout": "IPY_MODEL_bff4542d27424932afa340aca94749f5"
      }
     },
     "283a257a8f384e4a8a77383bedcedf9a": {
      "model_module": "@jupyter-widgets/base",
      "model_module_version": "2.0.0",
      "model_name": "LayoutModel",
      "state": {}
     },
     "2884409cd88c419aa496b14cbbe98ee4": {
      "model_module": "@jupyter-widgets/controls",
      "model_module_version": "2.0.0",
      "model_name": "FloatProgressModel",
      "state": {
       "bar_style": "success",
       "layout": "IPY_MODEL_7a19e0157bc64ff8bac0c8bf5e22b39c",
       "max": 380,
       "style": "IPY_MODEL_52cdd7e71632450a9d325f990c30c5ed",
       "value": 380
      }
     },
     "28ce2bfd48a6445ca94faa939a0ded32": {
      "model_module": "@jupyter-widgets/controls",
      "model_module_version": "2.0.0",
      "model_name": "HTMLStyleModel",
      "state": {
       "description_width": "",
       "font_size": null,
       "text_color": null
      }
     },
     "28d4d408fa7f4d66beb72a227cb8657a": {
      "model_module": "@jupyter-widgets/controls",
      "model_module_version": "2.0.0",
      "model_name": "HTMLStyleModel",
      "state": {
       "description_width": "",
       "font_size": null,
       "text_color": null
      }
     },
     "28e572bf00404123aaff211e9a9a914f": {
      "model_module": "@jupyter-widgets/base",
      "model_module_version": "2.0.0",
      "model_name": "LayoutModel",
      "state": {}
     },
     "2900dd1a933848bcbddef7d6b92a3249": {
      "model_module": "@jupyter-widgets/controls",
      "model_module_version": "2.0.0",
      "model_name": "HTMLModel",
      "state": {
       "layout": "IPY_MODEL_6399ee6f574d4e508201dd70f6448829",
       "style": "IPY_MODEL_1826890a1e6e43b689f3932895f7beaa",
       "value": "100%"
      }
     },
     "290921972a9e4ecdb64619be7f181986": {
      "model_module": "@jupyter-widgets/controls",
      "model_module_version": "2.0.0",
      "model_name": "ProgressStyleModel",
      "state": {
       "description_width": ""
      }
     },
     "293b382d175d49b98bd69051184b532c": {
      "model_module": "@jupyter-widgets/controls",
      "model_module_version": "2.0.0",
      "model_name": "HBoxModel",
      "state": {
       "children": [
        "IPY_MODEL_f2ef5d92173f48b3801b222103911ed6",
        "IPY_MODEL_b7aacc93e72f47faa723b2eea097b9f7",
        "IPY_MODEL_f107b6b5db65445abba2e512525ab57a"
       ],
       "layout": "IPY_MODEL_51fdacc306d0478381c3f67573ad2864"
      }
     },
     "29657ed8aa9a491194a68e96f3b7ff51": {
      "model_module": "@jupyter-widgets/controls",
      "model_module_version": "2.0.0",
      "model_name": "HTMLStyleModel",
      "state": {
       "description_width": "",
       "font_size": null,
       "text_color": null
      }
     },
     "2979fe9aedce40fdbfdb67874a70c8d9": {
      "model_module": "@jupyter-widgets/base",
      "model_module_version": "2.0.0",
      "model_name": "LayoutModel",
      "state": {}
     },
     "2993c8d3a4614d3fbc143b6782e86139": {
      "model_module": "@jupyter-widgets/controls",
      "model_module_version": "2.0.0",
      "model_name": "HTMLStyleModel",
      "state": {
       "description_width": "",
       "font_size": null,
       "text_color": null
      }
     },
     "29a0ad4b107c4e6e932429c40984fb46": {
      "model_module": "@jupyter-widgets/controls",
      "model_module_version": "2.0.0",
      "model_name": "HTMLModel",
      "state": {
       "layout": "IPY_MODEL_16d27faf8fd04a468ad886466d87cffd",
       "style": "IPY_MODEL_564370879e4247d9b04213685ce5ae48",
       "value": " 452/452 [03:28&lt;00:00,  2.24it/s]"
      }
     },
     "29a5ac0bde3d4db6a8384b96400dfb99": {
      "model_module": "@jupyter-widgets/base",
      "model_module_version": "2.0.0",
      "model_name": "LayoutModel",
      "state": {}
     },
     "29f8998a8c5e4d1ea34e2a0ab3d83b10": {
      "model_module": "@jupyter-widgets/controls",
      "model_module_version": "2.0.0",
      "model_name": "HTMLStyleModel",
      "state": {
       "description_width": "",
       "font_size": null,
       "text_color": null
      }
     },
     "2a04dbf4ed9446bfbffb2f3d60db5e9e": {
      "model_module": "@jupyter-widgets/controls",
      "model_module_version": "2.0.0",
      "model_name": "HTMLModel",
      "state": {
       "layout": "IPY_MODEL_1195e8091e524f0e8988827bd60d256c",
       "style": "IPY_MODEL_aa6daebde2b1485ebd037039406f1fb2",
       "value": "100%"
      }
     },
     "2a4d36da7d6845d196a942674a83e2d3": {
      "model_module": "@jupyter-widgets/controls",
      "model_module_version": "2.0.0",
      "model_name": "HTMLStyleModel",
      "state": {
       "description_width": "",
       "font_size": null,
       "text_color": null
      }
     },
     "2aaa3a1fd7f6448cb02eba5e2b923694": {
      "model_module": "@jupyter-widgets/base",
      "model_module_version": "2.0.0",
      "model_name": "LayoutModel",
      "state": {}
     },
     "2b4c871a55d84550bb200f0db077c9bb": {
      "model_module": "@jupyter-widgets/controls",
      "model_module_version": "2.0.0",
      "model_name": "HTMLStyleModel",
      "state": {
       "description_width": "",
       "font_size": null,
       "text_color": null
      }
     },
     "2b9689760bef458985ad6a812a61ca1e": {
      "model_module": "@jupyter-widgets/base",
      "model_module_version": "2.0.0",
      "model_name": "LayoutModel",
      "state": {}
     },
     "2bb2068b49934a4985b18c42589a2240": {
      "model_module": "@jupyter-widgets/base",
      "model_module_version": "2.0.0",
      "model_name": "LayoutModel",
      "state": {}
     },
     "2bb740bb1b6840acaae74218ebae2b0c": {
      "model_module": "@jupyter-widgets/base",
      "model_module_version": "2.0.0",
      "model_name": "LayoutModel",
      "state": {}
     },
     "2bc477166184423db9b579234e15fa30": {
      "model_module": "@jupyter-widgets/controls",
      "model_module_version": "2.0.0",
      "model_name": "HTMLModel",
      "state": {
       "layout": "IPY_MODEL_41623c6ade6d47f688805597623130ef",
       "style": "IPY_MODEL_9443df3371354cf9b140c2f8d250a389",
       "value": "100%"
      }
     },
     "2c09854779e84bee92be08e7de2dc92a": {
      "model_module": "@jupyter-widgets/controls",
      "model_module_version": "2.0.0",
      "model_name": "ProgressStyleModel",
      "state": {
       "description_width": ""
      }
     },
     "2c4f8436dd66400fb4b69d4de04b17c0": {
      "model_module": "@jupyter-widgets/controls",
      "model_module_version": "2.0.0",
      "model_name": "FloatProgressModel",
      "state": {
       "bar_style": "success",
       "layout": "IPY_MODEL_b907ba868a094c3b973c31efbbbbca35",
       "max": 462,
       "style": "IPY_MODEL_48fa33a59481463b910db0685aa10167",
       "value": 462
      }
     },
     "2c881fdbe567482ca9e5489bc91946b4": {
      "model_module": "@jupyter-widgets/base",
      "model_module_version": "2.0.0",
      "model_name": "LayoutModel",
      "state": {}
     },
     "2cc0893cffbc45d6a7f0fbb491ec7d98": {
      "model_module": "@jupyter-widgets/controls",
      "model_module_version": "2.0.0",
      "model_name": "ProgressStyleModel",
      "state": {
       "description_width": ""
      }
     },
     "2cd2dbdf1b2b4bc19c713f7549335654": {
      "model_module": "@jupyter-widgets/base",
      "model_module_version": "2.0.0",
      "model_name": "LayoutModel",
      "state": {}
     },
     "2ce9604765ba449dbc699aae231b0cc8": {
      "model_module": "@jupyter-widgets/base",
      "model_module_version": "2.0.0",
      "model_name": "LayoutModel",
      "state": {}
     },
     "2cff6958c5be419296cdef347256d6cf": {
      "model_module": "@jupyter-widgets/controls",
      "model_module_version": "2.0.0",
      "model_name": "HTMLModel",
      "state": {
       "layout": "IPY_MODEL_5e97c770df2e4e6c85849903d8fb35ab",
       "style": "IPY_MODEL_aba8ec1c03da45e8a7cbc4d37ff28134",
       "value": "100%"
      }
     },
     "2d14f3bbd92343afb76e6131b4eff963": {
      "model_module": "@jupyter-widgets/controls",
      "model_module_version": "2.0.0",
      "model_name": "HTMLStyleModel",
      "state": {
       "description_width": "",
       "font_size": null,
       "text_color": null
      }
     },
     "2d7c2eacb19244da83e8c33a4ab8acdb": {
      "model_module": "@jupyter-widgets/controls",
      "model_module_version": "2.0.0",
      "model_name": "HTMLStyleModel",
      "state": {
       "description_width": "",
       "font_size": null,
       "text_color": null
      }
     },
     "2df639cab7bf4870b300487ae848c140": {
      "model_module": "@jupyter-widgets/controls",
      "model_module_version": "2.0.0",
      "model_name": "HBoxModel",
      "state": {
       "children": [
        "IPY_MODEL_5e9e1f4fe7bc489a9b39cfd0269d64ee",
        "IPY_MODEL_8238285db53a4c678243372a0525cf3e",
        "IPY_MODEL_9f89f02606114fe99463ee5e0379287c"
       ],
       "layout": "IPY_MODEL_bbd827f125684f76848afb9a001ce2b9"
      }
     },
     "2e208d3459e14e15916d8f220165c251": {
      "model_module": "@jupyter-widgets/base",
      "model_module_version": "2.0.0",
      "model_name": "LayoutModel",
      "state": {}
     },
     "2eb73f4673c74e77813529a3c96f4255": {
      "model_module": "@jupyter-widgets/controls",
      "model_module_version": "2.0.0",
      "model_name": "HTMLStyleModel",
      "state": {
       "description_width": "",
       "font_size": null,
       "text_color": null
      }
     },
     "2ef9cf680342408f9d3e6747ed29dc64": {
      "model_module": "@jupyter-widgets/controls",
      "model_module_version": "2.0.0",
      "model_name": "HTMLStyleModel",
      "state": {
       "description_width": "",
       "font_size": null,
       "text_color": null
      }
     },
     "2f0d09c0e292432cb4b6f21e767563b6": {
      "model_module": "@jupyter-widgets/controls",
      "model_module_version": "2.0.0",
      "model_name": "HTMLStyleModel",
      "state": {
       "description_width": "",
       "font_size": null,
       "text_color": null
      }
     },
     "2f13fb9520d14ab8b8b2bea1ef046068": {
      "model_module": "@jupyter-widgets/base",
      "model_module_version": "2.0.0",
      "model_name": "LayoutModel",
      "state": {}
     },
     "2f1832a0a9c541f19c3638c828807b2b": {
      "model_module": "@jupyter-widgets/controls",
      "model_module_version": "2.0.0",
      "model_name": "HTMLStyleModel",
      "state": {
       "description_width": "",
       "font_size": null,
       "text_color": null
      }
     },
     "2f38ab5af8e943dc9ff7a63e8acea9b5": {
      "model_module": "@jupyter-widgets/base",
      "model_module_version": "2.0.0",
      "model_name": "LayoutModel",
      "state": {}
     },
     "2f3e938f4876429782af4a0296ce62b8": {
      "model_module": "@jupyter-widgets/controls",
      "model_module_version": "2.0.0",
      "model_name": "HBoxModel",
      "state": {
       "children": [
        "IPY_MODEL_9b9da2d4ca424bdfbb0aea8b66d3b330",
        "IPY_MODEL_015a8a3047b34d6ea4d0ae0b5b0e21ec",
        "IPY_MODEL_f77c500734144851b675e2d2436d1d37"
       ],
       "layout": "IPY_MODEL_d3b098a74ba34826ba558e95a9b9fd64"
      }
     },
     "2f50990e919e424788d31a419cb193e9": {
      "model_module": "@jupyter-widgets/controls",
      "model_module_version": "2.0.0",
      "model_name": "ProgressStyleModel",
      "state": {
       "description_width": ""
      }
     },
     "2f5b93cca87d419b963b53d334343158": {
      "model_module": "@jupyter-widgets/base",
      "model_module_version": "2.0.0",
      "model_name": "LayoutModel",
      "state": {}
     },
     "2f5cdebd56b54ce2b077239a7084a95b": {
      "model_module": "@jupyter-widgets/controls",
      "model_module_version": "2.0.0",
      "model_name": "FloatProgressModel",
      "state": {
       "bar_style": "success",
       "layout": "IPY_MODEL_2b9689760bef458985ad6a812a61ca1e",
       "max": 411,
       "style": "IPY_MODEL_1182fc0c51cf4ce1885d9e2ca388be73",
       "value": 411
      }
     },
     "2f62e6fe52fd46638b5dd38e1c63bcde": {
      "model_module": "@jupyter-widgets/controls",
      "model_module_version": "2.0.0",
      "model_name": "HBoxModel",
      "state": {
       "children": [
        "IPY_MODEL_c971880f72b24aa2b386ca2655d4c5db",
        "IPY_MODEL_850bd457d570473ebf98928439e73eb5",
        "IPY_MODEL_9966dc7e906d48f0b07601c9dd2a2f64"
       ],
       "layout": "IPY_MODEL_6b7f74e4d13345dd8d356e2b804e196e"
      }
     },
     "2faa72730f2f44fc854f5a4c0aee2f5c": {
      "model_module": "@jupyter-widgets/controls",
      "model_module_version": "2.0.0",
      "model_name": "HTMLModel",
      "state": {
       "layout": "IPY_MODEL_6924a31c3c934123bece00dfe09b6b1c",
       "style": "IPY_MODEL_3413bac10ef546f9b617ce68cd8f3dda",
       "value": " 140/140 [01:07&lt;00:00,  2.03it/s]"
      }
     },
     "2fbc8155cb5c4e43968b9ed14ea6e76d": {
      "model_module": "@jupyter-widgets/controls",
      "model_module_version": "2.0.0",
      "model_name": "FloatProgressModel",
      "state": {
       "bar_style": "success",
       "layout": "IPY_MODEL_1bf4401f86374b9c87db43bf7705523c",
       "max": 247,
       "style": "IPY_MODEL_8357f7d0d3cb4a8d80bac4101e9e2194",
       "value": 247
      }
     },
     "2fd448e656324970ae513de2efa9b67b": {
      "model_module": "@jupyter-widgets/controls",
      "model_module_version": "2.0.0",
      "model_name": "HTMLModel",
      "state": {
       "layout": "IPY_MODEL_a48094928a3d47918ff5b7ce25877b9c",
       "style": "IPY_MODEL_9601098c60464ffa9c07ba662f4b0bea",
       "value": "100%"
      }
     },
     "2fd54dbe335d43c39cd6153851246296": {
      "model_module": "@jupyter-widgets/controls",
      "model_module_version": "2.0.0",
      "model_name": "HBoxModel",
      "state": {
       "children": [
        "IPY_MODEL_f65a0280571344faab9593db732a3140",
        "IPY_MODEL_02acec5c7889413db7098bbefc946a5c",
        "IPY_MODEL_1a02f0e532f744cd80e7a91510a22654"
       ],
       "layout": "IPY_MODEL_8a638016193448ebae5fca72f432f046"
      }
     },
     "30a51b97061f4939ac512da460eb8734": {
      "model_module": "@jupyter-widgets/base",
      "model_module_version": "2.0.0",
      "model_name": "LayoutModel",
      "state": {}
     },
     "3100286c50d34ce2be5fdfc30f3ea737": {
      "model_module": "@jupyter-widgets/base",
      "model_module_version": "2.0.0",
      "model_name": "LayoutModel",
      "state": {}
     },
     "3165ba5dbfaf4aa389272da7287691b1": {
      "model_module": "@jupyter-widgets/controls",
      "model_module_version": "2.0.0",
      "model_name": "HBoxModel",
      "state": {
       "children": [
        "IPY_MODEL_5e4b8e6ba8eb454e910ac61b95fb9c4a",
        "IPY_MODEL_318c1cfd9ea04f4b850a0f6816c211b1",
        "IPY_MODEL_e46778f0395846c8b79adbf7852bf739"
       ],
       "layout": "IPY_MODEL_55da0386aa164c2390ca228184d26df2"
      }
     },
     "318c1cfd9ea04f4b850a0f6816c211b1": {
      "model_module": "@jupyter-widgets/controls",
      "model_module_version": "2.0.0",
      "model_name": "FloatProgressModel",
      "state": {
       "bar_style": "success",
       "layout": "IPY_MODEL_a519ef48a21449a8b684b1e76ec94aff",
       "max": 162,
       "style": "IPY_MODEL_94f8a7e5de694435932d50e02fe58774",
       "value": 162
      }
     },
     "318c39539c3249c49578a1197e25f1d8": {
      "model_module": "@jupyter-widgets/controls",
      "model_module_version": "2.0.0",
      "model_name": "HTMLStyleModel",
      "state": {
       "description_width": "",
       "font_size": null,
       "text_color": null
      }
     },
     "31be93366d8647cd8e66aaea14dc51ff": {
      "model_module": "@jupyter-widgets/base",
      "model_module_version": "2.0.0",
      "model_name": "LayoutModel",
      "state": {}
     },
     "31c7252d75474bc489ee7e2492bcff87": {
      "model_module": "@jupyter-widgets/controls",
      "model_module_version": "2.0.0",
      "model_name": "HTMLStyleModel",
      "state": {
       "description_width": "",
       "font_size": null,
       "text_color": null
      }
     },
     "3211d9836eb44aee931ef868fde6a5fb": {
      "model_module": "@jupyter-widgets/controls",
      "model_module_version": "2.0.0",
      "model_name": "FloatProgressModel",
      "state": {
       "bar_style": "success",
       "layout": "IPY_MODEL_0a4ba01013ca4d249dcbf5c5f679390d",
       "max": 182,
       "style": "IPY_MODEL_ce465d113a7e413e9298afba7c18702d",
       "value": 182
      }
     },
     "321a865e722c4d7f96abf74fdbd58e29": {
      "model_module": "@jupyter-widgets/controls",
      "model_module_version": "2.0.0",
      "model_name": "ProgressStyleModel",
      "state": {
       "description_width": ""
      }
     },
     "321c7338d3c84361997482edcbe79699": {
      "model_module": "@jupyter-widgets/base",
      "model_module_version": "2.0.0",
      "model_name": "LayoutModel",
      "state": {}
     },
     "321e024663b7418ea1598a38af3813ff": {
      "model_module": "@jupyter-widgets/controls",
      "model_module_version": "2.0.0",
      "model_name": "HTMLModel",
      "state": {
       "layout": "IPY_MODEL_3354e5e7bc0e41918b3f80196281b07b",
       "style": "IPY_MODEL_c8d4a16e28634caabbd66967b6b6c52a",
       "value": "100%"
      }
     },
     "3234f4734b48406e8cab70654482d0a8": {
      "model_module": "@jupyter-widgets/controls",
      "model_module_version": "2.0.0",
      "model_name": "ProgressStyleModel",
      "state": {
       "description_width": ""
      }
     },
     "324d03e903ea4629baf128417b94c26c": {
      "model_module": "@jupyter-widgets/controls",
      "model_module_version": "2.0.0",
      "model_name": "HTMLModel",
      "state": {
       "layout": "IPY_MODEL_11dd43a5fd6242d2be1b17e5c3b6ebf4",
       "style": "IPY_MODEL_c5f32af245a14a1081f2ae1a741f5180",
       "value": "100%"
      }
     },
     "328e10760f184247ba70747eb83529d9": {
      "model_module": "@jupyter-widgets/base",
      "model_module_version": "2.0.0",
      "model_name": "LayoutModel",
      "state": {}
     },
     "329a3f98f0734ac281d61cf11af6a79a": {
      "model_module": "@jupyter-widgets/controls",
      "model_module_version": "2.0.0",
      "model_name": "HBoxModel",
      "state": {
       "children": [
        "IPY_MODEL_e5782d6c18b642d5b0fdb0c731c6a8d9",
        "IPY_MODEL_0ef131a6c7fa4ecd87023ff31cdc5b84",
        "IPY_MODEL_ba1f72b0de084d7e809ed9c0c5e93742"
       ],
       "layout": "IPY_MODEL_e9a3c276dc5f45108cf3dd93370d2218"
      }
     },
     "32bc9dba1d3142c6a8d799d9143beab8": {
      "model_module": "@jupyter-widgets/controls",
      "model_module_version": "2.0.0",
      "model_name": "HBoxModel",
      "state": {
       "children": [
        "IPY_MODEL_b480a88b154e4ca0a67bd0de35349c9c",
        "IPY_MODEL_99b7506780d24f049406857ecb95fe82",
        "IPY_MODEL_d75149c2803d4288891461205308cd9c"
       ],
       "layout": "IPY_MODEL_9ac56fe61bca412483ee4a121764ae14"
      }
     },
     "33483a9344a245bc9f2b757564cff44d": {
      "model_module": "@jupyter-widgets/controls",
      "model_module_version": "2.0.0",
      "model_name": "HTMLStyleModel",
      "state": {
       "description_width": "",
       "font_size": null,
       "text_color": null
      }
     },
     "3354e5e7bc0e41918b3f80196281b07b": {
      "model_module": "@jupyter-widgets/base",
      "model_module_version": "2.0.0",
      "model_name": "LayoutModel",
      "state": {}
     },
     "3367a304b5614c078faa5a56ae19faef": {
      "model_module": "@jupyter-widgets/controls",
      "model_module_version": "2.0.0",
      "model_name": "HTMLStyleModel",
      "state": {
       "description_width": "",
       "font_size": null,
       "text_color": null
      }
     },
     "3367e90a3f9c4564baf1a58207381f3a": {
      "model_module": "@jupyter-widgets/base",
      "model_module_version": "2.0.0",
      "model_name": "LayoutModel",
      "state": {}
     },
     "336825d1340147bb9c51526c6f4be64c": {
      "model_module": "@jupyter-widgets/controls",
      "model_module_version": "2.0.0",
      "model_name": "HBoxModel",
      "state": {
       "children": [
        "IPY_MODEL_28033c05718846498768528c3d442ab5",
        "IPY_MODEL_2884409cd88c419aa496b14cbbe98ee4",
        "IPY_MODEL_a14f0ad6672b4e59a9f4ee61c1667eb2"
       ],
       "layout": "IPY_MODEL_0208ee824bae4cf3bcf9adaf4bdf47f5"
      }
     },
     "33799273c48940d6a7a67c0a32874862": {
      "model_module": "@jupyter-widgets/base",
      "model_module_version": "2.0.0",
      "model_name": "LayoutModel",
      "state": {}
     },
     "33ab11f8d7a344f59b9be4dc142811bd": {
      "model_module": "@jupyter-widgets/controls",
      "model_module_version": "2.0.0",
      "model_name": "HTMLModel",
      "state": {
       "layout": "IPY_MODEL_cffe06506ab14b2eaf376862b0f79949",
       "style": "IPY_MODEL_745efa8e87934cf08a30158f6617a288",
       "value": " 240/240 [01:51&lt;00:00,  2.22it/s]"
      }
     },
     "3413bac10ef546f9b617ce68cd8f3dda": {
      "model_module": "@jupyter-widgets/controls",
      "model_module_version": "2.0.0",
      "model_name": "HTMLStyleModel",
      "state": {
       "description_width": "",
       "font_size": null,
       "text_color": null
      }
     },
     "34bb21e622d34f6ba49857cd45b2e99c": {
      "model_module": "@jupyter-widgets/controls",
      "model_module_version": "2.0.0",
      "model_name": "HTMLStyleModel",
      "state": {
       "description_width": "",
       "font_size": null,
       "text_color": null
      }
     },
     "3530960413d8471d8efacb3e996c01ba": {
      "model_module": "@jupyter-widgets/base",
      "model_module_version": "2.0.0",
      "model_name": "LayoutModel",
      "state": {}
     },
     "3543cc25a5984a1c857b18af69793d96": {
      "model_module": "@jupyter-widgets/controls",
      "model_module_version": "2.0.0",
      "model_name": "ProgressStyleModel",
      "state": {
       "description_width": ""
      }
     },
     "3572ab0387334472bf973319cd0bc2f5": {
      "model_module": "@jupyter-widgets/controls",
      "model_module_version": "2.0.0",
      "model_name": "HTMLModel",
      "state": {
       "layout": "IPY_MODEL_0003125e330049c98132ae9294e483d0",
       "style": "IPY_MODEL_510320b85b3d43c99b3001d73e024f9a",
       "value": " 274/274 [02:05&lt;00:00,  2.15it/s]"
      }
     },
     "35975d60f49845f19f1d234e4d860f94": {
      "model_module": "@jupyter-widgets/controls",
      "model_module_version": "2.0.0",
      "model_name": "HTMLModel",
      "state": {
       "layout": "IPY_MODEL_979c26fde05a4ff9ac7b1e40dc64e7ea",
       "style": "IPY_MODEL_de835c009e1d4bfaa80f49bef7961f75",
       "value": "100%"
      }
     },
     "3598c027c98e46fc8fde036985517557": {
      "model_module": "@jupyter-widgets/base",
      "model_module_version": "2.0.0",
      "model_name": "LayoutModel",
      "state": {}
     },
     "35a0cf8ffcc84e5384862065431a7765": {
      "model_module": "@jupyter-widgets/base",
      "model_module_version": "2.0.0",
      "model_name": "LayoutModel",
      "state": {}
     },
     "35d6d58711d047c9941c0061bb499741": {
      "model_module": "@jupyter-widgets/base",
      "model_module_version": "2.0.0",
      "model_name": "LayoutModel",
      "state": {}
     },
     "35fe5cef57734b36982f2dc18aa279eb": {
      "model_module": "@jupyter-widgets/controls",
      "model_module_version": "2.0.0",
      "model_name": "ProgressStyleModel",
      "state": {
       "description_width": ""
      }
     },
     "364190d5d6214d06ad5c81fcc9e368a5": {
      "model_module": "@jupyter-widgets/base",
      "model_module_version": "2.0.0",
      "model_name": "LayoutModel",
      "state": {}
     },
     "36e1b5bca12542919c685395cb259683": {
      "model_module": "@jupyter-widgets/controls",
      "model_module_version": "2.0.0",
      "model_name": "HTMLStyleModel",
      "state": {
       "description_width": "",
       "font_size": null,
       "text_color": null
      }
     },
     "36f25a486a2a405ab1a8f9f81db5745d": {
      "model_module": "@jupyter-widgets/controls",
      "model_module_version": "2.0.0",
      "model_name": "HBoxModel",
      "state": {
       "children": [
        "IPY_MODEL_49e5664ae3d440f2827e4eba5fae758f",
        "IPY_MODEL_8d811225760f4910a5091ba376e78e8f",
        "IPY_MODEL_10d4123a8934423eaa6ce27109bb82d6"
       ],
       "layout": "IPY_MODEL_5d2ac4db833c441badab3a5f964e3de3"
      }
     },
     "36f74f04f70843a6a48f57f9c6dbcff2": {
      "model_module": "@jupyter-widgets/base",
      "model_module_version": "2.0.0",
      "model_name": "LayoutModel",
      "state": {}
     },
     "36fb2b6527394244805871cf84e75a2b": {
      "model_module": "@jupyter-widgets/base",
      "model_module_version": "2.0.0",
      "model_name": "LayoutModel",
      "state": {}
     },
     "3705c3a83e0e40d2a39cb5ab6edd046e": {
      "model_module": "@jupyter-widgets/controls",
      "model_module_version": "2.0.0",
      "model_name": "HTMLModel",
      "state": {
       "layout": "IPY_MODEL_ec07cf5e3dfa4371959011ac9398cad2",
       "style": "IPY_MODEL_ad3bef080ceb4e4d993a0cc3378aee49",
       "value": " 511/511 [1:07:30&lt;00:00,  7.55s/it]"
      }
     },
     "370615f4688c412285fcd0c40c5b41d5": {
      "model_module": "@jupyter-widgets/controls",
      "model_module_version": "2.0.0",
      "model_name": "HTMLModel",
      "state": {
       "layout": "IPY_MODEL_5b07057aacd441aeb8970b0eeb738b32",
       "style": "IPY_MODEL_5a59b4ce0fe44f598891e9426a0dad2b",
       "value": " 135/135 [01:02&lt;00:00,  2.12it/s]"
      }
     },
     "3716dfade92d4076a795e26cfb1e3eb7": {
      "model_module": "@jupyter-widgets/base",
      "model_module_version": "2.0.0",
      "model_name": "LayoutModel",
      "state": {}
     },
     "372b464971994795b6df20cbc385d8a2": {
      "model_module": "@jupyter-widgets/controls",
      "model_module_version": "2.0.0",
      "model_name": "HTMLModel",
      "state": {
       "layout": "IPY_MODEL_9322915fa12d49fc998c3b698cd61193",
       "style": "IPY_MODEL_d00ce5670066449abab2501ca73a4748",
       "value": "100%"
      }
     },
     "37956c4045214c008a852da8ec9bdf06": {
      "model_module": "@jupyter-widgets/controls",
      "model_module_version": "2.0.0",
      "model_name": "HTMLStyleModel",
      "state": {
       "description_width": "",
       "font_size": null,
       "text_color": null
      }
     },
     "379fcc954c6e4fbc9da05267ac72f8eb": {
      "model_module": "@jupyter-widgets/controls",
      "model_module_version": "2.0.0",
      "model_name": "FloatProgressModel",
      "state": {
       "bar_style": "success",
       "layout": "IPY_MODEL_0b63a40e48084e1f909e35aa13a06cd3",
       "max": 181,
       "style": "IPY_MODEL_2704bf2eba554f9aac04cd7e2fa43c48",
       "value": 181
      }
     },
     "37d16d1283184440b9de0368aa71a163": {
      "model_module": "@jupyter-widgets/controls",
      "model_module_version": "2.0.0",
      "model_name": "HBoxModel",
      "state": {
       "children": [
        "IPY_MODEL_9089554e1af34b138dd83eca0215aee6",
        "IPY_MODEL_caa0ddde06ea45cf896ddfc19a6f9dbf",
        "IPY_MODEL_469c322067f24f9fae7f0231b3bbf572"
       ],
       "layout": "IPY_MODEL_60e52f945aed4f89ba6e0bc983e20dd6"
      }
     },
     "386ef5f566104b5eb2f7dc4831738ed4": {
      "model_module": "@jupyter-widgets/controls",
      "model_module_version": "2.0.0",
      "model_name": "HTMLStyleModel",
      "state": {
       "description_width": "",
       "font_size": null,
       "text_color": null
      }
     },
     "38df6c6cb9a84eb4972c84cdd75fe7f9": {
      "model_module": "@jupyter-widgets/controls",
      "model_module_version": "2.0.0",
      "model_name": "HTMLModel",
      "state": {
       "layout": "IPY_MODEL_e68a721a2aeb4a58ab5fda09a9d6850f",
       "style": "IPY_MODEL_66452f4406f248018bc6f4fb67a34008",
       "value": " 232/232 [01:46&lt;00:00,  2.09it/s]"
      }
     },
     "39020dce162b4f12868920845a3e4da0": {
      "model_module": "@jupyter-widgets/base",
      "model_module_version": "2.0.0",
      "model_name": "LayoutModel",
      "state": {}
     },
     "390bac4c8ac246c2a93e7e4f10a16c4b": {
      "model_module": "@jupyter-widgets/base",
      "model_module_version": "2.0.0",
      "model_name": "LayoutModel",
      "state": {}
     },
     "39338e1e5ea0489daea9cb2d9dbfb578": {
      "model_module": "@jupyter-widgets/controls",
      "model_module_version": "2.0.0",
      "model_name": "FloatProgressModel",
      "state": {
       "bar_style": "success",
       "layout": "IPY_MODEL_1c625f722e2c4b3281260e78064e6c6d",
       "max": 162,
       "style": "IPY_MODEL_f83e0fe5b0a046d6bfbe2fa28742311c",
       "value": 162
      }
     },
     "3968db30912c4fd5ab427a619fed1a6a": {
      "model_module": "@jupyter-widgets/controls",
      "model_module_version": "2.0.0",
      "model_name": "HBoxModel",
      "state": {
       "children": [
        "IPY_MODEL_5ee7f520bce643c99bcaee018db0b447",
        "IPY_MODEL_94547445c3df43a8b3bace95b71243ad",
        "IPY_MODEL_be85bdcc4b1648a7a42fd57bba5849ac"
       ],
       "layout": "IPY_MODEL_7530614f1f804ea5a39789bfc7a5528f"
      }
     },
     "398690029737460d9b095b9971bff550": {
      "model_module": "@jupyter-widgets/base",
      "model_module_version": "2.0.0",
      "model_name": "LayoutModel",
      "state": {}
     },
     "39be6718d34f4e84b321199c2f55aa2f": {
      "model_module": "@jupyter-widgets/controls",
      "model_module_version": "2.0.0",
      "model_name": "HTMLModel",
      "state": {
       "layout": "IPY_MODEL_e73c843b375844e884d49b28b0cc5034",
       "style": "IPY_MODEL_6b6eb7d1250e4ca695d1c0da085d956c",
       "value": "100%"
      }
     },
     "39e0885d4b664f078894ddb4a6f4e9cc": {
      "model_module": "@jupyter-widgets/base",
      "model_module_version": "2.0.0",
      "model_name": "LayoutModel",
      "state": {}
     },
     "3a27cea3352543bfb332515e88fa77be": {
      "model_module": "@jupyter-widgets/controls",
      "model_module_version": "2.0.0",
      "model_name": "HBoxModel",
      "state": {
       "children": [
        "IPY_MODEL_468b49fad74d4b43b902f42fb46a0ce0",
        "IPY_MODEL_0532a92e6350434094057ac6e837bf6d",
        "IPY_MODEL_3e924d4009d84054ba11e336424b43cf"
       ],
       "layout": "IPY_MODEL_86438c46fdb74dd8bbfc64019844f677"
      }
     },
     "3a3a2c1984264b0181ada13104caa3ec": {
      "model_module": "@jupyter-widgets/controls",
      "model_module_version": "2.0.0",
      "model_name": "ProgressStyleModel",
      "state": {
       "description_width": ""
      }
     },
     "3a72f85884f74c479244015f7c2372ab": {
      "model_module": "@jupyter-widgets/controls",
      "model_module_version": "2.0.0",
      "model_name": "HTMLStyleModel",
      "state": {
       "description_width": "",
       "font_size": null,
       "text_color": null
      }
     },
     "3a8784e4757443f99288dbc2474e65b6": {
      "model_module": "@jupyter-widgets/base",
      "model_module_version": "2.0.0",
      "model_name": "LayoutModel",
      "state": {}
     },
     "3aa0e26bc9a94957b01a545274362dfa": {
      "model_module": "@jupyter-widgets/controls",
      "model_module_version": "2.0.0",
      "model_name": "ProgressStyleModel",
      "state": {
       "description_width": ""
      }
     },
     "3abdf06aefce48f880ecb5018f93a6b6": {
      "model_module": "@jupyter-widgets/base",
      "model_module_version": "2.0.0",
      "model_name": "LayoutModel",
      "state": {}
     },
     "3ac8daf1c16d480194ac0f63b6741f52": {
      "model_module": "@jupyter-widgets/base",
      "model_module_version": "2.0.0",
      "model_name": "LayoutModel",
      "state": {}
     },
     "3adb27f147514979b854d4dd45701b52": {
      "model_module": "@jupyter-widgets/controls",
      "model_module_version": "2.0.0",
      "model_name": "HTMLModel",
      "state": {
       "layout": "IPY_MODEL_07a9048c910e4248a731f88955d753cd",
       "style": "IPY_MODEL_43953419faa04e95b39fe05599e49111",
       "value": " 348/348 [02:37&lt;00:00,  2.24it/s]"
      }
     },
     "3b333c13e8da4fb48ef27af688e59c65": {
      "model_module": "@jupyter-widgets/controls",
      "model_module_version": "2.0.0",
      "model_name": "ProgressStyleModel",
      "state": {
       "description_width": ""
      }
     },
     "3b36edb103024be3b0bf91e58265b51f": {
      "model_module": "@jupyter-widgets/controls",
      "model_module_version": "2.0.0",
      "model_name": "FloatProgressModel",
      "state": {
       "bar_style": "success",
       "layout": "IPY_MODEL_39e0885d4b664f078894ddb4a6f4e9cc",
       "max": 680,
       "style": "IPY_MODEL_e50950af137c4997bb1e0c887c5b7a7b",
       "value": 680
      }
     },
     "3b73f02f5836448693a38d26be1b9fb0": {
      "model_module": "@jupyter-widgets/base",
      "model_module_version": "2.0.0",
      "model_name": "LayoutModel",
      "state": {}
     },
     "3bc53acc339743b7b5b361baada163f7": {
      "model_module": "@jupyter-widgets/base",
      "model_module_version": "2.0.0",
      "model_name": "LayoutModel",
      "state": {}
     },
     "3c5019022c794e29991be5b098894aa9": {
      "model_module": "@jupyter-widgets/controls",
      "model_module_version": "2.0.0",
      "model_name": "HBoxModel",
      "state": {
       "children": [
        "IPY_MODEL_df4228f9052a4f86adbf0245bc050d85",
        "IPY_MODEL_0f9c1dc6dc384cbf9d5c002b82cf3540",
        "IPY_MODEL_0878d23b9c0848a7920521e1bd7dbf6a"
       ],
       "layout": "IPY_MODEL_83ddced5b6314299b91a086804a256ee"
      }
     },
     "3c81cbc0f0624df5af9e72c2b1c8c0de": {
      "model_module": "@jupyter-widgets/base",
      "model_module_version": "2.0.0",
      "model_name": "LayoutModel",
      "state": {}
     },
     "3c9222678b8f42488b23c78c2c9399de": {
      "model_module": "@jupyter-widgets/base",
      "model_module_version": "2.0.0",
      "model_name": "LayoutModel",
      "state": {}
     },
     "3d59925bf0f54f0d800710698ad24072": {
      "model_module": "@jupyter-widgets/base",
      "model_module_version": "2.0.0",
      "model_name": "LayoutModel",
      "state": {}
     },
     "3d5dce52ad0f40f2a140cc8b448c2e52": {
      "model_module": "@jupyter-widgets/base",
      "model_module_version": "2.0.0",
      "model_name": "LayoutModel",
      "state": {}
     },
     "3d75c79095234944aa4b5c8e7f83c9e4": {
      "model_module": "@jupyter-widgets/base",
      "model_module_version": "2.0.0",
      "model_name": "LayoutModel",
      "state": {}
     },
     "3d9a2c9d561446da92116124aae1a9c8": {
      "model_module": "@jupyter-widgets/controls",
      "model_module_version": "2.0.0",
      "model_name": "FloatProgressModel",
      "state": {
       "bar_style": "success",
       "layout": "IPY_MODEL_5c93b96fba304e1daab215c94b283db0",
       "max": 171,
       "style": "IPY_MODEL_546df43508a74fd5a62417b1bc4634ce",
       "value": 171
      }
     },
     "3da2823f68244f9a9db23a41f0f51d65": {
      "model_module": "@jupyter-widgets/controls",
      "model_module_version": "2.0.0",
      "model_name": "HTMLStyleModel",
      "state": {
       "description_width": "",
       "font_size": null,
       "text_color": null
      }
     },
     "3dbf60611fa7488985f4b71c87f07f41": {
      "model_module": "@jupyter-widgets/controls",
      "model_module_version": "2.0.0",
      "model_name": "HTMLModel",
      "state": {
       "layout": "IPY_MODEL_9ee61a68226e42dba8140d5703971c01",
       "style": "IPY_MODEL_c852907bfe86488d92a47751bde66289",
       "value": "100%"
      }
     },
     "3de4eddc677148d0b2eaba2a7c09f007": {
      "model_module": "@jupyter-widgets/controls",
      "model_module_version": "2.0.0",
      "model_name": "ProgressStyleModel",
      "state": {
       "description_width": ""
      }
     },
     "3de73fe9b95744a98c7928ab387fb440": {
      "model_module": "@jupyter-widgets/controls",
      "model_module_version": "2.0.0",
      "model_name": "ProgressStyleModel",
      "state": {
       "description_width": ""
      }
     },
     "3e051ca9340a4c749f676e703da22fbe": {
      "model_module": "@jupyter-widgets/controls",
      "model_module_version": "2.0.0",
      "model_name": "HBoxModel",
      "state": {
       "children": [
        "IPY_MODEL_0c6046a3a0cb47e5a3c69defd80ef812",
        "IPY_MODEL_2f5cdebd56b54ce2b077239a7084a95b",
        "IPY_MODEL_895689be435c422b8e39a74481c5a81a"
       ],
       "layout": "IPY_MODEL_328e10760f184247ba70747eb83529d9"
      }
     },
     "3e052bd23e734b04aa66d0ddd00f6773": {
      "model_module": "@jupyter-widgets/controls",
      "model_module_version": "2.0.0",
      "model_name": "HBoxModel",
      "state": {
       "children": [
        "IPY_MODEL_3dbf60611fa7488985f4b71c87f07f41",
        "IPY_MODEL_9c1fbf9975974078b615ef287db7a82b",
        "IPY_MODEL_69da5790b7454913938b1f1dc0b0f46d"
       ],
       "layout": "IPY_MODEL_d20eda26a44c4c54a02264e40fb36dad"
      }
     },
     "3e276b4512fe4436ac69d6b2949386e3": {
      "model_module": "@jupyter-widgets/controls",
      "model_module_version": "2.0.0",
      "model_name": "HTMLModel",
      "state": {
       "layout": "IPY_MODEL_770d0c5113464d8d8d1cd609f538df60",
       "style": "IPY_MODEL_82aa570b1d8f406783d2a5dbeabd3b83",
       "value": " 462/462 [03:29&lt;00:00,  2.23it/s]"
      }
     },
     "3e6af4fbc1fc4ca48356832e003182bf": {
      "model_module": "@jupyter-widgets/base",
      "model_module_version": "2.0.0",
      "model_name": "LayoutModel",
      "state": {}
     },
     "3e71b89fab0845d1ba2310fa6ee7cff2": {
      "model_module": "@jupyter-widgets/controls",
      "model_module_version": "2.0.0",
      "model_name": "FloatProgressModel",
      "state": {
       "bar_style": "success",
       "layout": "IPY_MODEL_fdacbff60f654c119435692d57c2502c",
       "max": 240,
       "style": "IPY_MODEL_c3bf9b8a42254afd9f203ebb83d22108",
       "value": 240
      }
     },
     "3e924d4009d84054ba11e336424b43cf": {
      "model_module": "@jupyter-widgets/controls",
      "model_module_version": "2.0.0",
      "model_name": "HTMLModel",
      "state": {
       "layout": "IPY_MODEL_dd6f34f3ecc749dd93768a284aa52ab6",
       "style": "IPY_MODEL_d1bd8dbf2f5340629428c6cf8089ccc4",
       "value": " 242/242 [01:53&lt;00:00,  2.21it/s]"
      }
     },
     "3ea5dd07124049bfaf6282605b87c768": {
      "model_module": "@jupyter-widgets/base",
      "model_module_version": "2.0.0",
      "model_name": "LayoutModel",
      "state": {}
     },
     "3f1454abca6f406fb9fb1dddacada171": {
      "model_module": "@jupyter-widgets/controls",
      "model_module_version": "2.0.0",
      "model_name": "HTMLStyleModel",
      "state": {
       "description_width": "",
       "font_size": null,
       "text_color": null
      }
     },
     "3f339e4dfa29408cb8d56085225b29ce": {
      "model_module": "@jupyter-widgets/controls",
      "model_module_version": "2.0.0",
      "model_name": "HTMLStyleModel",
      "state": {
       "description_width": "",
       "font_size": null,
       "text_color": null
      }
     },
     "3f37be2100094d259a9a5926d13b0e2b": {
      "model_module": "@jupyter-widgets/controls",
      "model_module_version": "2.0.0",
      "model_name": "HTMLStyleModel",
      "state": {
       "description_width": "",
       "font_size": null,
       "text_color": null
      }
     },
     "3fff2b9deb2b421ca1507f38c7eb3123": {
      "model_module": "@jupyter-widgets/base",
      "model_module_version": "2.0.0",
      "model_name": "LayoutModel",
      "state": {}
     },
     "402696b5cd3243ada1ffced53a81bc93": {
      "model_module": "@jupyter-widgets/base",
      "model_module_version": "2.0.0",
      "model_name": "LayoutModel",
      "state": {}
     },
     "4051449bebf6424196e7ecd36ea00d16": {
      "model_module": "@jupyter-widgets/controls",
      "model_module_version": "2.0.0",
      "model_name": "FloatProgressModel",
      "state": {
       "bar_style": "success",
       "layout": "IPY_MODEL_2460f1235a94424aa716d74bdb81a59e",
       "max": 264,
       "style": "IPY_MODEL_ad0cba3c14c4473ca4948d6aa96e7a47",
       "value": 264
      }
     },
     "405752c049bb472eb372fe77d60711b5": {
      "model_module": "@jupyter-widgets/controls",
      "model_module_version": "2.0.0",
      "model_name": "HTMLStyleModel",
      "state": {
       "description_width": "",
       "font_size": null,
       "text_color": null
      }
     },
     "4071213bfa9640d19d30ebb6e7ceff75": {
      "model_module": "@jupyter-widgets/base",
      "model_module_version": "2.0.0",
      "model_name": "LayoutModel",
      "state": {}
     },
     "407169e946e64bbd855edf329fae8bfd": {
      "model_module": "@jupyter-widgets/base",
      "model_module_version": "2.0.0",
      "model_name": "LayoutModel",
      "state": {}
     },
     "40aa2eb17899400eb6dbddf676339201": {
      "model_module": "@jupyter-widgets/controls",
      "model_module_version": "2.0.0",
      "model_name": "HBoxModel",
      "state": {
       "children": [
        "IPY_MODEL_b2f47263e0ca483faa767105edaf3cdd",
        "IPY_MODEL_500c8ceceaf54657985a6403e48079e0",
        "IPY_MODEL_bc2bfd079a8241969b30da97cea2ef96"
       ],
       "layout": "IPY_MODEL_6471927aab414ebc9174e830b7a4e16d"
      }
     },
     "4112827d2acf4954a1c984207dfb9111": {
      "model_module": "@jupyter-widgets/controls",
      "model_module_version": "2.0.0",
      "model_name": "FloatProgressModel",
      "state": {
       "bar_style": "success",
       "layout": "IPY_MODEL_17704388117143c08115475e224ddedc",
       "max": 180,
       "style": "IPY_MODEL_e62b3b3d7caa419ca92e165c14cbcaef",
       "value": 180
      }
     },
     "41623c6ade6d47f688805597623130ef": {
      "model_module": "@jupyter-widgets/base",
      "model_module_version": "2.0.0",
      "model_name": "LayoutModel",
      "state": {}
     },
     "41b8a56b6627479e982410ef5a788324": {
      "model_module": "@jupyter-widgets/controls",
      "model_module_version": "2.0.0",
      "model_name": "HTMLModel",
      "state": {
       "layout": "IPY_MODEL_b33b3c1d27b54e15aabd2a626f389cb1",
       "style": "IPY_MODEL_904992447f264503aeff4a87c42730e8",
       "value": "100%"
      }
     },
     "41c1eb918ed8479b8fefad711245a0fe": {
      "model_module": "@jupyter-widgets/controls",
      "model_module_version": "2.0.0",
      "model_name": "ProgressStyleModel",
      "state": {
       "description_width": ""
      }
     },
     "41e97d4a52aa4b739cb8e616a77b4fad": {
      "model_module": "@jupyter-widgets/controls",
      "model_module_version": "2.0.0",
      "model_name": "HBoxModel",
      "state": {
       "children": [
        "IPY_MODEL_61b37982508b4070995c62c810a85b76",
        "IPY_MODEL_974a0e87623445b996dc947a71254117",
        "IPY_MODEL_cb59a4661872451ba8b9c8639ccb6cc3"
       ],
       "layout": "IPY_MODEL_3100286c50d34ce2be5fdfc30f3ea737"
      }
     },
     "41fb269e8c4a40769f13e94b1c60ca83": {
      "model_module": "@jupyter-widgets/controls",
      "model_module_version": "2.0.0",
      "model_name": "HTMLStyleModel",
      "state": {
       "description_width": "",
       "font_size": null,
       "text_color": null
      }
     },
     "41fd38de7ddb45e2a74477050e4f71ba": {
      "model_module": "@jupyter-widgets/controls",
      "model_module_version": "2.0.0",
      "model_name": "HTMLStyleModel",
      "state": {
       "description_width": "",
       "font_size": null,
       "text_color": null
      }
     },
     "420d53bf3eb148a4b0f75fe7bfffe282": {
      "model_module": "@jupyter-widgets/controls",
      "model_module_version": "2.0.0",
      "model_name": "HBoxModel",
      "state": {
       "children": [
        "IPY_MODEL_372b464971994795b6df20cbc385d8a2",
        "IPY_MODEL_3b36edb103024be3b0bf91e58265b51f",
        "IPY_MODEL_6efd0abaa7774a929a6d629cd5e92803"
       ],
       "layout": "IPY_MODEL_f1b9048d67ae4fed81240f8e2fe4cf8b"
      }
     },
     "42113c8189d34deca697f8976cbecacc": {
      "model_module": "@jupyter-widgets/controls",
      "model_module_version": "2.0.0",
      "model_name": "HTMLStyleModel",
      "state": {
       "description_width": "",
       "font_size": null,
       "text_color": null
      }
     },
     "424aae941e38495197e8d3caa5856ed3": {
      "model_module": "@jupyter-widgets/controls",
      "model_module_version": "2.0.0",
      "model_name": "HTMLStyleModel",
      "state": {
       "description_width": "",
       "font_size": null,
       "text_color": null
      }
     },
     "42aca915f8a1447cafe2e26dda1dca36": {
      "model_module": "@jupyter-widgets/base",
      "model_module_version": "2.0.0",
      "model_name": "LayoutModel",
      "state": {}
     },
     "42e4fd02287c49a29467eca7bc23e089": {
      "model_module": "@jupyter-widgets/controls",
      "model_module_version": "2.0.0",
      "model_name": "HBoxModel",
      "state": {
       "children": [
        "IPY_MODEL_4fffc9fba8884d8c83988a358043301f",
        "IPY_MODEL_08bf1e48879f4a6abe0d3634a267ff8a",
        "IPY_MODEL_0c3677b886f34926be8c8840ae52df9b"
       ],
       "layout": "IPY_MODEL_7c86a8f28f3e457ea261093434eb9107"
      }
     },
     "42f679e92abd4232ba1f7960778cf950": {
      "model_module": "@jupyter-widgets/controls",
      "model_module_version": "2.0.0",
      "model_name": "HTMLModel",
      "state": {
       "layout": "IPY_MODEL_f1fdc8bf68284de08bde50001e7864da",
       "style": "IPY_MODEL_166a4f4f54d2416cbe393d85d66c9127",
       "value": " 273/273 [38:01&lt;00:00,  8.10s/it]"
      }
     },
     "432d5efb171f4ca3a412a54e142225ef": {
      "model_module": "@jupyter-widgets/controls",
      "model_module_version": "2.0.0",
      "model_name": "HTMLStyleModel",
      "state": {
       "description_width": "",
       "font_size": null,
       "text_color": null
      }
     },
     "4350f74853a940179d82039b9504271d": {
      "model_module": "@jupyter-widgets/controls",
      "model_module_version": "2.0.0",
      "model_name": "FloatProgressModel",
      "state": {
       "bar_style": "success",
       "layout": "IPY_MODEL_398690029737460d9b095b9971bff550",
       "max": 285,
       "style": "IPY_MODEL_735b8c9f2b764fc88a227bcb8cea3e72",
       "value": 285
      }
     },
     "435b3cc365d542219f2ae2dc3dbae356": {
      "model_module": "@jupyter-widgets/controls",
      "model_module_version": "2.0.0",
      "model_name": "FloatProgressModel",
      "state": {
       "bar_style": "success",
       "layout": "IPY_MODEL_a1511ca47dbf4cc9a252abff578ecd84",
       "max": 306,
       "style": "IPY_MODEL_35fe5cef57734b36982f2dc18aa279eb",
       "value": 306
      }
     },
     "438d0c319e1c4083892655c0b9dce5b2": {
      "model_module": "@jupyter-widgets/controls",
      "model_module_version": "2.0.0",
      "model_name": "HTMLModel",
      "state": {
       "layout": "IPY_MODEL_203cb5e88605417ca8376652d6921665",
       "style": "IPY_MODEL_e06d14950beb452c9469262301495869",
       "value": " 203/203 [01:34&lt;00:00,  2.20it/s]"
      }
     },
     "43953419faa04e95b39fe05599e49111": {
      "model_module": "@jupyter-widgets/controls",
      "model_module_version": "2.0.0",
      "model_name": "HTMLStyleModel",
      "state": {
       "description_width": "",
       "font_size": null,
       "text_color": null
      }
     },
     "43b91a42275644a48e70251aa030aa9f": {
      "model_module": "@jupyter-widgets/controls",
      "model_module_version": "2.0.0",
      "model_name": "FloatProgressModel",
      "state": {
       "bar_style": "success",
       "layout": "IPY_MODEL_163bf77d86a84828b54e2e5286fef8a8",
       "max": 222,
       "style": "IPY_MODEL_3de4eddc677148d0b2eaba2a7c09f007",
       "value": 222
      }
     },
     "440a66cb966642fcb093f8299bc44244": {
      "model_module": "@jupyter-widgets/controls",
      "model_module_version": "2.0.0",
      "model_name": "HBoxModel",
      "state": {
       "children": [
        "IPY_MODEL_f9dbfc42836d4f4d85d4e3e1729a8bbd",
        "IPY_MODEL_b7b20806d96a4a23930a212fedbba5ab",
        "IPY_MODEL_77f27b9b4ea74e3282fa82d70445e61b"
       ],
       "layout": "IPY_MODEL_283a257a8f384e4a8a77383bedcedf9a"
      }
     },
     "441380e1d70f4873a0ed481032f324a8": {
      "model_module": "@jupyter-widgets/base",
      "model_module_version": "2.0.0",
      "model_name": "LayoutModel",
      "state": {}
     },
     "44194dd99d164b22ae3019a661d547c0": {
      "model_module": "@jupyter-widgets/base",
      "model_module_version": "2.0.0",
      "model_name": "LayoutModel",
      "state": {}
     },
     "447dcd863247424686c6ba1e47638f76": {
      "model_module": "@jupyter-widgets/controls",
      "model_module_version": "2.0.0",
      "model_name": "HTMLStyleModel",
      "state": {
       "description_width": "",
       "font_size": null,
       "text_color": null
      }
     },
     "448b564a63b64e76b86a6d1d242e375e": {
      "model_module": "@jupyter-widgets/controls",
      "model_module_version": "2.0.0",
      "model_name": "ProgressStyleModel",
      "state": {
       "description_width": ""
      }
     },
     "450141f052cf4f19a7cf617781656361": {
      "model_module": "@jupyter-widgets/base",
      "model_module_version": "2.0.0",
      "model_name": "LayoutModel",
      "state": {}
     },
     "455993f4263f4ced8b7302d8342b756d": {
      "model_module": "@jupyter-widgets/controls",
      "model_module_version": "2.0.0",
      "model_name": "HTMLStyleModel",
      "state": {
       "description_width": "",
       "font_size": null,
       "text_color": null
      }
     },
     "4559a04e8d7d44c5be4315e527f222bb": {
      "model_module": "@jupyter-widgets/controls",
      "model_module_version": "2.0.0",
      "model_name": "FloatProgressModel",
      "state": {
       "bar_style": "success",
       "layout": "IPY_MODEL_b5b5610b33984c079611a34a041d2100",
       "max": 240,
       "style": "IPY_MODEL_849354ff85824ee88593215129d350d7",
       "value": 240
      }
     },
     "45745dd68bf34c109fed52fb0e7dc122": {
      "model_module": "@jupyter-widgets/base",
      "model_module_version": "2.0.0",
      "model_name": "LayoutModel",
      "state": {}
     },
     "459dfd48c0944ff7988a60b4a0848748": {
      "model_module": "@jupyter-widgets/controls",
      "model_module_version": "2.0.0",
      "model_name": "ProgressStyleModel",
      "state": {
       "description_width": ""
      }
     },
     "45a5a068dd4044fe8f414a024dac439c": {
      "model_module": "@jupyter-widgets/base",
      "model_module_version": "2.0.0",
      "model_name": "LayoutModel",
      "state": {}
     },
     "45b5abcd1a4244a49c0670901fee4ace": {
      "model_module": "@jupyter-widgets/controls",
      "model_module_version": "2.0.0",
      "model_name": "HTMLStyleModel",
      "state": {
       "description_width": "",
       "font_size": null,
       "text_color": null
      }
     },
     "45c23aa7c05c46baa61793a39816ce69": {
      "model_module": "@jupyter-widgets/controls",
      "model_module_version": "2.0.0",
      "model_name": "HTMLModel",
      "state": {
       "layout": "IPY_MODEL_6c45e013dbb64c53aa9355acfc37fc5d",
       "style": "IPY_MODEL_281392f7623347e2bd89ff913174193d",
       "value": "100%"
      }
     },
     "45d63146b59243b7a674066ac9a49c73": {
      "model_module": "@jupyter-widgets/controls",
      "model_module_version": "2.0.0",
      "model_name": "HTMLStyleModel",
      "state": {
       "description_width": "",
       "font_size": null,
       "text_color": null
      }
     },
     "45ecf53190d943c7852950bce1d553f2": {
      "model_module": "@jupyter-widgets/controls",
      "model_module_version": "2.0.0",
      "model_name": "FloatProgressModel",
      "state": {
       "bar_style": "success",
       "layout": "IPY_MODEL_eb543c0c812b4954a330b982d9faae33",
       "max": 511,
       "style": "IPY_MODEL_da56242ee57d49448cfc352628b76fde",
       "value": 511
      }
     },
     "464fe2bf99d849a79e9f0b2b2da7f001": {
      "model_module": "@jupyter-widgets/base",
      "model_module_version": "2.0.0",
      "model_name": "LayoutModel",
      "state": {}
     },
     "467a7b3f4839420f9c593b07e1568d83": {
      "model_module": "@jupyter-widgets/controls",
      "model_module_version": "2.0.0",
      "model_name": "HTMLModel",
      "state": {
       "layout": "IPY_MODEL_cb2d8f57ba5742a78c0385b424df873e",
       "style": "IPY_MODEL_7020b5741fe94737a4160622b25ee88f",
       "value": " 244/244 [01:55&lt;00:00,  2.11it/s]"
      }
     },
     "468b49fad74d4b43b902f42fb46a0ce0": {
      "model_module": "@jupyter-widgets/controls",
      "model_module_version": "2.0.0",
      "model_name": "HTMLModel",
      "state": {
       "layout": "IPY_MODEL_cf5384e7895c41c2add43d5a62534be7",
       "style": "IPY_MODEL_87c4d44cd7514a949f1605a53368bd02",
       "value": "100%"
      }
     },
     "469c322067f24f9fae7f0231b3bbf572": {
      "model_module": "@jupyter-widgets/controls",
      "model_module_version": "2.0.0",
      "model_name": "HTMLModel",
      "state": {
       "layout": "IPY_MODEL_2f13fb9520d14ab8b8b2bea1ef046068",
       "style": "IPY_MODEL_b810e0a92ff942a78d3e77e62f907d79",
       "value": " 122/472 [17:15&lt;43:35,  7.47s/it]"
      }
     },
     "46f1666b28184209886739aaee2410c2": {
      "model_module": "@jupyter-widgets/controls",
      "model_module_version": "2.0.0",
      "model_name": "HTMLModel",
      "state": {
       "layout": "IPY_MODEL_008b1f15613740839135fc1a1533fa6a",
       "style": "IPY_MODEL_f34861bc0e024ac5a39eb5c4aa31e175",
       "value": "100%"
      }
     },
     "47072110d2d74a19a8e0228fab43ff6c": {
      "model_module": "@jupyter-widgets/controls",
      "model_module_version": "2.0.0",
      "model_name": "HTMLModel",
      "state": {
       "layout": "IPY_MODEL_7f5cb2c0c19f4202ac2fa23416aaf0e6",
       "style": "IPY_MODEL_41fd38de7ddb45e2a74477050e4f71ba",
       "value": "100%"
      }
     },
     "4711daaa7b0541d8969a7f6294542274": {
      "model_module": "@jupyter-widgets/base",
      "model_module_version": "2.0.0",
      "model_name": "LayoutModel",
      "state": {}
     },
     "47144a70f2ed4a13b281f0d66ef82d81": {
      "model_module": "@jupyter-widgets/controls",
      "model_module_version": "2.0.0",
      "model_name": "HTMLStyleModel",
      "state": {
       "description_width": "",
       "font_size": null,
       "text_color": null
      }
     },
     "4729fe51473d4ca5a50f8bae87590352": {
      "model_module": "@jupyter-widgets/controls",
      "model_module_version": "2.0.0",
      "model_name": "ProgressStyleModel",
      "state": {
       "description_width": ""
      }
     },
     "477dbedf3ebb4f0db3b6682e085d739e": {
      "model_module": "@jupyter-widgets/controls",
      "model_module_version": "2.0.0",
      "model_name": "HBoxModel",
      "state": {
       "children": [
        "IPY_MODEL_15751784e5844f9dbcab6d3eccef86c5",
        "IPY_MODEL_b1451aeea705440b866cb7e3d1b2abce",
        "IPY_MODEL_370615f4688c412285fcd0c40c5b41d5"
       ],
       "layout": "IPY_MODEL_ca3a1cf5a8ad48809f14abbff0aba60a"
      }
     },
     "47837b49928f4b59a3952387caf7269b": {
      "model_module": "@jupyter-widgets/base",
      "model_module_version": "2.0.0",
      "model_name": "LayoutModel",
      "state": {}
     },
     "4784fcc6057c4e2d9672c63863de932d": {
      "model_module": "@jupyter-widgets/controls",
      "model_module_version": "2.0.0",
      "model_name": "ProgressStyleModel",
      "state": {
       "description_width": ""
      }
     },
     "478d274531c04275825ec84aec401513": {
      "model_module": "@jupyter-widgets/base",
      "model_module_version": "2.0.0",
      "model_name": "LayoutModel",
      "state": {}
     },
     "47f749f4c11349b9a3436d79601e1fb7": {
      "model_module": "@jupyter-widgets/controls",
      "model_module_version": "2.0.0",
      "model_name": "HTMLModel",
      "state": {
       "layout": "IPY_MODEL_fa27208b96bf44938bbfce086110cce4",
       "style": "IPY_MODEL_ef6d85cc6a6a4afca2bfa1c4fa232dda",
       "value": " 171/171 [01:19&lt;00:00,  2.16it/s]"
      }
     },
     "47fe81f094f44bb6be3ab47139c90826": {
      "model_module": "@jupyter-widgets/controls",
      "model_module_version": "2.0.0",
      "model_name": "FloatProgressModel",
      "state": {
       "bar_style": "success",
       "layout": "IPY_MODEL_11630ddc5c564bb6931a599255bd1f6a",
       "max": 149,
       "style": "IPY_MODEL_261eba3060b547f0ba1717bae3dd2b15",
       "value": 149
      }
     },
     "48528d81a64f42dcb5846f4c2c87e0d6": {
      "model_module": "@jupyter-widgets/base",
      "model_module_version": "2.0.0",
      "model_name": "LayoutModel",
      "state": {}
     },
     "489f9d351fdd4438b2be723936fa2bb0": {
      "model_module": "@jupyter-widgets/controls",
      "model_module_version": "2.0.0",
      "model_name": "HTMLStyleModel",
      "state": {
       "description_width": "",
       "font_size": null,
       "text_color": null
      }
     },
     "48b71cbce464482ead17b4d3d86fc1a9": {
      "model_module": "@jupyter-widgets/base",
      "model_module_version": "2.0.0",
      "model_name": "LayoutModel",
      "state": {}
     },
     "48c8f212ab234720ae4306814e9f43bd": {
      "model_module": "@jupyter-widgets/controls",
      "model_module_version": "2.0.0",
      "model_name": "HTMLStyleModel",
      "state": {
       "description_width": "",
       "font_size": null,
       "text_color": null
      }
     },
     "48fa33a59481463b910db0685aa10167": {
      "model_module": "@jupyter-widgets/controls",
      "model_module_version": "2.0.0",
      "model_name": "ProgressStyleModel",
      "state": {
       "description_width": ""
      }
     },
     "496ef78ec161485d9290787e1d30e0f6": {
      "model_module": "@jupyter-widgets/controls",
      "model_module_version": "2.0.0",
      "model_name": "HTMLModel",
      "state": {
       "layout": "IPY_MODEL_5b605e26ed1a44b5bf25bb14c3128841",
       "style": "IPY_MODEL_9e24b2e4fac4413dad88928725b45806",
       "value": " 242/242 [01:51&lt;00:00,  2.20it/s]"
      }
     },
     "49b80950ea674b539998d59b400e8d19": {
      "model_module": "@jupyter-widgets/base",
      "model_module_version": "2.0.0",
      "model_name": "LayoutModel",
      "state": {}
     },
     "49c71182aa254383a6717ee4658c456e": {
      "model_module": "@jupyter-widgets/base",
      "model_module_version": "2.0.0",
      "model_name": "LayoutModel",
      "state": {}
     },
     "49e5664ae3d440f2827e4eba5fae758f": {
      "model_module": "@jupyter-widgets/controls",
      "model_module_version": "2.0.0",
      "model_name": "HTMLModel",
      "state": {
       "layout": "IPY_MODEL_dc8ba3c7157748d2805a7deb6b3f8719",
       "style": "IPY_MODEL_feacf716679d469681bb22cb462c5b9e",
       "value": "100%"
      }
     },
     "4a711f50846e4694bd8ae4e98fa0b92f": {
      "model_module": "@jupyter-widgets/controls",
      "model_module_version": "2.0.0",
      "model_name": "FloatProgressModel",
      "state": {
       "bar_style": "success",
       "layout": "IPY_MODEL_6b087719647740d09adb8a1b86c62871",
       "max": 232,
       "style": "IPY_MODEL_bfa6553cabd341aa8b42b3a5aa3bcc2e",
       "value": 232
      }
     },
     "4a7d29063f0642ccae78a464a1217354": {
      "model_module": "@jupyter-widgets/base",
      "model_module_version": "2.0.0",
      "model_name": "LayoutModel",
      "state": {}
     },
     "4ae2822b4150469896e76dee1efdb188": {
      "model_module": "@jupyter-widgets/base",
      "model_module_version": "2.0.0",
      "model_name": "LayoutModel",
      "state": {}
     },
     "4b103fcb4e274217abba27e93afeda00": {
      "model_module": "@jupyter-widgets/controls",
      "model_module_version": "2.0.0",
      "model_name": "ProgressStyleModel",
      "state": {
       "description_width": ""
      }
     },
     "4b39d9b38c8c40559667dd0ffe85434b": {
      "model_module": "@jupyter-widgets/controls",
      "model_module_version": "2.0.0",
      "model_name": "FloatProgressModel",
      "state": {
       "bar_style": "success",
       "layout": "IPY_MODEL_a9ed65f882264e7b913bd6e3ee337f54",
       "max": 232,
       "style": "IPY_MODEL_6e8dac8788544632865d800ffc2096b7",
       "value": 232
      }
     },
     "4b90b326cd5646b6aa9f635daeaff00f": {
      "model_module": "@jupyter-widgets/controls",
      "model_module_version": "2.0.0",
      "model_name": "ProgressStyleModel",
      "state": {
       "description_width": ""
      }
     },
     "4bb4e2f706ac4bac8ff2610e6c7e0a23": {
      "model_module": "@jupyter-widgets/controls",
      "model_module_version": "2.0.0",
      "model_name": "HTMLModel",
      "state": {
       "layout": "IPY_MODEL_88001c424425447eb892ab1e91914b3d",
       "style": "IPY_MODEL_fcad318b28784e0881975a9681bf72f4",
       "value": "100%"
      }
     },
     "4bcd9cba0ffb46c59a6630f4262eafbc": {
      "model_module": "@jupyter-widgets/base",
      "model_module_version": "2.0.0",
      "model_name": "LayoutModel",
      "state": {}
     },
     "4bd6fc444fca4fea968b527f41cdffe2": {
      "model_module": "@jupyter-widgets/base",
      "model_module_version": "2.0.0",
      "model_name": "LayoutModel",
      "state": {}
     },
     "4c4efe1327cb4674af4848908ce5f996": {
      "model_module": "@jupyter-widgets/controls",
      "model_module_version": "2.0.0",
      "model_name": "HTMLStyleModel",
      "state": {
       "description_width": "",
       "font_size": null,
       "text_color": null
      }
     },
     "4c702e6f0f8b43ec97de0f55429ddd00": {
      "model_module": "@jupyter-widgets/controls",
      "model_module_version": "2.0.0",
      "model_name": "HTMLStyleModel",
      "state": {
       "description_width": "",
       "font_size": null,
       "text_color": null
      }
     },
     "4c893bbb77d84170a7a0ce7820323ffe": {
      "model_module": "@jupyter-widgets/base",
      "model_module_version": "2.0.0",
      "model_name": "LayoutModel",
      "state": {}
     },
     "4cef0d0b75064558a153f0f2177c82f2": {
      "model_module": "@jupyter-widgets/controls",
      "model_module_version": "2.0.0",
      "model_name": "FloatProgressModel",
      "state": {
       "bar_style": "success",
       "layout": "IPY_MODEL_d06417d61ffd44aa99b4da6b6bb57353",
       "max": 380,
       "style": "IPY_MODEL_1012a49e37de41d2a4ee99434fb339a8",
       "value": 380
      }
     },
     "4d12dfa4bfcd42a7a239461c456d7961": {
      "model_module": "@jupyter-widgets/controls",
      "model_module_version": "2.0.0",
      "model_name": "HTMLStyleModel",
      "state": {
       "description_width": "",
       "font_size": null,
       "text_color": null
      }
     },
     "4d258479f15746eeab778c20c72fd5ed": {
      "model_module": "@jupyter-widgets/base",
      "model_module_version": "2.0.0",
      "model_name": "LayoutModel",
      "state": {}
     },
     "4d683c6fc503414fbf813c449258b8e8": {
      "model_module": "@jupyter-widgets/base",
      "model_module_version": "2.0.0",
      "model_name": "LayoutModel",
      "state": {}
     },
     "4d844806193540bd8941634969e07407": {
      "model_module": "@jupyter-widgets/controls",
      "model_module_version": "2.0.0",
      "model_name": "HTMLStyleModel",
      "state": {
       "description_width": "",
       "font_size": null,
       "text_color": null
      }
     },
     "4dbc6bd488d347708564684abb59d4c5": {
      "model_module": "@jupyter-widgets/controls",
      "model_module_version": "2.0.0",
      "model_name": "HTMLStyleModel",
      "state": {
       "description_width": "",
       "font_size": null,
       "text_color": null
      }
     },
     "4de0582621b041d984b93b7b4af47460": {
      "model_module": "@jupyter-widgets/controls",
      "model_module_version": "2.0.0",
      "model_name": "HTMLStyleModel",
      "state": {
       "description_width": "",
       "font_size": null,
       "text_color": null
      }
     },
     "4e3354e214e24f8fafc56ac1ce19250a": {
      "model_module": "@jupyter-widgets/controls",
      "model_module_version": "2.0.0",
      "model_name": "HTMLStyleModel",
      "state": {
       "description_width": "",
       "font_size": null,
       "text_color": null
      }
     },
     "4e45f3a212d24225be0436b126d17347": {
      "model_module": "@jupyter-widgets/base",
      "model_module_version": "2.0.0",
      "model_name": "LayoutModel",
      "state": {}
     },
     "4e59532e3dba46c3874daced9ae734b0": {
      "model_module": "@jupyter-widgets/base",
      "model_module_version": "2.0.0",
      "model_name": "LayoutModel",
      "state": {}
     },
     "4e86ac7494844e81854d8f478c38d69c": {
      "model_module": "@jupyter-widgets/base",
      "model_module_version": "2.0.0",
      "model_name": "LayoutModel",
      "state": {}
     },
     "4e8dd05c93f94204906d49da102fdeee": {
      "model_module": "@jupyter-widgets/base",
      "model_module_version": "2.0.0",
      "model_name": "LayoutModel",
      "state": {}
     },
     "4ec6fef4b2db405d81fcd91f794573af": {
      "model_module": "@jupyter-widgets/controls",
      "model_module_version": "2.0.0",
      "model_name": "HTMLStyleModel",
      "state": {
       "description_width": "",
       "font_size": null,
       "text_color": null
      }
     },
     "4ed6bf64ece14ca6a01dc33b149b44c2": {
      "model_module": "@jupyter-widgets/controls",
      "model_module_version": "2.0.0",
      "model_name": "HTMLStyleModel",
      "state": {
       "description_width": "",
       "font_size": null,
       "text_color": null
      }
     },
     "4f0290df4fb04301954774cb0069f5a7": {
      "model_module": "@jupyter-widgets/controls",
      "model_module_version": "2.0.0",
      "model_name": "FloatProgressModel",
      "state": {
       "bar_style": "success",
       "layout": "IPY_MODEL_2e208d3459e14e15916d8f220165c251",
       "max": 242,
       "style": "IPY_MODEL_1fc30df502a54f45b7fac4b79e50eeb1",
       "value": 242
      }
     },
     "4f58187fd3814f54bd9307b7469b0710": {
      "model_module": "@jupyter-widgets/controls",
      "model_module_version": "2.0.0",
      "model_name": "HTMLModel",
      "state": {
       "layout": "IPY_MODEL_87907b904fcb457fa9f630118dfa10ac",
       "style": "IPY_MODEL_bb79ce1d6f754dc3a3719d94c89b8302",
       "value": " 184/184 [01:24&lt;00:00,  2.25it/s]"
      }
     },
     "4f69013e6e1a48a4b283296ea6c7f8d0": {
      "model_module": "@jupyter-widgets/base",
      "model_module_version": "2.0.0",
      "model_name": "LayoutModel",
      "state": {}
     },
     "4f93212902694842aeaf799a150d104e": {
      "model_module": "@jupyter-widgets/base",
      "model_module_version": "2.0.0",
      "model_name": "LayoutModel",
      "state": {}
     },
     "4fcefe43950344cd97632f56a5cc56d6": {
      "model_module": "@jupyter-widgets/controls",
      "model_module_version": "2.0.0",
      "model_name": "HTMLStyleModel",
      "state": {
       "description_width": "",
       "font_size": null,
       "text_color": null
      }
     },
     "4ff51dae8a1a434790f2b80457166b72": {
      "model_module": "@jupyter-widgets/base",
      "model_module_version": "2.0.0",
      "model_name": "LayoutModel",
      "state": {}
     },
     "4fffc9fba8884d8c83988a358043301f": {
      "model_module": "@jupyter-widgets/controls",
      "model_module_version": "2.0.0",
      "model_name": "HTMLModel",
      "state": {
       "layout": "IPY_MODEL_a9d6530be39a42dea73a398bfe9ca671",
       "style": "IPY_MODEL_eaa70b3e93aa495d9afe1f3605499d5c",
       "value": "100%"
      }
     },
     "500c8ceceaf54657985a6403e48079e0": {
      "model_module": "@jupyter-widgets/controls",
      "model_module_version": "2.0.0",
      "model_name": "FloatProgressModel",
      "state": {
       "bar_style": "success",
       "layout": "IPY_MODEL_1faf590cc0d44b85ab407d3e98d5895e",
       "max": 244,
       "style": "IPY_MODEL_be2c4503b641461ca62cea56c866b36f",
       "value": 244
      }
     },
     "500ff08fb7d044459cb780afffbd9da8": {
      "model_module": "@jupyter-widgets/base",
      "model_module_version": "2.0.0",
      "model_name": "LayoutModel",
      "state": {}
     },
     "501731deeac144219c19fd3060b86deb": {
      "model_module": "@jupyter-widgets/controls",
      "model_module_version": "2.0.0",
      "model_name": "HTMLModel",
      "state": {
       "layout": "IPY_MODEL_36fb2b6527394244805871cf84e75a2b",
       "style": "IPY_MODEL_a37622756d8447b493668f65c20f2750",
       "value": "100%"
      }
     },
     "5047b812bbda45399a6610994596c0e7": {
      "model_module": "@jupyter-widgets/controls",
      "model_module_version": "2.0.0",
      "model_name": "HBoxModel",
      "state": {
       "children": [
        "IPY_MODEL_7aee0a567dc94cdf8ba39002dfdc980d",
        "IPY_MODEL_97c339492b264ba1873534bf19c9ebd8",
        "IPY_MODEL_2faa72730f2f44fc854f5a4c0aee2f5c"
       ],
       "layout": "IPY_MODEL_b6b09e4f4b394c7a86e8321572c579bc"
      }
     },
     "505626e406644d08976d16cc90a53b24": {
      "model_module": "@jupyter-widgets/controls",
      "model_module_version": "2.0.0",
      "model_name": "FloatProgressModel",
      "state": {
       "bar_style": "success",
       "layout": "IPY_MODEL_02a2d72952c345c1876283f83d036595",
       "max": 236,
       "style": "IPY_MODEL_f340bfda7b904661925a7ba8ccc87af6",
       "value": 236
      }
     },
     "5065296d6abc46b4a64e54ad68c694c6": {
      "model_module": "@jupyter-widgets/controls",
      "model_module_version": "2.0.0",
      "model_name": "HTMLModel",
      "state": {
       "layout": "IPY_MODEL_6f3982732af94d9d85d3d65826f2f7fd",
       "style": "IPY_MODEL_b90a7a553e1444898e335a942cc46733",
       "value": " 247/247 [01:53&lt;00:00,  2.13it/s]"
      }
     },
     "507939bb467c43ca8cf6381e0a6476bf": {
      "model_module": "@jupyter-widgets/controls",
      "model_module_version": "2.0.0",
      "model_name": "HTMLStyleModel",
      "state": {
       "description_width": "",
       "font_size": null,
       "text_color": null
      }
     },
     "507dc7ea3b1f4afaa07ebf46fdce49d4": {
      "model_module": "@jupyter-widgets/base",
      "model_module_version": "2.0.0",
      "model_name": "LayoutModel",
      "state": {}
     },
     "5083e8d17ae54019a3be6e55a95c51dd": {
      "model_module": "@jupyter-widgets/base",
      "model_module_version": "2.0.0",
      "model_name": "LayoutModel",
      "state": {}
     },
     "50d5bac6ec984178af6feb4c7acd0029": {
      "model_module": "@jupyter-widgets/controls",
      "model_module_version": "2.0.0",
      "model_name": "HBoxModel",
      "state": {
       "children": [
        "IPY_MODEL_7dfa60cfa01c436a81d9088d6ee33d27",
        "IPY_MODEL_0e34a9e5e7d14c34863ec74cb8817b28",
        "IPY_MODEL_7067cdf919da4e5ab0143c10809b490f"
       ],
       "layout": "IPY_MODEL_678a05d71ae54861bb874711ea982492"
      }
     },
     "510320b85b3d43c99b3001d73e024f9a": {
      "model_module": "@jupyter-widgets/controls",
      "model_module_version": "2.0.0",
      "model_name": "HTMLStyleModel",
      "state": {
       "description_width": "",
       "font_size": null,
       "text_color": null
      }
     },
     "512a52e9afb94309af8f8e17b2f9309a": {
      "model_module": "@jupyter-widgets/base",
      "model_module_version": "2.0.0",
      "model_name": "LayoutModel",
      "state": {}
     },
     "51351316557b4da38725f03cab369869": {
      "model_module": "@jupyter-widgets/base",
      "model_module_version": "2.0.0",
      "model_name": "LayoutModel",
      "state": {}
     },
     "5182c5e0590d46dd8d7c34cf7c7f8c16": {
      "model_module": "@jupyter-widgets/controls",
      "model_module_version": "2.0.0",
      "model_name": "HTMLStyleModel",
      "state": {
       "description_width": "",
       "font_size": null,
       "text_color": null
      }
     },
     "51bbbd55a0c34c22a9a405274d2b0a10": {
      "model_module": "@jupyter-widgets/controls",
      "model_module_version": "2.0.0",
      "model_name": "FloatProgressModel",
      "state": {
       "bar_style": "success",
       "layout": "IPY_MODEL_ffa55285e351443ea16cfc903d496474",
       "max": 242,
       "style": "IPY_MODEL_9eafcba87d6f44ad9592b6aa12e3aa87",
       "value": 242
      }
     },
     "51d1f78d791740b49c69a7eab343e271": {
      "model_module": "@jupyter-widgets/base",
      "model_module_version": "2.0.0",
      "model_name": "LayoutModel",
      "state": {}
     },
     "51e440d4b9204f2a8a7f7413210e5608": {
      "model_module": "@jupyter-widgets/controls",
      "model_module_version": "2.0.0",
      "model_name": "HTMLStyleModel",
      "state": {
       "description_width": "",
       "font_size": null,
       "text_color": null
      }
     },
     "51fdacc306d0478381c3f67573ad2864": {
      "model_module": "@jupyter-widgets/base",
      "model_module_version": "2.0.0",
      "model_name": "LayoutModel",
      "state": {}
     },
     "529db78138bd42378abd97a4c3f6f837": {
      "model_module": "@jupyter-widgets/base",
      "model_module_version": "2.0.0",
      "model_name": "LayoutModel",
      "state": {}
     },
     "52cdd7e71632450a9d325f990c30c5ed": {
      "model_module": "@jupyter-widgets/controls",
      "model_module_version": "2.0.0",
      "model_name": "ProgressStyleModel",
      "state": {
       "description_width": ""
      }
     },
     "52dbf1cefca649bdae8ac0273a511ce7": {
      "model_module": "@jupyter-widgets/controls",
      "model_module_version": "2.0.0",
      "model_name": "ProgressStyleModel",
      "state": {
       "description_width": ""
      }
     },
     "52e1a67ff5b543d0808556b80d98e224": {
      "model_module": "@jupyter-widgets/controls",
      "model_module_version": "2.0.0",
      "model_name": "HTMLStyleModel",
      "state": {
       "description_width": "",
       "font_size": null,
       "text_color": null
      }
     },
     "530c10048ac74e27ba7ed0d11cbd57b4": {
      "model_module": "@jupyter-widgets/controls",
      "model_module_version": "2.0.0",
      "model_name": "FloatProgressModel",
      "state": {
       "bar_style": "success",
       "layout": "IPY_MODEL_51d1f78d791740b49c69a7eab343e271",
       "max": 244,
       "style": "IPY_MODEL_1030332cb37449b987f6be3d859ed20f",
       "value": 244
      }
     },
     "5354cd9d70c04e01bb4b215f0805beab": {
      "model_module": "@jupyter-widgets/controls",
      "model_module_version": "2.0.0",
      "model_name": "ProgressStyleModel",
      "state": {
       "description_width": ""
      }
     },
     "535731223c3a45ff8835f50712fdc482": {
      "model_module": "@jupyter-widgets/controls",
      "model_module_version": "2.0.0",
      "model_name": "FloatProgressModel",
      "state": {
       "bar_style": "success",
       "layout": "IPY_MODEL_8fa516a6e76a42e4a8c522f7ee5e3ec7",
       "max": 241,
       "style": "IPY_MODEL_459dfd48c0944ff7988a60b4a0848748",
       "value": 241
      }
     },
     "536ae03ff85a46dead5b0e967df3cfe6": {
      "model_module": "@jupyter-widgets/controls",
      "model_module_version": "2.0.0",
      "model_name": "HTMLModel",
      "state": {
       "layout": "IPY_MODEL_b7622293bde2433786bc3497b1c7c802",
       "style": "IPY_MODEL_4fcefe43950344cd97632f56a5cc56d6",
       "value": " 242/242 [01:51&lt;00:00,  2.22it/s]"
      }
     },
     "53732e5b4c654cd09efb8c802474bb7f": {
      "model_module": "@jupyter-widgets/controls",
      "model_module_version": "2.0.0",
      "model_name": "HTMLStyleModel",
      "state": {
       "description_width": "",
       "font_size": null,
       "text_color": null
      }
     },
     "53974af1b75947be9f03f956a894f532": {
      "model_module": "@jupyter-widgets/controls",
      "model_module_version": "2.0.0",
      "model_name": "HTMLModel",
      "state": {
       "layout": "IPY_MODEL_4f69013e6e1a48a4b283296ea6c7f8d0",
       "style": "IPY_MODEL_f8e53c3400e441f2854e732efa145e5b",
       "value": "100%"
      }
     },
     "539c75541045404db837169e096b1cd7": {
      "model_module": "@jupyter-widgets/base",
      "model_module_version": "2.0.0",
      "model_name": "LayoutModel",
      "state": {}
     },
     "53a910d51cc54d21833974033fe23522": {
      "model_module": "@jupyter-widgets/base",
      "model_module_version": "2.0.0",
      "model_name": "LayoutModel",
      "state": {}
     },
     "53c2adcec4624c0f89b9743f35fab21c": {
      "model_module": "@jupyter-widgets/base",
      "model_module_version": "2.0.0",
      "model_name": "LayoutModel",
      "state": {}
     },
     "53c966b920c34cdcad1fe187831093c5": {
      "model_module": "@jupyter-widgets/controls",
      "model_module_version": "2.0.0",
      "model_name": "HTMLStyleModel",
      "state": {
       "description_width": "",
       "font_size": null,
       "text_color": null
      }
     },
     "53de9b666dd54a7ba4831d4755690be5": {
      "model_module": "@jupyter-widgets/controls",
      "model_module_version": "2.0.0",
      "model_name": "HTMLStyleModel",
      "state": {
       "description_width": "",
       "font_size": null,
       "text_color": null
      }
     },
     "53e67b7552b141769a480131634756b7": {
      "model_module": "@jupyter-widgets/controls",
      "model_module_version": "2.0.0",
      "model_name": "FloatProgressModel",
      "state": {
       "bar_style": "success",
       "layout": "IPY_MODEL_7a65f4ea7a40455f8d26d5d085f12586",
       "max": 310,
       "style": "IPY_MODEL_a1c654d85b4d44998b7fa18f16751aed",
       "value": 310
      }
     },
     "546a27d455f04f788d00e5f2d1eda043": {
      "model_module": "@jupyter-widgets/controls",
      "model_module_version": "2.0.0",
      "model_name": "HTMLModel",
      "state": {
       "layout": "IPY_MODEL_56f25dd060544025963243fad4b9af2a",
       "style": "IPY_MODEL_0d1c114ef0b34c2e82dafd76bbcec4ad",
       "value": "100%"
      }
     },
     "546b63b6dc614fbab0f84bbff1c461c0": {
      "model_module": "@jupyter-widgets/base",
      "model_module_version": "2.0.0",
      "model_name": "LayoutModel",
      "state": {}
     },
     "546df43508a74fd5a62417b1bc4634ce": {
      "model_module": "@jupyter-widgets/controls",
      "model_module_version": "2.0.0",
      "model_name": "ProgressStyleModel",
      "state": {
       "description_width": ""
      }
     },
     "548be1b51efe47b18c19c06b465b2f67": {
      "model_module": "@jupyter-widgets/base",
      "model_module_version": "2.0.0",
      "model_name": "LayoutModel",
      "state": {}
     },
     "54aa7d6a6daf47649f0f5231ce7d8cfe": {
      "model_module": "@jupyter-widgets/base",
      "model_module_version": "2.0.0",
      "model_name": "LayoutModel",
      "state": {}
     },
     "55014010eeb44acfaf2a77d73cf20061": {
      "model_module": "@jupyter-widgets/base",
      "model_module_version": "2.0.0",
      "model_name": "LayoutModel",
      "state": {}
     },
     "5522beb0fcbc4e9db3d70d130e7eb01d": {
      "model_module": "@jupyter-widgets/base",
      "model_module_version": "2.0.0",
      "model_name": "LayoutModel",
      "state": {}
     },
     "552ade25ae7d478c932813596d4d6180": {
      "model_module": "@jupyter-widgets/base",
      "model_module_version": "2.0.0",
      "model_name": "LayoutModel",
      "state": {}
     },
     "558a75eba597497a8fd74847c3f1190e": {
      "model_module": "@jupyter-widgets/base",
      "model_module_version": "2.0.0",
      "model_name": "LayoutModel",
      "state": {}
     },
     "55a1a435a7ca40da8a42ff5cc035a8a4": {
      "model_module": "@jupyter-widgets/controls",
      "model_module_version": "2.0.0",
      "model_name": "HBoxModel",
      "state": {
       "children": [
        "IPY_MODEL_c8ce589d3cc84902b9cbe05e20d8b636",
        "IPY_MODEL_7e1a41ecd0b34a88934a6917603f4428",
        "IPY_MODEL_edeec49757714c549485cfece0641296"
       ],
       "layout": "IPY_MODEL_acdd066736ed4c07b02f72375f0b22c1"
      }
     },
     "55c3b83040414e21928d8773262da541": {
      "model_module": "@jupyter-widgets/controls",
      "model_module_version": "2.0.0",
      "model_name": "HBoxModel",
      "state": {
       "children": [
        "IPY_MODEL_14d56654037449799a1e3cf52bf0dc88",
        "IPY_MODEL_53e67b7552b141769a480131634756b7",
        "IPY_MODEL_90159bdac302433c8896f43184ec87db"
       ],
       "layout": "IPY_MODEL_dd5f82698ef242bea64c3cfd5019d8c5"
      }
     },
     "55c6eb6b707c47e3bb904647185843ec": {
      "model_module": "@jupyter-widgets/base",
      "model_module_version": "2.0.0",
      "model_name": "LayoutModel",
      "state": {}
     },
     "55da0386aa164c2390ca228184d26df2": {
      "model_module": "@jupyter-widgets/base",
      "model_module_version": "2.0.0",
      "model_name": "LayoutModel",
      "state": {}
     },
     "5622974e4e054c7eadf03da63c75c275": {
      "model_module": "@jupyter-widgets/base",
      "model_module_version": "2.0.0",
      "model_name": "LayoutModel",
      "state": {}
     },
     "5624109d1a04404b9ec3d9fab0dd2f72": {
      "model_module": "@jupyter-widgets/controls",
      "model_module_version": "2.0.0",
      "model_name": "HBoxModel",
      "state": {
       "children": [
        "IPY_MODEL_c5c9b6fcd9eb4f2595c78666a88da41b",
        "IPY_MODEL_8aaba090d7c94dbca8b9dad304be6001",
        "IPY_MODEL_ab902de2afee4a609bb6a656a5dafeeb"
       ],
       "layout": "IPY_MODEL_03000b0734d94b05a3ef3ebe9dbf7287"
      }
     },
     "564370879e4247d9b04213685ce5ae48": {
      "model_module": "@jupyter-widgets/controls",
      "model_module_version": "2.0.0",
      "model_name": "HTMLStyleModel",
      "state": {
       "description_width": "",
       "font_size": null,
       "text_color": null
      }
     },
     "56596360adf340d499a74cb2c33f19fa": {
      "model_module": "@jupyter-widgets/base",
      "model_module_version": "2.0.0",
      "model_name": "LayoutModel",
      "state": {}
     },
     "56c3f6e06f0c46e99790f529e4ed64dd": {
      "model_module": "@jupyter-widgets/controls",
      "model_module_version": "2.0.0",
      "model_name": "HTMLStyleModel",
      "state": {
       "description_width": "",
       "font_size": null,
       "text_color": null
      }
     },
     "56c929e2b2f2486f85f6160273e711ff": {
      "model_module": "@jupyter-widgets/controls",
      "model_module_version": "2.0.0",
      "model_name": "ProgressStyleModel",
      "state": {
       "description_width": ""
      }
     },
     "56f25dd060544025963243fad4b9af2a": {
      "model_module": "@jupyter-widgets/base",
      "model_module_version": "2.0.0",
      "model_name": "LayoutModel",
      "state": {}
     },
     "56f43b7e1712464d8d4b7ca641db974c": {
      "model_module": "@jupyter-widgets/base",
      "model_module_version": "2.0.0",
      "model_name": "LayoutModel",
      "state": {}
     },
     "571c6709e0874d1ca7e9b4f232d81c31": {
      "model_module": "@jupyter-widgets/controls",
      "model_module_version": "2.0.0",
      "model_name": "HTMLStyleModel",
      "state": {
       "description_width": "",
       "font_size": null,
       "text_color": null
      }
     },
     "572f1053248848daafcd6df0745fcbcf": {
      "model_module": "@jupyter-widgets/base",
      "model_module_version": "2.0.0",
      "model_name": "LayoutModel",
      "state": {}
     },
     "575bea596b2346a19f087f9303a1f776": {
      "model_module": "@jupyter-widgets/controls",
      "model_module_version": "2.0.0",
      "model_name": "ProgressStyleModel",
      "state": {
       "description_width": ""
      }
     },
     "57a3475f732447f3a04d6d435cb39207": {
      "model_module": "@jupyter-widgets/base",
      "model_module_version": "2.0.0",
      "model_name": "LayoutModel",
      "state": {}
     },
     "582077c38e47441ba02fb6ed6702310c": {
      "model_module": "@jupyter-widgets/controls",
      "model_module_version": "2.0.0",
      "model_name": "HBoxModel",
      "state": {
       "children": [
        "IPY_MODEL_dab57ef0ee8749339650b634c540e967",
        "IPY_MODEL_a345ad44e73344eba854422167f6f89d",
        "IPY_MODEL_1e8a8dc097994f4a8a662fcb18105b8f"
       ],
       "layout": "IPY_MODEL_51351316557b4da38725f03cab369869"
      }
     },
     "585acaa6a3654c9f9cdd690727a62b41": {
      "model_module": "@jupyter-widgets/base",
      "model_module_version": "2.0.0",
      "model_name": "LayoutModel",
      "state": {}
     },
     "586e41c389d046fe99126296b43ed085": {
      "model_module": "@jupyter-widgets/controls",
      "model_module_version": "2.0.0",
      "model_name": "HTMLModel",
      "state": {
       "layout": "IPY_MODEL_865ba078549c4033be3cdb2f121859fc",
       "style": "IPY_MODEL_cd919d7f18e246f0922ea727e3c543f3",
       "value": "100%"
      }
     },
     "588563c4b505470cb0b7f73687810b2d": {
      "model_module": "@jupyter-widgets/base",
      "model_module_version": "2.0.0",
      "model_name": "LayoutModel",
      "state": {}
     },
     "58b78dc74b684073b4903188b09be777": {
      "model_module": "@jupyter-widgets/controls",
      "model_module_version": "2.0.0",
      "model_name": "ProgressStyleModel",
      "state": {
       "description_width": ""
      }
     },
     "58f3948c3b8843069bccb59bf710d2ad": {
      "model_module": "@jupyter-widgets/controls",
      "model_module_version": "2.0.0",
      "model_name": "HBoxModel",
      "state": {
       "children": [
        "IPY_MODEL_7e2c3728558349808d9e2a1355dece67",
        "IPY_MODEL_08455469202f44f0ae056f9d5adceb6b",
        "IPY_MODEL_a5dca7860d58450d85e60a50944eb87f"
       ],
       "layout": "IPY_MODEL_bf58723d10ca48b090cf1ee1af422374"
      }
     },
     "58fd1592373446bba4574d91b05623ad": {
      "model_module": "@jupyter-widgets/base",
      "model_module_version": "2.0.0",
      "model_name": "LayoutModel",
      "state": {}
     },
     "590d0dfaa8304ef4a9a5a68c8f56e003": {
      "model_module": "@jupyter-widgets/controls",
      "model_module_version": "2.0.0",
      "model_name": "HTMLModel",
      "state": {
       "layout": "IPY_MODEL_56f43b7e1712464d8d4b7ca641db974c",
       "style": "IPY_MODEL_9c0ece2435e44feda9bf9a571d0a1710",
       "value": " 186/186 [01:26&lt;00:00,  2.21it/s]"
      }
     },
     "591ca4a056ce42d786c3b479127c35de": {
      "model_module": "@jupyter-widgets/controls",
      "model_module_version": "2.0.0",
      "model_name": "ProgressStyleModel",
      "state": {
       "description_width": ""
      }
     },
     "59394b0388eb47c08a5e312931916b01": {
      "model_module": "@jupyter-widgets/controls",
      "model_module_version": "2.0.0",
      "model_name": "HTMLStyleModel",
      "state": {
       "description_width": "",
       "font_size": null,
       "text_color": null
      }
     },
     "594568bc02f24eb7ba5e61198b3aa594": {
      "model_module": "@jupyter-widgets/base",
      "model_module_version": "2.0.0",
      "model_name": "LayoutModel",
      "state": {}
     },
     "59e12ad0649e4009ad269b374b9836aa": {
      "model_module": "@jupyter-widgets/base",
      "model_module_version": "2.0.0",
      "model_name": "LayoutModel",
      "state": {}
     },
     "5a45dbe58bd446d5af14f1169b493511": {
      "model_module": "@jupyter-widgets/controls",
      "model_module_version": "2.0.0",
      "model_name": "HTMLStyleModel",
      "state": {
       "description_width": "",
       "font_size": null,
       "text_color": null
      }
     },
     "5a59b4ce0fe44f598891e9426a0dad2b": {
      "model_module": "@jupyter-widgets/controls",
      "model_module_version": "2.0.0",
      "model_name": "HTMLStyleModel",
      "state": {
       "description_width": "",
       "font_size": null,
       "text_color": null
      }
     },
     "5a922dc76c6346fe83974bc8698ffbfa": {
      "model_module": "@jupyter-widgets/controls",
      "model_module_version": "2.0.0",
      "model_name": "FloatProgressModel",
      "state": {
       "bar_style": "success",
       "layout": "IPY_MODEL_5522beb0fcbc4e9db3d70d130e7eb01d",
       "max": 162,
       "style": "IPY_MODEL_0b177a1e881940c0baaa92cd558ed2f5",
       "value": 162
      }
     },
     "5ac13c1c02284cbcb0870be2c61392c5": {
      "model_module": "@jupyter-widgets/controls",
      "model_module_version": "2.0.0",
      "model_name": "ProgressStyleModel",
      "state": {
       "description_width": ""
      }
     },
     "5ada7b9c68e943b184a53e6423a92674": {
      "model_module": "@jupyter-widgets/controls",
      "model_module_version": "2.0.0",
      "model_name": "HBoxModel",
      "state": {
       "children": [
        "IPY_MODEL_ef348bbbcc55456ebf1ebfe197810745",
        "IPY_MODEL_0e9fe9e792d849fcac458e62e23a8229",
        "IPY_MODEL_957e336929ea4e389eeaed38ef8d9ce9"
       ],
       "layout": "IPY_MODEL_6a8fd50a403746b2b5dd473d2bb0512d"
      }
     },
     "5aeae0fc20b14a7b91f1e550301d5139": {
      "model_module": "@jupyter-widgets/base",
      "model_module_version": "2.0.0",
      "model_name": "LayoutModel",
      "state": {}
     },
     "5b07057aacd441aeb8970b0eeb738b32": {
      "model_module": "@jupyter-widgets/base",
      "model_module_version": "2.0.0",
      "model_name": "LayoutModel",
      "state": {}
     },
     "5b10c341a8cd429392cc5ed031fbd2ce": {
      "model_module": "@jupyter-widgets/base",
      "model_module_version": "2.0.0",
      "model_name": "LayoutModel",
      "state": {}
     },
     "5b1d192924cf43a2b1646024fbc477dc": {
      "model_module": "@jupyter-widgets/controls",
      "model_module_version": "2.0.0",
      "model_name": "HBoxModel",
      "state": {
       "children": [
        "IPY_MODEL_d809d312e76a450993df2c1b756b3f6a",
        "IPY_MODEL_697856462c064c548b6ee307a5ba88ea",
        "IPY_MODEL_863af5ec128542ebb4441e78f70f85ce"
       ],
       "layout": "IPY_MODEL_72c1158278424fb2a6bbf944c8dd119b"
      }
     },
     "5b372424a30745abb4188f8ba13e1aca": {
      "model_module": "@jupyter-widgets/controls",
      "model_module_version": "2.0.0",
      "model_name": "HBoxModel",
      "state": {
       "children": [
        "IPY_MODEL_0664770e538a4fa39a483f6edcefee2a",
        "IPY_MODEL_1ba0e69400324ca487357796b0800501",
        "IPY_MODEL_636738c2c965468fae739c4e92f0923c"
       ],
       "layout": "IPY_MODEL_e1ed454e0007406db5aa914eec80b51e"
      }
     },
     "5b41d210413a485985e4265e66350d1e": {
      "model_module": "@jupyter-widgets/controls",
      "model_module_version": "2.0.0",
      "model_name": "HTMLModel",
      "state": {
       "layout": "IPY_MODEL_a149340c62864dd2bd5de7f152936765",
       "style": "IPY_MODEL_76268143c8ee413d8357fce6420ebb53",
       "value": "100%"
      }
     },
     "5b605e26ed1a44b5bf25bb14c3128841": {
      "model_module": "@jupyter-widgets/base",
      "model_module_version": "2.0.0",
      "model_name": "LayoutModel",
      "state": {}
     },
     "5b74b372a7404308836dc7fd223a2405": {
      "model_module": "@jupyter-widgets/controls",
      "model_module_version": "2.0.0",
      "model_name": "ProgressStyleModel",
      "state": {
       "description_width": ""
      }
     },
     "5b7946f3db234644a08b57d1e6b1c58a": {
      "model_module": "@jupyter-widgets/controls",
      "model_module_version": "2.0.0",
      "model_name": "HTMLModel",
      "state": {
       "layout": "IPY_MODEL_585acaa6a3654c9f9cdd690727a62b41",
       "style": "IPY_MODEL_1992379675394bab9126947f344ad23a",
       "value": " 181/181 [01:23&lt;00:00,  2.18it/s]"
      }
     },
     "5b845eed0e6f49c586d0dbd49844df9d": {
      "model_module": "@jupyter-widgets/base",
      "model_module_version": "2.0.0",
      "model_name": "LayoutModel",
      "state": {}
     },
     "5b981efbf55d4c8098947e0afcb45ebe": {
      "model_module": "@jupyter-widgets/base",
      "model_module_version": "2.0.0",
      "model_name": "LayoutModel",
      "state": {}
     },
     "5b9a15d35f1f42eb9c6cb50c9122c3f4": {
      "model_module": "@jupyter-widgets/base",
      "model_module_version": "2.0.0",
      "model_name": "LayoutModel",
      "state": {}
     },
     "5bcd568000ad4f7091e7c40262b46066": {
      "model_module": "@jupyter-widgets/controls",
      "model_module_version": "2.0.0",
      "model_name": "HTMLStyleModel",
      "state": {
       "description_width": "",
       "font_size": null,
       "text_color": null
      }
     },
     "5bea3791713a457b8efec526c421b11c": {
      "model_module": "@jupyter-widgets/controls",
      "model_module_version": "2.0.0",
      "model_name": "ProgressStyleModel",
      "state": {
       "description_width": ""
      }
     },
     "5c93b96fba304e1daab215c94b283db0": {
      "model_module": "@jupyter-widgets/base",
      "model_module_version": "2.0.0",
      "model_name": "LayoutModel",
      "state": {}
     },
     "5c989b77b661419bb5f116f60eebe35a": {
      "model_module": "@jupyter-widgets/controls",
      "model_module_version": "2.0.0",
      "model_name": "HTMLStyleModel",
      "state": {
       "description_width": "",
       "font_size": null,
       "text_color": null
      }
     },
     "5ccc49126471472e9ba22ccd9b8d2fde": {
      "model_module": "@jupyter-widgets/controls",
      "model_module_version": "2.0.0",
      "model_name": "HTMLModel",
      "state": {
       "layout": "IPY_MODEL_5083e8d17ae54019a3be6e55a95c51dd",
       "style": "IPY_MODEL_16c193f2c7bf40c3b21929e0d87cd5e1",
       "value": " 378/378 [03:01&lt;00:00,  2.14it/s]"
      }
     },
     "5d0c23d2b76d4513af3294bdae6553ab": {
      "model_module": "@jupyter-widgets/controls",
      "model_module_version": "2.0.0",
      "model_name": "HTMLModel",
      "state": {
       "layout": "IPY_MODEL_55014010eeb44acfaf2a77d73cf20061",
       "style": "IPY_MODEL_a65b119f06d8437eb0b9520c07ff223c",
       "value": "100%"
      }
     },
     "5d2ac4db833c441badab3a5f964e3de3": {
      "model_module": "@jupyter-widgets/base",
      "model_module_version": "2.0.0",
      "model_name": "LayoutModel",
      "state": {}
     },
     "5d33c1fdd5a1438b88d250c3407b9106": {
      "model_module": "@jupyter-widgets/controls",
      "model_module_version": "2.0.0",
      "model_name": "HTMLModel",
      "state": {
       "layout": "IPY_MODEL_7cee5e018d764819aeba89b9870dd3fb",
       "style": "IPY_MODEL_d06e3fcd89024f89b10f0a2061eed836",
       "value": " 240/240 [01:52&lt;00:00,  2.19it/s]"
      }
     },
     "5d5c36ed5b184df3b1931e94ecebfb33": {
      "model_module": "@jupyter-widgets/controls",
      "model_module_version": "2.0.0",
      "model_name": "ProgressStyleModel",
      "state": {
       "description_width": ""
      }
     },
     "5e069f3d3bbb4e4abb7ecd82fa19ba8e": {
      "model_module": "@jupyter-widgets/controls",
      "model_module_version": "2.0.0",
      "model_name": "HTMLStyleModel",
      "state": {
       "description_width": "",
       "font_size": null,
       "text_color": null
      }
     },
     "5e0e616841b94364ac866a6a052d5e6f": {
      "model_module": "@jupyter-widgets/base",
      "model_module_version": "2.0.0",
      "model_name": "LayoutModel",
      "state": {}
     },
     "5e1b0a17b1e9411e829b38d143c3bd82": {
      "model_module": "@jupyter-widgets/controls",
      "model_module_version": "2.0.0",
      "model_name": "HTMLModel",
      "state": {
       "layout": "IPY_MODEL_03e68b33369d4993a60df2e0a87dcbdb",
       "style": "IPY_MODEL_4c702e6f0f8b43ec97de0f55429ddd00",
       "value": "100%"
      }
     },
     "5e29eab670f34c75856d6266f8c80b51": {
      "model_module": "@jupyter-widgets/base",
      "model_module_version": "2.0.0",
      "model_name": "LayoutModel",
      "state": {}
     },
     "5e311ba910c74f959d49b26f9d16df6b": {
      "model_module": "@jupyter-widgets/base",
      "model_module_version": "2.0.0",
      "model_name": "LayoutModel",
      "state": {}
     },
     "5e4b8e6ba8eb454e910ac61b95fb9c4a": {
      "model_module": "@jupyter-widgets/controls",
      "model_module_version": "2.0.0",
      "model_name": "HTMLModel",
      "state": {
       "layout": "IPY_MODEL_0c1830ee34cf403e8c59642659ec2f51",
       "style": "IPY_MODEL_2f1832a0a9c541f19c3638c828807b2b",
       "value": "100%"
      }
     },
     "5e829d2d242d4c289fb53ec2629e7283": {
      "model_module": "@jupyter-widgets/controls",
      "model_module_version": "2.0.0",
      "model_name": "HTMLStyleModel",
      "state": {
       "description_width": "",
       "font_size": null,
       "text_color": null
      }
     },
     "5e95a4f9b33c4f5580bf30188743277f": {
      "model_module": "@jupyter-widgets/controls",
      "model_module_version": "2.0.0",
      "model_name": "HBoxModel",
      "state": {
       "children": [
        "IPY_MODEL_74bf4c397a6b40fb992ef60e2c975497",
        "IPY_MODEL_4cef0d0b75064558a153f0f2177c82f2",
        "IPY_MODEL_d2e526d8a85a4183b7e857c456c84268"
       ],
       "layout": "IPY_MODEL_a4a0de55a11b43b0b26fcbee685c2bb6"
      }
     },
     "5e97c770df2e4e6c85849903d8fb35ab": {
      "model_module": "@jupyter-widgets/base",
      "model_module_version": "2.0.0",
      "model_name": "LayoutModel",
      "state": {}
     },
     "5e9e1f4fe7bc489a9b39cfd0269d64ee": {
      "model_module": "@jupyter-widgets/controls",
      "model_module_version": "2.0.0",
      "model_name": "HTMLModel",
      "state": {
       "layout": "IPY_MODEL_5fadd2d416b7428d9ead1f98f48be86e",
       "style": "IPY_MODEL_3a72f85884f74c479244015f7c2372ab",
       "value": "100%"
      }
     },
     "5ee7f520bce643c99bcaee018db0b447": {
      "model_module": "@jupyter-widgets/controls",
      "model_module_version": "2.0.0",
      "model_name": "HTMLModel",
      "state": {
       "layout": "IPY_MODEL_d63bb0a0e85a4a2a8333c66cd6b804dc",
       "style": "IPY_MODEL_abefb0f7c4e34e82b8f56543136d883a",
       "value": "100%"
      }
     },
     "5f02df6afb3a4d63832a8c2dd3936dac": {
      "model_module": "@jupyter-widgets/base",
      "model_module_version": "2.0.0",
      "model_name": "LayoutModel",
      "state": {}
     },
     "5f082adb94c34b8c84dcd0d613061fef": {
      "model_module": "@jupyter-widgets/base",
      "model_module_version": "2.0.0",
      "model_name": "LayoutModel",
      "state": {}
     },
     "5f3bf25301534c44816fc42d9794d7a9": {
      "model_module": "@jupyter-widgets/controls",
      "model_module_version": "2.0.0",
      "model_name": "HTMLModel",
      "state": {
       "layout": "IPY_MODEL_2f5b93cca87d419b963b53d334343158",
       "style": "IPY_MODEL_25607156afc341e98a9521bced3bf721",
       "value": " 132/132 [01:01&lt;00:00,  2.05it/s]"
      }
     },
     "5f8b4603a4aa456995fb195c506390a5": {
      "model_module": "@jupyter-widgets/base",
      "model_module_version": "2.0.0",
      "model_name": "LayoutModel",
      "state": {}
     },
     "5fadd2d416b7428d9ead1f98f48be86e": {
      "model_module": "@jupyter-widgets/base",
      "model_module_version": "2.0.0",
      "model_name": "LayoutModel",
      "state": {}
     },
     "5fd40b452b514ab1b4bdfbf695e72a6a": {
      "model_module": "@jupyter-widgets/controls",
      "model_module_version": "2.0.0",
      "model_name": "HBoxModel",
      "state": {
       "children": [
        "IPY_MODEL_6c1a8d8b024547a09e213f64a70269f1",
        "IPY_MODEL_43b91a42275644a48e70251aa030aa9f",
        "IPY_MODEL_b4b140c3fa6d4dd78872719d4f89b8c8"
       ],
       "layout": "IPY_MODEL_b297604e84c24050bec23c83e4516fa9"
      }
     },
     "600494eb92d045ccae8963046d372ac2": {
      "model_module": "@jupyter-widgets/controls",
      "model_module_version": "2.0.0",
      "model_name": "ProgressStyleModel",
      "state": {
       "description_width": ""
      }
     },
     "604043b6ed12435cb9e8e1013a7d3710": {
      "model_module": "@jupyter-widgets/controls",
      "model_module_version": "2.0.0",
      "model_name": "HTMLModel",
      "state": {
       "layout": "IPY_MODEL_a67dbf4f030549f7997d9db62e0bd30c",
       "style": "IPY_MODEL_00240df43b764b4d87714295251cbd6b",
       "value": "100%"
      }
     },
     "60707dd0acb047e98542db025078fbde": {
      "model_module": "@jupyter-widgets/controls",
      "model_module_version": "2.0.0",
      "model_name": "HTMLModel",
      "state": {
       "layout": "IPY_MODEL_3a8784e4757443f99288dbc2474e65b6",
       "style": "IPY_MODEL_ce1add023e9a4da0827d8ba34f1328d7",
       "value": " 242/242 [01:51&lt;00:00,  2.16it/s]"
      }
     },
     "6077a5c9fd78448283ab706d3c38f61d": {
      "model_module": "@jupyter-widgets/controls",
      "model_module_version": "2.0.0",
      "model_name": "HTMLModel",
      "state": {
       "layout": "IPY_MODEL_d53e71a779774f24bf6ef489e2e70772",
       "style": "IPY_MODEL_6b159270880a4ba18a6dc0f07b69679c",
       "value": "100%"
      }
     },
     "60bfb0cf2b79466695314a1d59a75d67": {
      "model_module": "@jupyter-widgets/controls",
      "model_module_version": "2.0.0",
      "model_name": "HBoxModel",
      "state": {
       "children": [
        "IPY_MODEL_39be6718d34f4e84b321199c2f55aa2f",
        "IPY_MODEL_812b20d69cd146de8ef2c4b94e4b723f",
        "IPY_MODEL_f78ffe946ef14b249095a0ff760eb757"
       ],
       "layout": "IPY_MODEL_69450b75445d4b499bfed5d7dc2bbad4"
      }
     },
     "60e52f945aed4f89ba6e0bc983e20dd6": {
      "model_module": "@jupyter-widgets/base",
      "model_module_version": "2.0.0",
      "model_name": "LayoutModel",
      "state": {}
     },
     "6139d9e09de24476a39acd0c1aeff3b0": {
      "model_module": "@jupyter-widgets/controls",
      "model_module_version": "2.0.0",
      "model_name": "FloatProgressModel",
      "state": {
       "bar_style": "success",
       "layout": "IPY_MODEL_c951d9d145344092b41147a6bd3b3166",
       "max": 380,
       "style": "IPY_MODEL_1887f7ddf56e482bbd0edbc6f1d94f0f",
       "value": 380
      }
     },
     "61593dd251244eb3b81f9e3842d31be3": {
      "model_module": "@jupyter-widgets/base",
      "model_module_version": "2.0.0",
      "model_name": "LayoutModel",
      "state": {}
     },
     "618d548a2b864737a80d48d9196f159b": {
      "model_module": "@jupyter-widgets/controls",
      "model_module_version": "2.0.0",
      "model_name": "HBoxModel",
      "state": {
       "children": [
        "IPY_MODEL_c4ec8b0394724063a720e70ceefbf013",
        "IPY_MODEL_c692099c26484caf8f069714c6e3a5ca",
        "IPY_MODEL_c68d537622ff47fda666e0f9eff6c5fd"
       ],
       "layout": "IPY_MODEL_253a03df629345df8765bb3a455d6a91"
      }
     },
     "61a75ea8135b491e9863cd5014d54c10": {
      "model_module": "@jupyter-widgets/controls",
      "model_module_version": "2.0.0",
      "model_name": "ProgressStyleModel",
      "state": {
       "description_width": ""
      }
     },
     "61b37982508b4070995c62c810a85b76": {
      "model_module": "@jupyter-widgets/controls",
      "model_module_version": "2.0.0",
      "model_name": "HTMLModel",
      "state": {
       "layout": "IPY_MODEL_5b845eed0e6f49c586d0dbd49844df9d",
       "style": "IPY_MODEL_cb2b655eadf44e0dbcdfe14a9c5892ff",
       "value": "100%"
      }
     },
     "61d9b53838df4204962c1e6e6deba687": {
      "model_module": "@jupyter-widgets/controls",
      "model_module_version": "2.0.0",
      "model_name": "FloatProgressModel",
      "state": {
       "bar_style": "success",
       "layout": "IPY_MODEL_afb69ab67f62491ea1f10d55b6ace9c1",
       "max": 132,
       "style": "IPY_MODEL_64af78c7c54942f0aba6e167eca68205",
       "value": 132
      }
     },
     "621fbda87f004d9cb9921c62f089f8d3": {
      "model_module": "@jupyter-widgets/base",
      "model_module_version": "2.0.0",
      "model_name": "LayoutModel",
      "state": {}
     },
     "62390ecd946745478f4a534ab9aa13b3": {
      "model_module": "@jupyter-widgets/controls",
      "model_module_version": "2.0.0",
      "model_name": "ProgressStyleModel",
      "state": {
       "description_width": ""
      }
     },
     "623985a83bb04b7296d4846d4f0ee172": {
      "model_module": "@jupyter-widgets/base",
      "model_module_version": "2.0.0",
      "model_name": "LayoutModel",
      "state": {}
     },
     "624cc9972c354966bf8737e9afd8202f": {
      "model_module": "@jupyter-widgets/controls",
      "model_module_version": "2.0.0",
      "model_name": "ProgressStyleModel",
      "state": {
       "description_width": ""
      }
     },
     "6280a42a0406453d9c0d6e27ab2aa4b0": {
      "model_module": "@jupyter-widgets/base",
      "model_module_version": "2.0.0",
      "model_name": "LayoutModel",
      "state": {}
     },
     "62983b158665439a81978bec0de2c7df": {
      "model_module": "@jupyter-widgets/controls",
      "model_module_version": "2.0.0",
      "model_name": "HTMLModel",
      "state": {
       "layout": "IPY_MODEL_880d6529569c4b878194751b341877a8",
       "style": "IPY_MODEL_52e1a67ff5b543d0808556b80d98e224",
       "value": " 180/180 [01:24&lt;00:00,  2.06it/s]"
      }
     },
     "629b2ebc0d974f909c86f4477a45fced": {
      "model_module": "@jupyter-widgets/base",
      "model_module_version": "2.0.0",
      "model_name": "LayoutModel",
      "state": {}
     },
     "62be19ec61ea4546a24efc0a3e5a8b7f": {
      "model_module": "@jupyter-widgets/base",
      "model_module_version": "2.0.0",
      "model_name": "LayoutModel",
      "state": {}
     },
     "62e97ae24d2b47a2a588a6a706e518a9": {
      "model_module": "@jupyter-widgets/base",
      "model_module_version": "2.0.0",
      "model_name": "LayoutModel",
      "state": {}
     },
     "631b1edefc4f49e79b8f4ceb6c7c0ad0": {
      "model_module": "@jupyter-widgets/controls",
      "model_module_version": "2.0.0",
      "model_name": "HBoxModel",
      "state": {
       "children": [
        "IPY_MODEL_9aa19d85c0334ca88efdd0ba8f0cf5fd",
        "IPY_MODEL_d4520bedc08243ddbf95012a80bb7a53",
        "IPY_MODEL_eee12767ef83422494989369cf361e97"
       ],
       "layout": "IPY_MODEL_8bc040e93e11481589d601b4955b2311"
      }
     },
     "6337966b17f242c8b54f10617cbc0d7b": {
      "model_module": "@jupyter-widgets/controls",
      "model_module_version": "2.0.0",
      "model_name": "HTMLStyleModel",
      "state": {
       "description_width": "",
       "font_size": null,
       "text_color": null
      }
     },
     "636738c2c965468fae739c4e92f0923c": {
      "model_module": "@jupyter-widgets/controls",
      "model_module_version": "2.0.0",
      "model_name": "HTMLModel",
      "state": {
       "layout": "IPY_MODEL_d0b2ee5511804ae8b8102c5d7ebddb8a",
       "style": "IPY_MODEL_f283702543fc4a2389c6c235aaae5fee",
       "value": " 132/132 [01:00&lt;00:00,  2.01it/s]"
      }
     },
     "636e38ac46ac40f68fd4c47f34588a08": {
      "model_module": "@jupyter-widgets/controls",
      "model_module_version": "2.0.0",
      "model_name": "HTMLModel",
      "state": {
       "layout": "IPY_MODEL_3fff2b9deb2b421ca1507f38c7eb3123",
       "style": "IPY_MODEL_ae51e4a9ce864d0e8b11bb0255085432",
       "value": "100%"
      }
     },
     "6399ee6f574d4e508201dd70f6448829": {
      "model_module": "@jupyter-widgets/base",
      "model_module_version": "2.0.0",
      "model_name": "LayoutModel",
      "state": {}
     },
     "63de453364034c07a20a8079008218ae": {
      "model_module": "@jupyter-widgets/base",
      "model_module_version": "2.0.0",
      "model_name": "LayoutModel",
      "state": {}
     },
     "6400df7bf0eb42bebc5ca5ae63032750": {
      "model_module": "@jupyter-widgets/controls",
      "model_module_version": "2.0.0",
      "model_name": "HTMLStyleModel",
      "state": {
       "description_width": "",
       "font_size": null,
       "text_color": null
      }
     },
     "641554183cc94fd09261056949ce3489": {
      "model_module": "@jupyter-widgets/base",
      "model_module_version": "2.0.0",
      "model_name": "LayoutModel",
      "state": {}
     },
     "641c9f7437d744328c0f77e07e6d8300": {
      "model_module": "@jupyter-widgets/controls",
      "model_module_version": "2.0.0",
      "model_name": "FloatProgressModel",
      "state": {
       "bar_style": "success",
       "layout": "IPY_MODEL_39020dce162b4f12868920845a3e4da0",
       "max": 94,
       "style": "IPY_MODEL_1d30cae0ce1146ad9d8d06ecdc0e5fc3",
       "value": 94
      }
     },
     "6440315222ef4fde8745806247bf35c6": {
      "model_module": "@jupyter-widgets/controls",
      "model_module_version": "2.0.0",
      "model_name": "HTMLModel",
      "state": {
       "layout": "IPY_MODEL_3716dfade92d4076a795e26cfb1e3eb7",
       "style": "IPY_MODEL_6675d27c036646e48c556c4f005f8e82",
       "value": " 242/242 [01:53&lt;00:00,  2.19it/s]"
      }
     },
     "6460cd8826424d60b5f6a8a4d76dc9e9": {
      "model_module": "@jupyter-widgets/controls",
      "model_module_version": "2.0.0",
      "model_name": "HBoxModel",
      "state": {
       "children": [
        "IPY_MODEL_b16af3bfe8114667acaf8409c400fe7d",
        "IPY_MODEL_ef4b7848b42b443e924b2b084b283589",
        "IPY_MODEL_ef0859ba910e4533ad79c63d50907b0a"
       ],
       "layout": "IPY_MODEL_6c7ce706467343a3b1db2262a518c7e2"
      }
     },
     "6464cf00de6f40cda3d994dbfb9bf4fe": {
      "model_module": "@jupyter-widgets/controls",
      "model_module_version": "2.0.0",
      "model_name": "HTMLStyleModel",
      "state": {
       "description_width": "",
       "font_size": null,
       "text_color": null
      }
     },
     "6471927aab414ebc9174e830b7a4e16d": {
      "model_module": "@jupyter-widgets/base",
      "model_module_version": "2.0.0",
      "model_name": "LayoutModel",
      "state": {}
     },
     "6478f96f23304e88bb9699bc32cbf111": {
      "model_module": "@jupyter-widgets/controls",
      "model_module_version": "2.0.0",
      "model_name": "ProgressStyleModel",
      "state": {
       "description_width": ""
      }
     },
     "64af78c7c54942f0aba6e167eca68205": {
      "model_module": "@jupyter-widgets/controls",
      "model_module_version": "2.0.0",
      "model_name": "ProgressStyleModel",
      "state": {
       "description_width": ""
      }
     },
     "651c11e4fc7c44d08296c0b35f852a6a": {
      "model_module": "@jupyter-widgets/controls",
      "model_module_version": "2.0.0",
      "model_name": "HBoxModel",
      "state": {
       "children": [
        "IPY_MODEL_001d99f7faf645629a5f6d20043f4779",
        "IPY_MODEL_4f0290df4fb04301954774cb0069f5a7",
        "IPY_MODEL_1ede5d65a7384f11a966e0fd498a8a6a"
       ],
       "layout": "IPY_MODEL_478d274531c04275825ec84aec401513"
      }
     },
     "653b26bf04d342f89e046625e69effed": {
      "model_module": "@jupyter-widgets/base",
      "model_module_version": "2.0.0",
      "model_name": "LayoutModel",
      "state": {}
     },
     "65b95113ddf84c829f7077d36878a14a": {
      "model_module": "@jupyter-widgets/base",
      "model_module_version": "2.0.0",
      "model_name": "LayoutModel",
      "state": {}
     },
     "660097a9928d40b4943b4d8f814fedde": {
      "model_module": "@jupyter-widgets/controls",
      "model_module_version": "2.0.0",
      "model_name": "HTMLStyleModel",
      "state": {
       "description_width": "",
       "font_size": null,
       "text_color": null
      }
     },
     "663747f6315045dda69628968ce56218": {
      "model_module": "@jupyter-widgets/controls",
      "model_module_version": "2.0.0",
      "model_name": "HTMLStyleModel",
      "state": {
       "description_width": "",
       "font_size": null,
       "text_color": null
      }
     },
     "6642ca1ed1f249b89592807d0a70c22b": {
      "model_module": "@jupyter-widgets/controls",
      "model_module_version": "2.0.0",
      "model_name": "ProgressStyleModel",
      "state": {
       "description_width": ""
      }
     },
     "66452f4406f248018bc6f4fb67a34008": {
      "model_module": "@jupyter-widgets/controls",
      "model_module_version": "2.0.0",
      "model_name": "HTMLStyleModel",
      "state": {
       "description_width": "",
       "font_size": null,
       "text_color": null
      }
     },
     "6659c9cff2084f53956f571adc4c3335": {
      "model_module": "@jupyter-widgets/controls",
      "model_module_version": "2.0.0",
      "model_name": "FloatProgressModel",
      "state": {
       "bar_style": "success",
       "layout": "IPY_MODEL_56596360adf340d499a74cb2c33f19fa",
       "max": 90,
       "style": "IPY_MODEL_b743784b8c89456aaa2941163d82afd5",
       "value": 90
      }
     },
     "6675d27c036646e48c556c4f005f8e82": {
      "model_module": "@jupyter-widgets/controls",
      "model_module_version": "2.0.0",
      "model_name": "HTMLStyleModel",
      "state": {
       "description_width": "",
       "font_size": null,
       "text_color": null
      }
     },
     "67069af1ad934b9a9b2766659ab440e1": {
      "model_module": "@jupyter-widgets/controls",
      "model_module_version": "2.0.0",
      "model_name": "HTMLStyleModel",
      "state": {
       "description_width": "",
       "font_size": null,
       "text_color": null
      }
     },
     "6708575c996e466bbf901992cf636788": {
      "model_module": "@jupyter-widgets/base",
      "model_module_version": "2.0.0",
      "model_name": "LayoutModel",
      "state": {}
     },
     "672f70a47ee44a2f9676438988d0d0b7": {
      "model_module": "@jupyter-widgets/controls",
      "model_module_version": "2.0.0",
      "model_name": "FloatProgressModel",
      "state": {
       "bar_style": "success",
       "layout": "IPY_MODEL_3c81cbc0f0624df5af9e72c2b1c8c0de",
       "max": 378,
       "style": "IPY_MODEL_eeded15b647440f6979b01e6dfffde41",
       "value": 378
      }
     },
     "67627d888cb34795a1e0b810a6f8cd3f": {
      "model_module": "@jupyter-widgets/base",
      "model_module_version": "2.0.0",
      "model_name": "LayoutModel",
      "state": {}
     },
     "678a05d71ae54861bb874711ea982492": {
      "model_module": "@jupyter-widgets/base",
      "model_module_version": "2.0.0",
      "model_name": "LayoutModel",
      "state": {}
     },
     "67a2897ae518496e8c1f0586a3964352": {
      "model_module": "@jupyter-widgets/controls",
      "model_module_version": "2.0.0",
      "model_name": "ProgressStyleModel",
      "state": {
       "description_width": ""
      }
     },
     "6824b112aedd4563a3078e807f23350f": {
      "model_module": "@jupyter-widgets/controls",
      "model_module_version": "2.0.0",
      "model_name": "ProgressStyleModel",
      "state": {
       "description_width": ""
      }
     },
     "68254040d51644fcaaa7b5115605a9f2": {
      "model_module": "@jupyter-widgets/base",
      "model_module_version": "2.0.0",
      "model_name": "LayoutModel",
      "state": {}
     },
     "6924a31c3c934123bece00dfe09b6b1c": {
      "model_module": "@jupyter-widgets/base",
      "model_module_version": "2.0.0",
      "model_name": "LayoutModel",
      "state": {}
     },
     "69450b75445d4b499bfed5d7dc2bbad4": {
      "model_module": "@jupyter-widgets/base",
      "model_module_version": "2.0.0",
      "model_name": "LayoutModel",
      "state": {}
     },
     "697856462c064c548b6ee307a5ba88ea": {
      "model_module": "@jupyter-widgets/controls",
      "model_module_version": "2.0.0",
      "model_name": "FloatProgressModel",
      "state": {
       "bar_style": "success",
       "layout": "IPY_MODEL_621fbda87f004d9cb9921c62f089f8d3",
       "max": 306,
       "style": "IPY_MODEL_ad40005d70f2448a95f3fcb22d259e22",
       "value": 306
      }
     },
     "697dcb898e424cb3b9c4a8a9385e460e": {
      "model_module": "@jupyter-widgets/base",
      "model_module_version": "2.0.0",
      "model_name": "LayoutModel",
      "state": {}
     },
     "69b2ce17b125414a80405a12f12a95c8": {
      "model_module": "@jupyter-widgets/base",
      "model_module_version": "2.0.0",
      "model_name": "LayoutModel",
      "state": {}
     },
     "69da5790b7454913938b1f1dc0b0f46d": {
      "model_module": "@jupyter-widgets/controls",
      "model_module_version": "2.0.0",
      "model_name": "HTMLModel",
      "state": {
       "layout": "IPY_MODEL_c5c78ff39b8747989528c537b5fccfa7",
       "style": "IPY_MODEL_4e3354e214e24f8fafc56ac1ce19250a",
       "value": " 205/205 [01:33&lt;00:00,  2.22it/s]"
      }
     },
     "6a3ca558a3e84f8287f528144826ba4b": {
      "model_module": "@jupyter-widgets/base",
      "model_module_version": "2.0.0",
      "model_name": "LayoutModel",
      "state": {}
     },
     "6a8fd50a403746b2b5dd473d2bb0512d": {
      "model_module": "@jupyter-widgets/base",
      "model_module_version": "2.0.0",
      "model_name": "LayoutModel",
      "state": {}
     },
     "6aa9b43edc9c4bfca0bb0d68706d9a28": {
      "model_module": "@jupyter-widgets/controls",
      "model_module_version": "2.0.0",
      "model_name": "HBoxModel",
      "state": {
       "children": [
        "IPY_MODEL_1b81a5f4e146421cb4a290b3613e2d12",
        "IPY_MODEL_61d9b53838df4204962c1e6e6deba687",
        "IPY_MODEL_5f3bf25301534c44816fc42d9794d7a9"
       ],
       "layout": "IPY_MODEL_cc626c46c76e4f59afa8a7268ce76587"
      }
     },
     "6ae80d8549664ae59d20a57b0e79be3b": {
      "model_module": "@jupyter-widgets/controls",
      "model_module_version": "2.0.0",
      "model_name": "FloatProgressModel",
      "state": {
       "bar_style": "success",
       "layout": "IPY_MODEL_b9459bbdaa03479596ad1cda56d3a290",
       "max": 280,
       "style": "IPY_MODEL_07dcdcf1db0d42d8862af1f8cefd3db2",
       "value": 280
      }
     },
     "6b087719647740d09adb8a1b86c62871": {
      "model_module": "@jupyter-widgets/base",
      "model_module_version": "2.0.0",
      "model_name": "LayoutModel",
      "state": {}
     },
     "6b159270880a4ba18a6dc0f07b69679c": {
      "model_module": "@jupyter-widgets/controls",
      "model_module_version": "2.0.0",
      "model_name": "HTMLStyleModel",
      "state": {
       "description_width": "",
       "font_size": null,
       "text_color": null
      }
     },
     "6b56904deeb445b9a6595f4d43d51ec4": {
      "model_module": "@jupyter-widgets/controls",
      "model_module_version": "2.0.0",
      "model_name": "HTMLModel",
      "state": {
       "layout": "IPY_MODEL_d8e20e0169c1424f9f7313a283da94e4",
       "style": "IPY_MODEL_9a409040f5df4ad5aee52ffcfe6c6678",
       "value": "100%"
      }
     },
     "6b67d6dbd0804821b7aea9ba0bcef73c": {
      "model_module": "@jupyter-widgets/controls",
      "model_module_version": "2.0.0",
      "model_name": "ProgressStyleModel",
      "state": {
       "description_width": ""
      }
     },
     "6b6eb7d1250e4ca695d1c0da085d956c": {
      "model_module": "@jupyter-widgets/controls",
      "model_module_version": "2.0.0",
      "model_name": "HTMLStyleModel",
      "state": {
       "description_width": "",
       "font_size": null,
       "text_color": null
      }
     },
     "6b7f74e4d13345dd8d356e2b804e196e": {
      "model_module": "@jupyter-widgets/base",
      "model_module_version": "2.0.0",
      "model_name": "LayoutModel",
      "state": {}
     },
     "6baa0956282e41a8abd8c81582893e31": {
      "model_module": "@jupyter-widgets/base",
      "model_module_version": "2.0.0",
      "model_name": "LayoutModel",
      "state": {}
     },
     "6beb38d92b9a4ae0870aa198405660f6": {
      "model_module": "@jupyter-widgets/controls",
      "model_module_version": "2.0.0",
      "model_name": "HTMLModel",
      "state": {
       "layout": "IPY_MODEL_fc3420f691604ead8c50e69c9e3cc732",
       "style": "IPY_MODEL_0739798cbef34c628406dbbc83e1dde6",
       "value": "100%"
      }
     },
     "6bf19aa75ee8484bb5ed51182a091a7b": {
      "model_module": "@jupyter-widgets/base",
      "model_module_version": "2.0.0",
      "model_name": "LayoutModel",
      "state": {}
     },
     "6bf36f0e1fb44558ac9ab1fe1ca116fe": {
      "model_module": "@jupyter-widgets/base",
      "model_module_version": "2.0.0",
      "model_name": "LayoutModel",
      "state": {}
     },
     "6c1a8d8b024547a09e213f64a70269f1": {
      "model_module": "@jupyter-widgets/controls",
      "model_module_version": "2.0.0",
      "model_name": "HTMLModel",
      "state": {
       "layout": "IPY_MODEL_b16fae87db2f4905bdbb36a7b5325e7a",
       "style": "IPY_MODEL_be62eba593574265bdf37c182c325c1d",
       "value": "100%"
      }
     },
     "6c45e013dbb64c53aa9355acfc37fc5d": {
      "model_module": "@jupyter-widgets/base",
      "model_module_version": "2.0.0",
      "model_name": "LayoutModel",
      "state": {}
     },
     "6c5edd555f4344db8c8ab0ff55dc8eba": {
      "model_module": "@jupyter-widgets/controls",
      "model_module_version": "2.0.0",
      "model_name": "HBoxModel",
      "state": {
       "children": [
        "IPY_MODEL_ebe42be64bbd4b2982b9b85d0959576d",
        "IPY_MODEL_ebd2329b505c414381ae5072791a7a14",
        "IPY_MODEL_96ae124dd65144868090b3cdb30c263c"
       ],
       "layout": "IPY_MODEL_4711daaa7b0541d8969a7f6294542274"
      }
     },
     "6c7ce706467343a3b1db2262a518c7e2": {
      "model_module": "@jupyter-widgets/base",
      "model_module_version": "2.0.0",
      "model_name": "LayoutModel",
      "state": {}
     },
     "6ca8fab18ae4499da530f794fd58a9e8": {
      "model_module": "@jupyter-widgets/controls",
      "model_module_version": "2.0.0",
      "model_name": "HBoxModel",
      "state": {
       "children": [
        "IPY_MODEL_c1180a5966fb469192d53f4d5d3480db",
        "IPY_MODEL_167642d4f2574ccc83814c219d759b3a",
        "IPY_MODEL_f4e8a0fe15ac4e55a0dd918319840134"
       ],
       "layout": "IPY_MODEL_a8d0143a58ce47e4bd4e60a7c167d54b"
      }
     },
     "6caebefe202a439a8a95b047d7424a51": {
      "model_module": "@jupyter-widgets/base",
      "model_module_version": "2.0.0",
      "model_name": "LayoutModel",
      "state": {}
     },
     "6d660c07f218432f8562d0de39bd65c3": {
      "model_module": "@jupyter-widgets/controls",
      "model_module_version": "2.0.0",
      "model_name": "HTMLStyleModel",
      "state": {
       "description_width": "",
       "font_size": null,
       "text_color": null
      }
     },
     "6d9faf6968d44549b9a5eba88c3a7b0d": {
      "model_module": "@jupyter-widgets/controls",
      "model_module_version": "2.0.0",
      "model_name": "HBoxModel",
      "state": {
       "children": [
        "IPY_MODEL_bf45f3e9e7764dd589947ce90cfb23e0",
        "IPY_MODEL_f0df9e630874449294d0fef5994fa750",
        "IPY_MODEL_79d0adf7ee7c452baed6ae6f631990d8"
       ],
       "layout": "IPY_MODEL_4e86ac7494844e81854d8f478c38d69c"
      }
     },
     "6da7a95a08044e32bd405a16b38b1fcd": {
      "model_module": "@jupyter-widgets/controls",
      "model_module_version": "2.0.0",
      "model_name": "FloatProgressModel",
      "state": {
       "bar_style": "success",
       "layout": "IPY_MODEL_75ccfb336d8840b5b918cc4e640d3c00",
       "max": 380,
       "style": "IPY_MODEL_3234f4734b48406e8cab70654482d0a8",
       "value": 380
      }
     },
     "6de6da41f3f34af38d7798ca3b7abe79": {
      "model_module": "@jupyter-widgets/controls",
      "model_module_version": "2.0.0",
      "model_name": "HTMLModel",
      "state": {
       "layout": "IPY_MODEL_49b80950ea674b539998d59b400e8d19",
       "style": "IPY_MODEL_4ec6fef4b2db405d81fcd91f794573af",
       "value": " 184/184 [01:24&lt;00:00,  2.19it/s]"
      }
     },
     "6df0ce6546ab4a6fbffcc8ed2800a721": {
      "model_module": "@jupyter-widgets/controls",
      "model_module_version": "2.0.0",
      "model_name": "HTMLStyleModel",
      "state": {
       "description_width": "",
       "font_size": null,
       "text_color": null
      }
     },
     "6e0a46f0262e491bae638bf5dbe69952": {
      "model_module": "@jupyter-widgets/controls",
      "model_module_version": "2.0.0",
      "model_name": "ProgressStyleModel",
      "state": {
       "description_width": ""
      }
     },
     "6e14af43d5ae49cd9f79cf00196d61b7": {
      "model_module": "@jupyter-widgets/base",
      "model_module_version": "2.0.0",
      "model_name": "LayoutModel",
      "state": {}
     },
     "6e8dac8788544632865d800ffc2096b7": {
      "model_module": "@jupyter-widgets/controls",
      "model_module_version": "2.0.0",
      "model_name": "ProgressStyleModel",
      "state": {
       "description_width": ""
      }
     },
     "6eacd3ed83614d3ab735f6eea1b4f160": {
      "model_module": "@jupyter-widgets/controls",
      "model_module_version": "2.0.0",
      "model_name": "HTMLStyleModel",
      "state": {
       "description_width": "",
       "font_size": null,
       "text_color": null
      }
     },
     "6efd0abaa7774a929a6d629cd5e92803": {
      "model_module": "@jupyter-widgets/controls",
      "model_module_version": "2.0.0",
      "model_name": "HTMLModel",
      "state": {
       "layout": "IPY_MODEL_f06e6c1b24df40a1a4a24edb53277a3b",
       "style": "IPY_MODEL_fd82f00bca0b47d99393574f5f7390d5",
       "value": " 680/680 [05:13&lt;00:00,  2.16it/s]"
      }
     },
     "6f3982732af94d9d85d3d65826f2f7fd": {
      "model_module": "@jupyter-widgets/base",
      "model_module_version": "2.0.0",
      "model_name": "LayoutModel",
      "state": {}
     },
     "6f427a89198a43dc952246030571d515": {
      "model_module": "@jupyter-widgets/base",
      "model_module_version": "2.0.0",
      "model_name": "LayoutModel",
      "state": {}
     },
     "6f562fdd0cbd4d8785442e07af41ddd8": {
      "model_module": "@jupyter-widgets/controls",
      "model_module_version": "2.0.0",
      "model_name": "HTMLModel",
      "state": {
       "layout": "IPY_MODEL_ff8f01bc7afb4de99ee329dc783c81c2",
       "style": "IPY_MODEL_71354ab1f431457d94f5bb8f4cdd9c4c",
       "value": "100%"
      }
     },
     "6fee8557f72c44208dd8bd127af6ef4d": {
      "model_module": "@jupyter-widgets/controls",
      "model_module_version": "2.0.0",
      "model_name": "ProgressStyleModel",
      "state": {
       "description_width": ""
      }
     },
     "7020b5741fe94737a4160622b25ee88f": {
      "model_module": "@jupyter-widgets/controls",
      "model_module_version": "2.0.0",
      "model_name": "HTMLStyleModel",
      "state": {
       "description_width": "",
       "font_size": null,
       "text_color": null
      }
     },
     "7067cdf919da4e5ab0143c10809b490f": {
      "model_module": "@jupyter-widgets/controls",
      "model_module_version": "2.0.0",
      "model_name": "HTMLModel",
      "state": {
       "layout": "IPY_MODEL_4ff51dae8a1a434790f2b80457166b72",
       "style": "IPY_MODEL_13225cf0011749fda430f8abf821125a",
       "value": " 232/232 [01:47&lt;00:00,  2.20it/s]"
      }
     },
     "7093f98acc54436ea47a677f0894ae27": {
      "model_module": "@jupyter-widgets/controls",
      "model_module_version": "2.0.0",
      "model_name": "HTMLStyleModel",
      "state": {
       "description_width": "",
       "font_size": null,
       "text_color": null
      }
     },
     "70e89e26e8bf4a2fadaf0c35d9e7caf6": {
      "model_module": "@jupyter-widgets/base",
      "model_module_version": "2.0.0",
      "model_name": "LayoutModel",
      "state": {}
     },
     "71354ab1f431457d94f5bb8f4cdd9c4c": {
      "model_module": "@jupyter-widgets/controls",
      "model_module_version": "2.0.0",
      "model_name": "HTMLStyleModel",
      "state": {
       "description_width": "",
       "font_size": null,
       "text_color": null
      }
     },
     "714b1be9d09b4905b87ae1bf98490a03": {
      "model_module": "@jupyter-widgets/base",
      "model_module_version": "2.0.0",
      "model_name": "LayoutModel",
      "state": {}
     },
     "715e482c50464a0e8cd83f89d939cce1": {
      "model_module": "@jupyter-widgets/base",
      "model_module_version": "2.0.0",
      "model_name": "LayoutModel",
      "state": {}
     },
     "71ce3a4fa2044a7f976004a6d11e7861": {
      "model_module": "@jupyter-widgets/base",
      "model_module_version": "2.0.0",
      "model_name": "LayoutModel",
      "state": {}
     },
     "71f48de614014ae8ba87ce44d975c820": {
      "model_module": "@jupyter-widgets/controls",
      "model_module_version": "2.0.0",
      "model_name": "ProgressStyleModel",
      "state": {
       "description_width": ""
      }
     },
     "72160b4422174445bbdae07724fc8e14": {
      "model_module": "@jupyter-widgets/base",
      "model_module_version": "2.0.0",
      "model_name": "LayoutModel",
      "state": {}
     },
     "7245d265bb3a4e1dbc659f27be9fd586": {
      "model_module": "@jupyter-widgets/base",
      "model_module_version": "2.0.0",
      "model_name": "LayoutModel",
      "state": {}
     },
     "7260af2415e648fc8ae5b8ff05823950": {
      "model_module": "@jupyter-widgets/controls",
      "model_module_version": "2.0.0",
      "model_name": "FloatProgressModel",
      "state": {
       "bar_style": "success",
       "layout": "IPY_MODEL_163798ee2056479d92e27df6a0c05cd4",
       "max": 452,
       "style": "IPY_MODEL_2f50990e919e424788d31a419cb193e9",
       "value": 452
      }
     },
     "726764fe0efe4b7e9dad6fab241a3197": {
      "model_module": "@jupyter-widgets/controls",
      "model_module_version": "2.0.0",
      "model_name": "HTMLModel",
      "state": {
       "layout": "IPY_MODEL_b4cb87d438f74e3c8304160f2a6fabc5",
       "style": "IPY_MODEL_1c4410dde7024886a9baa8f624db969c",
       "value": "100%"
      }
     },
     "72c1158278424fb2a6bbf944c8dd119b": {
      "model_module": "@jupyter-widgets/base",
      "model_module_version": "2.0.0",
      "model_name": "LayoutModel",
      "state": {}
     },
     "72c9ecb109694974a8484600795f841b": {
      "model_module": "@jupyter-widgets/base",
      "model_module_version": "2.0.0",
      "model_name": "LayoutModel",
      "state": {}
     },
     "73045a52139a4905842bcf6978f1cb8c": {
      "model_module": "@jupyter-widgets/controls",
      "model_module_version": "2.0.0",
      "model_name": "FloatProgressModel",
      "state": {
       "bar_style": "success",
       "layout": "IPY_MODEL_364190d5d6214d06ad5c81fcc9e368a5",
       "max": 274,
       "style": "IPY_MODEL_c12cedd5da5145b19e7317a75a90c9c0",
       "value": 274
      }
     },
     "730f01a6b17540b1bef135ba730720db": {
      "model_module": "@jupyter-widgets/controls",
      "model_module_version": "2.0.0",
      "model_name": "HBoxModel",
      "state": {
       "children": [
        "IPY_MODEL_972e7d5c30a049cd9c1536137aba336f",
        "IPY_MODEL_379fcc954c6e4fbc9da05267ac72f8eb",
        "IPY_MODEL_bc587f3282fd4fd7a3ff49b878951b6d"
       ],
       "layout": "IPY_MODEL_2cd2dbdf1b2b4bc19c713f7549335654"
      }
     },
     "732455ea1ac145dea9c8e6e592d92dbe": {
      "model_module": "@jupyter-widgets/controls",
      "model_module_version": "2.0.0",
      "model_name": "HTMLModel",
      "state": {
       "layout": "IPY_MODEL_99c455ad313b47e1bcdef9912792f5d1",
       "style": "IPY_MODEL_6df0ce6546ab4a6fbffcc8ed2800a721",
       "value": " 380/380 [02:56&lt;00:00,  2.12it/s]"
      }
     },
     "735b8c9f2b764fc88a227bcb8cea3e72": {
      "model_module": "@jupyter-widgets/controls",
      "model_module_version": "2.0.0",
      "model_name": "ProgressStyleModel",
      "state": {
       "description_width": ""
      }
     },
     "735f94a39a2746e7bece3c7272b685a6": {
      "model_module": "@jupyter-widgets/controls",
      "model_module_version": "2.0.0",
      "model_name": "HTMLModel",
      "state": {
       "layout": "IPY_MODEL_9a0b461f480d4ceb94d64dddeea90ae0",
       "style": "IPY_MODEL_cbb859e4abf74a20ad354d2fe5961621",
       "value": " 94/94 [00:44&lt;00:00,  1.96it/s]"
      }
     },
     "7379c1bff1c246bd891c793769537890": {
      "model_module": "@jupyter-widgets/base",
      "model_module_version": "2.0.0",
      "model_name": "LayoutModel",
      "state": {}
     },
     "74391bdca4ff48fcb00849e407b711ce": {
      "model_module": "@jupyter-widgets/controls",
      "model_module_version": "2.0.0",
      "model_name": "HTMLStyleModel",
      "state": {
       "description_width": "",
       "font_size": null,
       "text_color": null
      }
     },
     "745335fcd33642a0822ea0f17462e31f": {
      "model_module": "@jupyter-widgets/controls",
      "model_module_version": "2.0.0",
      "model_name": "HTMLStyleModel",
      "state": {
       "description_width": "",
       "font_size": null,
       "text_color": null
      }
     },
     "745efa8e87934cf08a30158f6617a288": {
      "model_module": "@jupyter-widgets/controls",
      "model_module_version": "2.0.0",
      "model_name": "HTMLStyleModel",
      "state": {
       "description_width": "",
       "font_size": null,
       "text_color": null
      }
     },
     "74a2e71363b04385947453776a1e4103": {
      "model_module": "@jupyter-widgets/controls",
      "model_module_version": "2.0.0",
      "model_name": "HBoxModel",
      "state": {
       "children": [
        "IPY_MODEL_f2cd78d698054a2584f692472b788939",
        "IPY_MODEL_e83b48c3b35b443391f956e01bf8c627",
        "IPY_MODEL_e0155560aeb84bb7b939ea1433f1e400"
       ],
       "layout": "IPY_MODEL_cdc7feb79cbe43ae9b83474c53c5270f"
      }
     },
     "74bf4c397a6b40fb992ef60e2c975497": {
      "model_module": "@jupyter-widgets/controls",
      "model_module_version": "2.0.0",
      "model_name": "HTMLModel",
      "state": {
       "layout": "IPY_MODEL_7fb57ef698cd45a59afc108acc861e07",
       "style": "IPY_MODEL_660097a9928d40b4943b4d8f814fedde",
       "value": "100%"
      }
     },
     "74cc0ac1876d4f4d869d0658b078fded": {
      "model_module": "@jupyter-widgets/controls",
      "model_module_version": "2.0.0",
      "model_name": "HTMLModel",
      "state": {
       "layout": "IPY_MODEL_53c2adcec4624c0f89b9743f35fab21c",
       "style": "IPY_MODEL_9c45ae953e6f4821b67a09489c24e1ae",
       "value": " 240/240 [01:51&lt;00:00,  2.22it/s]"
      }
     },
     "74cdbb14b3714890b5c21117d23a9d95": {
      "model_module": "@jupyter-widgets/controls",
      "model_module_version": "2.0.0",
      "model_name": "HBoxModel",
      "state": {
       "children": [
        "IPY_MODEL_2cff6958c5be419296cdef347256d6cf",
        "IPY_MODEL_3e71b89fab0845d1ba2310fa6ee7cff2",
        "IPY_MODEL_74cc0ac1876d4f4d869d0658b078fded"
       ],
       "layout": "IPY_MODEL_8ac17c6bf174414d94035dc0bc69f9fb"
      }
     },
     "7530614f1f804ea5a39789bfc7a5528f": {
      "model_module": "@jupyter-widgets/base",
      "model_module_version": "2.0.0",
      "model_name": "LayoutModel",
      "state": {}
     },
     "756045924a4d42bb822f5458c6098029": {
      "model_module": "@jupyter-widgets/controls",
      "model_module_version": "2.0.0",
      "model_name": "HTMLStyleModel",
      "state": {
       "description_width": "",
       "font_size": null,
       "text_color": null
      }
     },
     "75872c89d01c46c6bfaf0f3b721e324a": {
      "model_module": "@jupyter-widgets/controls",
      "model_module_version": "2.0.0",
      "model_name": "HTMLModel",
      "state": {
       "layout": "IPY_MODEL_b4d869999bc145069c5cbe4604606e1a",
       "style": "IPY_MODEL_7fa7f158ab554f40a4223e7b30b2e1c4",
       "value": " 274/274 [02:08&lt;00:00,  2.19it/s]"
      }
     },
     "75ccfb336d8840b5b918cc4e640d3c00": {
      "model_module": "@jupyter-widgets/base",
      "model_module_version": "2.0.0",
      "model_name": "LayoutModel",
      "state": {}
     },
     "75dfadc7d3094764a90508afd29a7a4a": {
      "model_module": "@jupyter-widgets/controls",
      "model_module_version": "2.0.0",
      "model_name": "HTMLModel",
      "state": {
       "layout": "IPY_MODEL_8e1a15eecee9449c8c71cdbb0dcb1e00",
       "style": "IPY_MODEL_f3966163bad64463930a0887ac88d7b6",
       "value": " 236/236 [01:47&lt;00:00,  2.18it/s]"
      }
     },
     "76011014a08845bd9d72a8248de25664": {
      "model_module": "@jupyter-widgets/controls",
      "model_module_version": "2.0.0",
      "model_name": "HTMLStyleModel",
      "state": {
       "description_width": "",
       "font_size": null,
       "text_color": null
      }
     },
     "76268143c8ee413d8357fce6420ebb53": {
      "model_module": "@jupyter-widgets/controls",
      "model_module_version": "2.0.0",
      "model_name": "HTMLStyleModel",
      "state": {
       "description_width": "",
       "font_size": null,
       "text_color": null
      }
     },
     "7630c9e42ee542f9b3aa2b87ec41f049": {
      "model_module": "@jupyter-widgets/base",
      "model_module_version": "2.0.0",
      "model_name": "LayoutModel",
      "state": {}
     },
     "7640e2aabd7248c5b817e9c72b17cbb7": {
      "model_module": "@jupyter-widgets/controls",
      "model_module_version": "2.0.0",
      "model_name": "ProgressStyleModel",
      "state": {
       "description_width": ""
      }
     },
     "766284bf6b2b460f9256be765afeb56b": {
      "model_module": "@jupyter-widgets/base",
      "model_module_version": "2.0.0",
      "model_name": "LayoutModel",
      "state": {}
     },
     "76b0e1e3df54492fb182f531bdb8b464": {
      "model_module": "@jupyter-widgets/controls",
      "model_module_version": "2.0.0",
      "model_name": "FloatProgressModel",
      "state": {
       "bar_style": "success",
       "layout": "IPY_MODEL_3abdf06aefce48f880ecb5018f93a6b6",
       "max": 60,
       "style": "IPY_MODEL_de89f953d78c4058b3e82b3033e82cfa",
       "value": 60
      }
     },
     "76e508f12e7c4a6fb6a4f091f3f6fc01": {
      "model_module": "@jupyter-widgets/controls",
      "model_module_version": "2.0.0",
      "model_name": "HTMLModel",
      "state": {
       "layout": "IPY_MODEL_6708575c996e466bbf901992cf636788",
       "style": "IPY_MODEL_a27d8402d56d4ee88fd37cd27f3ddb58",
       "value": "100%"
      }
     },
     "770d0c5113464d8d8d1cd609f538df60": {
      "model_module": "@jupyter-widgets/base",
      "model_module_version": "2.0.0",
      "model_name": "LayoutModel",
      "state": {}
     },
     "7716de59c2c547439bdea33a57b1075a": {
      "model_module": "@jupyter-widgets/base",
      "model_module_version": "2.0.0",
      "model_name": "LayoutModel",
      "state": {}
     },
     "7741a1076a704d1cb8067b29f2620571": {
      "model_module": "@jupyter-widgets/controls",
      "model_module_version": "2.0.0",
      "model_name": "ProgressStyleModel",
      "state": {
       "description_width": ""
      }
     },
     "77ba7b896312414caef6055241f16859": {
      "model_module": "@jupyter-widgets/base",
      "model_module_version": "2.0.0",
      "model_name": "LayoutModel",
      "state": {}
     },
     "77e2b0aa29de4aaa82f6033041fd4c39": {
      "model_module": "@jupyter-widgets/controls",
      "model_module_version": "2.0.0",
      "model_name": "HTMLModel",
      "state": {
       "layout": "IPY_MODEL_d491bee9590a49a18d2f5066ba30a8f7",
       "style": "IPY_MODEL_3367a304b5614c078faa5a56ae19faef",
       "value": "100%"
      }
     },
     "77f27b9b4ea74e3282fa82d70445e61b": {
      "model_module": "@jupyter-widgets/controls",
      "model_module_version": "2.0.0",
      "model_name": "HTMLModel",
      "state": {
       "layout": "IPY_MODEL_3530960413d8471d8efacb3e996c01ba",
       "style": "IPY_MODEL_18ef89547133429290441067189be16d",
       "value": " 244/244 [01:54&lt;00:00,  2.18it/s]"
      }
     },
     "7822194361e54260957a71c904e1dbd2": {
      "model_module": "@jupyter-widgets/base",
      "model_module_version": "2.0.0",
      "model_name": "LayoutModel",
      "state": {}
     },
     "7843ca7fc4a1440e8a7687c5bbcc1fa0": {
      "model_module": "@jupyter-widgets/base",
      "model_module_version": "2.0.0",
      "model_name": "LayoutModel",
      "state": {}
     },
     "7856a00dce3c4546bf97abd79facd386": {
      "model_module": "@jupyter-widgets/controls",
      "model_module_version": "2.0.0",
      "model_name": "FloatProgressModel",
      "state": {
       "bar_style": "success",
       "layout": "IPY_MODEL_7def2493df15438b834489626b6598b0",
       "max": 107,
       "style": "IPY_MODEL_95c809e0305245afbd0a2e1ec33c211d",
       "value": 107
      }
     },
     "791bd732e66b42ffa1945af45e15e41d": {
      "model_module": "@jupyter-widgets/controls",
      "model_module_version": "2.0.0",
      "model_name": "HTMLStyleModel",
      "state": {
       "description_width": "",
       "font_size": null,
       "text_color": null
      }
     },
     "7949e5ee89cd400b8768040edeade145": {
      "model_module": "@jupyter-widgets/base",
      "model_module_version": "2.0.0",
      "model_name": "LayoutModel",
      "state": {}
     },
     "79892dfe91ae4fac839221c7217a5696": {
      "model_module": "@jupyter-widgets/controls",
      "model_module_version": "2.0.0",
      "model_name": "FloatProgressModel",
      "state": {
       "bar_style": "success",
       "layout": "IPY_MODEL_023be4441d3d49859543345edc15891f",
       "max": 242,
       "style": "IPY_MODEL_c8579b4c44e24be49edb2b81c0644b4e",
       "value": 242
      }
     },
     "7989dd85f7134390878c3f2149e5e898": {
      "model_module": "@jupyter-widgets/controls",
      "model_module_version": "2.0.0",
      "model_name": "FloatProgressModel",
      "state": {
       "bar_style": "success",
       "layout": "IPY_MODEL_1639048ffc304879830341daf3ba3d41",
       "max": 240,
       "style": "IPY_MODEL_9ae1298b0e7b4885b472a5f2471bdab2",
       "value": 240
      }
     },
     "79ba6ab91bcd4b3bae9310522f23102e": {
      "model_module": "@jupyter-widgets/controls",
      "model_module_version": "2.0.0",
      "model_name": "HBoxModel",
      "state": {
       "children": [
        "IPY_MODEL_726764fe0efe4b7e9dad6fab241a3197",
        "IPY_MODEL_bbb81a02d29a41fc9abf7732b76cc422",
        "IPY_MODEL_90739c7599204f01ab46e3c8422113ce"
       ],
       "layout": "IPY_MODEL_daf7e9f9f65d465fad121095f91e3144"
      }
     },
     "79d0adf7ee7c452baed6ae6f631990d8": {
      "model_module": "@jupyter-widgets/controls",
      "model_module_version": "2.0.0",
      "model_name": "HTMLModel",
      "state": {
       "layout": "IPY_MODEL_ba5cacceec5548c5bf32e616218ebb79",
       "style": "IPY_MODEL_59394b0388eb47c08a5e312931916b01",
       "value": " 164/164 [01:15&lt;00:00,  2.23it/s]"
      }
     },
     "79f3b20f229440078ff925af9e4740ed": {
      "model_module": "@jupyter-widgets/controls",
      "model_module_version": "2.0.0",
      "model_name": "HTMLModel",
      "state": {
       "layout": "IPY_MODEL_6caebefe202a439a8a95b047d7424a51",
       "style": "IPY_MODEL_ee74b11460a4420a9ab32338afd5829a",
       "value": " 306/306 [02:20&lt;00:00,  2.23it/s]"
      }
     },
     "7a19e0157bc64ff8bac0c8bf5e22b39c": {
      "model_module": "@jupyter-widgets/base",
      "model_module_version": "2.0.0",
      "model_name": "LayoutModel",
      "state": {}
     },
     "7a1c0911946f4c938599aa5571d503ef": {
      "model_module": "@jupyter-widgets/controls",
      "model_module_version": "2.0.0",
      "model_name": "HTMLStyleModel",
      "state": {
       "description_width": "",
       "font_size": null,
       "text_color": null
      }
     },
     "7a231c61abb64bb9a02aaae3c202da69": {
      "model_module": "@jupyter-widgets/base",
      "model_module_version": "2.0.0",
      "model_name": "LayoutModel",
      "state": {}
     },
     "7a3b3e401ee5455fa7735746332026bc": {
      "model_module": "@jupyter-widgets/controls",
      "model_module_version": "2.0.0",
      "model_name": "HTMLStyleModel",
      "state": {
       "description_width": "",
       "font_size": null,
       "text_color": null
      }
     },
     "7a65f4ea7a40455f8d26d5d085f12586": {
      "model_module": "@jupyter-widgets/base",
      "model_module_version": "2.0.0",
      "model_name": "LayoutModel",
      "state": {}
     },
     "7a69e142c6f449f5af572c1d957fe568": {
      "model_module": "@jupyter-widgets/base",
      "model_module_version": "2.0.0",
      "model_name": "LayoutModel",
      "state": {}
     },
     "7aca277885b549cda0a517408ec44d3a": {
      "model_module": "@jupyter-widgets/base",
      "model_module_version": "2.0.0",
      "model_name": "LayoutModel",
      "state": {}
     },
     "7aee0a567dc94cdf8ba39002dfdc980d": {
      "model_module": "@jupyter-widgets/controls",
      "model_module_version": "2.0.0",
      "model_name": "HTMLModel",
      "state": {
       "layout": "IPY_MODEL_49c71182aa254383a6717ee4658c456e",
       "style": "IPY_MODEL_ddf37178b6464db388d6cfac5d4f193e",
       "value": "100%"
      }
     },
     "7b2bb4721ed947bab9303631e89646d5": {
      "model_module": "@jupyter-widgets/base",
      "model_module_version": "2.0.0",
      "model_name": "LayoutModel",
      "state": {}
     },
     "7b435bcd3e2a4a9d8853ad1142ed01a0": {
      "model_module": "@jupyter-widgets/controls",
      "model_module_version": "2.0.0",
      "model_name": "HTMLModel",
      "state": {
       "layout": "IPY_MODEL_cc2af5dd8de94e15b9c96740a4d3645b",
       "style": "IPY_MODEL_53732e5b4c654cd09efb8c802474bb7f",
       "value": "100%"
      }
     },
     "7b594898000c468080291092be0e601c": {
      "model_module": "@jupyter-widgets/controls",
      "model_module_version": "2.0.0",
      "model_name": "HTMLStyleModel",
      "state": {
       "description_width": "",
       "font_size": null,
       "text_color": null
      }
     },
     "7b87ff6fb25845d7b7b1ee5c9372c3aa": {
      "model_module": "@jupyter-widgets/controls",
      "model_module_version": "2.0.0",
      "model_name": "ProgressStyleModel",
      "state": {
       "description_width": ""
      }
     },
     "7ba4b152f2554988bb695371f1aa6a37": {
      "model_module": "@jupyter-widgets/base",
      "model_module_version": "2.0.0",
      "model_name": "LayoutModel",
      "state": {}
     },
     "7bb2c3466cc84b33bab436fd5cbd6b74": {
      "model_module": "@jupyter-widgets/controls",
      "model_module_version": "2.0.0",
      "model_name": "ProgressStyleModel",
      "state": {
       "description_width": ""
      }
     },
     "7bbdf21329d74e2aa7ac4318bd0781aa": {
      "model_module": "@jupyter-widgets/base",
      "model_module_version": "2.0.0",
      "model_name": "LayoutModel",
      "state": {}
     },
     "7c86a8f28f3e457ea261093434eb9107": {
      "model_module": "@jupyter-widgets/base",
      "model_module_version": "2.0.0",
      "model_name": "LayoutModel",
      "state": {}
     },
     "7c8f05d3d542474bbaf09dcc366fb70b": {
      "model_module": "@jupyter-widgets/controls",
      "model_module_version": "2.0.0",
      "model_name": "HTMLStyleModel",
      "state": {
       "description_width": "",
       "font_size": null,
       "text_color": null
      }
     },
     "7c92f655e37b457f9704951c2947f9ff": {
      "model_module": "@jupyter-widgets/controls",
      "model_module_version": "2.0.0",
      "model_name": "HTMLStyleModel",
      "state": {
       "description_width": "",
       "font_size": null,
       "text_color": null
      }
     },
     "7ce07ea3da1845d2803d434f1b6d959a": {
      "model_module": "@jupyter-widgets/controls",
      "model_module_version": "2.0.0",
      "model_name": "HTMLStyleModel",
      "state": {
       "description_width": "",
       "font_size": null,
       "text_color": null
      }
     },
     "7cee5e018d764819aeba89b9870dd3fb": {
      "model_module": "@jupyter-widgets/base",
      "model_module_version": "2.0.0",
      "model_name": "LayoutModel",
      "state": {}
     },
     "7d13d83b1e364ffdb553f32cd6c20af0": {
      "model_module": "@jupyter-widgets/base",
      "model_module_version": "2.0.0",
      "model_name": "LayoutModel",
      "state": {}
     },
     "7d61b8f66da748868b04f27676970776": {
      "model_module": "@jupyter-widgets/controls",
      "model_module_version": "2.0.0",
      "model_name": "HTMLModel",
      "state": {
       "layout": "IPY_MODEL_48b71cbce464482ead17b4d3d86fc1a9",
       "style": "IPY_MODEL_2b4c871a55d84550bb200f0db077c9bb",
       "value": " 465/465 [03:30&lt;00:00,  2.26it/s]"
      }
     },
     "7def2493df15438b834489626b6598b0": {
      "model_module": "@jupyter-widgets/base",
      "model_module_version": "2.0.0",
      "model_name": "LayoutModel",
      "state": {}
     },
     "7dfa60cfa01c436a81d9088d6ee33d27": {
      "model_module": "@jupyter-widgets/controls",
      "model_module_version": "2.0.0",
      "model_name": "HTMLModel",
      "state": {
       "layout": "IPY_MODEL_31be93366d8647cd8e66aaea14dc51ff",
       "style": "IPY_MODEL_8376232e35714874b4bd7078c723001d",
       "value": "100%"
      }
     },
     "7dfae293fde644768e63bcb857956296": {
      "model_module": "@jupyter-widgets/base",
      "model_module_version": "2.0.0",
      "model_name": "LayoutModel",
      "state": {}
     },
     "7e1a41ecd0b34a88934a6917603f4428": {
      "model_module": "@jupyter-widgets/controls",
      "model_module_version": "2.0.0",
      "model_name": "FloatProgressModel",
      "state": {
       "bar_style": "success",
       "layout": "IPY_MODEL_f0c8101f20af4ea8862614a4dfd7e247",
       "max": 247,
       "style": "IPY_MODEL_321a865e722c4d7f96abf74fdbd58e29",
       "value": 247
      }
     },
     "7e2c3728558349808d9e2a1355dece67": {
      "model_module": "@jupyter-widgets/controls",
      "model_module_version": "2.0.0",
      "model_name": "HTMLModel",
      "state": {
       "layout": "IPY_MODEL_9eebe17bac4d4be994dd218b9e736d31",
       "style": "IPY_MODEL_386ef5f566104b5eb2f7dc4831738ed4",
       "value": "100%"
      }
     },
     "7e474b0cd5bd4fb7b1d737a068d0e959": {
      "model_module": "@jupyter-widgets/base",
      "model_module_version": "2.0.0",
      "model_name": "LayoutModel",
      "state": {}
     },
     "7e55a7de16704a768896fbd0749c53a1": {
      "model_module": "@jupyter-widgets/base",
      "model_module_version": "2.0.0",
      "model_name": "LayoutModel",
      "state": {}
     },
     "7ed65c01be54492e899630d8fa019d24": {
      "model_module": "@jupyter-widgets/base",
      "model_module_version": "2.0.0",
      "model_name": "LayoutModel",
      "state": {}
     },
     "7eefbbd5fa2241e0a7492ed0026e92cd": {
      "model_module": "@jupyter-widgets/controls",
      "model_module_version": "2.0.0",
      "model_name": "FloatProgressModel",
      "state": {
       "bar_style": "success",
       "layout": "IPY_MODEL_390bac4c8ac246c2a93e7e4f10a16c4b",
       "max": 180,
       "style": "IPY_MODEL_97e03dfc862d4432936710693dab5e3a",
       "value": 180
      }
     },
     "7f340d5f36ac4309b4321f7098949513": {
      "model_module": "@jupyter-widgets/base",
      "model_module_version": "2.0.0",
      "model_name": "LayoutModel",
      "state": {}
     },
     "7f5cb2c0c19f4202ac2fa23416aaf0e6": {
      "model_module": "@jupyter-widgets/base",
      "model_module_version": "2.0.0",
      "model_name": "LayoutModel",
      "state": {}
     },
     "7f8e6783b36a4bb99bb17510c1957799": {
      "model_module": "@jupyter-widgets/base",
      "model_module_version": "2.0.0",
      "model_name": "LayoutModel",
      "state": {}
     },
     "7f9504cbc6b04a6497464c54e175d237": {
      "model_module": "@jupyter-widgets/base",
      "model_module_version": "2.0.0",
      "model_name": "LayoutModel",
      "state": {}
     },
     "7fa7f158ab554f40a4223e7b30b2e1c4": {
      "model_module": "@jupyter-widgets/controls",
      "model_module_version": "2.0.0",
      "model_name": "HTMLStyleModel",
      "state": {
       "description_width": "",
       "font_size": null,
       "text_color": null
      }
     },
     "7fb57ef698cd45a59afc108acc861e07": {
      "model_module": "@jupyter-widgets/base",
      "model_module_version": "2.0.0",
      "model_name": "LayoutModel",
      "state": {}
     },
     "7fec1897f24a4877aa8babce3ab314ea": {
      "model_module": "@jupyter-widgets/controls",
      "model_module_version": "2.0.0",
      "model_name": "HBoxModel",
      "state": {
       "children": [
        "IPY_MODEL_adb3b5cd89484ca0bb6ce97475cd072f",
        "IPY_MODEL_2fbc8155cb5c4e43968b9ed14ea6e76d",
        "IPY_MODEL_024744b6135d425f931a0515bb7adfc8"
       ],
       "layout": "IPY_MODEL_1af51cc2be8c4d318e7fb1744f3fdb9b"
      }
     },
     "80075dbbabfe475e8094bdc2d2220253": {
      "model_module": "@jupyter-widgets/controls",
      "model_module_version": "2.0.0",
      "model_name": "HBoxModel",
      "state": {
       "children": [
        "IPY_MODEL_46f1666b28184209886739aaee2410c2",
        "IPY_MODEL_b944bc8fd3024c7cbee357f9c42e2829",
        "IPY_MODEL_f964520503034d4aa7405ccfd8c5380b"
       ],
       "layout": "IPY_MODEL_14b298b504134b8aa15ee00a49a9c024"
      }
     },
     "804df257c6504dc1b06b0b34ff0ee3e5": {
      "model_module": "@jupyter-widgets/controls",
      "model_module_version": "2.0.0",
      "model_name": "HTMLModel",
      "state": {
       "layout": "IPY_MODEL_b11c43402f714355bbeaee214ff8b40e",
       "style": "IPY_MODEL_17d1238732074154b2f51057ccaddce7",
       "value": "100%"
      }
     },
     "806889cf72384a17a3b5378ed15626f8": {
      "model_module": "@jupyter-widgets/controls",
      "model_module_version": "2.0.0",
      "model_name": "HTMLModel",
      "state": {
       "layout": "IPY_MODEL_6baa0956282e41a8abd8c81582893e31",
       "style": "IPY_MODEL_91d7cbb892e84b9dac97defb3ced4276",
       "value": " 182/182 [01:26&lt;00:00,  2.20it/s]"
      }
     },
     "80a25ccc17b0445b959a2105be8c58ad": {
      "model_module": "@jupyter-widgets/controls",
      "model_module_version": "2.0.0",
      "model_name": "HTMLStyleModel",
      "state": {
       "description_width": "",
       "font_size": null,
       "text_color": null
      }
     },
     "810d32b7b01b471fb7cb67ef77bb95ac": {
      "model_module": "@jupyter-widgets/base",
      "model_module_version": "2.0.0",
      "model_name": "LayoutModel",
      "state": {}
     },
     "812b20d69cd146de8ef2c4b94e4b723f": {
      "model_module": "@jupyter-widgets/controls",
      "model_module_version": "2.0.0",
      "model_name": "FloatProgressModel",
      "state": {
       "bar_style": "success",
       "layout": "IPY_MODEL_55c6eb6b707c47e3bb904647185843ec",
       "max": 307,
       "style": "IPY_MODEL_1dbdada1b0ab45b8a0d53b6055971c8a",
       "value": 307
      }
     },
     "81632db3d5124ca68c240198e38fe42f": {
      "model_module": "@jupyter-widgets/base",
      "model_module_version": "2.0.0",
      "model_name": "LayoutModel",
      "state": {}
     },
     "81c516e5e20f4531a25d15568ed469b3": {
      "model_module": "@jupyter-widgets/controls",
      "model_module_version": "2.0.0",
      "model_name": "ProgressStyleModel",
      "state": {
       "description_width": ""
      }
     },
     "81d84e4c339c4b4f82e8fa42d9a2db60": {
      "model_module": "@jupyter-widgets/controls",
      "model_module_version": "2.0.0",
      "model_name": "HTMLModel",
      "state": {
       "layout": "IPY_MODEL_7a69e142c6f449f5af572c1d957fe568",
       "style": "IPY_MODEL_1de0ad53ddee4093a9d96f369f5bc3fb",
       "value": "100%"
      }
     },
     "81d85055e8034b9388d36f07f0da9a44": {
      "model_module": "@jupyter-widgets/controls",
      "model_module_version": "2.0.0",
      "model_name": "HTMLStyleModel",
      "state": {
       "description_width": "",
       "font_size": null,
       "text_color": null
      }
     },
     "8238285db53a4c678243372a0525cf3e": {
      "model_module": "@jupyter-widgets/controls",
      "model_module_version": "2.0.0",
      "model_name": "FloatProgressModel",
      "state": {
       "bar_style": "success",
       "layout": "IPY_MODEL_f5adc6bac4a146d68525de595fad85c9",
       "max": 289,
       "style": "IPY_MODEL_5b74b372a7404308836dc7fd223a2405",
       "value": 289
      }
     },
     "825352ed46a043c1b2e095917f89b9a4": {
      "model_module": "@jupyter-widgets/controls",
      "model_module_version": "2.0.0",
      "model_name": "HTMLModel",
      "state": {
       "layout": "IPY_MODEL_1ece10126a124b55963dcb72a0819190",
       "style": "IPY_MODEL_5182c5e0590d46dd8d7c34cf7c7f8c16",
       "value": "100%"
      }
     },
     "82aa570b1d8f406783d2a5dbeabd3b83": {
      "model_module": "@jupyter-widgets/controls",
      "model_module_version": "2.0.0",
      "model_name": "HTMLStyleModel",
      "state": {
       "description_width": "",
       "font_size": null,
       "text_color": null
      }
     },
     "82eff7b80c544bfda9f790c0e1d22de3": {
      "model_module": "@jupyter-widgets/controls",
      "model_module_version": "2.0.0",
      "model_name": "FloatProgressModel",
      "state": {
       "bar_style": "success",
       "layout": "IPY_MODEL_093f7282c0194a5691ceabbe3b67930c",
       "max": 240,
       "style": "IPY_MODEL_b0a15654a5164620a5f3514e09652b32",
       "value": 240
      }
     },
     "831cfe7012ef4f6fb01a3bc8df46685c": {
      "model_module": "@jupyter-widgets/base",
      "model_module_version": "2.0.0",
      "model_name": "LayoutModel",
      "state": {}
     },
     "8347874a4fb5476b9c9273ffe0715c49": {
      "model_module": "@jupyter-widgets/base",
      "model_module_version": "2.0.0",
      "model_name": "LayoutModel",
      "state": {}
     },
     "8357f7d0d3cb4a8d80bac4101e9e2194": {
      "model_module": "@jupyter-widgets/controls",
      "model_module_version": "2.0.0",
      "model_name": "ProgressStyleModel",
      "state": {
       "description_width": ""
      }
     },
     "83630cb794ae4d82bf1d4d4c6aabda3d": {
      "model_module": "@jupyter-widgets/base",
      "model_module_version": "2.0.0",
      "model_name": "LayoutModel",
      "state": {}
     },
     "8376232e35714874b4bd7078c723001d": {
      "model_module": "@jupyter-widgets/controls",
      "model_module_version": "2.0.0",
      "model_name": "HTMLStyleModel",
      "state": {
       "description_width": "",
       "font_size": null,
       "text_color": null
      }
     },
     "83ddced5b6314299b91a086804a256ee": {
      "model_module": "@jupyter-widgets/base",
      "model_module_version": "2.0.0",
      "model_name": "LayoutModel",
      "state": {}
     },
     "83f4943ff12a435bbb789c02e0be91fd": {
      "model_module": "@jupyter-widgets/base",
      "model_module_version": "2.0.0",
      "model_name": "LayoutModel",
      "state": {}
     },
     "842a906afdba4b1e9d1ecdf4e87d941f": {
      "model_module": "@jupyter-widgets/controls",
      "model_module_version": "2.0.0",
      "model_name": "HTMLModel",
      "state": {
       "layout": "IPY_MODEL_91b691a4afe846579318e5cb71d2e8bc",
       "style": "IPY_MODEL_0896a92e3ed449e9b8709a004c463615",
       "value": "100%"
      }
     },
     "8430c14f729a49729d9be4f81ddb0f74": {
      "model_module": "@jupyter-widgets/controls",
      "model_module_version": "2.0.0",
      "model_name": "HBoxModel",
      "state": {
       "children": [
        "IPY_MODEL_f1f97061d0c1458c88b060a16f070592",
        "IPY_MODEL_435b3cc365d542219f2ae2dc3dbae356",
        "IPY_MODEL_79f3b20f229440078ff925af9e4740ed"
       ],
       "layout": "IPY_MODEL_062d549782094bebb0223f118e68e6fd"
      }
     },
     "8456ca690f94441f92f356d0ee3eb614": {
      "model_module": "@jupyter-widgets/controls",
      "model_module_version": "2.0.0",
      "model_name": "FloatProgressModel",
      "state": {
       "bar_style": "success",
       "layout": "IPY_MODEL_33799273c48940d6a7a67c0a32874862",
       "max": 473,
       "style": "IPY_MODEL_624cc9972c354966bf8737e9afd8202f",
       "value": 473
      }
     },
     "846516f19bb6455ea335994a16323ac2": {
      "model_module": "@jupyter-widgets/controls",
      "model_module_version": "2.0.0",
      "model_name": "FloatProgressModel",
      "state": {
       "bar_style": "success",
       "layout": "IPY_MODEL_86322b22a256491bb3b100c0496c0976",
       "max": 242,
       "style": "IPY_MODEL_7640e2aabd7248c5b817e9c72b17cbb7",
       "value": 242
      }
     },
     "849354ff85824ee88593215129d350d7": {
      "model_module": "@jupyter-widgets/controls",
      "model_module_version": "2.0.0",
      "model_name": "ProgressStyleModel",
      "state": {
       "description_width": ""
      }
     },
     "850bd457d570473ebf98928439e73eb5": {
      "model_module": "@jupyter-widgets/controls",
      "model_module_version": "2.0.0",
      "model_name": "FloatProgressModel",
      "state": {
       "bar_style": "success",
       "layout": "IPY_MODEL_09372a219d63451e90bc660c411dd043",
       "max": 252,
       "style": "IPY_MODEL_01ca0827f6644e8a9f925812f6498a99",
       "value": 252
      }
     },
     "853693632acc49fab50474733a2bf476": {
      "model_module": "@jupyter-widgets/controls",
      "model_module_version": "2.0.0",
      "model_name": "ProgressStyleModel",
      "state": {
       "description_width": ""
      }
     },
     "86322b22a256491bb3b100c0496c0976": {
      "model_module": "@jupyter-widgets/base",
      "model_module_version": "2.0.0",
      "model_name": "LayoutModel",
      "state": {}
     },
     "863af5ec128542ebb4441e78f70f85ce": {
      "model_module": "@jupyter-widgets/controls",
      "model_module_version": "2.0.0",
      "model_name": "HTMLModel",
      "state": {
       "layout": "IPY_MODEL_d14a6b712fd74ef49939aeb4f8997de5",
       "style": "IPY_MODEL_756045924a4d42bb822f5458c6098029",
       "value": " 306/306 [02:21&lt;00:00,  2.22it/s]"
      }
     },
     "86438c46fdb74dd8bbfc64019844f677": {
      "model_module": "@jupyter-widgets/base",
      "model_module_version": "2.0.0",
      "model_name": "LayoutModel",
      "state": {}
     },
     "865ba078549c4033be3cdb2f121859fc": {
      "model_module": "@jupyter-widgets/base",
      "model_module_version": "2.0.0",
      "model_name": "LayoutModel",
      "state": {}
     },
     "8666c04d77804a83834e4c81f0027e0b": {
      "model_module": "@jupyter-widgets/controls",
      "model_module_version": "2.0.0",
      "model_name": "HTMLStyleModel",
      "state": {
       "description_width": "",
       "font_size": null,
       "text_color": null
      }
     },
     "8699aa9133b0441b98212bb993ca48b8": {
      "model_module": "@jupyter-widgets/base",
      "model_module_version": "2.0.0",
      "model_name": "LayoutModel",
      "state": {}
     },
     "86abfc1cfdd344c9b246f81b129d6b26": {
      "model_module": "@jupyter-widgets/base",
      "model_module_version": "2.0.0",
      "model_name": "LayoutModel",
      "state": {}
     },
     "86b6b29c56944d6c8d3aa61ab2f25095": {
      "model_module": "@jupyter-widgets/controls",
      "model_module_version": "2.0.0",
      "model_name": "HTMLModel",
      "state": {
       "layout": "IPY_MODEL_3598c027c98e46fc8fde036985517557",
       "style": "IPY_MODEL_f835bbafbe73475e9640c20826b7cd03",
       "value": " 241/241 [01:52&lt;00:00,  2.16it/s]"
      }
     },
     "874ffe1f738f4cc18925db3fcdfcbef3": {
      "model_module": "@jupyter-widgets/controls",
      "model_module_version": "2.0.0",
      "model_name": "FloatProgressModel",
      "state": {
       "bar_style": "success",
       "layout": "IPY_MODEL_ceac6e39dba74f6fbfe8032e4e6bfd62",
       "max": 137,
       "style": "IPY_MODEL_6642ca1ed1f249b89592807d0a70c22b",
       "value": 137
      }
     },
     "8763897b317e4bb68515c64eabea52bb": {
      "model_module": "@jupyter-widgets/base",
      "model_module_version": "2.0.0",
      "model_name": "LayoutModel",
      "state": {}
     },
     "8780aaf76de44421bc9665e2fafed944": {
      "model_module": "@jupyter-widgets/base",
      "model_module_version": "2.0.0",
      "model_name": "LayoutModel",
      "state": {}
     },
     "87907b904fcb457fa9f630118dfa10ac": {
      "model_module": "@jupyter-widgets/base",
      "model_module_version": "2.0.0",
      "model_name": "LayoutModel",
      "state": {}
     },
     "87b1d179276c4729a8e6391a987f79e5": {
      "model_module": "@jupyter-widgets/controls",
      "model_module_version": "2.0.0",
      "model_name": "HBoxModel",
      "state": {
       "children": [
        "IPY_MODEL_a1014320edca478f9424032e1d392601",
        "IPY_MODEL_efc65d3d049c46179133ff9a6dc1f1d3",
        "IPY_MODEL_29a0ad4b107c4e6e932429c40984fb46"
       ],
       "layout": "IPY_MODEL_191889ed51314ac2a1de6950f34f70f2"
      }
     },
     "87c4d44cd7514a949f1605a53368bd02": {
      "model_module": "@jupyter-widgets/controls",
      "model_module_version": "2.0.0",
      "model_name": "HTMLStyleModel",
      "state": {
       "description_width": "",
       "font_size": null,
       "text_color": null
      }
     },
     "87d7a91671dd4235bf3d64eccd9c8038": {
      "model_module": "@jupyter-widgets/base",
      "model_module_version": "2.0.0",
      "model_name": "LayoutModel",
      "state": {}
     },
     "87f33e96a1944d728e3ea7530c303c4b": {
      "model_module": "@jupyter-widgets/base",
      "model_module_version": "2.0.0",
      "model_name": "LayoutModel",
      "state": {}
     },
     "88001c424425447eb892ab1e91914b3d": {
      "model_module": "@jupyter-widgets/base",
      "model_module_version": "2.0.0",
      "model_name": "LayoutModel",
      "state": {}
     },
     "880d6529569c4b878194751b341877a8": {
      "model_module": "@jupyter-widgets/base",
      "model_module_version": "2.0.0",
      "model_name": "LayoutModel",
      "state": {}
     },
     "88510cf798694d0b89742829bd569047": {
      "model_module": "@jupyter-widgets/controls",
      "model_module_version": "2.0.0",
      "model_name": "HBoxModel",
      "state": {
       "children": [
        "IPY_MODEL_fb3b5e538e6f4b9095ec30dac69ad007",
        "IPY_MODEL_e10767776a9c43b0b5394f4a6ce5c5bc",
        "IPY_MODEL_0f66a54c8bca47ea9044d92b0581b110"
       ],
       "layout": "IPY_MODEL_f7fb6164e3b348478031c97f6d8a7471"
      }
     },
     "8889d81de6cf441da7ae826bc9b789e0": {
      "model_module": "@jupyter-widgets/base",
      "model_module_version": "2.0.0",
      "model_name": "LayoutModel",
      "state": {}
     },
     "888c384091a947c59daed972d197abdc": {
      "model_module": "@jupyter-widgets/controls",
      "model_module_version": "2.0.0",
      "model_name": "HTMLStyleModel",
      "state": {
       "description_width": "",
       "font_size": null,
       "text_color": null
      }
     },
     "88abf4617b8241e2ba9dc9b8d8ade862": {
      "model_module": "@jupyter-widgets/base",
      "model_module_version": "2.0.0",
      "model_name": "LayoutModel",
      "state": {}
     },
     "88bb607f31804e9cabb6d23236768646": {
      "model_module": "@jupyter-widgets/base",
      "model_module_version": "2.0.0",
      "model_name": "LayoutModel",
      "state": {}
     },
     "88e6a663d49d40e6805053419a4f5da9": {
      "model_module": "@jupyter-widgets/controls",
      "model_module_version": "2.0.0",
      "model_name": "HTMLStyleModel",
      "state": {
       "description_width": "",
       "font_size": null,
       "text_color": null
      }
     },
     "89445cc9d19447eb8435da00d8cfd567": {
      "model_module": "@jupyter-widgets/controls",
      "model_module_version": "2.0.0",
      "model_name": "ProgressStyleModel",
      "state": {
       "description_width": ""
      }
     },
     "895689be435c422b8e39a74481c5a81a": {
      "model_module": "@jupyter-widgets/controls",
      "model_module_version": "2.0.0",
      "model_name": "HTMLModel",
      "state": {
       "layout": "IPY_MODEL_53a910d51cc54d21833974033fe23522",
       "style": "IPY_MODEL_c8ac640064b74a11b1636db48d38e6f6",
       "value": " 411/411 [03:10&lt;00:00,  2.24it/s]"
      }
     },
     "8989a201101046ca8121449cc5d45231": {
      "model_module": "@jupyter-widgets/controls",
      "model_module_version": "2.0.0",
      "model_name": "HBoxModel",
      "state": {
       "children": [
        "IPY_MODEL_faf23f71a7ac46d2b46297f5442070ec",
        "IPY_MODEL_bf98c1db36a04a4e81c9b74d15b347b7",
        "IPY_MODEL_6de6da41f3f34af38d7798ca3b7abe79"
       ],
       "layout": "IPY_MODEL_c5da7d1f6a084f028a970513582c0b73"
      }
     },
     "899629c82efe42e6b607a372f68ea6b7": {
      "model_module": "@jupyter-widgets/base",
      "model_module_version": "2.0.0",
      "model_name": "LayoutModel",
      "state": {}
     },
     "8a0da13fc38a4d8483f3d2ea657e9671": {
      "model_module": "@jupyter-widgets/base",
      "model_module_version": "2.0.0",
      "model_name": "LayoutModel",
      "state": {}
     },
     "8a638016193448ebae5fca72f432f046": {
      "model_module": "@jupyter-widgets/base",
      "model_module_version": "2.0.0",
      "model_name": "LayoutModel",
      "state": {}
     },
     "8a9759f65fba44688e160a744b57e199": {
      "model_module": "@jupyter-widgets/controls",
      "model_module_version": "2.0.0",
      "model_name": "HTMLModel",
      "state": {
       "layout": "IPY_MODEL_539c75541045404db837169e096b1cd7",
       "style": "IPY_MODEL_137ed87235594650945f035ac27cbb2b",
       "value": " 306/306 [02:50&lt;00:00,  1.42it/s]"
      }
     },
     "8aaba090d7c94dbca8b9dad304be6001": {
      "model_module": "@jupyter-widgets/controls",
      "model_module_version": "2.0.0",
      "model_name": "FloatProgressModel",
      "state": {
       "bar_style": "success",
       "layout": "IPY_MODEL_3bc53acc339743b7b5b361baada163f7",
       "max": 182,
       "style": "IPY_MODEL_6478f96f23304e88bb9699bc32cbf111",
       "value": 182
      }
     },
     "8aafd6193cd2462e832859e9d4b979d9": {
      "model_module": "@jupyter-widgets/controls",
      "model_module_version": "2.0.0",
      "model_name": "FloatProgressModel",
      "state": {
       "bar_style": "success",
       "layout": "IPY_MODEL_7a231c61abb64bb9a02aaae3c202da69",
       "max": 233,
       "style": "IPY_MODEL_3543cc25a5984a1c857b18af69793d96",
       "value": 233
      }
     },
     "8ac17c6bf174414d94035dc0bc69f9fb": {
      "model_module": "@jupyter-widgets/base",
      "model_module_version": "2.0.0",
      "model_name": "LayoutModel",
      "state": {}
     },
     "8adecf51f41a43259aec49076445df78": {
      "model_module": "@jupyter-widgets/controls",
      "model_module_version": "2.0.0",
      "model_name": "HTMLStyleModel",
      "state": {
       "description_width": "",
       "font_size": null,
       "text_color": null
      }
     },
     "8ae95e60f2d142b2ae2eda5ea7eb5fa7": {
      "model_module": "@jupyter-widgets/base",
      "model_module_version": "2.0.0",
      "model_name": "LayoutModel",
      "state": {}
     },
     "8aff85ceb13f4497a9883a04403900d7": {
      "model_module": "@jupyter-widgets/base",
      "model_module_version": "2.0.0",
      "model_name": "LayoutModel",
      "state": {}
     },
     "8b623c24d7bf4f3aafa15555e0d50e3b": {
      "model_module": "@jupyter-widgets/controls",
      "model_module_version": "2.0.0",
      "model_name": "HTMLStyleModel",
      "state": {
       "description_width": "",
       "font_size": null,
       "text_color": null
      }
     },
     "8b64f1039df344589fd564acbfd5e4c7": {
      "model_module": "@jupyter-widgets/base",
      "model_module_version": "2.0.0",
      "model_name": "LayoutModel",
      "state": {}
     },
     "8b9d15ed5e2b451684d8fca3de80d8b3": {
      "model_module": "@jupyter-widgets/controls",
      "model_module_version": "2.0.0",
      "model_name": "HBoxModel",
      "state": {
       "children": [
        "IPY_MODEL_d3f196dd6a9c4bcdadbfe238e02c95b4",
        "IPY_MODEL_a2a963fecd874a61b1299397af3ed4be",
        "IPY_MODEL_c9438578962046dcabc0859e4702937c"
       ],
       "layout": "IPY_MODEL_715e482c50464a0e8cd83f89d939cce1"
      }
     },
     "8bc040e93e11481589d601b4955b2311": {
      "model_module": "@jupyter-widgets/base",
      "model_module_version": "2.0.0",
      "model_name": "LayoutModel",
      "state": {}
     },
     "8bf498dc8b614afb8e090267e75945b4": {
      "model_module": "@jupyter-widgets/controls",
      "model_module_version": "2.0.0",
      "model_name": "HTMLModel",
      "state": {
       "layout": "IPY_MODEL_b74aa6fd22594b70924e314ecb51a0b6",
       "style": "IPY_MODEL_0b744279839640d381e1d24e747df3f0",
       "value": " 462/462 [03:32&lt;00:00,  2.18it/s]"
      }
     },
     "8bf9817868fa406e87f0a36acae87e05": {
      "model_module": "@jupyter-widgets/base",
      "model_module_version": "2.0.0",
      "model_name": "LayoutModel",
      "state": {}
     },
     "8c7bef2dabd344aea2000ac5255f3329": {
      "model_module": "@jupyter-widgets/base",
      "model_module_version": "2.0.0",
      "model_name": "LayoutModel",
      "state": {}
     },
     "8cad835468b941a88d6538f61208606d": {
      "model_module": "@jupyter-widgets/controls",
      "model_module_version": "2.0.0",
      "model_name": "ProgressStyleModel",
      "state": {
       "description_width": ""
      }
     },
     "8cb2e577b78f4f3099da59dd1cde914b": {
      "model_module": "@jupyter-widgets/base",
      "model_module_version": "2.0.0",
      "model_name": "LayoutModel",
      "state": {}
     },
     "8d078b22996242a2af99cc8fed68ad40": {
      "model_module": "@jupyter-widgets/controls",
      "model_module_version": "2.0.0",
      "model_name": "ProgressStyleModel",
      "state": {
       "description_width": ""
      }
     },
     "8d0a1fe807b34be1b85fe2d496f8ddf6": {
      "model_module": "@jupyter-widgets/controls",
      "model_module_version": "2.0.0",
      "model_name": "ProgressStyleModel",
      "state": {
       "description_width": ""
      }
     },
     "8d7b21f3a8b64ca9baff7f0c5e8798c5": {
      "model_module": "@jupyter-widgets/base",
      "model_module_version": "2.0.0",
      "model_name": "LayoutModel",
      "state": {}
     },
     "8d811225760f4910a5091ba376e78e8f": {
      "model_module": "@jupyter-widgets/controls",
      "model_module_version": "2.0.0",
      "model_name": "FloatProgressModel",
      "state": {
       "bar_style": "success",
       "layout": "IPY_MODEL_ef3d1a3cb51f47d48ed7d7a056169d9f",
       "max": 212,
       "style": "IPY_MODEL_96503abf1c014ebc9d5a3511cbf7112b",
       "value": 212
      }
     },
     "8da264472c944040aead6fc7074a2635": {
      "model_module": "@jupyter-widgets/controls",
      "model_module_version": "2.0.0",
      "model_name": "HTMLStyleModel",
      "state": {
       "description_width": "",
       "font_size": null,
       "text_color": null
      }
     },
     "8dd547f0c12f4a8eb82a6fd0915f33fe": {
      "model_module": "@jupyter-widgets/controls",
      "model_module_version": "2.0.0",
      "model_name": "HTMLModel",
      "state": {
       "layout": "IPY_MODEL_faf06f3b7d9f4a16ac20fc7758832e5b",
       "style": "IPY_MODEL_45b5abcd1a4244a49c0670901fee4ace",
       "value": " 182/182 [01:23&lt;00:00,  2.16it/s]"
      }
     },
     "8dd8b16c5d53451fb9dbe40a5d6786ae": {
      "model_module": "@jupyter-widgets/controls",
      "model_module_version": "2.0.0",
      "model_name": "HTMLStyleModel",
      "state": {
       "description_width": "",
       "font_size": null,
       "text_color": null
      }
     },
     "8e1a15eecee9449c8c71cdbb0dcb1e00": {
      "model_module": "@jupyter-widgets/base",
      "model_module_version": "2.0.0",
      "model_name": "LayoutModel",
      "state": {}
     },
     "8e1bf806e40a490db6393bd80d14574e": {
      "model_module": "@jupyter-widgets/controls",
      "model_module_version": "2.0.0",
      "model_name": "HTMLStyleModel",
      "state": {
       "description_width": "",
       "font_size": null,
       "text_color": null
      }
     },
     "8e37d29ddd014c0f949ddd9c36633daf": {
      "model_module": "@jupyter-widgets/base",
      "model_module_version": "2.0.0",
      "model_name": "LayoutModel",
      "state": {}
     },
     "8e95f790e00a4e2cbaf3d84ee381c796": {
      "model_module": "@jupyter-widgets/controls",
      "model_module_version": "2.0.0",
      "model_name": "HBoxModel",
      "state": {
       "children": [
        "IPY_MODEL_fe492ffe7218433e852a4a140b5e6f69",
        "IPY_MODEL_ee5954ac3f2341e9b114858a0fcfff45",
        "IPY_MODEL_3572ab0387334472bf973319cd0bc2f5"
       ],
       "layout": "IPY_MODEL_085ff8ef1cf64383b3fb1c2ce9a4f7ea"
      }
     },
     "8f188817f7944255b92cd720ee5e07b3": {
      "model_module": "@jupyter-widgets/base",
      "model_module_version": "2.0.0",
      "model_name": "LayoutModel",
      "state": {}
     },
     "8fa516a6e76a42e4a8c522f7ee5e3ec7": {
      "model_module": "@jupyter-widgets/base",
      "model_module_version": "2.0.0",
      "model_name": "LayoutModel",
      "state": {}
     },
     "8fd1d21fbb3b443b9a42cfff6f9557b3": {
      "model_module": "@jupyter-widgets/controls",
      "model_module_version": "2.0.0",
      "model_name": "HTMLModel",
      "state": {
       "layout": "IPY_MODEL_ba1174cad59c42bb99a574dd11a0084e",
       "style": "IPY_MODEL_9a17d600cb3c4e839d1f80bc55ed8b27",
       "value": " 176/176 [01:22&lt;00:00,  2.14it/s]"
      }
     },
     "8fe0c40306c94e5e892af34e25b36a28": {
      "model_module": "@jupyter-widgets/base",
      "model_module_version": "2.0.0",
      "model_name": "LayoutModel",
      "state": {}
     },
     "90159bdac302433c8896f43184ec87db": {
      "model_module": "@jupyter-widgets/controls",
      "model_module_version": "2.0.0",
      "model_name": "HTMLModel",
      "state": {
       "layout": "IPY_MODEL_88bb607f31804e9cabb6d23236768646",
       "style": "IPY_MODEL_d05de089c37a4ca1a8e08ebb66d6fe64",
       "value": " 310/310 [02:22&lt;00:00,  2.21it/s]"
      }
     },
     "902657b309304aea84c6d24c7600c9e5": {
      "model_module": "@jupyter-widgets/controls",
      "model_module_version": "2.0.0",
      "model_name": "HBoxModel",
      "state": {
       "children": [
        "IPY_MODEL_9e295b6b35744e51a7a814782d1e11ea",
        "IPY_MODEL_8456ca690f94441f92f356d0ee3eb614",
        "IPY_MODEL_0775d810aa414194ade2af62b92d47c2"
       ],
       "layout": "IPY_MODEL_c007e4cc756d431e8908a926f46a2522"
      }
     },
     "9029992a4bd54c8e95d8f3272e3863d3": {
      "model_module": "@jupyter-widgets/controls",
      "model_module_version": "2.0.0",
      "model_name": "ProgressStyleModel",
      "state": {
       "description_width": ""
      }
     },
     "90450a06accf4ea2b1179db2c99f0d8c": {
      "model_module": "@jupyter-widgets/controls",
      "model_module_version": "2.0.0",
      "model_name": "HBoxModel",
      "state": {
       "children": [
        "IPY_MODEL_e9b700fd223d423bba6f5de7f9e40d0d",
        "IPY_MODEL_a5eb69f155054533a2597b7fdf71df52",
        "IPY_MODEL_8fd1d21fbb3b443b9a42cfff6f9557b3"
       ],
       "layout": "IPY_MODEL_59e12ad0649e4009ad269b374b9836aa"
      }
     },
     "904992447f264503aeff4a87c42730e8": {
      "model_module": "@jupyter-widgets/controls",
      "model_module_version": "2.0.0",
      "model_name": "HTMLStyleModel",
      "state": {
       "description_width": "",
       "font_size": null,
       "text_color": null
      }
     },
     "90739c7599204f01ab46e3c8422113ce": {
      "model_module": "@jupyter-widgets/controls",
      "model_module_version": "2.0.0",
      "model_name": "HTMLModel",
      "state": {
       "layout": "IPY_MODEL_45745dd68bf34c109fed52fb0e7dc122",
       "style": "IPY_MODEL_aff4dc2dec3a4242a5db2a73e0e78dcc",
       "value": " 241/241 [01:52&lt;00:00,  2.12it/s]"
      }
     },
     "9080d5a1c843462d9233122dd3167cc0": {
      "model_module": "@jupyter-widgets/controls",
      "model_module_version": "2.0.0",
      "model_name": "HTMLStyleModel",
      "state": {
       "description_width": "",
       "font_size": null,
       "text_color": null
      }
     },
     "9089554e1af34b138dd83eca0215aee6": {
      "model_module": "@jupyter-widgets/controls",
      "model_module_version": "2.0.0",
      "model_name": "HTMLModel",
      "state": {
       "layout": "IPY_MODEL_a41c989f4b2b42f19b818c2cf370c610",
       "style": "IPY_MODEL_2993c8d3a4614d3fbc143b6782e86139",
       "value": " 26%"
      }
     },
     "90a0734ac22641c78e0fe5d524e09084": {
      "model_module": "@jupyter-widgets/controls",
      "model_module_version": "2.0.0",
      "model_name": "HTMLModel",
      "state": {
       "layout": "IPY_MODEL_ccf0311cf1c34abe8e00a001b265ee39",
       "style": "IPY_MODEL_ae6d7282290b470ba193e856e574b5ea",
       "value": "100%"
      }
     },
     "90e39e7ab5654f10955ab8818d8a2560": {
      "model_module": "@jupyter-widgets/base",
      "model_module_version": "2.0.0",
      "model_name": "LayoutModel",
      "state": {}
     },
     "90ef7530bfe74c73b446291f1b7e8666": {
      "model_module": "@jupyter-widgets/controls",
      "model_module_version": "2.0.0",
      "model_name": "HTMLStyleModel",
      "state": {
       "description_width": "",
       "font_size": null,
       "text_color": null
      }
     },
     "90f39d09edcc4e149cb557ad81416c0d": {
      "model_module": "@jupyter-widgets/base",
      "model_module_version": "2.0.0",
      "model_name": "LayoutModel",
      "state": {}
     },
     "917ff3f96b51440993c2642e94ececb8": {
      "model_module": "@jupyter-widgets/controls",
      "model_module_version": "2.0.0",
      "model_name": "HTMLModel",
      "state": {
       "layout": "IPY_MODEL_8c7bef2dabd344aea2000ac5255f3329",
       "style": "IPY_MODEL_2d7c2eacb19244da83e8c33a4ab8acdb",
       "value": "100%"
      }
     },
     "91b691a4afe846579318e5cb71d2e8bc": {
      "model_module": "@jupyter-widgets/base",
      "model_module_version": "2.0.0",
      "model_name": "LayoutModel",
      "state": {}
     },
     "91d7cbb892e84b9dac97defb3ced4276": {
      "model_module": "@jupyter-widgets/controls",
      "model_module_version": "2.0.0",
      "model_name": "HTMLStyleModel",
      "state": {
       "description_width": "",
       "font_size": null,
       "text_color": null
      }
     },
     "91da301bb8004b6c9bdcf216e163aefd": {
      "model_module": "@jupyter-widgets/controls",
      "model_module_version": "2.0.0",
      "model_name": "HBoxModel",
      "state": {
       "children": [
        "IPY_MODEL_df3525c19b604ddf8d1b73c93c1e17ce",
        "IPY_MODEL_20afa7425f7145ea987d5c2bbb7a8774",
        "IPY_MODEL_60707dd0acb047e98542db025078fbde"
       ],
       "layout": "IPY_MODEL_4bd6fc444fca4fea968b527f41cdffe2"
      }
     },
     "926912be95174ab695877fc7f8b5a296": {
      "model_module": "@jupyter-widgets/base",
      "model_module_version": "2.0.0",
      "model_name": "LayoutModel",
      "state": {}
     },
     "928fb612a8244a9b9d5d3d56bf496c2a": {
      "model_module": "@jupyter-widgets/controls",
      "model_module_version": "2.0.0",
      "model_name": "HBoxModel",
      "state": {
       "children": [
        "IPY_MODEL_0e30dfa82ae94a52a7d430de6cd6a75d",
        "IPY_MODEL_c8ffb285f4a44c368c1e6d1e5459a9b7",
        "IPY_MODEL_bc23c89797704df5965066bcf9a022ff"
       ],
       "layout": "IPY_MODEL_44194dd99d164b22ae3019a661d547c0"
      }
     },
     "9297a3843b984fd8939350d4ddd51b7f": {
      "model_module": "@jupyter-widgets/controls",
      "model_module_version": "2.0.0",
      "model_name": "HTMLStyleModel",
      "state": {
       "description_width": "",
       "font_size": null,
       "text_color": null
      }
     },
     "92f338783e3741efa0c3434127824770": {
      "model_module": "@jupyter-widgets/controls",
      "model_module_version": "2.0.0",
      "model_name": "HTMLModel",
      "state": {
       "layout": "IPY_MODEL_4bcd9cba0ffb46c59a6630f4262eafbc",
       "style": "IPY_MODEL_bb9d4e7a66134da8beb562005868c142",
       "value": "100%"
      }
     },
     "93211c00a4924e04b088a4b9dbcdf8e7": {
      "model_module": "@jupyter-widgets/controls",
      "model_module_version": "2.0.0",
      "model_name": "HTMLStyleModel",
      "state": {
       "description_width": "",
       "font_size": null,
       "text_color": null
      }
     },
     "9322915fa12d49fc998c3b698cd61193": {
      "model_module": "@jupyter-widgets/base",
      "model_module_version": "2.0.0",
      "model_name": "LayoutModel",
      "state": {}
     },
     "935a7e7fdadd4054ab02c46c181efabd": {
      "model_module": "@jupyter-widgets/base",
      "model_module_version": "2.0.0",
      "model_name": "LayoutModel",
      "state": {}
     },
     "93bba2be73a94daf9a7e7e989c558a77": {
      "model_module": "@jupyter-widgets/controls",
      "model_module_version": "2.0.0",
      "model_name": "FloatProgressModel",
      "state": {
       "bar_style": "success",
       "layout": "IPY_MODEL_5f8b4603a4aa456995fb195c506390a5",
       "max": 135,
       "style": "IPY_MODEL_5d5c36ed5b184df3b1931e94ecebfb33",
       "value": 135
      }
     },
     "93c0a7f8fa194ffcaf52c74d93595fcf": {
      "model_module": "@jupyter-widgets/controls",
      "model_module_version": "2.0.0",
      "model_name": "ProgressStyleModel",
      "state": {
       "description_width": ""
      }
     },
     "9429dbe09b9f47cd9f7eb7f33e5a02c3": {
      "model_module": "@jupyter-widgets/controls",
      "model_module_version": "2.0.0",
      "model_name": "HTMLModel",
      "state": {
       "layout": "IPY_MODEL_28e572bf00404123aaff211e9a9a914f",
       "style": "IPY_MODEL_29657ed8aa9a491194a68e96f3b7ff51",
       "value": " 521/521 [1:12:37&lt;00:00,  8.97s/it]"
      }
     },
     "9443df3371354cf9b140c2f8d250a389": {
      "model_module": "@jupyter-widgets/controls",
      "model_module_version": "2.0.0",
      "model_name": "HTMLStyleModel",
      "state": {
       "description_width": "",
       "font_size": null,
       "text_color": null
      }
     },
     "94547445c3df43a8b3bace95b71243ad": {
      "model_module": "@jupyter-widgets/controls",
      "model_module_version": "2.0.0",
      "model_name": "FloatProgressModel",
      "state": {
       "bar_style": "success",
       "layout": "IPY_MODEL_62be19ec61ea4546a24efc0a3e5a8b7f",
       "max": 134,
       "style": "IPY_MODEL_81c516e5e20f4531a25d15568ed469b3",
       "value": 134
      }
     },
     "94b33f12240e489ea5a7b23d1f379215": {
      "model_module": "@jupyter-widgets/controls",
      "model_module_version": "2.0.0",
      "model_name": "FloatProgressModel",
      "state": {
       "bar_style": "success",
       "layout": "IPY_MODEL_d04bfb1706fb45a6b72d62f97f5c2cd0",
       "max": 380,
       "style": "IPY_MODEL_dc13226224e045f18adf3fa893456292",
       "value": 380
      }
     },
     "94c9185219da4a10914f5e01aed4b974": {
      "model_module": "@jupyter-widgets/controls",
      "model_module_version": "2.0.0",
      "model_name": "HTMLStyleModel",
      "state": {
       "description_width": "",
       "font_size": null,
       "text_color": null
      }
     },
     "94f8a7e5de694435932d50e02fe58774": {
      "model_module": "@jupyter-widgets/controls",
      "model_module_version": "2.0.0",
      "model_name": "ProgressStyleModel",
      "state": {
       "description_width": ""
      }
     },
     "9515fa87600f4cd5bcdd2dd6b0876bbf": {
      "model_module": "@jupyter-widgets/base",
      "model_module_version": "2.0.0",
      "model_name": "LayoutModel",
      "state": {}
     },
     "953029e390684a9bb66c50b9eaba4b5d": {
      "model_module": "@jupyter-widgets/base",
      "model_module_version": "2.0.0",
      "model_name": "LayoutModel",
      "state": {}
     },
     "95497401ea3648838a38861ff34255e7": {
      "model_module": "@jupyter-widgets/controls",
      "model_module_version": "2.0.0",
      "model_name": "FloatProgressModel",
      "state": {
       "bar_style": "success",
       "layout": "IPY_MODEL_81632db3d5124ca68c240198e38fe42f",
       "max": 184,
       "style": "IPY_MODEL_e9b33be41f1e4baf960b162355c5735e",
       "value": 184
      }
     },
     "95506667049440c28c516c1d8173143f": {
      "model_module": "@jupyter-widgets/controls",
      "model_module_version": "2.0.0",
      "model_name": "ProgressStyleModel",
      "state": {
       "description_width": ""
      }
     },
     "95752f6841504cbba6dc039b91231d5d": {
      "model_module": "@jupyter-widgets/base",
      "model_module_version": "2.0.0",
      "model_name": "LayoutModel",
      "state": {}
     },
     "957e336929ea4e389eeaed38ef8d9ce9": {
      "model_module": "@jupyter-widgets/controls",
      "model_module_version": "2.0.0",
      "model_name": "HTMLModel",
      "state": {
       "layout": "IPY_MODEL_1064154611294f18b7c31d68ff50be73",
       "style": "IPY_MODEL_2d14f3bbd92343afb76e6131b4eff963",
       "value": " 94/94 [00:44&lt;00:00,  1.82it/s]"
      }
     },
     "95a98daffb5c43e09de76794e34fee62": {
      "model_module": "@jupyter-widgets/base",
      "model_module_version": "2.0.0",
      "model_name": "LayoutModel",
      "state": {}
     },
     "95c809e0305245afbd0a2e1ec33c211d": {
      "model_module": "@jupyter-widgets/controls",
      "model_module_version": "2.0.0",
      "model_name": "ProgressStyleModel",
      "state": {
       "description_width": ""
      }
     },
     "95dd2407802446279d5a80f980ce27be": {
      "model_module": "@jupyter-widgets/controls",
      "model_module_version": "2.0.0",
      "model_name": "FloatProgressModel",
      "state": {
       "bar_style": "success",
       "layout": "IPY_MODEL_ae07ca3d401049ed809d015cb4692fb8",
       "max": 380,
       "style": "IPY_MODEL_575bea596b2346a19f087f9303a1f776",
       "value": 380
      }
     },
     "9601098c60464ffa9c07ba662f4b0bea": {
      "model_module": "@jupyter-widgets/controls",
      "model_module_version": "2.0.0",
      "model_name": "HTMLStyleModel",
      "state": {
       "description_width": "",
       "font_size": null,
       "text_color": null
      }
     },
     "9601666c07694231b8fca56643971181": {
      "model_module": "@jupyter-widgets/controls",
      "model_module_version": "2.0.0",
      "model_name": "HTMLModel",
      "state": {
       "layout": "IPY_MODEL_67627d888cb34795a1e0b810a6f8cd3f",
       "style": "IPY_MODEL_9fd65f8a31c0438885475eafcea6594d",
       "value": "100%"
      }
     },
     "96154aaaa70d419b94163a5ffbbd66c3": {
      "model_module": "@jupyter-widgets/controls",
      "model_module_version": "2.0.0",
      "model_name": "HBoxModel",
      "state": {
       "children": [
        "IPY_MODEL_e06bbf25d76d45d4b0666287a2aec6c8",
        "IPY_MODEL_f872e1f46038447e922f0f063c417151",
        "IPY_MODEL_9429dbe09b9f47cd9f7eb7f33e5a02c3"
       ],
       "layout": "IPY_MODEL_4e45f3a212d24225be0436b126d17347"
      }
     },
     "961aa668086b43fe8e89b0614d170a7c": {
      "model_module": "@jupyter-widgets/base",
      "model_module_version": "2.0.0",
      "model_name": "LayoutModel",
      "state": {}
     },
     "961c940d4dda47a6afd5330bc1634c07": {
      "model_module": "@jupyter-widgets/controls",
      "model_module_version": "2.0.0",
      "model_name": "HTMLModel",
      "state": {
       "layout": "IPY_MODEL_d79314ab9d6840868fc99c261d2ab686",
       "style": "IPY_MODEL_53de9b666dd54a7ba4831d4755690be5",
       "value": " 242/242 [01:53&lt;00:00,  2.20it/s]"
      }
     },
     "96503abf1c014ebc9d5a3511cbf7112b": {
      "model_module": "@jupyter-widgets/controls",
      "model_module_version": "2.0.0",
      "model_name": "ProgressStyleModel",
      "state": {
       "description_width": ""
      }
     },
     "96ae124dd65144868090b3cdb30c263c": {
      "model_module": "@jupyter-widgets/controls",
      "model_module_version": "2.0.0",
      "model_name": "HTMLModel",
      "state": {
       "layout": "IPY_MODEL_b60a1700e51d4dadaba414ae519bd7a0",
       "style": "IPY_MODEL_663747f6315045dda69628968ce56218",
       "value": " 185/185 [01:24&lt;00:00,  2.20it/s]"
      }
     },
     "96fdaf435258461c8f2ece40b03e88da": {
      "model_module": "@jupyter-widgets/base",
      "model_module_version": "2.0.0",
      "model_name": "LayoutModel",
      "state": {}
     },
     "972e7d5c30a049cd9c1536137aba336f": {
      "model_module": "@jupyter-widgets/controls",
      "model_module_version": "2.0.0",
      "model_name": "HTMLModel",
      "state": {
       "layout": "IPY_MODEL_8f188817f7944255b92cd720ee5e07b3",
       "style": "IPY_MODEL_88e6a663d49d40e6805053419a4f5da9",
       "value": "100%"
      }
     },
     "974a0e87623445b996dc947a71254117": {
      "model_module": "@jupyter-widgets/controls",
      "model_module_version": "2.0.0",
      "model_name": "FloatProgressModel",
      "state": {
       "bar_style": "success",
       "layout": "IPY_MODEL_926912be95174ab695877fc7f8b5a296",
       "max": 182,
       "style": "IPY_MODEL_8d078b22996242a2af99cc8fed68ad40",
       "value": 182
      }
     },
     "97937c8a5ad849e98b3c64dd5bec1583": {
      "model_module": "@jupyter-widgets/controls",
      "model_module_version": "2.0.0",
      "model_name": "HTMLModel",
      "state": {
       "layout": "IPY_MODEL_ffc29a44f00340629f1023232480cc3e",
       "style": "IPY_MODEL_6400df7bf0eb42bebc5ca5ae63032750",
       "value": "100%"
      }
     },
     "9796b1beeec04f20a2a9eb6448c6c89d": {
      "model_module": "@jupyter-widgets/controls",
      "model_module_version": "2.0.0",
      "model_name": "ProgressStyleModel",
      "state": {
       "description_width": ""
      }
     },
     "979c26fde05a4ff9ac7b1e40dc64e7ea": {
      "model_module": "@jupyter-widgets/base",
      "model_module_version": "2.0.0",
      "model_name": "LayoutModel",
      "state": {}
     },
     "97c339492b264ba1873534bf19c9ebd8": {
      "model_module": "@jupyter-widgets/controls",
      "model_module_version": "2.0.0",
      "model_name": "FloatProgressModel",
      "state": {
       "bar_style": "success",
       "layout": "IPY_MODEL_0bcaf8774bce40b0be99eed1f880a69e",
       "max": 140,
       "style": "IPY_MODEL_4729fe51473d4ca5a50f8bae87590352",
       "value": 140
      }
     },
     "97e03dfc862d4432936710693dab5e3a": {
      "model_module": "@jupyter-widgets/controls",
      "model_module_version": "2.0.0",
      "model_name": "ProgressStyleModel",
      "state": {
       "description_width": ""
      }
     },
     "97e9334a95ad4ce889d887bb324d38dc": {
      "model_module": "@jupyter-widgets/base",
      "model_module_version": "2.0.0",
      "model_name": "LayoutModel",
      "state": {}
     },
     "981efebe10d44b8e8564cfc2fae81f40": {
      "model_module": "@jupyter-widgets/controls",
      "model_module_version": "2.0.0",
      "model_name": "HTMLModel",
      "state": {
       "layout": "IPY_MODEL_697dcb898e424cb3b9c4a8a9385e460e",
       "style": "IPY_MODEL_507939bb467c43ca8cf6381e0a6476bf",
       "value": "100%"
      }
     },
     "989d0224a3674851b88775c64c619fe3": {
      "model_module": "@jupyter-widgets/controls",
      "model_module_version": "2.0.0",
      "model_name": "HTMLModel",
      "state": {
       "layout": "IPY_MODEL_6a3ca558a3e84f8287f528144826ba4b",
       "style": "IPY_MODEL_999e73cc4ff04260b9d8dfd627159266",
       "value": "100%"
      }
     },
     "98ce8dac97784fa8807c546c434d79d9": {
      "model_module": "@jupyter-widgets/controls",
      "model_module_version": "2.0.0",
      "model_name": "HTMLModel",
      "state": {
       "layout": "IPY_MODEL_48528d81a64f42dcb5846f4c2c87e0d6",
       "style": "IPY_MODEL_b1f40085ec234bc0a17bb4fdcc17cc46",
       "value": " 246/246 [02:07&lt;00:00,  2.02it/s]"
      }
     },
     "991b6205d81044bfa4c9b789987d1643": {
      "model_module": "@jupyter-widgets/controls",
      "model_module_version": "2.0.0",
      "model_name": "HBoxModel",
      "state": {
       "children": [
        "IPY_MODEL_f960224dd42e4df3aba54819447a296d",
        "IPY_MODEL_038e4d8ee2124918a9b91423d5f1441f",
        "IPY_MODEL_223fc47ae05c47399b5d5707e95c93a1"
       ],
       "layout": "IPY_MODEL_4e59532e3dba46c3874daced9ae734b0"
      }
     },
     "9966dc7e906d48f0b07601c9dd2a2f64": {
      "model_module": "@jupyter-widgets/controls",
      "model_module_version": "2.0.0",
      "model_name": "HTMLModel",
      "state": {
       "layout": "IPY_MODEL_ca9307e46e504da28bfdea4cde77427c",
       "style": "IPY_MODEL_4dbc6bd488d347708564684abb59d4c5",
       "value": " 252/252 [01:57&lt;00:00,  2.11it/s]"
      }
     },
     "9990a495b663472eba889b1b2b49d42e": {
      "model_module": "@jupyter-widgets/controls",
      "model_module_version": "2.0.0",
      "model_name": "HTMLModel",
      "state": {
       "layout": "IPY_MODEL_25e20240f6fc460bb1f6a6f7dbbc9158",
       "style": "IPY_MODEL_cd1f668c5ea140d891f345e46e96c5cf",
       "value": " 590/590 [04:32&lt;00:00,  2.19it/s]"
      }
     },
     "999e73cc4ff04260b9d8dfd627159266": {
      "model_module": "@jupyter-widgets/controls",
      "model_module_version": "2.0.0",
      "model_name": "HTMLStyleModel",
      "state": {
       "description_width": "",
       "font_size": null,
       "text_color": null
      }
     },
     "99a1eb15a5564d6c99d690736fdd675d": {
      "model_module": "@jupyter-widgets/controls",
      "model_module_version": "2.0.0",
      "model_name": "HTMLStyleModel",
      "state": {
       "description_width": "",
       "font_size": null,
       "text_color": null
      }
     },
     "99b7506780d24f049406857ecb95fe82": {
      "model_module": "@jupyter-widgets/controls",
      "model_module_version": "2.0.0",
      "model_name": "FloatProgressModel",
      "state": {
       "bar_style": "success",
       "layout": "IPY_MODEL_8b64f1039df344589fd564acbfd5e4c7",
       "max": 298,
       "style": "IPY_MODEL_25dad97c48634936ad6473763cf7b402",
       "value": 298
      }
     },
     "99c455ad313b47e1bcdef9912792f5d1": {
      "model_module": "@jupyter-widgets/base",
      "model_module_version": "2.0.0",
      "model_name": "LayoutModel",
      "state": {}
     },
     "9a031d94b5404a889a32dfb0c81f9a71": {
      "model_module": "@jupyter-widgets/controls",
      "model_module_version": "2.0.0",
      "model_name": "HTMLModel",
      "state": {
       "layout": "IPY_MODEL_3c9222678b8f42488b23c78c2c9399de",
       "style": "IPY_MODEL_186deec987fd4802a2c29e6ea2d4a82a",
       "value": "100%"
      }
     },
     "9a0b461f480d4ceb94d64dddeea90ae0": {
      "model_module": "@jupyter-widgets/base",
      "model_module_version": "2.0.0",
      "model_name": "LayoutModel",
      "state": {}
     },
     "9a17d600cb3c4e839d1f80bc55ed8b27": {
      "model_module": "@jupyter-widgets/controls",
      "model_module_version": "2.0.0",
      "model_name": "HTMLStyleModel",
      "state": {
       "description_width": "",
       "font_size": null,
       "text_color": null
      }
     },
     "9a409040f5df4ad5aee52ffcfe6c6678": {
      "model_module": "@jupyter-widgets/controls",
      "model_module_version": "2.0.0",
      "model_name": "HTMLStyleModel",
      "state": {
       "description_width": "",
       "font_size": null,
       "text_color": null
      }
     },
     "9a41e1d63fdd43cd9d4323e4f1b067fc": {
      "model_module": "@jupyter-widgets/controls",
      "model_module_version": "2.0.0",
      "model_name": "ProgressStyleModel",
      "state": {
       "description_width": ""
      }
     },
     "9aa19d85c0334ca88efdd0ba8f0cf5fd": {
      "model_module": "@jupyter-widgets/controls",
      "model_module_version": "2.0.0",
      "model_name": "HTMLModel",
      "state": {
       "layout": "IPY_MODEL_d2c4e105e1814c64a7d268db085f3028",
       "style": "IPY_MODEL_7c92f655e37b457f9704951c2947f9ff",
       "value": "100%"
      }
     },
     "9ac56fe61bca412483ee4a121764ae14": {
      "model_module": "@jupyter-widgets/base",
      "model_module_version": "2.0.0",
      "model_name": "LayoutModel",
      "state": {}
     },
     "9ae1298b0e7b4885b472a5f2471bdab2": {
      "model_module": "@jupyter-widgets/controls",
      "model_module_version": "2.0.0",
      "model_name": "ProgressStyleModel",
      "state": {
       "description_width": ""
      }
     },
     "9ae330d5073147f280980bc0670db6f0": {
      "model_module": "@jupyter-widgets/controls",
      "model_module_version": "2.0.0",
      "model_name": "HBoxModel",
      "state": {
       "children": [
        "IPY_MODEL_77e2b0aa29de4aaa82f6033041fd4c39",
        "IPY_MODEL_d8f611caa33646ee8b8665df41477c48",
        "IPY_MODEL_5065296d6abc46b4a64e54ad68c694c6"
       ],
       "layout": "IPY_MODEL_fff80f56ea8d4ac3bb003fa28ce4e333"
      }
     },
     "9b49f3f3ba3e4b8b98ced90215401829": {
      "model_module": "@jupyter-widgets/controls",
      "model_module_version": "2.0.0",
      "model_name": "HTMLStyleModel",
      "state": {
       "description_width": "",
       "font_size": null,
       "text_color": null
      }
     },
     "9b5e2cbf2d9c42edbd62c8f9c23aaa73": {
      "model_module": "@jupyter-widgets/base",
      "model_module_version": "2.0.0",
      "model_name": "LayoutModel",
      "state": {}
     },
     "9b9b148d217d4e2688305b3b1ff9ec13": {
      "model_module": "@jupyter-widgets/controls",
      "model_module_version": "2.0.0",
      "model_name": "HTMLStyleModel",
      "state": {
       "description_width": "",
       "font_size": null,
       "text_color": null
      }
     },
     "9b9da2d4ca424bdfbb0aea8b66d3b330": {
      "model_module": "@jupyter-widgets/controls",
      "model_module_version": "2.0.0",
      "model_name": "HTMLModel",
      "state": {
       "layout": "IPY_MODEL_cefac25f232641248564e2776b4cd4b4",
       "style": "IPY_MODEL_8b623c24d7bf4f3aafa15555e0d50e3b",
       "value": "100%"
      }
     },
     "9c0ece2435e44feda9bf9a571d0a1710": {
      "model_module": "@jupyter-widgets/controls",
      "model_module_version": "2.0.0",
      "model_name": "HTMLStyleModel",
      "state": {
       "description_width": "",
       "font_size": null,
       "text_color": null
      }
     },
     "9c1fbf9975974078b615ef287db7a82b": {
      "model_module": "@jupyter-widgets/controls",
      "model_module_version": "2.0.0",
      "model_name": "FloatProgressModel",
      "state": {
       "bar_style": "success",
       "layout": "IPY_MODEL_3d5dce52ad0f40f2a140cc8b448c2e52",
       "max": 205,
       "style": "IPY_MODEL_6b67d6dbd0804821b7aea9ba0bcef73c",
       "value": 205
      }
     },
     "9c30b7a9205f4d8d98e147327479a18f": {
      "model_module": "@jupyter-widgets/controls",
      "model_module_version": "2.0.0",
      "model_name": "HTMLStyleModel",
      "state": {
       "description_width": "",
       "font_size": null,
       "text_color": null
      }
     },
     "9c45ae953e6f4821b67a09489c24e1ae": {
      "model_module": "@jupyter-widgets/controls",
      "model_module_version": "2.0.0",
      "model_name": "HTMLStyleModel",
      "state": {
       "description_width": "",
       "font_size": null,
       "text_color": null
      }
     },
     "9c6b88fd67a5412e879702e96c2059bf": {
      "model_module": "@jupyter-widgets/controls",
      "model_module_version": "2.0.0",
      "model_name": "HTMLModel",
      "state": {
       "layout": "IPY_MODEL_653b26bf04d342f89e046625e69effed",
       "style": "IPY_MODEL_a8f4718474e0434faa870b87b32e2eb8",
       "value": "100%"
      }
     },
     "9c77af07d3b64d458eeec89da1ac6a21": {
      "model_module": "@jupyter-widgets/base",
      "model_module_version": "2.0.0",
      "model_name": "LayoutModel",
      "state": {}
     },
     "9c77fa5e649b447b9a4c20d437487344": {
      "model_module": "@jupyter-widgets/controls",
      "model_module_version": "2.0.0",
      "model_name": "FloatProgressModel",
      "state": {
       "bar_style": "success",
       "layout": "IPY_MODEL_70e89e26e8bf4a2fadaf0c35d9e7caf6",
       "max": 246,
       "style": "IPY_MODEL_600494eb92d045ccae8963046d372ac2",
       "value": 246
      }
     },
     "9ca644924aae4447b94cd706b9cdebb5": {
      "model_module": "@jupyter-widgets/base",
      "model_module_version": "2.0.0",
      "model_name": "LayoutModel",
      "state": {}
     },
     "9d38bbc12efa428e8126fa476642708a": {
      "model_module": "@jupyter-widgets/controls",
      "model_module_version": "2.0.0",
      "model_name": "FloatProgressModel",
      "state": {
       "bar_style": "success",
       "layout": "IPY_MODEL_b233578e20fa4ccc92a28caff7fab54d",
       "max": 325,
       "style": "IPY_MODEL_ac26da731c5c4c1db78dbf2b1502d127",
       "value": 325
      }
     },
     "9d5428b84edc4ec08c530cd9c050fbfa": {
      "model_module": "@jupyter-widgets/controls",
      "model_module_version": "2.0.0",
      "model_name": "HTMLStyleModel",
      "state": {
       "description_width": "",
       "font_size": null,
       "text_color": null
      }
     },
     "9d870c2d08214b608d681bae8fba4d50": {
      "model_module": "@jupyter-widgets/base",
      "model_module_version": "2.0.0",
      "model_name": "LayoutModel",
      "state": {}
     },
     "9d9d58bd9eb54d47a6de63ffaf1d09a1": {
      "model_module": "@jupyter-widgets/controls",
      "model_module_version": "2.0.0",
      "model_name": "HTMLModel",
      "state": {
       "layout": "IPY_MODEL_714b1be9d09b4905b87ae1bf98490a03",
       "style": "IPY_MODEL_bc63057175c74af1b1856f2c3c68a18d",
       "value": " 162/162 [01:14&lt;00:00,  2.19it/s]"
      }
     },
     "9da02a30e1eb46129685039574dd23b8": {
      "model_module": "@jupyter-widgets/controls",
      "model_module_version": "2.0.0",
      "model_name": "HTMLStyleModel",
      "state": {
       "description_width": "",
       "font_size": null,
       "text_color": null
      }
     },
     "9dc8a785499646d2a2fbc2a8f3f10907": {
      "model_module": "@jupyter-widgets/base",
      "model_module_version": "2.0.0",
      "model_name": "LayoutModel",
      "state": {}
     },
     "9e24b2e4fac4413dad88928725b45806": {
      "model_module": "@jupyter-widgets/controls",
      "model_module_version": "2.0.0",
      "model_name": "HTMLStyleModel",
      "state": {
       "description_width": "",
       "font_size": null,
       "text_color": null
      }
     },
     "9e295b6b35744e51a7a814782d1e11ea": {
      "model_module": "@jupyter-widgets/controls",
      "model_module_version": "2.0.0",
      "model_name": "HTMLModel",
      "state": {
       "layout": "IPY_MODEL_daef188735be4383a2f384e1d8c349a9",
       "style": "IPY_MODEL_5e069f3d3bbb4e4abb7ecd82fa19ba8e",
       "value": "100%"
      }
     },
     "9eafcba87d6f44ad9592b6aa12e3aa87": {
      "model_module": "@jupyter-widgets/controls",
      "model_module_version": "2.0.0",
      "model_name": "ProgressStyleModel",
      "state": {
       "description_width": ""
      }
     },
     "9ee61a68226e42dba8140d5703971c01": {
      "model_module": "@jupyter-widgets/base",
      "model_module_version": "2.0.0",
      "model_name": "LayoutModel",
      "state": {}
     },
     "9eebe17bac4d4be994dd218b9e736d31": {
      "model_module": "@jupyter-widgets/base",
      "model_module_version": "2.0.0",
      "model_name": "LayoutModel",
      "state": {}
     },
     "9eec8910476540ce9878c529ca003db3": {
      "model_module": "@jupyter-widgets/controls",
      "model_module_version": "2.0.0",
      "model_name": "HBoxModel",
      "state": {
       "children": [
        "IPY_MODEL_47072110d2d74a19a8e0228fab43ff6c",
        "IPY_MODEL_95497401ea3648838a38861ff34255e7",
        "IPY_MODEL_4f58187fd3814f54bd9307b7469b0710"
       ],
       "layout": "IPY_MODEL_e23bcc1b7a064788bf3b9465083e630c"
      }
     },
     "9f384dac0fa443dc8796fa1c3602f7a4": {
      "model_module": "@jupyter-widgets/controls",
      "model_module_version": "2.0.0",
      "model_name": "HTMLStyleModel",
      "state": {
       "description_width": "",
       "font_size": null,
       "text_color": null
      }
     },
     "9f89f02606114fe99463ee5e0379287c": {
      "model_module": "@jupyter-widgets/controls",
      "model_module_version": "2.0.0",
      "model_name": "HTMLModel",
      "state": {
       "layout": "IPY_MODEL_f15b2e153e874d718b241461c7132a79",
       "style": "IPY_MODEL_ba007ebafb9046c8bfc3f508fd8fec9b",
       "value": " 289/289 [37:53&lt;00:00,  8.00s/it]"
      }
     },
     "9fc2c55a095747da9f69347dba54ca51": {
      "model_module": "@jupyter-widgets/base",
      "model_module_version": "2.0.0",
      "model_name": "LayoutModel",
      "state": {}
     },
     "9fd65f8a31c0438885475eafcea6594d": {
      "model_module": "@jupyter-widgets/controls",
      "model_module_version": "2.0.0",
      "model_name": "HTMLStyleModel",
      "state": {
       "description_width": "",
       "font_size": null,
       "text_color": null
      }
     },
     "9ff5f0db41314656b151718c4fc86537": {
      "model_module": "@jupyter-widgets/controls",
      "model_module_version": "2.0.0",
      "model_name": "HTMLStyleModel",
      "state": {
       "description_width": "",
       "font_size": null,
       "text_color": null
      }
     },
     "a01f1a913e3b4facb92d15159658e278": {
      "model_module": "@jupyter-widgets/base",
      "model_module_version": "2.0.0",
      "model_name": "LayoutModel",
      "state": {}
     },
     "a1014320edca478f9424032e1d392601": {
      "model_module": "@jupyter-widgets/controls",
      "model_module_version": "2.0.0",
      "model_name": "HTMLModel",
      "state": {
       "layout": "IPY_MODEL_35a0cf8ffcc84e5384862065431a7765",
       "style": "IPY_MODEL_7093f98acc54436ea47a677f0894ae27",
       "value": "100%"
      }
     },
     "a149340c62864dd2bd5de7f152936765": {
      "model_module": "@jupyter-widgets/base",
      "model_module_version": "2.0.0",
      "model_name": "LayoutModel",
      "state": {}
     },
     "a14f0ad6672b4e59a9f4ee61c1667eb2": {
      "model_module": "@jupyter-widgets/controls",
      "model_module_version": "2.0.0",
      "model_name": "HTMLModel",
      "state": {
       "layout": "IPY_MODEL_7f340d5f36ac4309b4321f7098949513",
       "style": "IPY_MODEL_74391bdca4ff48fcb00849e407b711ce",
       "value": " 380/380 [02:58&lt;00:00,  2.17it/s]"
      }
     },
     "a1511ca47dbf4cc9a252abff578ecd84": {
      "model_module": "@jupyter-widgets/base",
      "model_module_version": "2.0.0",
      "model_name": "LayoutModel",
      "state": {}
     },
     "a1c654d85b4d44998b7fa18f16751aed": {
      "model_module": "@jupyter-widgets/controls",
      "model_module_version": "2.0.0",
      "model_name": "ProgressStyleModel",
      "state": {
       "description_width": ""
      }
     },
     "a2281200fac04f29b6d5ea2c5a66a7df": {
      "model_module": "@jupyter-widgets/controls",
      "model_module_version": "2.0.0",
      "model_name": "FloatProgressModel",
      "state": {
       "bar_style": "success",
       "layout": "IPY_MODEL_f56931cef1f341b2a159f3b51a4beffc",
       "max": 380,
       "style": "IPY_MODEL_6824b112aedd4563a3078e807f23350f",
       "value": 380
      }
     },
     "a27d2121829a4a889e7f19bf832d31de": {
      "model_module": "@jupyter-widgets/controls",
      "model_module_version": "2.0.0",
      "model_name": "ProgressStyleModel",
      "state": {
       "description_width": ""
      }
     },
     "a27d8402d56d4ee88fd37cd27f3ddb58": {
      "model_module": "@jupyter-widgets/controls",
      "model_module_version": "2.0.0",
      "model_name": "HTMLStyleModel",
      "state": {
       "description_width": "",
       "font_size": null,
       "text_color": null
      }
     },
     "a2a9525b232246ac820faed583abbab8": {
      "model_module": "@jupyter-widgets/controls",
      "model_module_version": "2.0.0",
      "model_name": "HTMLModel",
      "state": {
       "layout": "IPY_MODEL_5622974e4e054c7eadf03da63c75c275",
       "style": "IPY_MODEL_34bb21e622d34f6ba49857cd45b2e99c",
       "value": " 182/182 [01:23&lt;00:00,  2.13it/s]"
      }
     },
     "a2a963fecd874a61b1299397af3ed4be": {
      "model_module": "@jupyter-widgets/controls",
      "model_module_version": "2.0.0",
      "model_name": "FloatProgressModel",
      "state": {
       "bar_style": "success",
       "layout": "IPY_MODEL_eb5858097c7b4583b852a840cae67379",
       "max": 225,
       "style": "IPY_MODEL_7741a1076a704d1cb8067b29f2620571",
       "value": 225
      }
     },
     "a2b68c516f9f428aa56ab9c6a87cfcd5": {
      "model_module": "@jupyter-widgets/controls",
      "model_module_version": "2.0.0",
      "model_name": "HTMLStyleModel",
      "state": {
       "description_width": "",
       "font_size": null,
       "text_color": null
      }
     },
     "a2e5098f8fc8419e9e16e1dab432d360": {
      "model_module": "@jupyter-widgets/controls",
      "model_module_version": "2.0.0",
      "model_name": "ProgressStyleModel",
      "state": {
       "description_width": ""
      }
     },
     "a345ad44e73344eba854422167f6f89d": {
      "model_module": "@jupyter-widgets/controls",
      "model_module_version": "2.0.0",
      "model_name": "FloatProgressModel",
      "state": {
       "bar_style": "success",
       "layout": "IPY_MODEL_ebc4c7f7144d4b37a98b63fa58f182ab",
       "max": 380,
       "style": "IPY_MODEL_2828d7a154574968867a74d17417cfed",
       "value": 380
      }
     },
     "a37622756d8447b493668f65c20f2750": {
      "model_module": "@jupyter-widgets/controls",
      "model_module_version": "2.0.0",
      "model_name": "HTMLStyleModel",
      "state": {
       "description_width": "",
       "font_size": null,
       "text_color": null
      }
     },
     "a41c989f4b2b42f19b818c2cf370c610": {
      "model_module": "@jupyter-widgets/base",
      "model_module_version": "2.0.0",
      "model_name": "LayoutModel",
      "state": {}
     },
     "a42fbf43074b4bfc83deadc7810b959c": {
      "model_module": "@jupyter-widgets/base",
      "model_module_version": "2.0.0",
      "model_name": "LayoutModel",
      "state": {}
     },
     "a45c94095d294eddbc3997d5d4b49516": {
      "model_module": "@jupyter-widgets/controls",
      "model_module_version": "2.0.0",
      "model_name": "HBoxModel",
      "state": {
       "children": [
        "IPY_MODEL_9c6b88fd67a5412e879702e96c2059bf",
        "IPY_MODEL_0f7a4e5ec5b6496a8ad276720ec3d94a",
        "IPY_MODEL_62983b158665439a81978bec0de2c7df"
       ],
       "layout": "IPY_MODEL_402696b5cd3243ada1ffced53a81bc93"
      }
     },
     "a48094928a3d47918ff5b7ce25877b9c": {
      "model_module": "@jupyter-widgets/base",
      "model_module_version": "2.0.0",
      "model_name": "LayoutModel",
      "state": {}
     },
     "a4a0de55a11b43b0b26fcbee685c2bb6": {
      "model_module": "@jupyter-widgets/base",
      "model_module_version": "2.0.0",
      "model_name": "LayoutModel",
      "state": {}
     },
     "a4b9d0985da4481eb80ee52dc28d8d4c": {
      "model_module": "@jupyter-widgets/controls",
      "model_module_version": "2.0.0",
      "model_name": "FloatProgressModel",
      "state": {
       "bar_style": "success",
       "layout": "IPY_MODEL_68254040d51644fcaaa7b5115605a9f2",
       "max": 242,
       "style": "IPY_MODEL_de6d23a60fa74719ace2011161f721e7",
       "value": 242
      }
     },
     "a4f5a0daf65b415c8626308316b21e9b": {
      "model_module": "@jupyter-widgets/controls",
      "model_module_version": "2.0.0",
      "model_name": "HBoxModel",
      "state": {
       "children": [
        "IPY_MODEL_6f562fdd0cbd4d8785442e07af41ddd8",
        "IPY_MODEL_c157b6f587e64208b5f5ea428db9ab28",
        "IPY_MODEL_b646f09df1474d478eea6fe6f5e27d91"
       ],
       "layout": "IPY_MODEL_0b08f7051d93437387935b7a615d42e9"
      }
     },
     "a5003d6220ad4b92828b982c7939e748": {
      "model_module": "@jupyter-widgets/base",
      "model_module_version": "2.0.0",
      "model_name": "LayoutModel",
      "state": {}
     },
     "a519ef48a21449a8b684b1e76ec94aff": {
      "model_module": "@jupyter-widgets/base",
      "model_module_version": "2.0.0",
      "model_name": "LayoutModel",
      "state": {}
     },
     "a52ffa6dabbe41faad68ec62f51d45dd": {
      "model_module": "@jupyter-widgets/controls",
      "model_module_version": "2.0.0",
      "model_name": "HTMLModel",
      "state": {
       "layout": "IPY_MODEL_fc17aff9e9464f53a72ed842e18730ca",
       "style": "IPY_MODEL_ca959c4c6ad8420295c9c934ecc9ffcf",
       "value": "100%"
      }
     },
     "a5a969d7472b4e3f8176f164e047fc04": {
      "model_module": "@jupyter-widgets/base",
      "model_module_version": "2.0.0",
      "model_name": "LayoutModel",
      "state": {}
     },
     "a5acf277aef2404795efbf88714ee7d0": {
      "model_module": "@jupyter-widgets/controls",
      "model_module_version": "2.0.0",
      "model_name": "HTMLModel",
      "state": {
       "layout": "IPY_MODEL_6bf19aa75ee8484bb5ed51182a091a7b",
       "style": "IPY_MODEL_37956c4045214c008a852da8ec9bdf06",
       "value": "100%"
      }
     },
     "a5cd0a64e1fa45d2bb62d63dd9175f52": {
      "model_module": "@jupyter-widgets/controls",
      "model_module_version": "2.0.0",
      "model_name": "HTMLModel",
      "state": {
       "layout": "IPY_MODEL_b1a91033a24a4c5596f4517ffa0ee340",
       "style": "IPY_MODEL_6eacd3ed83614d3ab735f6eea1b4f160",
       "value": " 241/241 [01:50&lt;00:00,  2.11it/s]"
      }
     },
     "a5dca7860d58450d85e60a50944eb87f": {
      "model_module": "@jupyter-widgets/controls",
      "model_module_version": "2.0.0",
      "model_name": "HTMLModel",
      "state": {
       "layout": "IPY_MODEL_3b73f02f5836448693a38d26be1b9fb0",
       "style": "IPY_MODEL_6d660c07f218432f8562d0de39bd65c3",
       "value": " 180/180 [01:24&lt;00:00,  2.18it/s]"
      }
     },
     "a5eb69f155054533a2597b7fdf71df52": {
      "model_module": "@jupyter-widgets/controls",
      "model_module_version": "2.0.0",
      "model_name": "FloatProgressModel",
      "state": {
       "bar_style": "success",
       "layout": "IPY_MODEL_7b2bb4721ed947bab9303631e89646d5",
       "max": 176,
       "style": "IPY_MODEL_58b78dc74b684073b4903188b09be777",
       "value": 176
      }
     },
     "a65b119f06d8437eb0b9520c07ff223c": {
      "model_module": "@jupyter-widgets/controls",
      "model_module_version": "2.0.0",
      "model_name": "HTMLStyleModel",
      "state": {
       "description_width": "",
       "font_size": null,
       "text_color": null
      }
     },
     "a67dbf4f030549f7997d9db62e0bd30c": {
      "model_module": "@jupyter-widgets/base",
      "model_module_version": "2.0.0",
      "model_name": "LayoutModel",
      "state": {}
     },
     "a7033ccfd45e4d19a1c672c15e0c5bb1": {
      "model_module": "@jupyter-widgets/controls",
      "model_module_version": "2.0.0",
      "model_name": "HBoxModel",
      "state": {
       "children": [
        "IPY_MODEL_321e024663b7418ea1598a38af3813ff",
        "IPY_MODEL_7856a00dce3c4546bf97abd79facd386",
        "IPY_MODEL_0d94505901fb420dac2293c79432c000"
       ],
       "layout": "IPY_MODEL_2315e3bbb8574d7daa267fb21d2d47f5"
      }
     },
     "a8183eeec87f4682a8724dc0eb86983b": {
      "model_module": "@jupyter-widgets/controls",
      "model_module_version": "2.0.0",
      "model_name": "HBoxModel",
      "state": {
       "children": [
        "IPY_MODEL_2650060c80c445febba13b6118f00b1c",
        "IPY_MODEL_fd613c3ad143458f82edd5d3eb2300b4",
        "IPY_MODEL_f4274d872cd84ca8b492051af16d6f82"
       ],
       "layout": "IPY_MODEL_be05f82a463944b3ae8131309d382f75"
      }
     },
     "a837617e030545fb8f3320ba60542c90": {
      "model_module": "@jupyter-widgets/base",
      "model_module_version": "2.0.0",
      "model_name": "LayoutModel",
      "state": {}
     },
     "a86a031e59b54498889ee211eeae391a": {
      "model_module": "@jupyter-widgets/controls",
      "model_module_version": "2.0.0",
      "model_name": "FloatProgressModel",
      "state": {
       "bar_style": "success",
       "layout": "IPY_MODEL_88abf4617b8241e2ba9dc9b8d8ade862",
       "max": 242,
       "style": "IPY_MODEL_fefc453372d74072b4465690313e327d",
       "value": 242
      }
     },
     "a887c6f2bc464da698532752f19846c1": {
      "model_module": "@jupyter-widgets/controls",
      "model_module_version": "2.0.0",
      "model_name": "HTMLStyleModel",
      "state": {
       "description_width": "",
       "font_size": null,
       "text_color": null
      }
     },
     "a8d0143a58ce47e4bd4e60a7c167d54b": {
      "model_module": "@jupyter-widgets/base",
      "model_module_version": "2.0.0",
      "model_name": "LayoutModel",
      "state": {}
     },
     "a8f4718474e0434faa870b87b32e2eb8": {
      "model_module": "@jupyter-widgets/controls",
      "model_module_version": "2.0.0",
      "model_name": "HTMLStyleModel",
      "state": {
       "description_width": "",
       "font_size": null,
       "text_color": null
      }
     },
     "a8f8aa5b996b451face0588e3e4cc55c": {
      "model_module": "@jupyter-widgets/controls",
      "model_module_version": "2.0.0",
      "model_name": "HTMLStyleModel",
      "state": {
       "description_width": "",
       "font_size": null,
       "text_color": null
      }
     },
     "a914f75b31764c30836f861033fa4566": {
      "model_module": "@jupyter-widgets/controls",
      "model_module_version": "2.0.0",
      "model_name": "HTMLStyleModel",
      "state": {
       "description_width": "",
       "font_size": null,
       "text_color": null
      }
     },
     "a9169c9608b7407d95914afd78b34846": {
      "model_module": "@jupyter-widgets/controls",
      "model_module_version": "2.0.0",
      "model_name": "HTMLModel",
      "state": {
       "layout": "IPY_MODEL_1824d41d88e943aba8662c6fb0199678",
       "style": "IPY_MODEL_4ed6bf64ece14ca6a01dc33b149b44c2",
       "value": " 380/380 [02:58&lt;00:00,  2.16it/s]"
      }
     },
     "a92db8b51dac4c6583bbd634d2435c77": {
      "model_module": "@jupyter-widgets/controls",
      "model_module_version": "2.0.0",
      "model_name": "FloatProgressModel",
      "state": {
       "bar_style": "success",
       "layout": "IPY_MODEL_464fe2bf99d849a79e9f0b2b2da7f001",
       "max": 241,
       "style": "IPY_MODEL_5354cd9d70c04e01bb4b215f0805beab",
       "value": 241
      }
     },
     "a9cb2696578247cabf07940c344bf334": {
      "model_module": "@jupyter-widgets/controls",
      "model_module_version": "2.0.0",
      "model_name": "HBoxModel",
      "state": {
       "children": [
        "IPY_MODEL_825352ed46a043c1b2e095917f89b9a4",
        "IPY_MODEL_4559a04e8d7d44c5be4315e527f222bb",
        "IPY_MODEL_33ab11f8d7a344f59b9be4dc142811bd"
       ],
       "layout": "IPY_MODEL_0f86d39b96cb456386fc5f84e0647663"
      }
     },
     "a9d6530be39a42dea73a398bfe9ca671": {
      "model_module": "@jupyter-widgets/base",
      "model_module_version": "2.0.0",
      "model_name": "LayoutModel",
      "state": {}
     },
     "a9ed65f882264e7b913bd6e3ee337f54": {
      "model_module": "@jupyter-widgets/base",
      "model_module_version": "2.0.0",
      "model_name": "LayoutModel",
      "state": {}
     },
     "aa2dc421eb1d4ef7957640dca019ab33": {
      "model_module": "@jupyter-widgets/controls",
      "model_module_version": "2.0.0",
      "model_name": "HTMLStyleModel",
      "state": {
       "description_width": "",
       "font_size": null,
       "text_color": null
      }
     },
     "aa67cac6f158427f809406b93e973046": {
      "model_module": "@jupyter-widgets/base",
      "model_module_version": "2.0.0",
      "model_name": "LayoutModel",
      "state": {}
     },
     "aa6daebde2b1485ebd037039406f1fb2": {
      "model_module": "@jupyter-widgets/controls",
      "model_module_version": "2.0.0",
      "model_name": "HTMLStyleModel",
      "state": {
       "description_width": "",
       "font_size": null,
       "text_color": null
      }
     },
     "aac88095522d4468bfbe0cca9d69735a": {
      "model_module": "@jupyter-widgets/controls",
      "model_module_version": "2.0.0",
      "model_name": "HTMLStyleModel",
      "state": {
       "description_width": "",
       "font_size": null,
       "text_color": null
      }
     },
     "ab4105ed53ef4a92804af815cfe58849": {
      "model_module": "@jupyter-widgets/base",
      "model_module_version": "2.0.0",
      "model_name": "LayoutModel",
      "state": {}
     },
     "ab902de2afee4a609bb6a656a5dafeeb": {
      "model_module": "@jupyter-widgets/controls",
      "model_module_version": "2.0.0",
      "model_name": "HTMLModel",
      "state": {
       "layout": "IPY_MODEL_548be1b51efe47b18c19c06b465b2f67",
       "style": "IPY_MODEL_c2aeab4a891e4725a5c912c48794bb70",
       "value": " 182/182 [01:22&lt;00:00,  2.25it/s]"
      }
     },
     "aba8ec1c03da45e8a7cbc4d37ff28134": {
      "model_module": "@jupyter-widgets/controls",
      "model_module_version": "2.0.0",
      "model_name": "HTMLStyleModel",
      "state": {
       "description_width": "",
       "font_size": null,
       "text_color": null
      }
     },
     "abefb0f7c4e34e82b8f56543136d883a": {
      "model_module": "@jupyter-widgets/controls",
      "model_module_version": "2.0.0",
      "model_name": "HTMLStyleModel",
      "state": {
       "description_width": "",
       "font_size": null,
       "text_color": null
      }
     },
     "ac26da731c5c4c1db78dbf2b1502d127": {
      "model_module": "@jupyter-widgets/controls",
      "model_module_version": "2.0.0",
      "model_name": "ProgressStyleModel",
      "state": {
       "description_width": ""
      }
     },
     "ac6e2658906a4af18d602b1e52b5aafa": {
      "model_module": "@jupyter-widgets/base",
      "model_module_version": "2.0.0",
      "model_name": "LayoutModel",
      "state": {}
     },
     "ac9a2938599c47939843409d8c6857d0": {
      "model_module": "@jupyter-widgets/base",
      "model_module_version": "2.0.0",
      "model_name": "LayoutModel",
      "state": {}
     },
     "acdd066736ed4c07b02f72375f0b22c1": {
      "model_module": "@jupyter-widgets/base",
      "model_module_version": "2.0.0",
      "model_name": "LayoutModel",
      "state": {}
     },
     "ad0cba3c14c4473ca4948d6aa96e7a47": {
      "model_module": "@jupyter-widgets/controls",
      "model_module_version": "2.0.0",
      "model_name": "ProgressStyleModel",
      "state": {
       "description_width": ""
      }
     },
     "ad1b18b0d0aa48b98e27bab056dd5fe7": {
      "model_module": "@jupyter-widgets/base",
      "model_module_version": "2.0.0",
      "model_name": "LayoutModel",
      "state": {}
     },
     "ad3bef080ceb4e4d993a0cc3378aee49": {
      "model_module": "@jupyter-widgets/controls",
      "model_module_version": "2.0.0",
      "model_name": "HTMLStyleModel",
      "state": {
       "description_width": "",
       "font_size": null,
       "text_color": null
      }
     },
     "ad40005d70f2448a95f3fcb22d259e22": {
      "model_module": "@jupyter-widgets/controls",
      "model_module_version": "2.0.0",
      "model_name": "ProgressStyleModel",
      "state": {
       "description_width": ""
      }
     },
     "ad47438c3d4748148d5aaeb6cf100125": {
      "model_module": "@jupyter-widgets/controls",
      "model_module_version": "2.0.0",
      "model_name": "HTMLModel",
      "state": {
       "layout": "IPY_MODEL_07db7cf0638b4f2b8fc7126537068170",
       "style": "IPY_MODEL_a2b68c516f9f428aa56ab9c6a87cfcd5",
       "value": " 244/244 [01:59&lt;00:00,  2.06it/s]"
      }
     },
     "adb3b5cd89484ca0bb6ce97475cd072f": {
      "model_module": "@jupyter-widgets/controls",
      "model_module_version": "2.0.0",
      "model_name": "HTMLModel",
      "state": {
       "layout": "IPY_MODEL_22f91c3f58464cf7835aa376eab60b23",
       "style": "IPY_MODEL_e525d703f8f84865b01f314cf08682c5",
       "value": "100%"
      }
     },
     "adbb2736bc7a46fc9b3e2ab7c3557e5a": {
      "model_module": "@jupyter-widgets/controls",
      "model_module_version": "2.0.0",
      "model_name": "HTMLStyleModel",
      "state": {
       "description_width": "",
       "font_size": null,
       "text_color": null
      }
     },
     "adce834df31346d6a6d2c8c6cd7366b1": {
      "model_module": "@jupyter-widgets/base",
      "model_module_version": "2.0.0",
      "model_name": "LayoutModel",
      "state": {}
     },
     "ae07ca3d401049ed809d015cb4692fb8": {
      "model_module": "@jupyter-widgets/base",
      "model_module_version": "2.0.0",
      "model_name": "LayoutModel",
      "state": {}
     },
     "ae51e4a9ce864d0e8b11bb0255085432": {
      "model_module": "@jupyter-widgets/controls",
      "model_module_version": "2.0.0",
      "model_name": "HTMLStyleModel",
      "state": {
       "description_width": "",
       "font_size": null,
       "text_color": null
      }
     },
     "ae6d7282290b470ba193e856e574b5ea": {
      "model_module": "@jupyter-widgets/controls",
      "model_module_version": "2.0.0",
      "model_name": "HTMLStyleModel",
      "state": {
       "description_width": "",
       "font_size": null,
       "text_color": null
      }
     },
     "af0c1779571b4588acced4ba5ee4e104": {
      "model_module": "@jupyter-widgets/controls",
      "model_module_version": "2.0.0",
      "model_name": "HTMLStyleModel",
      "state": {
       "description_width": "",
       "font_size": null,
       "text_color": null
      }
     },
     "af84a6c2b8a54e0fb8aced74bb6af0c0": {
      "model_module": "@jupyter-widgets/controls",
      "model_module_version": "2.0.0",
      "model_name": "HBoxModel",
      "state": {
       "children": [
        "IPY_MODEL_252c42567c3c43fa8c734b7b03e3b51d",
        "IPY_MODEL_7989dd85f7134390878c3f2149e5e898",
        "IPY_MODEL_5d33c1fdd5a1438b88d250c3407b9106"
       ],
       "layout": "IPY_MODEL_63de453364034c07a20a8079008218ae"
      }
     },
     "afb69ab67f62491ea1f10d55b6ace9c1": {
      "model_module": "@jupyter-widgets/base",
      "model_module_version": "2.0.0",
      "model_name": "LayoutModel",
      "state": {}
     },
     "afcb476aea0240f385da502c9a88cecc": {
      "model_module": "@jupyter-widgets/controls",
      "model_module_version": "2.0.0",
      "model_name": "HTMLStyleModel",
      "state": {
       "description_width": "",
       "font_size": null,
       "text_color": null
      }
     },
     "afe21947e0e94c7cb102e760a13c3a13": {
      "model_module": "@jupyter-widgets/controls",
      "model_module_version": "2.0.0",
      "model_name": "HBoxModel",
      "state": {
       "children": [
        "IPY_MODEL_45c23aa7c05c46baa61793a39816ce69",
        "IPY_MODEL_9d38bbc12efa428e8126fa476642708a",
        "IPY_MODEL_fc44c94b3cd44c3ba73763df57aa85de"
       ],
       "layout": "IPY_MODEL_cb5f4a9ccc234c8ea4fe8854b4e895e1"
      }
     },
     "aff4dc2dec3a4242a5db2a73e0e78dcc": {
      "model_module": "@jupyter-widgets/controls",
      "model_module_version": "2.0.0",
      "model_name": "HTMLStyleModel",
      "state": {
       "description_width": "",
       "font_size": null,
       "text_color": null
      }
     },
     "b028c77fbd2d4856b88b6ea3b316fc82": {
      "model_module": "@jupyter-widgets/controls",
      "model_module_version": "2.0.0",
      "model_name": "HBoxModel",
      "state": {
       "children": [
        "IPY_MODEL_917ff3f96b51440993c2642e94ececb8",
        "IPY_MODEL_bc7f443e50904133b809539e6cc4a6e2",
        "IPY_MODEL_e39886bd72c64d31adcb146dd50388ed"
       ],
       "layout": "IPY_MODEL_4d258479f15746eeab778c20c72fd5ed"
      }
     },
     "b03729f149a44f3087a5f8526c84508e": {
      "model_module": "@jupyter-widgets/controls",
      "model_module_version": "2.0.0",
      "model_name": "ProgressStyleModel",
      "state": {
       "description_width": ""
      }
     },
     "b0665449b8c042eba3308e52d00c231e": {
      "model_module": "@jupyter-widgets/base",
      "model_module_version": "2.0.0",
      "model_name": "LayoutModel",
      "state": {}
     },
     "b09d5d065b534033be01af378c40f719": {
      "model_module": "@jupyter-widgets/controls",
      "model_module_version": "2.0.0",
      "model_name": "FloatProgressModel",
      "state": {
       "bar_style": "success",
       "layout": "IPY_MODEL_9d870c2d08214b608d681bae8fba4d50",
       "max": 465,
       "style": "IPY_MODEL_dfd1db888b5246189dece48a01b26383",
       "value": 465
      }
     },
     "b0a15654a5164620a5f3514e09652b32": {
      "model_module": "@jupyter-widgets/controls",
      "model_module_version": "2.0.0",
      "model_name": "ProgressStyleModel",
      "state": {
       "description_width": ""
      }
     },
     "b111cf01251e4155b452ec78ec24cef7": {
      "model_module": "@jupyter-widgets/controls",
      "model_module_version": "2.0.0",
      "model_name": "ProgressStyleModel",
      "state": {
       "description_width": ""
      }
     },
     "b114a152ad7845259907099bd530a80d": {
      "model_module": "@jupyter-widgets/base",
      "model_module_version": "2.0.0",
      "model_name": "LayoutModel",
      "state": {}
     },
     "b11c43402f714355bbeaee214ff8b40e": {
      "model_module": "@jupyter-widgets/base",
      "model_module_version": "2.0.0",
      "model_name": "LayoutModel",
      "state": {}
     },
     "b1451aeea705440b866cb7e3d1b2abce": {
      "model_module": "@jupyter-widgets/controls",
      "model_module_version": "2.0.0",
      "model_name": "FloatProgressModel",
      "state": {
       "bar_style": "success",
       "layout": "IPY_MODEL_0b8de89a359f491098e337b4619cb19b",
       "max": 135,
       "style": "IPY_MODEL_3aa0e26bc9a94957b01a545274362dfa",
       "value": 135
      }
     },
     "b14ee357de1d41be9d4c5de2eac7fd5d": {
      "model_module": "@jupyter-widgets/base",
      "model_module_version": "2.0.0",
      "model_name": "LayoutModel",
      "state": {}
     },
     "b16af3bfe8114667acaf8409c400fe7d": {
      "model_module": "@jupyter-widgets/controls",
      "model_module_version": "2.0.0",
      "model_name": "HTMLModel",
      "state": {
       "layout": "IPY_MODEL_ef02e0cc93c14ef582e29b2f24c8e799",
       "style": "IPY_MODEL_fe7d14bb3fb2496090cb14f91cdc0190",
       "value": "100%"
      }
     },
     "b16fae87db2f4905bdbb36a7b5325e7a": {
      "model_module": "@jupyter-widgets/base",
      "model_module_version": "2.0.0",
      "model_name": "LayoutModel",
      "state": {}
     },
     "b1a91033a24a4c5596f4517ffa0ee340": {
      "model_module": "@jupyter-widgets/base",
      "model_module_version": "2.0.0",
      "model_name": "LayoutModel",
      "state": {}
     },
     "b1f40085ec234bc0a17bb4fdcc17cc46": {
      "model_module": "@jupyter-widgets/controls",
      "model_module_version": "2.0.0",
      "model_name": "HTMLStyleModel",
      "state": {
       "description_width": "",
       "font_size": null,
       "text_color": null
      }
     },
     "b1f6368c3a3046ce969f39872fff055b": {
      "model_module": "@jupyter-widgets/controls",
      "model_module_version": "2.0.0",
      "model_name": "HBoxModel",
      "state": {
       "children": [
        "IPY_MODEL_2fd448e656324970ae513de2efa9b67b",
        "IPY_MODEL_cd39b93d344c4a28b8ea497002d5a62a",
        "IPY_MODEL_5b7946f3db234644a08b57d1e6b1c58a"
       ],
       "layout": "IPY_MODEL_0b7837fcc78844bc95d561845a7a0efe"
      }
     },
     "b233578e20fa4ccc92a28caff7fab54d": {
      "model_module": "@jupyter-widgets/base",
      "model_module_version": "2.0.0",
      "model_name": "LayoutModel",
      "state": {}
     },
     "b23442cc14f540469c317f978fe5270b": {
      "model_module": "@jupyter-widgets/base",
      "model_module_version": "2.0.0",
      "model_name": "LayoutModel",
      "state": {}
     },
     "b242c5256bb642cc96e5d7b68666bbb7": {
      "model_module": "@jupyter-widgets/base",
      "model_module_version": "2.0.0",
      "model_name": "LayoutModel",
      "state": {}
     },
     "b24ccc13ca9741e785516a0b8165cd76": {
      "model_module": "@jupyter-widgets/controls",
      "model_module_version": "2.0.0",
      "model_name": "HTMLModel",
      "state": {
       "layout": "IPY_MODEL_20c3412a4ecc442e845d0eaadf2394e4",
       "style": "IPY_MODEL_4c4efe1327cb4674af4848908ce5f996",
       "value": "100%"
      }
     },
     "b297604e84c24050bec23c83e4516fa9": {
      "model_module": "@jupyter-widgets/base",
      "model_module_version": "2.0.0",
      "model_name": "LayoutModel",
      "state": {}
     },
     "b2c029ea580c4f4f8d6cb3e640865410": {
      "model_module": "@jupyter-widgets/controls",
      "model_module_version": "2.0.0",
      "model_name": "HTMLModel",
      "state": {
       "layout": "IPY_MODEL_bbfd6d4c3092427795c24b4e8ed5c070",
       "style": "IPY_MODEL_045e3451b1134e41b6bcc1fa54d95363",
       "value": "100%"
      }
     },
     "b2f47263e0ca483faa767105edaf3cdd": {
      "model_module": "@jupyter-widgets/controls",
      "model_module_version": "2.0.0",
      "model_name": "HTMLModel",
      "state": {
       "layout": "IPY_MODEL_2227928bf5f34cfcade437d439f038c0",
       "style": "IPY_MODEL_18295d35281245359aa16cbce0fb88d1",
       "value": "100%"
      }
     },
     "b30063ae92e34e9fb3a8605a6740b5ef": {
      "model_module": "@jupyter-widgets/controls",
      "model_module_version": "2.0.0",
      "model_name": "HTMLModel",
      "state": {
       "layout": "IPY_MODEL_0d30fd3a30344d04a14a7a5462ec68d3",
       "style": "IPY_MODEL_455993f4263f4ced8b7302d8342b756d",
       "value": " 140/140 [01:06&lt;00:00,  2.15it/s]"
      }
     },
     "b33b3c1d27b54e15aabd2a626f389cb1": {
      "model_module": "@jupyter-widgets/base",
      "model_module_version": "2.0.0",
      "model_name": "LayoutModel",
      "state": {}
     },
     "b34dc6c38e604bdfa809d7760235b5d1": {
      "model_module": "@jupyter-widgets/base",
      "model_module_version": "2.0.0",
      "model_name": "LayoutModel",
      "state": {}
     },
     "b3577ac5bd1e4d81ba57e25835df9995": {
      "model_module": "@jupyter-widgets/controls",
      "model_module_version": "2.0.0",
      "model_name": "HBoxModel",
      "state": {
       "children": [
        "IPY_MODEL_76e508f12e7c4a6fb6a4f091f3f6fc01",
        "IPY_MODEL_e3147ee4b1e446f29874a4ddc2c6deed",
        "IPY_MODEL_b30063ae92e34e9fb3a8605a6740b5ef"
       ],
       "layout": "IPY_MODEL_4ae2822b4150469896e76dee1efdb188"
      }
     },
     "b393497532e74935979d53ba7e13740b": {
      "model_module": "@jupyter-widgets/controls",
      "model_module_version": "2.0.0",
      "model_name": "FloatProgressModel",
      "state": {
       "bar_style": "success",
       "layout": "IPY_MODEL_a837617e030545fb8f3320ba60542c90",
       "max": 204,
       "style": "IPY_MODEL_2cc0893cffbc45d6a7f0fbb491ec7d98",
       "value": 204
      }
     },
     "b39e9b771b36448dbbba91a085284645": {
      "model_module": "@jupyter-widgets/controls",
      "model_module_version": "2.0.0",
      "model_name": "FloatProgressModel",
      "state": {
       "bar_style": "success",
       "layout": "IPY_MODEL_935a7e7fdadd4054ab02c46c181efabd",
       "max": 462,
       "style": "IPY_MODEL_9a41e1d63fdd43cd9d4323e4f1b067fc",
       "value": 462
      }
     },
     "b3bedefcdcfa4abb80e530059000b935": {
      "model_module": "@jupyter-widgets/controls",
      "model_module_version": "2.0.0",
      "model_name": "HTMLModel",
      "state": {
       "layout": "IPY_MODEL_d2577f500fb64e2a9c74181daa4577ad",
       "style": "IPY_MODEL_be726f9474bb4e829867086cf8186181",
       "value": " 162/162 [01:15&lt;00:00,  2.19it/s]"
      }
     },
     "b439849feec54b89bb2c4d7afcf8a6e0": {
      "model_module": "@jupyter-widgets/controls",
      "model_module_version": "2.0.0",
      "model_name": "ProgressStyleModel",
      "state": {
       "description_width": ""
      }
     },
     "b440d114a05f48c395e9f6a42cca7e08": {
      "model_module": "@jupyter-widgets/controls",
      "model_module_version": "2.0.0",
      "model_name": "FloatProgressModel",
      "state": {
       "bar_style": "success",
       "layout": "IPY_MODEL_a42fbf43074b4bfc83deadc7810b959c",
       "max": 306,
       "style": "IPY_MODEL_276357f5ebd0448793da2e2e16d07766",
       "value": 306
      }
     },
     "b480a88b154e4ca0a67bd0de35349c9c": {
      "model_module": "@jupyter-widgets/controls",
      "model_module_version": "2.0.0",
      "model_name": "HTMLModel",
      "state": {
       "layout": "IPY_MODEL_961aa668086b43fe8e89b0614d170a7c",
       "style": "IPY_MODEL_bdac0a0d83fc4cb3bb42a668ed7b911e",
       "value": "100%"
      }
     },
     "b4905aa77c5b44f4aedfcd3c6218fea7": {
      "model_module": "@jupyter-widgets/controls",
      "model_module_version": "2.0.0",
      "model_name": "HTMLStyleModel",
      "state": {
       "description_width": "",
       "font_size": null,
       "text_color": null
      }
     },
     "b4a4d838f1534073b6406b98504e3a9e": {
      "model_module": "@jupyter-widgets/controls",
      "model_module_version": "2.0.0",
      "model_name": "HTMLModel",
      "state": {
       "layout": "IPY_MODEL_72c9ecb109694974a8484600795f841b",
       "style": "IPY_MODEL_42113c8189d34deca697f8976cbecacc",
       "value": "100%"
      }
     },
     "b4b140c3fa6d4dd78872719d4f89b8c8": {
      "model_module": "@jupyter-widgets/controls",
      "model_module_version": "2.0.0",
      "model_name": "HTMLModel",
      "state": {
       "layout": "IPY_MODEL_83f4943ff12a435bbb789c02e0be91fd",
       "style": "IPY_MODEL_e2abc30cd2c04f1485e10c661ddb77c2",
       "value": " 222/222 [01:41&lt;00:00,  2.21it/s]"
      }
     },
     "b4cb87d438f74e3c8304160f2a6fabc5": {
      "model_module": "@jupyter-widgets/base",
      "model_module_version": "2.0.0",
      "model_name": "LayoutModel",
      "state": {}
     },
     "b4cfa0c322b449febe23f604a956c2a7": {
      "model_module": "@jupyter-widgets/base",
      "model_module_version": "2.0.0",
      "model_name": "LayoutModel",
      "state": {}
     },
     "b4d869999bc145069c5cbe4604606e1a": {
      "model_module": "@jupyter-widgets/base",
      "model_module_version": "2.0.0",
      "model_name": "LayoutModel",
      "state": {}
     },
     "b584dfd439f64d4d88f4e1b201bd1f6c": {
      "model_module": "@jupyter-widgets/base",
      "model_module_version": "2.0.0",
      "model_name": "LayoutModel",
      "state": {}
     },
     "b5b1857f19514ecabb606f876eb06869": {
      "model_module": "@jupyter-widgets/controls",
      "model_module_version": "2.0.0",
      "model_name": "HTMLModel",
      "state": {
       "layout": "IPY_MODEL_b9fe7d457fda489582732ee523cb3763",
       "style": "IPY_MODEL_424aae941e38495197e8d3caa5856ed3",
       "value": " 280/280 [02:09&lt;00:00,  2.25it/s]"
      }
     },
     "b5b5610b33984c079611a34a041d2100": {
      "model_module": "@jupyter-widgets/base",
      "model_module_version": "2.0.0",
      "model_name": "LayoutModel",
      "state": {}
     },
     "b5bf317e06b64b95847b02536327aa8b": {
      "model_module": "@jupyter-widgets/controls",
      "model_module_version": "2.0.0",
      "model_name": "FloatProgressModel",
      "state": {
       "bar_style": "success",
       "layout": "IPY_MODEL_c7dca590695c4f5abbb0b13ff6e11e6c",
       "max": 669,
       "style": "IPY_MODEL_a2e5098f8fc8419e9e16e1dab432d360",
       "value": 669
      }
     },
     "b5d1189352614b8baf55e51c221ed566": {
      "model_module": "@jupyter-widgets/base",
      "model_module_version": "2.0.0",
      "model_name": "LayoutModel",
      "state": {}
     },
     "b5e605453f8b4145bd66ec3c94aa1d3c": {
      "model_module": "@jupyter-widgets/controls",
      "model_module_version": "2.0.0",
      "model_name": "HBoxModel",
      "state": {
       "children": [
        "IPY_MODEL_249ff15c116045829a6e4c9a2d1443c0",
        "IPY_MODEL_a2281200fac04f29b6d5ea2c5a66a7df",
        "IPY_MODEL_a9169c9608b7407d95914afd78b34846"
       ],
       "layout": "IPY_MODEL_bb62e9c2cb6542cd8137168f6e6a2d53"
      }
     },
     "b5ec47f999c34404933e2e4126650aa3": {
      "model_module": "@jupyter-widgets/base",
      "model_module_version": "2.0.0",
      "model_name": "LayoutModel",
      "state": {}
     },
     "b60a1700e51d4dadaba414ae519bd7a0": {
      "model_module": "@jupyter-widgets/base",
      "model_module_version": "2.0.0",
      "model_name": "LayoutModel",
      "state": {}
     },
     "b646f09df1474d478eea6fe6f5e27d91": {
      "model_module": "@jupyter-widgets/controls",
      "model_module_version": "2.0.0",
      "model_name": "HTMLModel",
      "state": {
       "layout": "IPY_MODEL_8889d81de6cf441da7ae826bc9b789e0",
       "style": "IPY_MODEL_0204ad1d16b442dd9f735220f1bf482d",
       "value": " 90/90 [00:40&lt;00:00,  2.25it/s]"
      }
     },
     "b699ead226594f0aaaeecab454c47a74": {
      "model_module": "@jupyter-widgets/base",
      "model_module_version": "2.0.0",
      "model_name": "LayoutModel",
      "state": {}
     },
     "b69d316ef6694a95b9347f6fe09513ef": {
      "model_module": "@jupyter-widgets/controls",
      "model_module_version": "2.0.0",
      "model_name": "HBoxModel",
      "state": {
       "children": [
        "IPY_MODEL_082c8e22b8174dd9938c1783ad4ac3f1",
        "IPY_MODEL_a92db8b51dac4c6583bbd634d2435c77",
        "IPY_MODEL_86b6b29c56944d6c8d3aa61ab2f25095"
       ],
       "layout": "IPY_MODEL_da6662fb6f4941d8883588e12384cf60"
      }
     },
     "b6b09e4f4b394c7a86e8321572c579bc": {
      "model_module": "@jupyter-widgets/base",
      "model_module_version": "2.0.0",
      "model_name": "LayoutModel",
      "state": {}
     },
     "b7399b9dacfd4bd5aff97d90370df39a": {
      "model_module": "@jupyter-widgets/controls",
      "model_module_version": "2.0.0",
      "model_name": "HBoxModel",
      "state": {
       "children": [
        "IPY_MODEL_2900dd1a933848bcbddef7d6b92a3249",
        "IPY_MODEL_c64f721fe3e84e39a90c45833409e66c",
        "IPY_MODEL_3adb27f147514979b854d4dd45701b52"
       ],
       "layout": "IPY_MODEL_572f1053248848daafcd6df0745fcbcf"
      }
     },
     "b743784b8c89456aaa2941163d82afd5": {
      "model_module": "@jupyter-widgets/controls",
      "model_module_version": "2.0.0",
      "model_name": "ProgressStyleModel",
      "state": {
       "description_width": ""
      }
     },
     "b74aa6fd22594b70924e314ecb51a0b6": {
      "model_module": "@jupyter-widgets/base",
      "model_module_version": "2.0.0",
      "model_name": "LayoutModel",
      "state": {}
     },
     "b7622293bde2433786bc3497b1c7c802": {
      "model_module": "@jupyter-widgets/base",
      "model_module_version": "2.0.0",
      "model_name": "LayoutModel",
      "state": {}
     },
     "b763880da4fe4e50b7fc5f61f285d53b": {
      "model_module": "@jupyter-widgets/controls",
      "model_module_version": "2.0.0",
      "model_name": "HTMLStyleModel",
      "state": {
       "description_width": "",
       "font_size": null,
       "text_color": null
      }
     },
     "b7aacc93e72f47faa723b2eea097b9f7": {
      "model_module": "@jupyter-widgets/controls",
      "model_module_version": "2.0.0",
      "model_name": "FloatProgressModel",
      "state": {
       "bar_style": "success",
       "layout": "IPY_MODEL_b699ead226594f0aaaeecab454c47a74",
       "max": 242,
       "style": "IPY_MODEL_db2e1007a46c45c283e581220a60ca8f",
       "value": 242
      }
     },
     "b7b20806d96a4a23930a212fedbba5ab": {
      "model_module": "@jupyter-widgets/controls",
      "model_module_version": "2.0.0",
      "model_name": "FloatProgressModel",
      "state": {
       "bar_style": "success",
       "layout": "IPY_MODEL_d8a4043dad56455a9193aa9cd0c1d7f1",
       "max": 244,
       "style": "IPY_MODEL_4b103fcb4e274217abba27e93afeda00",
       "value": 244
      }
     },
     "b7c7ac3a2bab406894106e464b0848f0": {
      "model_module": "@jupyter-widgets/controls",
      "model_module_version": "2.0.0",
      "model_name": "HTMLStyleModel",
      "state": {
       "description_width": "",
       "font_size": null,
       "text_color": null
      }
     },
     "b810e0a92ff942a78d3e77e62f907d79": {
      "model_module": "@jupyter-widgets/controls",
      "model_module_version": "2.0.0",
      "model_name": "HTMLStyleModel",
      "state": {
       "description_width": "",
       "font_size": null,
       "text_color": null
      }
     },
     "b863379d71d24d32958e620081d16272": {
      "model_module": "@jupyter-widgets/controls",
      "model_module_version": "2.0.0",
      "model_name": "HTMLStyleModel",
      "state": {
       "description_width": "",
       "font_size": null,
       "text_color": null
      }
     },
     "b8cebf65f1d4481c8adbda33e0bc88db": {
      "model_module": "@jupyter-widgets/controls",
      "model_module_version": "2.0.0",
      "model_name": "HTMLModel",
      "state": {
       "layout": "IPY_MODEL_f69e00dbeeb44657935f958fcbc1dd7a",
       "style": "IPY_MODEL_48c8f212ab234720ae4306814e9f43bd",
       "value": "100%"
      }
     },
     "b907ba868a094c3b973c31efbbbbca35": {
      "model_module": "@jupyter-widgets/base",
      "model_module_version": "2.0.0",
      "model_name": "LayoutModel",
      "state": {}
     },
     "b90a7a553e1444898e335a942cc46733": {
      "model_module": "@jupyter-widgets/controls",
      "model_module_version": "2.0.0",
      "model_name": "HTMLStyleModel",
      "state": {
       "description_width": "",
       "font_size": null,
       "text_color": null
      }
     },
     "b91e42490a004c559cd2840e665cbebc": {
      "model_module": "@jupyter-widgets/controls",
      "model_module_version": "2.0.0",
      "model_name": "ProgressStyleModel",
      "state": {
       "description_width": ""
      }
     },
     "b944bc8fd3024c7cbee357f9c42e2829": {
      "model_module": "@jupyter-widgets/controls",
      "model_module_version": "2.0.0",
      "model_name": "FloatProgressModel",
      "state": {
       "bar_style": "success",
       "layout": "IPY_MODEL_5b10c341a8cd429392cc5ed031fbd2ce",
       "max": 301,
       "style": "IPY_MODEL_fd93ea96165b423d9e77aaadf9dfaaf1",
       "value": 301
      }
     },
     "b9459bbdaa03479596ad1cda56d3a290": {
      "model_module": "@jupyter-widgets/base",
      "model_module_version": "2.0.0",
      "model_name": "LayoutModel",
      "state": {}
     },
     "b94672b759534f259c90300061dd447f": {
      "model_module": "@jupyter-widgets/controls",
      "model_module_version": "2.0.0",
      "model_name": "ProgressStyleModel",
      "state": {
       "description_width": ""
      }
     },
     "b9901fc9e45d46d3ba303f45555256bb": {
      "model_module": "@jupyter-widgets/base",
      "model_module_version": "2.0.0",
      "model_name": "LayoutModel",
      "state": {}
     },
     "b9af435a5bce4ab2b08399797753eddc": {
      "model_module": "@jupyter-widgets/controls",
      "model_module_version": "2.0.0",
      "model_name": "HBoxModel",
      "state": {
       "children": [
        "IPY_MODEL_b4a4d838f1534073b6406b98504e3a9e",
        "IPY_MODEL_b440d114a05f48c395e9f6a42cca7e08",
        "IPY_MODEL_8a9759f65fba44688e160a744b57e199"
       ],
       "layout": "IPY_MODEL_45a5a068dd4044fe8f414a024dac439c"
      }
     },
     "b9d9dc0ceae24d2e90ac94866e397ccf": {
      "model_module": "@jupyter-widgets/controls",
      "model_module_version": "2.0.0",
      "model_name": "HTMLStyleModel",
      "state": {
       "description_width": "",
       "font_size": null,
       "text_color": null
      }
     },
     "b9fe7d457fda489582732ee523cb3763": {
      "model_module": "@jupyter-widgets/base",
      "model_module_version": "2.0.0",
      "model_name": "LayoutModel",
      "state": {}
     },
     "ba007ebafb9046c8bfc3f508fd8fec9b": {
      "model_module": "@jupyter-widgets/controls",
      "model_module_version": "2.0.0",
      "model_name": "HTMLStyleModel",
      "state": {
       "description_width": "",
       "font_size": null,
       "text_color": null
      }
     },
     "ba1174cad59c42bb99a574dd11a0084e": {
      "model_module": "@jupyter-widgets/base",
      "model_module_version": "2.0.0",
      "model_name": "LayoutModel",
      "state": {}
     },
     "ba1f1da1f5f0474ba28aaf53bfd467e4": {
      "model_module": "@jupyter-widgets/base",
      "model_module_version": "2.0.0",
      "model_name": "LayoutModel",
      "state": {}
     },
     "ba1f72b0de084d7e809ed9c0c5e93742": {
      "model_module": "@jupyter-widgets/controls",
      "model_module_version": "2.0.0",
      "model_name": "HTMLModel",
      "state": {
       "layout": "IPY_MODEL_fb1288175f8146088a2173642c1905f2",
       "style": "IPY_MODEL_0d9f6884b0014c3d9ff51549e46d8a77",
       "value": " 241/241 [01:50&lt;00:00,  2.21it/s]"
      }
     },
     "ba3a3c38cc8d471e890de3b91b4f58b7": {
      "model_module": "@jupyter-widgets/controls",
      "model_module_version": "2.0.0",
      "model_name": "HTMLStyleModel",
      "state": {
       "description_width": "",
       "font_size": null,
       "text_color": null
      }
     },
     "ba5cacceec5548c5bf32e616218ebb79": {
      "model_module": "@jupyter-widgets/base",
      "model_module_version": "2.0.0",
      "model_name": "LayoutModel",
      "state": {}
     },
     "ba88dd0290d7482aa223597cdd95e51c": {
      "model_module": "@jupyter-widgets/base",
      "model_module_version": "2.0.0",
      "model_name": "LayoutModel",
      "state": {}
     },
     "ba962a93fdd64f119a9832768469fa12": {
      "model_module": "@jupyter-widgets/controls",
      "model_module_version": "2.0.0",
      "model_name": "HTMLStyleModel",
      "state": {
       "description_width": "",
       "font_size": null,
       "text_color": null
      }
     },
     "ba9af2891cd6490c9b08f4a39ddc6a2f": {
      "model_module": "@jupyter-widgets/base",
      "model_module_version": "2.0.0",
      "model_name": "LayoutModel",
      "state": {}
     },
     "bb051a271eba4adca147cc90890322bf": {
      "model_module": "@jupyter-widgets/controls",
      "model_module_version": "2.0.0",
      "model_name": "HTMLModel",
      "state": {
       "layout": "IPY_MODEL_65b95113ddf84c829f7077d36878a14a",
       "style": "IPY_MODEL_9c30b7a9205f4d8d98e147327479a18f",
       "value": " 149/149 [01:08&lt;00:00,  2.22it/s]"
      }
     },
     "bb1456be4dab4f5ca57c2e1154cfb95f": {
      "model_module": "@jupyter-widgets/controls",
      "model_module_version": "2.0.0",
      "model_name": "HBoxModel",
      "state": {
       "children": [
        "IPY_MODEL_cba24476daa444b4a503b0a978ab8cfb",
        "IPY_MODEL_b5bf317e06b64b95847b02536327aa8b",
        "IPY_MODEL_d1589d7e247145459ed0cbfa939b4d46"
       ],
       "layout": "IPY_MODEL_03fc86ae2caf44468d697bc2c0bf9f08"
      }
     },
     "bb1849a2d03347079d6bf43ae957a585": {
      "model_module": "@jupyter-widgets/controls",
      "model_module_version": "2.0.0",
      "model_name": "ProgressStyleModel",
      "state": {
       "description_width": ""
      }
     },
     "bb62e9c2cb6542cd8137168f6e6a2d53": {
      "model_module": "@jupyter-widgets/base",
      "model_module_version": "2.0.0",
      "model_name": "LayoutModel",
      "state": {}
     },
     "bb79ce1d6f754dc3a3719d94c89b8302": {
      "model_module": "@jupyter-widgets/controls",
      "model_module_version": "2.0.0",
      "model_name": "HTMLStyleModel",
      "state": {
       "description_width": "",
       "font_size": null,
       "text_color": null
      }
     },
     "bb9d4e7a66134da8beb562005868c142": {
      "model_module": "@jupyter-widgets/controls",
      "model_module_version": "2.0.0",
      "model_name": "HTMLStyleModel",
      "state": {
       "description_width": "",
       "font_size": null,
       "text_color": null
      }
     },
     "bbb81a02d29a41fc9abf7732b76cc422": {
      "model_module": "@jupyter-widgets/controls",
      "model_module_version": "2.0.0",
      "model_name": "FloatProgressModel",
      "state": {
       "bar_style": "success",
       "layout": "IPY_MODEL_2f38ab5af8e943dc9ff7a63e8acea9b5",
       "max": 241,
       "style": "IPY_MODEL_3a3a2c1984264b0181ada13104caa3ec",
       "value": 241
      }
     },
     "bbd827f125684f76848afb9a001ce2b9": {
      "model_module": "@jupyter-widgets/base",
      "model_module_version": "2.0.0",
      "model_name": "LayoutModel",
      "state": {}
     },
     "bbfd6d4c3092427795c24b4e8ed5c070": {
      "model_module": "@jupyter-widgets/base",
      "model_module_version": "2.0.0",
      "model_name": "LayoutModel",
      "state": {}
     },
     "bc23c89797704df5965066bcf9a022ff": {
      "model_module": "@jupyter-widgets/controls",
      "model_module_version": "2.0.0",
      "model_name": "HTMLModel",
      "state": {
       "layout": "IPY_MODEL_1312e66833b641e69887d93a155a3a0c",
       "style": "IPY_MODEL_1918428f064542d4be8084c0e669db5c",
       "value": " 218/218 [01:41&lt;00:00,  2.22it/s]"
      }
     },
     "bc2bfd079a8241969b30da97cea2ef96": {
      "model_module": "@jupyter-widgets/controls",
      "model_module_version": "2.0.0",
      "model_name": "HTMLModel",
      "state": {
       "layout": "IPY_MODEL_5b9a15d35f1f42eb9c6cb50c9122c3f4",
       "style": "IPY_MODEL_9d5428b84edc4ec08c530cd9c050fbfa",
       "value": " 244/244 [01:51&lt;00:00,  2.21it/s]"
      }
     },
     "bc587f3282fd4fd7a3ff49b878951b6d": {
      "model_module": "@jupyter-widgets/controls",
      "model_module_version": "2.0.0",
      "model_name": "HTMLModel",
      "state": {
       "layout": "IPY_MODEL_7843ca7fc4a1440e8a7687c5bbcc1fa0",
       "style": "IPY_MODEL_daf03505c6c54c579358f65b781561fd",
       "value": " 181/181 [01:22&lt;00:00,  2.21it/s]"
      }
     },
     "bc63057175c74af1b1856f2c3c68a18d": {
      "model_module": "@jupyter-widgets/controls",
      "model_module_version": "2.0.0",
      "model_name": "HTMLStyleModel",
      "state": {
       "description_width": "",
       "font_size": null,
       "text_color": null
      }
     },
     "bc75dd7dd4be420f983f975e3231ba91": {
      "model_module": "@jupyter-widgets/controls",
      "model_module_version": "2.0.0",
      "model_name": "HTMLModel",
      "state": {
       "layout": "IPY_MODEL_72160b4422174445bbdae07724fc8e14",
       "style": "IPY_MODEL_aac88095522d4468bfbe0cca9d69735a",
       "value": " 285/285 [02:08&lt;00:00,  2.27it/s]"
      }
     },
     "bc78a0cdac2d433db79bf73173929f76": {
      "model_module": "@jupyter-widgets/base",
      "model_module_version": "2.0.0",
      "model_name": "LayoutModel",
      "state": {}
     },
     "bc7f443e50904133b809539e6cc4a6e2": {
      "model_module": "@jupyter-widgets/controls",
      "model_module_version": "2.0.0",
      "model_name": "FloatProgressModel",
      "state": {
       "bar_style": "success",
       "layout": "IPY_MODEL_a5a969d7472b4e3f8176f164e047fc04",
       "max": 380,
       "style": "IPY_MODEL_2574ed49d64b4aa08b771e64f9d924f7",
       "value": 380
      }
     },
     "bcae8bed044540d0aa51514d555a7a42": {
      "model_module": "@jupyter-widgets/controls",
      "model_module_version": "2.0.0",
      "model_name": "HTMLStyleModel",
      "state": {
       "description_width": "",
       "font_size": null,
       "text_color": null
      }
     },
     "bcf768d9c69a4a83acba5edb2e64a1d1": {
      "model_module": "@jupyter-widgets/controls",
      "model_module_version": "2.0.0",
      "model_name": "FloatProgressModel",
      "state": {
       "bar_style": "success",
       "layout": "IPY_MODEL_594568bc02f24eb7ba5e61198b3aa594",
       "max": 590,
       "style": "IPY_MODEL_3b333c13e8da4fb48ef27af688e59c65",
       "value": 590
      }
     },
     "bd126cefb00343a68eaecb9de763238e": {
      "model_module": "@jupyter-widgets/base",
      "model_module_version": "2.0.0",
      "model_name": "LayoutModel",
      "state": {}
     },
     "bd7dc4da28714a33bb884c68f249fba3": {
      "model_module": "@jupyter-widgets/base",
      "model_module_version": "2.0.0",
      "model_name": "LayoutModel",
      "state": {}
     },
     "bd89795834114feb99a8dffc369047ee": {
      "model_module": "@jupyter-widgets/controls",
      "model_module_version": "2.0.0",
      "model_name": "HTMLStyleModel",
      "state": {
       "description_width": "",
       "font_size": null,
       "text_color": null
      }
     },
     "bdac0a0d83fc4cb3bb42a668ed7b911e": {
      "model_module": "@jupyter-widgets/controls",
      "model_module_version": "2.0.0",
      "model_name": "HTMLStyleModel",
      "state": {
       "description_width": "",
       "font_size": null,
       "text_color": null
      }
     },
     "bdc17e8cb9224ba0b51a4d5d03b96e5b": {
      "model_module": "@jupyter-widgets/base",
      "model_module_version": "2.0.0",
      "model_name": "LayoutModel",
      "state": {}
     },
     "bdd7d0b878ab4c10bf48594a32becb88": {
      "model_module": "@jupyter-widgets/controls",
      "model_module_version": "2.0.0",
      "model_name": "ProgressStyleModel",
      "state": {
       "description_width": ""
      }
     },
     "be05f82a463944b3ae8131309d382f75": {
      "model_module": "@jupyter-widgets/base",
      "model_module_version": "2.0.0",
      "model_name": "LayoutModel",
      "state": {}
     },
     "be2c4503b641461ca62cea56c866b36f": {
      "model_module": "@jupyter-widgets/controls",
      "model_module_version": "2.0.0",
      "model_name": "ProgressStyleModel",
      "state": {
       "description_width": ""
      }
     },
     "be62eba593574265bdf37c182c325c1d": {
      "model_module": "@jupyter-widgets/controls",
      "model_module_version": "2.0.0",
      "model_name": "HTMLStyleModel",
      "state": {
       "description_width": "",
       "font_size": null,
       "text_color": null
      }
     },
     "be726f9474bb4e829867086cf8186181": {
      "model_module": "@jupyter-widgets/controls",
      "model_module_version": "2.0.0",
      "model_name": "HTMLStyleModel",
      "state": {
       "description_width": "",
       "font_size": null,
       "text_color": null
      }
     },
     "be85bdcc4b1648a7a42fd57bba5849ac": {
      "model_module": "@jupyter-widgets/controls",
      "model_module_version": "2.0.0",
      "model_name": "HTMLModel",
      "state": {
       "layout": "IPY_MODEL_c9720c8406ed4d89bbb939aa1d6c9621",
       "style": "IPY_MODEL_e729580757c64419ab54f57d8f7ba59d",
       "value": " 134/134 [01:02&lt;00:00,  2.19it/s]"
      }
     },
     "bf0e84d638c1400fa6f5c2232b665b52": {
      "model_module": "@jupyter-widgets/controls",
      "model_module_version": "2.0.0",
      "model_name": "HTMLModel",
      "state": {
       "layout": "IPY_MODEL_dd103259e5954b3a93f96d26e2790e30",
       "style": "IPY_MODEL_28ce2bfd48a6445ca94faa939a0ded32",
       "value": "100%"
      }
     },
     "bf3c65955e4e409780a2c613861d6560": {
      "model_module": "@jupyter-widgets/controls",
      "model_module_version": "2.0.0",
      "model_name": "HTMLStyleModel",
      "state": {
       "description_width": "",
       "font_size": null,
       "text_color": null
      }
     },
     "bf45f3e9e7764dd589947ce90cfb23e0": {
      "model_module": "@jupyter-widgets/controls",
      "model_module_version": "2.0.0",
      "model_name": "HTMLModel",
      "state": {
       "layout": "IPY_MODEL_3d59925bf0f54f0d800710698ad24072",
       "style": "IPY_MODEL_ba962a93fdd64f119a9832768469fa12",
       "value": "100%"
      }
     },
     "bf58723d10ca48b090cf1ee1af422374": {
      "model_module": "@jupyter-widgets/base",
      "model_module_version": "2.0.0",
      "model_name": "LayoutModel",
      "state": {}
     },
     "bf98c1db36a04a4e81c9b74d15b347b7": {
      "model_module": "@jupyter-widgets/controls",
      "model_module_version": "2.0.0",
      "model_name": "FloatProgressModel",
      "state": {
       "bar_style": "success",
       "layout": "IPY_MODEL_58fd1592373446bba4574d91b05623ad",
       "max": 184,
       "style": "IPY_MODEL_8cad835468b941a88d6538f61208606d",
       "value": 184
      }
     },
     "bfa6553cabd341aa8b42b3a5aa3bcc2e": {
      "model_module": "@jupyter-widgets/controls",
      "model_module_version": "2.0.0",
      "model_name": "ProgressStyleModel",
      "state": {
       "description_width": ""
      }
     },
     "bff4542d27424932afa340aca94749f5": {
      "model_module": "@jupyter-widgets/base",
      "model_module_version": "2.0.0",
      "model_name": "LayoutModel",
      "state": {}
     },
     "bffa7064c17441018ffd22a952dd3776": {
      "model_module": "@jupyter-widgets/controls",
      "model_module_version": "2.0.0",
      "model_name": "HTMLStyleModel",
      "state": {
       "description_width": "",
       "font_size": null,
       "text_color": null
      }
     },
     "c0004a17b36942169f33fca580d3d8f6": {
      "model_module": "@jupyter-widgets/controls",
      "model_module_version": "2.0.0",
      "model_name": "ProgressStyleModel",
      "state": {
       "description_width": ""
      }
     },
     "c007e4cc756d431e8908a926f46a2522": {
      "model_module": "@jupyter-widgets/base",
      "model_module_version": "2.0.0",
      "model_name": "LayoutModel",
      "state": {}
     },
     "c01659c484104a339bb4c9122f6f7de5": {
      "model_module": "@jupyter-widgets/controls",
      "model_module_version": "2.0.0",
      "model_name": "HTMLStyleModel",
      "state": {
       "description_width": "",
       "font_size": null,
       "text_color": null
      }
     },
     "c048de2e1c2e4de5b2fa8576cca5bd07": {
      "model_module": "@jupyter-widgets/base",
      "model_module_version": "2.0.0",
      "model_name": "LayoutModel",
      "state": {}
     },
     "c04e3be7b1ef4065a1dc771114bec367": {
      "model_module": "@jupyter-widgets/controls",
      "model_module_version": "2.0.0",
      "model_name": "HTMLModel",
      "state": {
       "layout": "IPY_MODEL_b34dc6c38e604bdfa809d7760235b5d1",
       "style": "IPY_MODEL_47144a70f2ed4a13b281f0d66ef82d81",
       "value": " 137/137 [01:02&lt;00:00,  2.29it/s]"
      }
     },
     "c0736b7c222a492690c7edbe68759587": {
      "model_module": "@jupyter-widgets/controls",
      "model_module_version": "2.0.0",
      "model_name": "HTMLModel",
      "state": {
       "layout": "IPY_MODEL_629b2ebc0d974f909c86f4477a45fced",
       "style": "IPY_MODEL_51e440d4b9204f2a8a7f7413210e5608",
       "value": " 242/242 [01:51&lt;00:00,  2.19it/s]"
      }
     },
     "c1180a5966fb469192d53f4d5d3480db": {
      "model_module": "@jupyter-widgets/controls",
      "model_module_version": "2.0.0",
      "model_name": "HTMLModel",
      "state": {
       "layout": "IPY_MODEL_5b981efbf55d4c8098947e0afcb45ebe",
       "style": "IPY_MODEL_7a1c0911946f4c938599aa5571d503ef",
       "value": "100%"
      }
     },
     "c12cedd5da5145b19e7317a75a90c9c0": {
      "model_module": "@jupyter-widgets/controls",
      "model_module_version": "2.0.0",
      "model_name": "ProgressStyleModel",
      "state": {
       "description_width": ""
      }
     },
     "c157b6f587e64208b5f5ea428db9ab28": {
      "model_module": "@jupyter-widgets/controls",
      "model_module_version": "2.0.0",
      "model_name": "FloatProgressModel",
      "state": {
       "bar_style": "success",
       "layout": "IPY_MODEL_c048de2e1c2e4de5b2fa8576cca5bd07",
       "max": 90,
       "style": "IPY_MODEL_b94672b759534f259c90300061dd447f",
       "value": 90
      }
     },
     "c1591967b0bd4f3db54d74187481fb69": {
      "model_module": "@jupyter-widgets/controls",
      "model_module_version": "2.0.0",
      "model_name": "HTMLModel",
      "state": {
       "layout": "IPY_MODEL_1791fc0149df4b49b4ac38a44f95e1e6",
       "style": "IPY_MODEL_28d4d408fa7f4d66beb72a227cb8657a",
       "value": " 240/240 [01:49&lt;00:00,  2.18it/s]"
      }
     },
     "c167fd21ae22439c813703d8c1743673": {
      "model_module": "@jupyter-widgets/controls",
      "model_module_version": "2.0.0",
      "model_name": "HTMLModel",
      "state": {
       "layout": "IPY_MODEL_3ea5dd07124049bfaf6282605b87c768",
       "style": "IPY_MODEL_8adecf51f41a43259aec49076445df78",
       "value": "100%"
      }
     },
     "c1766c5be54b46c4a6daf29baa36f0ee": {
      "model_module": "@jupyter-widgets/base",
      "model_module_version": "2.0.0",
      "model_name": "LayoutModel",
      "state": {}
     },
     "c20d86f8d3c3462bb1cf2fe49b54b045": {
      "model_module": "@jupyter-widgets/base",
      "model_module_version": "2.0.0",
      "model_name": "LayoutModel",
      "state": {}
     },
     "c2a3017888c24b248683eca732f76dd6": {
      "model_module": "@jupyter-widgets/controls",
      "model_module_version": "2.0.0",
      "model_name": "HBoxModel",
      "state": {
       "children": [
        "IPY_MODEL_501731deeac144219c19fd3060b86deb",
        "IPY_MODEL_530c10048ac74e27ba7ed0d11cbd57b4",
        "IPY_MODEL_ad47438c3d4748148d5aaeb6cf100125"
       ],
       "layout": "IPY_MODEL_c6030ecd899f4c91b826c7c5a75c66f3"
      }
     },
     "c2aeab4a891e4725a5c912c48794bb70": {
      "model_module": "@jupyter-widgets/controls",
      "model_module_version": "2.0.0",
      "model_name": "HTMLStyleModel",
      "state": {
       "description_width": "",
       "font_size": null,
       "text_color": null
      }
     },
     "c3901356e8e94c869cf0c36e7c684a29": {
      "model_module": "@jupyter-widgets/controls",
      "model_module_version": "2.0.0",
      "model_name": "HTMLStyleModel",
      "state": {
       "description_width": "",
       "font_size": null,
       "text_color": null
      }
     },
     "c3bf9b8a42254afd9f203ebb83d22108": {
      "model_module": "@jupyter-widgets/controls",
      "model_module_version": "2.0.0",
      "model_name": "ProgressStyleModel",
      "state": {
       "description_width": ""
      }
     },
     "c404f8066c1046df9c1258f46ad20752": {
      "model_module": "@jupyter-widgets/controls",
      "model_module_version": "2.0.0",
      "model_name": "HTMLModel",
      "state": {
       "layout": "IPY_MODEL_d78b2011f682402690adaf0901238e69",
       "style": "IPY_MODEL_9b9b148d217d4e2688305b3b1ff9ec13",
       "value": "100%"
      }
     },
     "c46a7f6077f541eab149ec464ffaf99e": {
      "model_module": "@jupyter-widgets/controls",
      "model_module_version": "2.0.0",
      "model_name": "FloatProgressModel",
      "state": {
       "bar_style": "success",
       "layout": "IPY_MODEL_db3b0602c32345829f6debd2ce0cc915",
       "max": 182,
       "style": "IPY_MODEL_71f48de614014ae8ba87ce44d975c820",
       "value": 182
      }
     },
     "c48ce53fd88f4aaa88208cdc56274828": {
      "model_module": "@jupyter-widgets/base",
      "model_module_version": "2.0.0",
      "model_name": "LayoutModel",
      "state": {}
     },
     "c4caabb479384e878f30d6f1ff19606c": {
      "model_module": "@jupyter-widgets/base",
      "model_module_version": "2.0.0",
      "model_name": "LayoutModel",
      "state": {}
     },
     "c4ec8b0394724063a720e70ceefbf013": {
      "model_module": "@jupyter-widgets/controls",
      "model_module_version": "2.0.0",
      "model_name": "HTMLModel",
      "state": {
       "layout": "IPY_MODEL_0c350a38c6e14727a86a6c81e0ff97c5",
       "style": "IPY_MODEL_af0c1779571b4588acced4ba5ee4e104",
       "value": "100%"
      }
     },
     "c525ddd87fb04619a85235ac0cd06995": {
      "model_module": "@jupyter-widgets/base",
      "model_module_version": "2.0.0",
      "model_name": "LayoutModel",
      "state": {}
     },
     "c53e29baa7e54cf69a438de68a654533": {
      "model_module": "@jupyter-widgets/base",
      "model_module_version": "2.0.0",
      "model_name": "LayoutModel",
      "state": {}
     },
     "c5bb91b093714b92974b300c44598da0": {
      "model_module": "@jupyter-widgets/controls",
      "model_module_version": "2.0.0",
      "model_name": "HBoxModel",
      "state": {
       "children": [
        "IPY_MODEL_c167fd21ae22439c813703d8c1743673",
        "IPY_MODEL_4b39d9b38c8c40559667dd0ffe85434b",
        "IPY_MODEL_38df6c6cb9a84eb4972c84cdd75fe7f9"
       ],
       "layout": "IPY_MODEL_766284bf6b2b460f9256be765afeb56b"
      }
     },
     "c5c78ff39b8747989528c537b5fccfa7": {
      "model_module": "@jupyter-widgets/base",
      "model_module_version": "2.0.0",
      "model_name": "LayoutModel",
      "state": {}
     },
     "c5c9b6fcd9eb4f2595c78666a88da41b": {
      "model_module": "@jupyter-widgets/controls",
      "model_module_version": "2.0.0",
      "model_name": "HTMLModel",
      "state": {
       "layout": "IPY_MODEL_1ce2dc7df1a6440fa35528b47fe57669",
       "style": "IPY_MODEL_19db92a760ae4f41b0189fb70cecb951",
       "value": "100%"
      }
     },
     "c5da7d1f6a084f028a970513582c0b73": {
      "model_module": "@jupyter-widgets/base",
      "model_module_version": "2.0.0",
      "model_name": "LayoutModel",
      "state": {}
     },
     "c5f32af245a14a1081f2ae1a741f5180": {
      "model_module": "@jupyter-widgets/controls",
      "model_module_version": "2.0.0",
      "model_name": "HTMLStyleModel",
      "state": {
       "description_width": "",
       "font_size": null,
       "text_color": null
      }
     },
     "c6030ecd899f4c91b826c7c5a75c66f3": {
      "model_module": "@jupyter-widgets/base",
      "model_module_version": "2.0.0",
      "model_name": "LayoutModel",
      "state": {}
     },
     "c619f1542fad4842ad8d699582650435": {
      "model_module": "@jupyter-widgets/controls",
      "model_module_version": "2.0.0",
      "model_name": "HTMLModel",
      "state": {
       "layout": "IPY_MODEL_321c7338d3c84361997482edcbe79699",
       "style": "IPY_MODEL_d9859df5505a4df1b70de61c2d465fa2",
       "value": "100%"
      }
     },
     "c622f11d71c54789bf08e36d436c6c92": {
      "model_module": "@jupyter-widgets/base",
      "model_module_version": "2.0.0",
      "model_name": "LayoutModel",
      "state": {}
     },
     "c64f721fe3e84e39a90c45833409e66c": {
      "model_module": "@jupyter-widgets/controls",
      "model_module_version": "2.0.0",
      "model_name": "FloatProgressModel",
      "state": {
       "bar_style": "success",
       "layout": "IPY_MODEL_bd126cefb00343a68eaecb9de763238e",
       "max": 348,
       "style": "IPY_MODEL_0cc6314366994b7da07bb029d3c7899e",
       "value": 348
      }
     },
     "c68d537622ff47fda666e0f9eff6c5fd": {
      "model_module": "@jupyter-widgets/controls",
      "model_module_version": "2.0.0",
      "model_name": "HTMLModel",
      "state": {
       "layout": "IPY_MODEL_0baa7417d7dc4451a95b9715db1d92f2",
       "style": "IPY_MODEL_053f30d3fa2940bbb73753ba6120445f",
       "value": " 242/242 [01:51&lt;00:00,  2.21it/s]"
      }
     },
     "c6909e4fdfc34268bdc1f6a817f7d8c6": {
      "model_module": "@jupyter-widgets/base",
      "model_module_version": "2.0.0",
      "model_name": "LayoutModel",
      "state": {}
     },
     "c692099c26484caf8f069714c6e3a5ca": {
      "model_module": "@jupyter-widgets/controls",
      "model_module_version": "2.0.0",
      "model_name": "FloatProgressModel",
      "state": {
       "bar_style": "success",
       "layout": "IPY_MODEL_7bbdf21329d74e2aa7ac4318bd0781aa",
       "max": 242,
       "style": "IPY_MODEL_ebb96536d8214c669713fceccbe05ca7",
       "value": 242
      }
     },
     "c7db82e968f7425c8b456992d9dc2f3e": {
      "model_module": "@jupyter-widgets/controls",
      "model_module_version": "2.0.0",
      "model_name": "HBoxModel",
      "state": {
       "children": [
        "IPY_MODEL_eb131a56e57b418eb5840118b770b0a8",
        "IPY_MODEL_672f70a47ee44a2f9676438988d0d0b7",
        "IPY_MODEL_5ccc49126471472e9ba22ccd9b8d2fde"
       ],
       "layout": "IPY_MODEL_8aff85ceb13f4497a9883a04403900d7"
      }
     },
     "c7dca590695c4f5abbb0b13ff6e11e6c": {
      "model_module": "@jupyter-widgets/base",
      "model_module_version": "2.0.0",
      "model_name": "LayoutModel",
      "state": {}
     },
     "c7ed190e032e4cb3b4c16962bac8061a": {
      "model_module": "@jupyter-widgets/base",
      "model_module_version": "2.0.0",
      "model_name": "LayoutModel",
      "state": {}
     },
     "c82a9bd67eb04fc3875aa6ada4a3ec9c": {
      "model_module": "@jupyter-widgets/controls",
      "model_module_version": "2.0.0",
      "model_name": "HTMLStyleModel",
      "state": {
       "description_width": "",
       "font_size": null,
       "text_color": null
      }
     },
     "c852907bfe86488d92a47751bde66289": {
      "model_module": "@jupyter-widgets/controls",
      "model_module_version": "2.0.0",
      "model_name": "HTMLStyleModel",
      "state": {
       "description_width": "",
       "font_size": null,
       "text_color": null
      }
     },
     "c8579b4c44e24be49edb2b81c0644b4e": {
      "model_module": "@jupyter-widgets/controls",
      "model_module_version": "2.0.0",
      "model_name": "ProgressStyleModel",
      "state": {
       "description_width": ""
      }
     },
     "c89b9b5adaa44f94ba5175b5f355796f": {
      "model_module": "@jupyter-widgets/controls",
      "model_module_version": "2.0.0",
      "model_name": "HTMLModel",
      "state": {
       "layout": "IPY_MODEL_e55c184882b049e7a89b13f453119c67",
       "style": "IPY_MODEL_fce1af64396949e9a6bef772d7c4a0fc",
       "value": "100%"
      }
     },
     "c8ac640064b74a11b1636db48d38e6f6": {
      "model_module": "@jupyter-widgets/controls",
      "model_module_version": "2.0.0",
      "model_name": "HTMLStyleModel",
      "state": {
       "description_width": "",
       "font_size": null,
       "text_color": null
      }
     },
     "c8ce589d3cc84902b9cbe05e20d8b636": {
      "model_module": "@jupyter-widgets/controls",
      "model_module_version": "2.0.0",
      "model_name": "HTMLModel",
      "state": {
       "layout": "IPY_MODEL_5e0e616841b94364ac866a6a052d5e6f",
       "style": "IPY_MODEL_8666c04d77804a83834e4c81f0027e0b",
       "value": "100%"
      }
     },
     "c8d4a16e28634caabbd66967b6b6c52a": {
      "model_module": "@jupyter-widgets/controls",
      "model_module_version": "2.0.0",
      "model_name": "HTMLStyleModel",
      "state": {
       "description_width": "",
       "font_size": null,
       "text_color": null
      }
     },
     "c8ffb285f4a44c368c1e6d1e5459a9b7": {
      "model_module": "@jupyter-widgets/controls",
      "model_module_version": "2.0.0",
      "model_name": "FloatProgressModel",
      "state": {
       "bar_style": "success",
       "layout": "IPY_MODEL_9c77af07d3b64d458eeec89da1ac6a21",
       "max": 218,
       "style": "IPY_MODEL_7bb2c3466cc84b33bab436fd5cbd6b74",
       "value": 218
      }
     },
     "c9438578962046dcabc0859e4702937c": {
      "model_module": "@jupyter-widgets/controls",
      "model_module_version": "2.0.0",
      "model_name": "HTMLModel",
      "state": {
       "layout": "IPY_MODEL_276972c241cc47619e3897507c50d3e3",
       "style": "IPY_MODEL_90ef7530bfe74c73b446291f1b7e8666",
       "value": " 225/225 [29:30&lt;00:00,  9.61s/it]"
      }
     },
     "c951d9d145344092b41147a6bd3b3166": {
      "model_module": "@jupyter-widgets/base",
      "model_module_version": "2.0.0",
      "model_name": "LayoutModel",
      "state": {}
     },
     "c971880f72b24aa2b386ca2655d4c5db": {
      "model_module": "@jupyter-widgets/controls",
      "model_module_version": "2.0.0",
      "model_name": "HTMLModel",
      "state": {
       "layout": "IPY_MODEL_b23442cc14f540469c317f978fe5270b",
       "style": "IPY_MODEL_0a33013c4fca446a9ac40ff1b1b62e0d",
       "value": "100%"
      }
     },
     "c9720c8406ed4d89bbb939aa1d6c9621": {
      "model_module": "@jupyter-widgets/base",
      "model_module_version": "2.0.0",
      "model_name": "LayoutModel",
      "state": {}
     },
     "c982484c55f042a186bf9045a29f084f": {
      "model_module": "@jupyter-widgets/controls",
      "model_module_version": "2.0.0",
      "model_name": "HTMLStyleModel",
      "state": {
       "description_width": "",
       "font_size": null,
       "text_color": null
      }
     },
     "c99921cea6344407814ddb760b19a5d8": {
      "model_module": "@jupyter-widgets/controls",
      "model_module_version": "2.0.0",
      "model_name": "HTMLModel",
      "state": {
       "layout": "IPY_MODEL_c4caabb479384e878f30d6f1ff19606c",
       "style": "IPY_MODEL_0e6066d0ae834bf39f17235686599383",
       "value": "100%"
      }
     },
     "c99e5519b66745688bb21c497fd0f634": {
      "model_module": "@jupyter-widgets/controls",
      "model_module_version": "2.0.0",
      "model_name": "HTMLModel",
      "state": {
       "layout": "IPY_MODEL_c7ed190e032e4cb3b4c16962bac8061a",
       "style": "IPY_MODEL_f3f942464f1a434391c40699b43e5070",
       "value": " 204/204 [01:34&lt;00:00,  2.18it/s]"
      }
     },
     "c9e0ef3aab794e2bace844fdbce65cf1": {
      "model_module": "@jupyter-widgets/controls",
      "model_module_version": "2.0.0",
      "model_name": "HBoxModel",
      "state": {
       "children": [
        "IPY_MODEL_ff3bf7b9fe53468fadbe30a046247e61",
        "IPY_MODEL_1a15ce1647f34aa59b1363c351b97ef7",
        "IPY_MODEL_9d9d58bd9eb54d47a6de63ffaf1d09a1"
       ],
       "layout": "IPY_MODEL_0d1493787a2641baa10b65340fbf8999"
      }
     },
     "ca14d6be4d4c49dfa2da22b2b41b7608": {
      "model_module": "@jupyter-widgets/base",
      "model_module_version": "2.0.0",
      "model_name": "LayoutModel",
      "state": {}
     },
     "ca3a1cf5a8ad48809f14abbff0aba60a": {
      "model_module": "@jupyter-widgets/base",
      "model_module_version": "2.0.0",
      "model_name": "LayoutModel",
      "state": {}
     },
     "ca9307e46e504da28bfdea4cde77427c": {
      "model_module": "@jupyter-widgets/base",
      "model_module_version": "2.0.0",
      "model_name": "LayoutModel",
      "state": {}
     },
     "ca959c4c6ad8420295c9c934ecc9ffcf": {
      "model_module": "@jupyter-widgets/controls",
      "model_module_version": "2.0.0",
      "model_name": "HTMLStyleModel",
      "state": {
       "description_width": "",
       "font_size": null,
       "text_color": null
      }
     },
     "caa0ddde06ea45cf896ddfc19a6f9dbf": {
      "model_module": "@jupyter-widgets/controls",
      "model_module_version": "2.0.0",
      "model_name": "FloatProgressModel",
      "state": {
       "layout": "IPY_MODEL_1924a9c8b76149dab3a7036db831a32f",
       "max": 472,
       "style": "IPY_MODEL_cda50e1cf1a949988fcf66c2ee075551",
       "value": 122
      }
     },
     "cade4a06390247afb48e1779e963ec07": {
      "model_module": "@jupyter-widgets/controls",
      "model_module_version": "2.0.0",
      "model_name": "HTMLStyleModel",
      "state": {
       "description_width": "",
       "font_size": null,
       "text_color": null
      }
     },
     "cb2b655eadf44e0dbcdfe14a9c5892ff": {
      "model_module": "@jupyter-widgets/controls",
      "model_module_version": "2.0.0",
      "model_name": "HTMLStyleModel",
      "state": {
       "description_width": "",
       "font_size": null,
       "text_color": null
      }
     },
     "cb2d8f57ba5742a78c0385b424df873e": {
      "model_module": "@jupyter-widgets/base",
      "model_module_version": "2.0.0",
      "model_name": "LayoutModel",
      "state": {}
     },
     "cb59a4661872451ba8b9c8639ccb6cc3": {
      "model_module": "@jupyter-widgets/controls",
      "model_module_version": "2.0.0",
      "model_name": "HTMLModel",
      "state": {
       "layout": "IPY_MODEL_7630c9e42ee542f9b3aa2b87ec41f049",
       "style": "IPY_MODEL_d74d8f8034ee4cf083b316b56633c59e",
       "value": " 182/182 [01:22&lt;00:00,  2.23it/s]"
      }
     },
     "cb5f4a9ccc234c8ea4fe8854b4e895e1": {
      "model_module": "@jupyter-widgets/base",
      "model_module_version": "2.0.0",
      "model_name": "LayoutModel",
      "state": {}
     },
     "cba24476daa444b4a503b0a978ab8cfb": {
      "model_module": "@jupyter-widgets/controls",
      "model_module_version": "2.0.0",
      "model_name": "HTMLModel",
      "state": {
       "layout": "IPY_MODEL_7949e5ee89cd400b8768040edeade145",
       "style": "IPY_MODEL_4d844806193540bd8941634969e07407",
       "value": "100%"
      }
     },
     "cbb859e4abf74a20ad354d2fe5961621": {
      "model_module": "@jupyter-widgets/controls",
      "model_module_version": "2.0.0",
      "model_name": "HTMLStyleModel",
      "state": {
       "description_width": "",
       "font_size": null,
       "text_color": null
      }
     },
     "cc2af5dd8de94e15b9c96740a4d3645b": {
      "model_module": "@jupyter-widgets/base",
      "model_module_version": "2.0.0",
      "model_name": "LayoutModel",
      "state": {}
     },
     "cc48b137b014426f8a6f84e2e40885e0": {
      "model_module": "@jupyter-widgets/controls",
      "model_module_version": "2.0.0",
      "model_name": "HBoxModel",
      "state": {
       "children": [
        "IPY_MODEL_f2059e7e35f4480e8cc37bee7b36011c",
        "IPY_MODEL_4a711f50846e4694bd8ae4e98fa0b92f",
        "IPY_MODEL_24bc2e39cb314d6bb856c848d9222243"
       ],
       "layout": "IPY_MODEL_f04cb7a016934bae852c4223b2b0dc37"
      }
     },
     "cc4c36fd703e41f2a72b53f01707dae5": {
      "model_module": "@jupyter-widgets/controls",
      "model_module_version": "2.0.0",
      "model_name": "HTMLModel",
      "state": {
       "layout": "IPY_MODEL_7245d265bb3a4e1dbc659f27be9fd586",
       "style": "IPY_MODEL_e3c8dc3204a949159903fbc2ccacab62",
       "value": " 180/180 [01:23&lt;00:00,  2.19it/s]"
      }
     },
     "cc626c46c76e4f59afa8a7268ce76587": {
      "model_module": "@jupyter-widgets/base",
      "model_module_version": "2.0.0",
      "model_name": "LayoutModel",
      "state": {}
     },
     "ccc07dbd89074df4ac7153a8bf09cd58": {
      "model_module": "@jupyter-widgets/controls",
      "model_module_version": "2.0.0",
      "model_name": "HBoxModel",
      "state": {
       "children": [
        "IPY_MODEL_0aa9f445af9c47818513e0eeaa081ae9",
        "IPY_MODEL_245f3700b22a44169718242c11e309ef",
        "IPY_MODEL_806889cf72384a17a3b5378ed15626f8"
       ],
       "layout": "IPY_MODEL_ca14d6be4d4c49dfa2da22b2b41b7608"
      }
     },
     "ccf0311cf1c34abe8e00a001b265ee39": {
      "model_module": "@jupyter-widgets/base",
      "model_module_version": "2.0.0",
      "model_name": "LayoutModel",
      "state": {}
     },
     "cd1f668c5ea140d891f345e46e96c5cf": {
      "model_module": "@jupyter-widgets/controls",
      "model_module_version": "2.0.0",
      "model_name": "HTMLStyleModel",
      "state": {
       "description_width": "",
       "font_size": null,
       "text_color": null
      }
     },
     "cd39b93d344c4a28b8ea497002d5a62a": {
      "model_module": "@jupyter-widgets/controls",
      "model_module_version": "2.0.0",
      "model_name": "FloatProgressModel",
      "state": {
       "bar_style": "success",
       "layout": "IPY_MODEL_24b462d1ec124566b7b5d9c80a0c4483",
       "max": 181,
       "style": "IPY_MODEL_6fee8557f72c44208dd8bd127af6ef4d",
       "value": 181
      }
     },
     "cd919d7f18e246f0922ea727e3c543f3": {
      "model_module": "@jupyter-widgets/controls",
      "model_module_version": "2.0.0",
      "model_name": "HTMLStyleModel",
      "state": {
       "description_width": "",
       "font_size": null,
       "text_color": null
      }
     },
     "cda50e1cf1a949988fcf66c2ee075551": {
      "model_module": "@jupyter-widgets/controls",
      "model_module_version": "2.0.0",
      "model_name": "ProgressStyleModel",
      "state": {
       "description_width": ""
      }
     },
     "cdc7feb79cbe43ae9b83474c53c5270f": {
      "model_module": "@jupyter-widgets/base",
      "model_module_version": "2.0.0",
      "model_name": "LayoutModel",
      "state": {}
     },
     "ce1add023e9a4da0827d8ba34f1328d7": {
      "model_module": "@jupyter-widgets/controls",
      "model_module_version": "2.0.0",
      "model_name": "HTMLStyleModel",
      "state": {
       "description_width": "",
       "font_size": null,
       "text_color": null
      }
     },
     "ce3e006352de4a24bc69f168dfdf6025": {
      "model_module": "@jupyter-widgets/controls",
      "model_module_version": "2.0.0",
      "model_name": "HBoxModel",
      "state": {
       "children": [
        "IPY_MODEL_81d84e4c339c4b4f82e8fa42d9a2db60",
        "IPY_MODEL_f7258ecc82f8458c88d992b199d691dc",
        "IPY_MODEL_097a87bcab524e15850998caac5fb66e"
       ],
       "layout": "IPY_MODEL_87f33e96a1944d728e3ea7530c303c4b"
      }
     },
     "ce465d113a7e413e9298afba7c18702d": {
      "model_module": "@jupyter-widgets/controls",
      "model_module_version": "2.0.0",
      "model_name": "ProgressStyleModel",
      "state": {
       "description_width": ""
      }
     },
     "ce4d89d1140d4ffe99e17b30995aa8c2": {
      "model_module": "@jupyter-widgets/controls",
      "model_module_version": "2.0.0",
      "model_name": "HTMLModel",
      "state": {
       "layout": "IPY_MODEL_08e79f2c4a224f64b2e003f1ee7ea638",
       "style": "IPY_MODEL_888c384091a947c59daed972d197abdc",
       "value": "100%"
      }
     },
     "ceac6e39dba74f6fbfe8032e4e6bfd62": {
      "model_module": "@jupyter-widgets/base",
      "model_module_version": "2.0.0",
      "model_name": "LayoutModel",
      "state": {}
     },
     "ced189eea0db4dafb1e59b88d0e23a73": {
      "model_module": "@jupyter-widgets/controls",
      "model_module_version": "2.0.0",
      "model_name": "HTMLModel",
      "state": {
       "layout": "IPY_MODEL_fcc4bcdcd2134f15aeb60c9f0890b362",
       "style": "IPY_MODEL_67069af1ad934b9a9b2766659ab440e1",
       "value": "100%"
      }
     },
     "cefac25f232641248564e2776b4cd4b4": {
      "model_module": "@jupyter-widgets/base",
      "model_module_version": "2.0.0",
      "model_name": "LayoutModel",
      "state": {}
     },
     "cf0058276ad04255a985016915f3bc50": {
      "model_module": "@jupyter-widgets/controls",
      "model_module_version": "2.0.0",
      "model_name": "HBoxModel",
      "state": {
       "children": [
        "IPY_MODEL_22bef109ebdc46619a57635e83e9b5e0",
        "IPY_MODEL_cf34764e56d54bbca812ceb81aba2959",
        "IPY_MODEL_438d0c319e1c4083892655c0b9dce5b2"
       ],
       "layout": "IPY_MODEL_57a3475f732447f3a04d6d435cb39207"
      }
     },
     "cf34764e56d54bbca812ceb81aba2959": {
      "model_module": "@jupyter-widgets/controls",
      "model_module_version": "2.0.0",
      "model_name": "FloatProgressModel",
      "state": {
       "bar_style": "success",
       "layout": "IPY_MODEL_205a5de116a6439f8b272268d0d46c56",
       "max": 203,
       "style": "IPY_MODEL_6e0a46f0262e491bae638bf5dbe69952",
       "value": 203
      }
     },
     "cf5384e7895c41c2add43d5a62534be7": {
      "model_module": "@jupyter-widgets/base",
      "model_module_version": "2.0.0",
      "model_name": "LayoutModel",
      "state": {}
     },
     "cf5caacb002f40fe85ea04e8ef830dd4": {
      "model_module": "@jupyter-widgets/base",
      "model_module_version": "2.0.0",
      "model_name": "LayoutModel",
      "state": {}
     },
     "cfa63cbf48e044b2a40f883666d3dc46": {
      "model_module": "@jupyter-widgets/controls",
      "model_module_version": "2.0.0",
      "model_name": "HBoxModel",
      "state": {
       "children": [
        "IPY_MODEL_90a0734ac22641c78e0fe5d524e09084",
        "IPY_MODEL_f8f8c175d2e94b13b077f648a34680a4",
        "IPY_MODEL_d60c5b167efa441ba5aafa2a2f32660f"
       ],
       "layout": "IPY_MODEL_1910656b33bf4aa688d6300899dfc21d"
      }
     },
     "cfc8e2846b7440f3a9462f436989e9a7": {
      "model_module": "@jupyter-widgets/controls",
      "model_module_version": "2.0.0",
      "model_name": "HTMLModel",
      "state": {
       "layout": "IPY_MODEL_1205f264f56c48f3ba65055fcc289c7d",
       "style": "IPY_MODEL_f3d61b913ab948369b626510d05bbdaa",
       "value": " 233/233 [01:47&lt;00:00,  2.22it/s]"
      }
     },
     "cffe06506ab14b2eaf376862b0f79949": {
      "model_module": "@jupyter-widgets/base",
      "model_module_version": "2.0.0",
      "model_name": "LayoutModel",
      "state": {}
     },
     "d00ce5670066449abab2501ca73a4748": {
      "model_module": "@jupyter-widgets/controls",
      "model_module_version": "2.0.0",
      "model_name": "HTMLStyleModel",
      "state": {
       "description_width": "",
       "font_size": null,
       "text_color": null
      }
     },
     "d04bfb1706fb45a6b72d62f97f5c2cd0": {
      "model_module": "@jupyter-widgets/base",
      "model_module_version": "2.0.0",
      "model_name": "LayoutModel",
      "state": {}
     },
     "d05de089c37a4ca1a8e08ebb66d6fe64": {
      "model_module": "@jupyter-widgets/controls",
      "model_module_version": "2.0.0",
      "model_name": "HTMLStyleModel",
      "state": {
       "description_width": "",
       "font_size": null,
       "text_color": null
      }
     },
     "d06417d61ffd44aa99b4da6b6bb57353": {
      "model_module": "@jupyter-widgets/base",
      "model_module_version": "2.0.0",
      "model_name": "LayoutModel",
      "state": {}
     },
     "d06e3fcd89024f89b10f0a2061eed836": {
      "model_module": "@jupyter-widgets/controls",
      "model_module_version": "2.0.0",
      "model_name": "HTMLStyleModel",
      "state": {
       "description_width": "",
       "font_size": null,
       "text_color": null
      }
     },
     "d0880b3987bf4c8680ac67e92f3aef48": {
      "model_module": "@jupyter-widgets/controls",
      "model_module_version": "2.0.0",
      "model_name": "HBoxModel",
      "state": {
       "children": [
        "IPY_MODEL_a5acf277aef2404795efbf88714ee7d0",
        "IPY_MODEL_2c4f8436dd66400fb4b69d4de04b17c0",
        "IPY_MODEL_3e276b4512fe4436ac69d6b2949386e3"
       ],
       "layout": "IPY_MODEL_bdc17e8cb9224ba0b51a4d5d03b96e5b"
      }
     },
     "d0890f7874204b34bc9e2816d7c5f283": {
      "model_module": "@jupyter-widgets/controls",
      "model_module_version": "2.0.0",
      "model_name": "HBoxModel",
      "state": {
       "children": [
        "IPY_MODEL_5e1b0a17b1e9411e829b38d143c3bd82",
        "IPY_MODEL_25e3c0aaac724151b80917d46b687c18",
        "IPY_MODEL_467a7b3f4839420f9c593b07e1568d83"
       ],
       "layout": "IPY_MODEL_546b63b6dc614fbab0f84bbff1c461c0"
      }
     },
     "d0b2ee5511804ae8b8102c5d7ebddb8a": {
      "model_module": "@jupyter-widgets/base",
      "model_module_version": "2.0.0",
      "model_name": "LayoutModel",
      "state": {}
     },
     "d1152dd294954d508395c1e273c6f68e": {
      "model_module": "@jupyter-widgets/controls",
      "model_module_version": "2.0.0",
      "model_name": "HBoxModel",
      "state": {
       "children": [
        "IPY_MODEL_1c794df6c9594ae78a2a24cfc299cf70",
        "IPY_MODEL_b09d5d065b534033be01af378c40f719",
        "IPY_MODEL_7d61b8f66da748868b04f27676970776"
       ],
       "layout": "IPY_MODEL_aa67cac6f158427f809406b93e973046"
      }
     },
     "d14a6b712fd74ef49939aeb4f8997de5": {
      "model_module": "@jupyter-widgets/base",
      "model_module_version": "2.0.0",
      "model_name": "LayoutModel",
      "state": {}
     },
     "d14b0b44348946f8bc4d7672ce1ee441": {
      "model_module": "@jupyter-widgets/controls",
      "model_module_version": "2.0.0",
      "model_name": "HTMLStyleModel",
      "state": {
       "description_width": "",
       "font_size": null,
       "text_color": null
      }
     },
     "d1589d7e247145459ed0cbfa939b4d46": {
      "model_module": "@jupyter-widgets/controls",
      "model_module_version": "2.0.0",
      "model_name": "HTMLModel",
      "state": {
       "layout": "IPY_MODEL_b14ee357de1d41be9d4c5de2eac7fd5d",
       "style": "IPY_MODEL_19a17c9ccafb4bb5a72133a708f5dd83",
       "value": " 669/669 [05:12&lt;00:00,  2.15it/s]"
      }
     },
     "d1641b3ad5124e8eb60461f0d8b70ba5": {
      "model_module": "@jupyter-widgets/controls",
      "model_module_version": "2.0.0",
      "model_name": "HTMLModel",
      "state": {
       "layout": "IPY_MODEL_3ac8daf1c16d480194ac0f63b6741f52",
       "style": "IPY_MODEL_9297a3843b984fd8939350d4ddd51b7f",
       "value": " 162/162 [01:16&lt;00:00,  2.18it/s]"
      }
     },
     "d1bd8dbf2f5340629428c6cf8089ccc4": {
      "model_module": "@jupyter-widgets/controls",
      "model_module_version": "2.0.0",
      "model_name": "HTMLStyleModel",
      "state": {
       "description_width": "",
       "font_size": null,
       "text_color": null
      }
     },
     "d20e149d891246388b343fb261b87ad5": {
      "model_module": "@jupyter-widgets/controls",
      "model_module_version": "2.0.0",
      "model_name": "HBoxModel",
      "state": {
       "children": [
        "IPY_MODEL_604043b6ed12435cb9e8e1013a7d3710",
        "IPY_MODEL_39338e1e5ea0489daea9cb2d9dbfb578",
        "IPY_MODEL_b3bedefcdcfa4abb80e530059000b935"
       ],
       "layout": "IPY_MODEL_f7957b190d5f4d57b2ccda575cdf2e22"
      }
     },
     "d20eda26a44c4c54a02264e40fb36dad": {
      "model_module": "@jupyter-widgets/base",
      "model_module_version": "2.0.0",
      "model_name": "LayoutModel",
      "state": {}
     },
     "d251b2d87d9e494a859d8eff129e283d": {
      "model_module": "@jupyter-widgets/controls",
      "model_module_version": "2.0.0",
      "model_name": "HBoxModel",
      "state": {
       "children": [
        "IPY_MODEL_842a906afdba4b1e9d1ecdf4e87d941f",
        "IPY_MODEL_846516f19bb6455ea335994a16323ac2",
        "IPY_MODEL_043959b833714e78a918b246025e8033"
       ],
       "layout": "IPY_MODEL_b9901fc9e45d46d3ba303f45555256bb"
      }
     },
     "d2577f500fb64e2a9c74181daa4577ad": {
      "model_module": "@jupyter-widgets/base",
      "model_module_version": "2.0.0",
      "model_name": "LayoutModel",
      "state": {}
     },
     "d2c4e105e1814c64a7d268db085f3028": {
      "model_module": "@jupyter-widgets/base",
      "model_module_version": "2.0.0",
      "model_name": "LayoutModel",
      "state": {}
     },
     "d2c6847a33884795af57004bd81eb12c": {
      "model_module": "@jupyter-widgets/base",
      "model_module_version": "2.0.0",
      "model_name": "LayoutModel",
      "state": {}
     },
     "d2e526d8a85a4183b7e857c456c84268": {
      "model_module": "@jupyter-widgets/controls",
      "model_module_version": "2.0.0",
      "model_name": "HTMLModel",
      "state": {
       "layout": "IPY_MODEL_8d7b21f3a8b64ca9baff7f0c5e8798c5",
       "style": "IPY_MODEL_b763880da4fe4e50b7fc5f61f285d53b",
       "value": " 380/380 [02:58&lt;00:00,  2.14it/s]"
      }
     },
     "d330b19bb7e54bfe8cf37dd1e24a20a6": {
      "model_module": "@jupyter-widgets/base",
      "model_module_version": "2.0.0",
      "model_name": "LayoutModel",
      "state": {}
     },
     "d3b098a74ba34826ba558e95a9b9fd64": {
      "model_module": "@jupyter-widgets/base",
      "model_module_version": "2.0.0",
      "model_name": "LayoutModel",
      "state": {}
     },
     "d3f196dd6a9c4bcdadbfe238e02c95b4": {
      "model_module": "@jupyter-widgets/controls",
      "model_module_version": "2.0.0",
      "model_name": "HTMLModel",
      "state": {
       "layout": "IPY_MODEL_9fc2c55a095747da9f69347dba54ca51",
       "style": "IPY_MODEL_33483a9344a245bc9f2b757564cff44d",
       "value": "100%"
      }
     },
     "d4150fc0e6244e789afe22ff102162e8": {
      "model_module": "@jupyter-widgets/controls",
      "model_module_version": "2.0.0",
      "model_name": "HTMLStyleModel",
      "state": {
       "description_width": "",
       "font_size": null,
       "text_color": null
      }
     },
     "d4398cb1e0c04e61b99ec61bceb76f39": {
      "model_module": "@jupyter-widgets/base",
      "model_module_version": "2.0.0",
      "model_name": "LayoutModel",
      "state": {}
     },
     "d43dd247aea64b4fb8e1bdb449231849": {
      "model_module": "@jupyter-widgets/controls",
      "model_module_version": "2.0.0",
      "model_name": "HTMLModel",
      "state": {
       "layout": "IPY_MODEL_7f8e6783b36a4bb99bb17510c1957799",
       "style": "IPY_MODEL_e5d16d3aa5f14b92ac486952eacd1466",
       "value": " 60/60 [00:28&lt;00:00,  2.22it/s]"
      }
     },
     "d4520bedc08243ddbf95012a80bb7a53": {
      "model_module": "@jupyter-widgets/controls",
      "model_module_version": "2.0.0",
      "model_name": "FloatProgressModel",
      "state": {
       "bar_style": "success",
       "layout": "IPY_MODEL_1d821838c2cb4aa38c04668f1b6b974b",
       "max": 162,
       "style": "IPY_MODEL_61a75ea8135b491e9863cd5014d54c10",
       "value": 162
      }
     },
     "d462f1540a314f4bbb561b937f462a35": {
      "model_module": "@jupyter-widgets/base",
      "model_module_version": "2.0.0",
      "model_name": "LayoutModel",
      "state": {}
     },
     "d46d8ed8f8804dc89179012076826baa": {
      "model_module": "@jupyter-widgets/controls",
      "model_module_version": "2.0.0",
      "model_name": "HBoxModel",
      "state": {
       "children": [
        "IPY_MODEL_35975d60f49845f19f1d234e4d860f94",
        "IPY_MODEL_535731223c3a45ff8835f50712fdc482",
        "IPY_MODEL_a5cd0a64e1fa45d2bb62d63dd9175f52"
       ],
       "layout": "IPY_MODEL_27b8969e73f1438fb40415ff687265d2"
      }
     },
     "d491bee9590a49a18d2f5066ba30a8f7": {
      "model_module": "@jupyter-widgets/base",
      "model_module_version": "2.0.0",
      "model_name": "LayoutModel",
      "state": {}
     },
     "d4df7f6008334eafb3f94cbf3aea857d": {
      "model_module": "@jupyter-widgets/base",
      "model_module_version": "2.0.0",
      "model_name": "LayoutModel",
      "state": {}
     },
     "d53e71a779774f24bf6ef489e2e70772": {
      "model_module": "@jupyter-widgets/base",
      "model_module_version": "2.0.0",
      "model_name": "LayoutModel",
      "state": {}
     },
     "d563cd8e45e64f848e113f24500d91d7": {
      "model_module": "@jupyter-widgets/controls",
      "model_module_version": "2.0.0",
      "model_name": "HBoxModel",
      "state": {
       "children": [
        "IPY_MODEL_0580101fd9b64643b4e8bf22b90188da",
        "IPY_MODEL_4350f74853a940179d82039b9504271d",
        "IPY_MODEL_bc75dd7dd4be420f983f975e3231ba91"
       ],
       "layout": "IPY_MODEL_d330b19bb7e54bfe8cf37dd1e24a20a6"
      }
     },
     "d57a9c3b66424863a5ef79b7c18940ee": {
      "model_module": "@jupyter-widgets/base",
      "model_module_version": "2.0.0",
      "model_name": "LayoutModel",
      "state": {}
     },
     "d599972c53e64292bdc5ec846cd6241c": {
      "model_module": "@jupyter-widgets/base",
      "model_module_version": "2.0.0",
      "model_name": "LayoutModel",
      "state": {}
     },
     "d5a2e58544214a66bc7cbe6921417fb1": {
      "model_module": "@jupyter-widgets/controls",
      "model_module_version": "2.0.0",
      "model_name": "FloatProgressModel",
      "state": {
       "bar_style": "success",
       "layout": "IPY_MODEL_0eb0490a5b3148779a51f630172d9efc",
       "max": 273,
       "style": "IPY_MODEL_229fc79c70884ea1844d27830b6d5693",
       "value": 273
      }
     },
     "d60c5b167efa441ba5aafa2a2f32660f": {
      "model_module": "@jupyter-widgets/controls",
      "model_module_version": "2.0.0",
      "model_name": "HTMLModel",
      "state": {
       "layout": "IPY_MODEL_4071213bfa9640d19d30ebb6e7ceff75",
       "style": "IPY_MODEL_7a3b3e401ee5455fa7735746332026bc",
       "value": " 173/173 [03:55&lt;00:00,  9.15s/it]"
      }
     },
     "d63bb0a0e85a4a2a8333c66cd6b804dc": {
      "model_module": "@jupyter-widgets/base",
      "model_module_version": "2.0.0",
      "model_name": "LayoutModel",
      "state": {}
     },
     "d66d0d73b03749529ac6263a7e6167ad": {
      "model_module": "@jupyter-widgets/controls",
      "model_module_version": "2.0.0",
      "model_name": "HTMLStyleModel",
      "state": {
       "description_width": "",
       "font_size": null,
       "text_color": null
      }
     },
     "d6addbae0c724c8d9abe1868aa1576bb": {
      "model_module": "@jupyter-widgets/controls",
      "model_module_version": "2.0.0",
      "model_name": "HTMLModel",
      "state": {
       "layout": "IPY_MODEL_ac9a2938599c47939843409d8c6857d0",
       "style": "IPY_MODEL_6464cf00de6f40cda3d994dbfb9bf4fe",
       "value": " 135/135 [01:02&lt;00:00,  2.13it/s]"
      }
     },
     "d744b5945fc642cab34e60f157c831f6": {
      "model_module": "@jupyter-widgets/controls",
      "model_module_version": "2.0.0",
      "model_name": "HBoxModel",
      "state": {
       "children": [
        "IPY_MODEL_546a27d455f04f788d00e5f2d1eda043",
        "IPY_MODEL_b39e9b771b36448dbbba91a085284645",
        "IPY_MODEL_8bf498dc8b614afb8e090267e75945b4"
       ],
       "layout": "IPY_MODEL_b0665449b8c042eba3308e52d00c231e"
      }
     },
     "d74d8f8034ee4cf083b316b56633c59e": {
      "model_module": "@jupyter-widgets/controls",
      "model_module_version": "2.0.0",
      "model_name": "HTMLStyleModel",
      "state": {
       "description_width": "",
       "font_size": null,
       "text_color": null
      }
     },
     "d75149c2803d4288891461205308cd9c": {
      "model_module": "@jupyter-widgets/controls",
      "model_module_version": "2.0.0",
      "model_name": "HTMLModel",
      "state": {
       "layout": "IPY_MODEL_7f9504cbc6b04a6497464c54e175d237",
       "style": "IPY_MODEL_e31dd4810db74ecba304653d7be07444",
       "value": " 298/298 [02:19&lt;00:00,  2.18it/s]"
      }
     },
     "d78b2011f682402690adaf0901238e69": {
      "model_module": "@jupyter-widgets/base",
      "model_module_version": "2.0.0",
      "model_name": "LayoutModel",
      "state": {}
     },
     "d790ab0b89fd486fb3dc56bc391a581d": {
      "model_module": "@jupyter-widgets/controls",
      "model_module_version": "2.0.0",
      "model_name": "HTMLModel",
      "state": {
       "layout": "IPY_MODEL_8fe0c40306c94e5e892af34e25b36a28",
       "style": "IPY_MODEL_5bcd568000ad4f7091e7c40262b46066",
       "value": "100%"
      }
     },
     "d79314ab9d6840868fc99c261d2ab686": {
      "model_module": "@jupyter-widgets/base",
      "model_module_version": "2.0.0",
      "model_name": "LayoutModel",
      "state": {}
     },
     "d799f6649ad54662ba2d67172dc41030": {
      "model_module": "@jupyter-widgets/controls",
      "model_module_version": "2.0.0",
      "model_name": "HTMLModel",
      "state": {
       "layout": "IPY_MODEL_2bb2068b49934a4985b18c42589a2240",
       "style": "IPY_MODEL_c82a9bd67eb04fc3875aa6ada4a3ec9c",
       "value": " 264/264 [02:02&lt;00:00,  2.18it/s]"
      }
     },
     "d7bec2adafb046d58851c37b876e125f": {
      "model_module": "@jupyter-widgets/controls",
      "model_module_version": "2.0.0",
      "model_name": "HBoxModel",
      "state": {
       "children": [
        "IPY_MODEL_b8cebf65f1d4481c8adbda33e0bc88db",
        "IPY_MODEL_5a922dc76c6346fe83974bc8698ffbfa",
        "IPY_MODEL_2702b1037a9f446ea617935d97126037"
       ],
       "layout": "IPY_MODEL_6f427a89198a43dc952246030571d515"
      }
     },
     "d809d312e76a450993df2c1b756b3f6a": {
      "model_module": "@jupyter-widgets/controls",
      "model_module_version": "2.0.0",
      "model_name": "HTMLModel",
      "state": {
       "layout": "IPY_MODEL_97e9334a95ad4ce889d887bb324d38dc",
       "style": "IPY_MODEL_2eb73f4673c74e77813529a3c96f4255",
       "value": "100%"
      }
     },
     "d8485632f0414cf8be165d22bc70fad9": {
      "model_module": "@jupyter-widgets/controls",
      "model_module_version": "2.0.0",
      "model_name": "HTMLStyleModel",
      "state": {
       "description_width": "",
       "font_size": null,
       "text_color": null
      }
     },
     "d8565389753b4fd48d193ebed68d504d": {
      "model_module": "@jupyter-widgets/controls",
      "model_module_version": "2.0.0",
      "model_name": "HBoxModel",
      "state": {
       "children": [
        "IPY_MODEL_6077a5c9fd78448283ab706d3c38f61d",
        "IPY_MODEL_874ffe1f738f4cc18925db3fcdfcbef3",
        "IPY_MODEL_c04e3be7b1ef4065a1dc771114bec367"
       ],
       "layout": "IPY_MODEL_899629c82efe42e6b607a372f68ea6b7"
      }
     },
     "d8a4043dad56455a9193aa9cd0c1d7f1": {
      "model_module": "@jupyter-widgets/base",
      "model_module_version": "2.0.0",
      "model_name": "LayoutModel",
      "state": {}
     },
     "d8e20e0169c1424f9f7313a283da94e4": {
      "model_module": "@jupyter-widgets/base",
      "model_module_version": "2.0.0",
      "model_name": "LayoutModel",
      "state": {}
     },
     "d8f611caa33646ee8b8665df41477c48": {
      "model_module": "@jupyter-widgets/controls",
      "model_module_version": "2.0.0",
      "model_name": "FloatProgressModel",
      "state": {
       "bar_style": "success",
       "layout": "IPY_MODEL_a01f1a913e3b4facb92d15159658e278",
       "max": 247,
       "style": "IPY_MODEL_7b87ff6fb25845d7b7b1ee5c9372c3aa",
       "value": 247
      }
     },
     "d94bccf3c17846ac9f93f6bfca952af4": {
      "model_module": "@jupyter-widgets/controls",
      "model_module_version": "2.0.0",
      "model_name": "HBoxModel",
      "state": {
       "children": [
        "IPY_MODEL_9a031d94b5404a889a32dfb0c81f9a71",
        "IPY_MODEL_3211d9836eb44aee931ef868fde6a5fb",
        "IPY_MODEL_8dd547f0c12f4a8eb82a6fd0915f33fe"
       ],
       "layout": "IPY_MODEL_62e97ae24d2b47a2a588a6a706e518a9"
      }
     },
     "d968f77d96ca4076b392b639d05f0342": {
      "model_module": "@jupyter-widgets/controls",
      "model_module_version": "2.0.0",
      "model_name": "HTMLStyleModel",
      "state": {
       "description_width": "",
       "font_size": null,
       "text_color": null
      }
     },
     "d9859df5505a4df1b70de61c2d465fa2": {
      "model_module": "@jupyter-widgets/controls",
      "model_module_version": "2.0.0",
      "model_name": "HTMLStyleModel",
      "state": {
       "description_width": "",
       "font_size": null,
       "text_color": null
      }
     },
     "da56242ee57d49448cfc352628b76fde": {
      "model_module": "@jupyter-widgets/controls",
      "model_module_version": "2.0.0",
      "model_name": "ProgressStyleModel",
      "state": {
       "description_width": ""
      }
     },
     "da6662fb6f4941d8883588e12384cf60": {
      "model_module": "@jupyter-widgets/base",
      "model_module_version": "2.0.0",
      "model_name": "LayoutModel",
      "state": {}
     },
     "dab57ef0ee8749339650b634c540e967": {
      "model_module": "@jupyter-widgets/controls",
      "model_module_version": "2.0.0",
      "model_name": "HTMLModel",
      "state": {
       "layout": "IPY_MODEL_db0c225ef73a4af3bea71a7442d85829",
       "style": "IPY_MODEL_41fb269e8c4a40769f13e94b1c60ca83",
       "value": "100%"
      }
     },
     "dabfcf0ee83a4212839b0566272ee897": {
      "model_module": "@jupyter-widgets/controls",
      "model_module_version": "2.0.0",
      "model_name": "HBoxModel",
      "state": {
       "children": [
        "IPY_MODEL_1e1b2b519a7341b89140418aebbeac37",
        "IPY_MODEL_e0fed77da006456a889536705efda37b",
        "IPY_MODEL_e16abc3819584b5e9eccd8749be93552"
       ],
       "layout": "IPY_MODEL_184fd3196dd74ecea324dcf414d268f9"
      }
     },
     "daef188735be4383a2f384e1d8c349a9": {
      "model_module": "@jupyter-widgets/base",
      "model_module_version": "2.0.0",
      "model_name": "LayoutModel",
      "state": {}
     },
     "daf03505c6c54c579358f65b781561fd": {
      "model_module": "@jupyter-widgets/controls",
      "model_module_version": "2.0.0",
      "model_name": "HTMLStyleModel",
      "state": {
       "description_width": "",
       "font_size": null,
       "text_color": null
      }
     },
     "daf7e9f9f65d465fad121095f91e3144": {
      "model_module": "@jupyter-widgets/base",
      "model_module_version": "2.0.0",
      "model_name": "LayoutModel",
      "state": {}
     },
     "db0c225ef73a4af3bea71a7442d85829": {
      "model_module": "@jupyter-widgets/base",
      "model_module_version": "2.0.0",
      "model_name": "LayoutModel",
      "state": {}
     },
     "db2e1007a46c45c283e581220a60ca8f": {
      "model_module": "@jupyter-widgets/controls",
      "model_module_version": "2.0.0",
      "model_name": "ProgressStyleModel",
      "state": {
       "description_width": ""
      }
     },
     "db37ce5dda0145a08449f59acd8bd795": {
      "model_module": "@jupyter-widgets/controls",
      "model_module_version": "2.0.0",
      "model_name": "FloatProgressModel",
      "state": {
       "bar_style": "success",
       "layout": "IPY_MODEL_e444d12987a64afeab496eabb3cce280",
       "max": 186,
       "style": "IPY_MODEL_c0004a17b36942169f33fca580d3d8f6",
       "value": 186
      }
     },
     "db3b0602c32345829f6debd2ce0cc915": {
      "model_module": "@jupyter-widgets/base",
      "model_module_version": "2.0.0",
      "model_name": "LayoutModel",
      "state": {}
     },
     "dbbf49f835e545098e08faa2fa8499de": {
      "model_module": "@jupyter-widgets/controls",
      "model_module_version": "2.0.0",
      "model_name": "HBoxModel",
      "state": {
       "children": [
        "IPY_MODEL_6b56904deeb445b9a6595f4d43d51ec4",
        "IPY_MODEL_4051449bebf6424196e7ecd36ea00d16",
        "IPY_MODEL_d799f6649ad54662ba2d67172dc41030"
       ],
       "layout": "IPY_MODEL_c622f11d71c54789bf08e36d436c6c92"
      }
     },
     "dc13226224e045f18adf3fa893456292": {
      "model_module": "@jupyter-widgets/controls",
      "model_module_version": "2.0.0",
      "model_name": "ProgressStyleModel",
      "state": {
       "description_width": ""
      }
     },
     "dc69d6a1e5b04d8d8766bd6a78071fe3": {
      "model_module": "@jupyter-widgets/base",
      "model_module_version": "2.0.0",
      "model_name": "LayoutModel",
      "state": {}
     },
     "dc8ba3c7157748d2805a7deb6b3f8719": {
      "model_module": "@jupyter-widgets/base",
      "model_module_version": "2.0.0",
      "model_name": "LayoutModel",
      "state": {}
     },
     "dc8bd446a2e1458f94026f6b60e23956": {
      "model_module": "@jupyter-widgets/controls",
      "model_module_version": "2.0.0",
      "model_name": "HBoxModel",
      "state": {
       "children": [
        "IPY_MODEL_ced189eea0db4dafb1e59b88d0e23a73",
        "IPY_MODEL_2789736a62794b71a75daf7240543acc",
        "IPY_MODEL_536ae03ff85a46dead5b0e967df3cfe6"
       ],
       "layout": "IPY_MODEL_ee20ba91b75d4ac596821ab4b5720ca9"
      }
     },
     "dd103259e5954b3a93f96d26e2790e30": {
      "model_module": "@jupyter-widgets/base",
      "model_module_version": "2.0.0",
      "model_name": "LayoutModel",
      "state": {}
     },
     "dd5f82698ef242bea64c3cfd5019d8c5": {
      "model_module": "@jupyter-widgets/base",
      "model_module_version": "2.0.0",
      "model_name": "LayoutModel",
      "state": {}
     },
     "dd6f34f3ecc749dd93768a284aa52ab6": {
      "model_module": "@jupyter-widgets/base",
      "model_module_version": "2.0.0",
      "model_name": "LayoutModel",
      "state": {}
     },
     "ddc5112f0c244d6e9d83025244f738e8": {
      "model_module": "@jupyter-widgets/controls",
      "model_module_version": "2.0.0",
      "model_name": "HTMLModel",
      "state": {
       "layout": "IPY_MODEL_2bb740bb1b6840acaae74218ebae2b0c",
       "style": "IPY_MODEL_31c7252d75474bc489ee7e2492bcff87",
       "value": " 490/490 [1:06:55&lt;00:00,  8.28s/it]"
      }
     },
     "ddf37178b6464db388d6cfac5d4f193e": {
      "model_module": "@jupyter-widgets/controls",
      "model_module_version": "2.0.0",
      "model_name": "HTMLStyleModel",
      "state": {
       "description_width": "",
       "font_size": null,
       "text_color": null
      }
     },
     "de6d23a60fa74719ace2011161f721e7": {
      "model_module": "@jupyter-widgets/controls",
      "model_module_version": "2.0.0",
      "model_name": "ProgressStyleModel",
      "state": {
       "description_width": ""
      }
     },
     "de835c009e1d4bfaa80f49bef7961f75": {
      "model_module": "@jupyter-widgets/controls",
      "model_module_version": "2.0.0",
      "model_name": "HTMLStyleModel",
      "state": {
       "description_width": "",
       "font_size": null,
       "text_color": null
      }
     },
     "de89f953d78c4058b3e82b3033e82cfa": {
      "model_module": "@jupyter-widgets/controls",
      "model_module_version": "2.0.0",
      "model_name": "ProgressStyleModel",
      "state": {
       "description_width": ""
      }
     },
     "deb4dd25044245fd983b8a754a2ef2a2": {
      "model_module": "@jupyter-widgets/base",
      "model_module_version": "2.0.0",
      "model_name": "LayoutModel",
      "state": {}
     },
     "df3525c19b604ddf8d1b73c93c1e17ce": {
      "model_module": "@jupyter-widgets/controls",
      "model_module_version": "2.0.0",
      "model_name": "HTMLModel",
      "state": {
       "layout": "IPY_MODEL_7e474b0cd5bd4fb7b1d737a068d0e959",
       "style": "IPY_MODEL_4d12dfa4bfcd42a7a239461c456d7961",
       "value": "100%"
      }
     },
     "df4228f9052a4f86adbf0245bc050d85": {
      "model_module": "@jupyter-widgets/controls",
      "model_module_version": "2.0.0",
      "model_name": "HTMLModel",
      "state": {
       "layout": "IPY_MODEL_e1084a6e31d74bc4bfe568411fe77845",
       "style": "IPY_MODEL_36e1b5bca12542919c685395cb259683",
       "value": "100%"
      }
     },
     "dfa1dee168ab453d8b03a8bacdfa333e": {
      "model_module": "@jupyter-widgets/controls",
      "model_module_version": "2.0.0",
      "model_name": "HTMLStyleModel",
      "state": {
       "description_width": "",
       "font_size": null,
       "text_color": null
      }
     },
     "dfd1db888b5246189dece48a01b26383": {
      "model_module": "@jupyter-widgets/controls",
      "model_module_version": "2.0.0",
      "model_name": "ProgressStyleModel",
      "state": {
       "description_width": ""
      }
     },
     "e00c3667368743e9a0d46bfc863eeda3": {
      "model_module": "@jupyter-widgets/controls",
      "model_module_version": "2.0.0",
      "model_name": "HBoxModel",
      "state": {
       "children": [
        "IPY_MODEL_97937c8a5ad849e98b3c64dd5bec1583",
        "IPY_MODEL_c46a7f6077f541eab149ec464ffaf99e",
        "IPY_MODEL_a2a9525b232246ac820faed583abbab8"
       ],
       "layout": "IPY_MODEL_588563c4b505470cb0b7f73687810b2d"
      }
     },
     "e0155560aeb84bb7b939ea1433f1e400": {
      "model_module": "@jupyter-widgets/controls",
      "model_module_version": "2.0.0",
      "model_name": "HTMLModel",
      "state": {
       "layout": "IPY_MODEL_2aaa3a1fd7f6448cb02eba5e2b923694",
       "style": "IPY_MODEL_7b594898000c468080291092be0e601c",
       "value": " 242/242 [01:50&lt;00:00,  2.23it/s]"
      }
     },
     "e06bbf25d76d45d4b0666287a2aec6c8": {
      "model_module": "@jupyter-widgets/controls",
      "model_module_version": "2.0.0",
      "model_name": "HTMLModel",
      "state": {
       "layout": "IPY_MODEL_4d683c6fc503414fbf813c449258b8e8",
       "style": "IPY_MODEL_447dcd863247424686c6ba1e47638f76",
       "value": "100%"
      }
     },
     "e06d14950beb452c9469262301495869": {
      "model_module": "@jupyter-widgets/controls",
      "model_module_version": "2.0.0",
      "model_name": "HTMLStyleModel",
      "state": {
       "description_width": "",
       "font_size": null,
       "text_color": null
      }
     },
     "e09d5fabf28a43c287b0262b08d00d5a": {
      "model_module": "@jupyter-widgets/base",
      "model_module_version": "2.0.0",
      "model_name": "LayoutModel",
      "state": {}
     },
     "e0e7202137fe4518ba8c4d5b375ee818": {
      "model_module": "@jupyter-widgets/controls",
      "model_module_version": "2.0.0",
      "model_name": "HBoxModel",
      "state": {
       "children": [
        "IPY_MODEL_6beb38d92b9a4ae0870aa198405660f6",
        "IPY_MODEL_4112827d2acf4954a1c984207dfb9111",
        "IPY_MODEL_f5be7c2f130641ce8dd5e81945434756"
       ],
       "layout": "IPY_MODEL_1e109ba8749f41a2bf2814dab2ac6703"
      }
     },
     "e0fed77da006456a889536705efda37b": {
      "model_module": "@jupyter-widgets/controls",
      "model_module_version": "2.0.0",
      "model_name": "FloatProgressModel",
      "state": {
       "bar_style": "success",
       "layout": "IPY_MODEL_450141f052cf4f19a7cf617781656361",
       "max": 158,
       "style": "IPY_MODEL_fcb0c35ff0b54c448b67cd872f56c9b0",
       "value": 158
      }
     },
     "e10767776a9c43b0b5394f4a6ce5c5bc": {
      "model_module": "@jupyter-widgets/controls",
      "model_module_version": "2.0.0",
      "model_name": "FloatProgressModel",
      "state": {
       "bar_style": "success",
       "layout": "IPY_MODEL_8bf9817868fa406e87f0a36acae87e05",
       "max": 378,
       "style": "IPY_MODEL_62390ecd946745478f4a534ab9aa13b3",
       "value": 378
      }
     },
     "e1084a6e31d74bc4bfe568411fe77845": {
      "model_module": "@jupyter-widgets/base",
      "model_module_version": "2.0.0",
      "model_name": "LayoutModel",
      "state": {}
     },
     "e16abc3819584b5e9eccd8749be93552": {
      "model_module": "@jupyter-widgets/controls",
      "model_module_version": "2.0.0",
      "model_name": "HTMLModel",
      "state": {
       "layout": "IPY_MODEL_87d7a91671dd4235bf3d64eccd9c8038",
       "style": "IPY_MODEL_d8485632f0414cf8be165d22bc70fad9",
       "value": " 158/158 [01:31&lt;00:00,  2.06it/s]"
      }
     },
     "e1a6864a55dd4b34b52d2895662bd558": {
      "model_module": "@jupyter-widgets/base",
      "model_module_version": "2.0.0",
      "model_name": "LayoutModel",
      "state": {}
     },
     "e1ec2ac426684296864d7fc831e59298": {
      "model_module": "@jupyter-widgets/base",
      "model_module_version": "2.0.0",
      "model_name": "LayoutModel",
      "state": {}
     },
     "e1ed454e0007406db5aa914eec80b51e": {
      "model_module": "@jupyter-widgets/base",
      "model_module_version": "2.0.0",
      "model_name": "LayoutModel",
      "state": {}
     },
     "e23bcc1b7a064788bf3b9465083e630c": {
      "model_module": "@jupyter-widgets/base",
      "model_module_version": "2.0.0",
      "model_name": "LayoutModel",
      "state": {}
     },
     "e2abc30cd2c04f1485e10c661ddb77c2": {
      "model_module": "@jupyter-widgets/controls",
      "model_module_version": "2.0.0",
      "model_name": "HTMLStyleModel",
      "state": {
       "description_width": "",
       "font_size": null,
       "text_color": null
      }
     },
     "e3147ee4b1e446f29874a4ddc2c6deed": {
      "model_module": "@jupyter-widgets/controls",
      "model_module_version": "2.0.0",
      "model_name": "FloatProgressModel",
      "state": {
       "bar_style": "success",
       "layout": "IPY_MODEL_8780aaf76de44421bc9665e2fafed944",
       "max": 140,
       "style": "IPY_MODEL_8d0a1fe807b34be1b85fe2d496f8ddf6",
       "value": 140
      }
     },
     "e31dd4810db74ecba304653d7be07444": {
      "model_module": "@jupyter-widgets/controls",
      "model_module_version": "2.0.0",
      "model_name": "HTMLStyleModel",
      "state": {
       "description_width": "",
       "font_size": null,
       "text_color": null
      }
     },
     "e36bfc11952f4ea583f78393315fbf1a": {
      "model_module": "@jupyter-widgets/base",
      "model_module_version": "2.0.0",
      "model_name": "LayoutModel",
      "state": {}
     },
     "e36ee53312ec4ed9ba09f2876be0d77c": {
      "model_module": "@jupyter-widgets/controls",
      "model_module_version": "2.0.0",
      "model_name": "HTMLModel",
      "state": {
       "layout": "IPY_MODEL_ea390c70e6d5459bbe71e535b8ca85a5",
       "style": "IPY_MODEL_432d5efb171f4ca3a412a54e142225ef",
       "value": " 452/452 [03:32&lt;00:00,  2.16it/s]"
      }
     },
     "e39886bd72c64d31adcb146dd50388ed": {
      "model_module": "@jupyter-widgets/controls",
      "model_module_version": "2.0.0",
      "model_name": "HTMLModel",
      "state": {
       "layout": "IPY_MODEL_adce834df31346d6a6d2c8c6cd7366b1",
       "style": "IPY_MODEL_8dd8b16c5d53451fb9dbe40a5d6786ae",
       "value": " 380/380 [02:56&lt;00:00,  2.19it/s]"
      }
     },
     "e3c8dc3204a949159903fbc2ccacab62": {
      "model_module": "@jupyter-widgets/controls",
      "model_module_version": "2.0.0",
      "model_name": "HTMLStyleModel",
      "state": {
       "description_width": "",
       "font_size": null,
       "text_color": null
      }
     },
     "e43800dbc835498bbfa47fa6df475675": {
      "model_module": "@jupyter-widgets/controls",
      "model_module_version": "2.0.0",
      "model_name": "HBoxModel",
      "state": {
       "children": [
        "IPY_MODEL_c404f8066c1046df9c1258f46ad20752",
        "IPY_MODEL_82eff7b80c544bfda9f790c0e1d22de3",
        "IPY_MODEL_c1591967b0bd4f3db54d74187481fb69"
       ],
       "layout": "IPY_MODEL_8e37d29ddd014c0f949ddd9c36633daf"
      }
     },
     "e444d12987a64afeab496eabb3cce280": {
      "model_module": "@jupyter-widgets/base",
      "model_module_version": "2.0.0",
      "model_name": "LayoutModel",
      "state": {}
     },
     "e46778f0395846c8b79adbf7852bf739": {
      "model_module": "@jupyter-widgets/controls",
      "model_module_version": "2.0.0",
      "model_name": "HTMLModel",
      "state": {
       "layout": "IPY_MODEL_1ee2cb395f384484bf857628329fba35",
       "style": "IPY_MODEL_fd1056944486486eb19b3497272fab1e",
       "value": " 162/162 [01:14&lt;00:00,  2.12it/s]"
      }
     },
     "e50950af137c4997bb1e0c887c5b7a7b": {
      "model_module": "@jupyter-widgets/controls",
      "model_module_version": "2.0.0",
      "model_name": "ProgressStyleModel",
      "state": {
       "description_width": ""
      }
     },
     "e525d703f8f84865b01f314cf08682c5": {
      "model_module": "@jupyter-widgets/controls",
      "model_module_version": "2.0.0",
      "model_name": "HTMLStyleModel",
      "state": {
       "description_width": "",
       "font_size": null,
       "text_color": null
      }
     },
     "e55c184882b049e7a89b13f453119c67": {
      "model_module": "@jupyter-widgets/base",
      "model_module_version": "2.0.0",
      "model_name": "LayoutModel",
      "state": {}
     },
     "e564fb8b2f514aaf8045f181278917a5": {
      "model_module": "@jupyter-widgets/controls",
      "model_module_version": "2.0.0",
      "model_name": "HTMLStyleModel",
      "state": {
       "description_width": "",
       "font_size": null,
       "text_color": null
      }
     },
     "e5782d6c18b642d5b0fdb0c731c6a8d9": {
      "model_module": "@jupyter-widgets/controls",
      "model_module_version": "2.0.0",
      "model_name": "HTMLModel",
      "state": {
       "layout": "IPY_MODEL_05204d51511e4abf8245ec0f93001c60",
       "style": "IPY_MODEL_afcb476aea0240f385da502c9a88cecc",
       "value": "100%"
      }
     },
     "e5d16d3aa5f14b92ac486952eacd1466": {
      "model_module": "@jupyter-widgets/controls",
      "model_module_version": "2.0.0",
      "model_name": "HTMLStyleModel",
      "state": {
       "description_width": "",
       "font_size": null,
       "text_color": null
      }
     },
     "e5e6b877f44e4754b0e5353513644ff0": {
      "model_module": "@jupyter-widgets/controls",
      "model_module_version": "2.0.0",
      "model_name": "HBoxModel",
      "state": {
       "children": [
        "IPY_MODEL_2bc477166184423db9b579234e15fa30",
        "IPY_MODEL_8aafd6193cd2462e832859e9d4b979d9",
        "IPY_MODEL_cfc8e2846b7440f3a9462f436989e9a7"
       ],
       "layout": "IPY_MODEL_95752f6841504cbba6dc039b91231d5d"
      }
     },
     "e62b3b3d7caa419ca92e165c14cbcaef": {
      "model_module": "@jupyter-widgets/controls",
      "model_module_version": "2.0.0",
      "model_name": "ProgressStyleModel",
      "state": {
       "description_width": ""
      }
     },
     "e67abf9711bf4e49ae35ecefbbaba53e": {
      "model_module": "@jupyter-widgets/base",
      "model_module_version": "2.0.0",
      "model_name": "LayoutModel",
      "state": {}
     },
     "e68a721a2aeb4a58ab5fda09a9d6850f": {
      "model_module": "@jupyter-widgets/base",
      "model_module_version": "2.0.0",
      "model_name": "LayoutModel",
      "state": {}
     },
     "e71e6dccab694718bfc19ef271333e51": {
      "model_module": "@jupyter-widgets/base",
      "model_module_version": "2.0.0",
      "model_name": "LayoutModel",
      "state": {}
     },
     "e729580757c64419ab54f57d8f7ba59d": {
      "model_module": "@jupyter-widgets/controls",
      "model_module_version": "2.0.0",
      "model_name": "HTMLStyleModel",
      "state": {
       "description_width": "",
       "font_size": null,
       "text_color": null
      }
     },
     "e73c843b375844e884d49b28b0cc5034": {
      "model_module": "@jupyter-widgets/base",
      "model_module_version": "2.0.0",
      "model_name": "LayoutModel",
      "state": {}
     },
     "e82cc8e59d5645ca9948f41a0bc68c94": {
      "model_module": "@jupyter-widgets/base",
      "model_module_version": "2.0.0",
      "model_name": "LayoutModel",
      "state": {}
     },
     "e83b48c3b35b443391f956e01bf8c627": {
      "model_module": "@jupyter-widgets/controls",
      "model_module_version": "2.0.0",
      "model_name": "FloatProgressModel",
      "state": {
       "bar_style": "success",
       "layout": "IPY_MODEL_77ba7b896312414caef6055241f16859",
       "max": 242,
       "style": "IPY_MODEL_f4f184f6d8f54c438fabad9092dd624a",
       "value": 242
      }
     },
     "e9a3c276dc5f45108cf3dd93370d2218": {
      "model_module": "@jupyter-widgets/base",
      "model_module_version": "2.0.0",
      "model_name": "LayoutModel",
      "state": {}
     },
     "e9b33be41f1e4baf960b162355c5735e": {
      "model_module": "@jupyter-widgets/controls",
      "model_module_version": "2.0.0",
      "model_name": "ProgressStyleModel",
      "state": {
       "description_width": ""
      }
     },
     "e9b700fd223d423bba6f5de7f9e40d0d": {
      "model_module": "@jupyter-widgets/controls",
      "model_module_version": "2.0.0",
      "model_name": "HTMLModel",
      "state": {
       "layout": "IPY_MODEL_04dae7d0ddfb4b3f9c74373d64581225",
       "style": "IPY_MODEL_c3901356e8e94c869cf0c36e7c684a29",
       "value": "100%"
      }
     },
     "ea390c70e6d5459bbe71e535b8ca85a5": {
      "model_module": "@jupyter-widgets/base",
      "model_module_version": "2.0.0",
      "model_name": "LayoutModel",
      "state": {}
     },
     "ea6682ef0a9446929dbc60bd144a51d6": {
      "model_module": "@jupyter-widgets/controls",
      "model_module_version": "2.0.0",
      "model_name": "HTMLStyleModel",
      "state": {
       "description_width": "",
       "font_size": null,
       "text_color": null
      }
     },
     "eaa70b3e93aa495d9afe1f3605499d5c": {
      "model_module": "@jupyter-widgets/controls",
      "model_module_version": "2.0.0",
      "model_name": "HTMLStyleModel",
      "state": {
       "description_width": "",
       "font_size": null,
       "text_color": null
      }
     },
     "eb131a56e57b418eb5840118b770b0a8": {
      "model_module": "@jupyter-widgets/controls",
      "model_module_version": "2.0.0",
      "model_name": "HTMLModel",
      "state": {
       "layout": "IPY_MODEL_ba9af2891cd6490c9b08f4a39ddc6a2f",
       "style": "IPY_MODEL_bcae8bed044540d0aa51514d555a7a42",
       "value": "100%"
      }
     },
     "eb543c0c812b4954a330b982d9faae33": {
      "model_module": "@jupyter-widgets/base",
      "model_module_version": "2.0.0",
      "model_name": "LayoutModel",
      "state": {}
     },
     "eb5858097c7b4583b852a840cae67379": {
      "model_module": "@jupyter-widgets/base",
      "model_module_version": "2.0.0",
      "model_name": "LayoutModel",
      "state": {}
     },
     "ebb96536d8214c669713fceccbe05ca7": {
      "model_module": "@jupyter-widgets/controls",
      "model_module_version": "2.0.0",
      "model_name": "ProgressStyleModel",
      "state": {
       "description_width": ""
      }
     },
     "ebc4c7f7144d4b37a98b63fa58f182ab": {
      "model_module": "@jupyter-widgets/base",
      "model_module_version": "2.0.0",
      "model_name": "LayoutModel",
      "state": {}
     },
     "ebd2329b505c414381ae5072791a7a14": {
      "model_module": "@jupyter-widgets/controls",
      "model_module_version": "2.0.0",
      "model_name": "FloatProgressModel",
      "state": {
       "bar_style": "success",
       "layout": "IPY_MODEL_f8428235b45e4dc2b4f0f4d2d3221960",
       "max": 185,
       "style": "IPY_MODEL_3de73fe9b95744a98c7928ab387fb440",
       "value": 185
      }
     },
     "ebe42be64bbd4b2982b9b85d0959576d": {
      "model_module": "@jupyter-widgets/controls",
      "model_module_version": "2.0.0",
      "model_name": "HTMLModel",
      "state": {
       "layout": "IPY_MODEL_fbb6cf357de24486b2d840f362bf9d83",
       "style": "IPY_MODEL_b9d9dc0ceae24d2e90ac94866e397ccf",
       "value": "100%"
      }
     },
     "ec07cf5e3dfa4371959011ac9398cad2": {
      "model_module": "@jupyter-widgets/base",
      "model_module_version": "2.0.0",
      "model_name": "LayoutModel",
      "state": {}
     },
     "ec4d1300c8134dacbb058c257af7a9c9": {
      "model_module": "@jupyter-widgets/controls",
      "model_module_version": "2.0.0",
      "model_name": "HTMLModel",
      "state": {
       "layout": "IPY_MODEL_bd7dc4da28714a33bb884c68f249fba3",
       "style": "IPY_MODEL_76011014a08845bd9d72a8248de25664",
       "value": "100%"
      }
     },
     "ecb83334a68d4856bc83e84627dbce42": {
      "model_module": "@jupyter-widgets/base",
      "model_module_version": "2.0.0",
      "model_name": "LayoutModel",
      "state": {}
     },
     "edeec49757714c549485cfece0641296": {
      "model_module": "@jupyter-widgets/controls",
      "model_module_version": "2.0.0",
      "model_name": "HTMLModel",
      "state": {
       "layout": "IPY_MODEL_30a51b97061f4939ac512da460eb8734",
       "style": "IPY_MODEL_5a45dbe58bd446d5af14f1169b493511",
       "value": " 247/247 [01:51&lt;00:00,  2.25it/s]"
      }
     },
     "ee20ba91b75d4ac596821ab4b5720ca9": {
      "model_module": "@jupyter-widgets/base",
      "model_module_version": "2.0.0",
      "model_name": "LayoutModel",
      "state": {}
     },
     "ee5954ac3f2341e9b114858a0fcfff45": {
      "model_module": "@jupyter-widgets/controls",
      "model_module_version": "2.0.0",
      "model_name": "FloatProgressModel",
      "state": {
       "bar_style": "success",
       "layout": "IPY_MODEL_fdac155e80bd43919b5857502b62199a",
       "max": 274,
       "style": "IPY_MODEL_bb1849a2d03347079d6bf43ae957a585",
       "value": 274
      }
     },
     "ee74b11460a4420a9ab32338afd5829a": {
      "model_module": "@jupyter-widgets/controls",
      "model_module_version": "2.0.0",
      "model_name": "HTMLStyleModel",
      "state": {
       "description_width": "",
       "font_size": null,
       "text_color": null
      }
     },
     "eeded15b647440f6979b01e6dfffde41": {
      "model_module": "@jupyter-widgets/controls",
      "model_module_version": "2.0.0",
      "model_name": "ProgressStyleModel",
      "state": {
       "description_width": ""
      }
     },
     "eee12767ef83422494989369cf361e97": {
      "model_module": "@jupyter-widgets/controls",
      "model_module_version": "2.0.0",
      "model_name": "HTMLModel",
      "state": {
       "layout": "IPY_MODEL_248eb58f70ba4d51b8fc99ec2e5b98f1",
       "style": "IPY_MODEL_53c966b920c34cdcad1fe187831093c5",
       "value": " 162/162 [01:15&lt;00:00,  2.03it/s]"
      }
     },
     "ef02e0cc93c14ef582e29b2f24c8e799": {
      "model_module": "@jupyter-widgets/base",
      "model_module_version": "2.0.0",
      "model_name": "LayoutModel",
      "state": {}
     },
     "ef0859ba910e4533ad79c63d50907b0a": {
      "model_module": "@jupyter-widgets/controls",
      "model_module_version": "2.0.0",
      "model_name": "HTMLModel",
      "state": {
       "layout": "IPY_MODEL_7716de59c2c547439bdea33a57b1075a",
       "style": "IPY_MODEL_a887c6f2bc464da698532752f19846c1",
       "value": " 462/462 [03:34&lt;00:00,  2.24it/s]"
      }
     },
     "ef348bbbcc55456ebf1ebfe197810745": {
      "model_module": "@jupyter-widgets/controls",
      "model_module_version": "2.0.0",
      "model_name": "HTMLModel",
      "state": {
       "layout": "IPY_MODEL_018d3831c3ae4cb8893708389e39c78a",
       "style": "IPY_MODEL_2596ccfc82904c96aed233ef2551b185",
       "value": "100%"
      }
     },
     "ef3d1a3cb51f47d48ed7d7a056169d9f": {
      "model_module": "@jupyter-widgets/base",
      "model_module_version": "2.0.0",
      "model_name": "LayoutModel",
      "state": {}
     },
     "ef4b7848b42b443e924b2b084b283589": {
      "model_module": "@jupyter-widgets/controls",
      "model_module_version": "2.0.0",
      "model_name": "FloatProgressModel",
      "state": {
       "bar_style": "success",
       "layout": "IPY_MODEL_c20d86f8d3c3462bb1cf2fe49b54b045",
       "max": 462,
       "style": "IPY_MODEL_a27d2121829a4a889e7f19bf832d31de",
       "value": 462
      }
     },
     "ef6d85cc6a6a4afca2bfa1c4fa232dda": {
      "model_module": "@jupyter-widgets/controls",
      "model_module_version": "2.0.0",
      "model_name": "HTMLStyleModel",
      "state": {
       "description_width": "",
       "font_size": null,
       "text_color": null
      }
     },
     "ef71651edd874faa91676fdb5a408fbc": {
      "model_module": "@jupyter-widgets/controls",
      "model_module_version": "2.0.0",
      "model_name": "HBoxModel",
      "state": {
       "children": [
        "IPY_MODEL_989d0224a3674851b88775c64c619fe3",
        "IPY_MODEL_76b0e1e3df54492fb182f531bdb8b464",
        "IPY_MODEL_d43dd247aea64b4fb8e1bdb449231849"
       ],
       "layout": "IPY_MODEL_f3fb27082d9d472482cd50c1c024c2b6"
      }
     },
     "efc65d3d049c46179133ff9a6dc1f1d3": {
      "model_module": "@jupyter-widgets/controls",
      "model_module_version": "2.0.0",
      "model_name": "FloatProgressModel",
      "state": {
       "bar_style": "success",
       "layout": "IPY_MODEL_035d6792d2f2402f8b4620460d3e0149",
       "max": 452,
       "style": "IPY_MODEL_b111cf01251e4155b452ec78ec24cef7",
       "value": 452
      }
     },
     "f04cb7a016934bae852c4223b2b0dc37": {
      "model_module": "@jupyter-widgets/base",
      "model_module_version": "2.0.0",
      "model_name": "LayoutModel",
      "state": {}
     },
     "f052410eca4d446f824931d7f1e5634c": {
      "model_module": "@jupyter-widgets/base",
      "model_module_version": "2.0.0",
      "model_name": "LayoutModel",
      "state": {}
     },
     "f06e6c1b24df40a1a4a24edb53277a3b": {
      "model_module": "@jupyter-widgets/base",
      "model_module_version": "2.0.0",
      "model_name": "LayoutModel",
      "state": {}
     },
     "f0c8101f20af4ea8862614a4dfd7e247": {
      "model_module": "@jupyter-widgets/base",
      "model_module_version": "2.0.0",
      "model_name": "LayoutModel",
      "state": {}
     },
     "f0df9e630874449294d0fef5994fa750": {
      "model_module": "@jupyter-widgets/controls",
      "model_module_version": "2.0.0",
      "model_name": "FloatProgressModel",
      "state": {
       "bar_style": "success",
       "layout": "IPY_MODEL_831cfe7012ef4f6fb01a3bc8df46685c",
       "max": 164,
       "style": "IPY_MODEL_2c09854779e84bee92be08e7de2dc92a",
       "value": 164
      }
     },
     "f0f334b995c9498ea0cf60d86529917d": {
      "model_module": "@jupyter-widgets/base",
      "model_module_version": "2.0.0",
      "model_name": "LayoutModel",
      "state": {}
     },
     "f107b6b5db65445abba2e512525ab57a": {
      "model_module": "@jupyter-widgets/controls",
      "model_module_version": "2.0.0",
      "model_name": "HTMLModel",
      "state": {
       "layout": "IPY_MODEL_7ed65c01be54492e899630d8fa019d24",
       "style": "IPY_MODEL_3f339e4dfa29408cb8d56085225b29ce",
       "value": " 242/242 [32:58&lt;00:00,  8.17s/it]"
      }
     },
     "f15b2e153e874d718b241461c7132a79": {
      "model_module": "@jupyter-widgets/base",
      "model_module_version": "2.0.0",
      "model_name": "LayoutModel",
      "state": {}
     },
     "f1b501d0577b4b27a7e896aa9faf5535": {
      "model_module": "@jupyter-widgets/base",
      "model_module_version": "2.0.0",
      "model_name": "LayoutModel",
      "state": {}
     },
     "f1b9048d67ae4fed81240f8e2fe4cf8b": {
      "model_module": "@jupyter-widgets/base",
      "model_module_version": "2.0.0",
      "model_name": "LayoutModel",
      "state": {}
     },
     "f1f29c5743674cf88222496de01cf168": {
      "model_module": "@jupyter-widgets/controls",
      "model_module_version": "2.0.0",
      "model_name": "HTMLStyleModel",
      "state": {
       "description_width": "",
       "font_size": null,
       "text_color": null
      }
     },
     "f1f97061d0c1458c88b060a16f070592": {
      "model_module": "@jupyter-widgets/controls",
      "model_module_version": "2.0.0",
      "model_name": "HTMLModel",
      "state": {
       "layout": "IPY_MODEL_42aca915f8a1447cafe2e26dda1dca36",
       "style": "IPY_MODEL_bd89795834114feb99a8dffc369047ee",
       "value": "100%"
      }
     },
     "f1fdc8bf68284de08bde50001e7864da": {
      "model_module": "@jupyter-widgets/base",
      "model_module_version": "2.0.0",
      "model_name": "LayoutModel",
      "state": {}
     },
     "f2059e7e35f4480e8cc37bee7b36011c": {
      "model_module": "@jupyter-widgets/controls",
      "model_module_version": "2.0.0",
      "model_name": "HTMLModel",
      "state": {
       "layout": "IPY_MODEL_b242c5256bb642cc96e5d7b68666bbb7",
       "style": "IPY_MODEL_56c3f6e06f0c46e99790f529e4ed64dd",
       "value": "100%"
      }
     },
     "f283702543fc4a2389c6c235aaae5fee": {
      "model_module": "@jupyter-widgets/controls",
      "model_module_version": "2.0.0",
      "model_name": "HTMLStyleModel",
      "state": {
       "description_width": "",
       "font_size": null,
       "text_color": null
      }
     },
     "f28d5fd9eeef4de68d6785ad47689572": {
      "model_module": "@jupyter-widgets/controls",
      "model_module_version": "2.0.0",
      "model_name": "HBoxModel",
      "state": {
       "children": [
        "IPY_MODEL_c99921cea6344407814ddb760b19a5d8",
        "IPY_MODEL_db37ce5dda0145a08449f59acd8bd795",
        "IPY_MODEL_590d0dfaa8304ef4a9a5a68c8f56e003"
       ],
       "layout": "IPY_MODEL_d2c6847a33884795af57004bd81eb12c"
      }
     },
     "f2cd78d698054a2584f692472b788939": {
      "model_module": "@jupyter-widgets/controls",
      "model_module_version": "2.0.0",
      "model_name": "HTMLModel",
      "state": {
       "layout": "IPY_MODEL_3367e90a3f9c4564baf1a58207381f3a",
       "style": "IPY_MODEL_80a25ccc17b0445b959a2105be8c58ad",
       "value": "100%"
      }
     },
     "f2ef5d92173f48b3801b222103911ed6": {
      "model_module": "@jupyter-widgets/controls",
      "model_module_version": "2.0.0",
      "model_name": "HTMLModel",
      "state": {
       "layout": "IPY_MODEL_9ca644924aae4447b94cd706b9cdebb5",
       "style": "IPY_MODEL_45d63146b59243b7a674066ac9a49c73",
       "value": "100%"
      }
     },
     "f340bfda7b904661925a7ba8ccc87af6": {
      "model_module": "@jupyter-widgets/controls",
      "model_module_version": "2.0.0",
      "model_name": "ProgressStyleModel",
      "state": {
       "description_width": ""
      }
     },
     "f34861bc0e024ac5a39eb5c4aa31e175": {
      "model_module": "@jupyter-widgets/controls",
      "model_module_version": "2.0.0",
      "model_name": "HTMLStyleModel",
      "state": {
       "description_width": "",
       "font_size": null,
       "text_color": null
      }
     },
     "f350e6984bf8496eaa3a4937edfad6fe": {
      "model_module": "@jupyter-widgets/base",
      "model_module_version": "2.0.0",
      "model_name": "LayoutModel",
      "state": {}
     },
     "f3966163bad64463930a0887ac88d7b6": {
      "model_module": "@jupyter-widgets/controls",
      "model_module_version": "2.0.0",
      "model_name": "HTMLStyleModel",
      "state": {
       "description_width": "",
       "font_size": null,
       "text_color": null
      }
     },
     "f3d61b913ab948369b626510d05bbdaa": {
      "model_module": "@jupyter-widgets/controls",
      "model_module_version": "2.0.0",
      "model_name": "HTMLStyleModel",
      "state": {
       "description_width": "",
       "font_size": null,
       "text_color": null
      }
     },
     "f3f942464f1a434391c40699b43e5070": {
      "model_module": "@jupyter-widgets/controls",
      "model_module_version": "2.0.0",
      "model_name": "HTMLStyleModel",
      "state": {
       "description_width": "",
       "font_size": null,
       "text_color": null
      }
     },
     "f3fb27082d9d472482cd50c1c024c2b6": {
      "model_module": "@jupyter-widgets/base",
      "model_module_version": "2.0.0",
      "model_name": "LayoutModel",
      "state": {}
     },
     "f4083011ab184dddaf79e5595018f8ef": {
      "model_module": "@jupyter-widgets/controls",
      "model_module_version": "2.0.0",
      "model_name": "HBoxModel",
      "state": {
       "children": [
        "IPY_MODEL_636e38ac46ac40f68fd4c47f34588a08",
        "IPY_MODEL_6ae80d8549664ae59d20a57b0e79be3b",
        "IPY_MODEL_b5b1857f19514ecabb606f876eb06869"
       ],
       "layout": "IPY_MODEL_c48ce53fd88f4aaa88208cdc56274828"
      }
     },
     "f4274d872cd84ca8b492051af16d6f82": {
      "model_module": "@jupyter-widgets/controls",
      "model_module_version": "2.0.0",
      "model_name": "HTMLModel",
      "state": {
       "layout": "IPY_MODEL_8ae95e60f2d142b2ae2eda5ea7eb5fa7",
       "style": "IPY_MODEL_99a1eb15a5564d6c99d690736fdd675d",
       "value": " 247/247 [01:53&lt;00:00,  2.23it/s]"
      }
     },
     "f4e8a0fe15ac4e55a0dd918319840134": {
      "model_module": "@jupyter-widgets/controls",
      "model_module_version": "2.0.0",
      "model_name": "HTMLModel",
      "state": {
       "layout": "IPY_MODEL_126d1c859a1c4e139c29289f0384b86d",
       "style": "IPY_MODEL_791bd732e66b42ffa1945af45e15e41d",
       "value": " 180/180 [01:24&lt;00:00,  2.19it/s]"
      }
     },
     "f4f184f6d8f54c438fabad9092dd624a": {
      "model_module": "@jupyter-widgets/controls",
      "model_module_version": "2.0.0",
      "model_name": "ProgressStyleModel",
      "state": {
       "description_width": ""
      }
     },
     "f51622b6e9314e549b9bdb63d0801d8b": {
      "model_module": "@jupyter-widgets/base",
      "model_module_version": "2.0.0",
      "model_name": "LayoutModel",
      "state": {}
     },
     "f51a2adc4795405c8baf0d55abba2bd8": {
      "model_module": "@jupyter-widgets/base",
      "model_module_version": "2.0.0",
      "model_name": "LayoutModel",
      "state": {}
     },
     "f56931cef1f341b2a159f3b51a4beffc": {
      "model_module": "@jupyter-widgets/base",
      "model_module_version": "2.0.0",
      "model_name": "LayoutModel",
      "state": {}
     },
     "f5adc6bac4a146d68525de595fad85c9": {
      "model_module": "@jupyter-widgets/base",
      "model_module_version": "2.0.0",
      "model_name": "LayoutModel",
      "state": {}
     },
     "f5ba8db58a654b0b9f94ec8a96b03dc5": {
      "model_module": "@jupyter-widgets/controls",
      "model_module_version": "2.0.0",
      "model_name": "FloatProgressModel",
      "state": {
       "bar_style": "success",
       "layout": "IPY_MODEL_9dc8a785499646d2a2fbc2a8f3f10907",
       "max": 180,
       "style": "IPY_MODEL_1318607d6e12498b800b3ad429a4b507",
       "value": 180
      }
     },
     "f5be7c2f130641ce8dd5e81945434756": {
      "model_module": "@jupyter-widgets/controls",
      "model_module_version": "2.0.0",
      "model_name": "HTMLModel",
      "state": {
       "layout": "IPY_MODEL_6bf36f0e1fb44558ac9ab1fe1ca116fe",
       "style": "IPY_MODEL_9da02a30e1eb46129685039574dd23b8",
       "value": " 180/180 [01:22&lt;00:00,  2.04it/s]"
      }
     },
     "f6436013158e4fd8800b22d27fa5f580": {
      "model_module": "@jupyter-widgets/controls",
      "model_module_version": "2.0.0",
      "model_name": "HBoxModel",
      "state": {
       "children": [
        "IPY_MODEL_2a04dbf4ed9446bfbffb2f3d60db5e9e",
        "IPY_MODEL_6139d9e09de24476a39acd0c1aeff3b0",
        "IPY_MODEL_205da5d178bb4a44b10e8f5b3927ef11"
       ],
       "layout": "IPY_MODEL_5f082adb94c34b8c84dcd0d613061fef"
      }
     },
     "f64e171bda6542eb97b838b46fd44d00": {
      "model_module": "@jupyter-widgets/base",
      "model_module_version": "2.0.0",
      "model_name": "LayoutModel",
      "state": {}
     },
     "f65a0280571344faab9593db732a3140": {
      "model_module": "@jupyter-widgets/controls",
      "model_module_version": "2.0.0",
      "model_name": "HTMLModel",
      "state": {
       "layout": "IPY_MODEL_5f02df6afb3a4d63832a8c2dd3936dac",
       "style": "IPY_MODEL_fe76fb09c12840f5b0057a0be4c40aac",
       "value": "100%"
      }
     },
     "f69e00dbeeb44657935f958fcbc1dd7a": {
      "model_module": "@jupyter-widgets/base",
      "model_module_version": "2.0.0",
      "model_name": "LayoutModel",
      "state": {}
     },
     "f6c5b4058e6940afac6b69de6200c2d6": {
      "model_module": "@jupyter-widgets/base",
      "model_module_version": "2.0.0",
      "model_name": "LayoutModel",
      "state": {}
     },
     "f7258ecc82f8458c88d992b199d691dc": {
      "model_module": "@jupyter-widgets/controls",
      "model_module_version": "2.0.0",
      "model_name": "FloatProgressModel",
      "state": {
       "bar_style": "success",
       "layout": "IPY_MODEL_ba1f1da1f5f0474ba28aaf53bfd467e4",
       "max": 171,
       "style": "IPY_MODEL_bdd7d0b878ab4c10bf48594a32becb88",
       "value": 171
      }
     },
     "f77c500734144851b675e2d2436d1d37": {
      "model_module": "@jupyter-widgets/controls",
      "model_module_version": "2.0.0",
      "model_name": "HTMLModel",
      "state": {
       "layout": "IPY_MODEL_1d1cf4af58b04a5dba7921d9b681fd7f",
       "style": "IPY_MODEL_3da2823f68244f9a9db23a41f0f51d65",
       "value": " 184/184 [01:24&lt;00:00,  2.16it/s]"
      }
     },
     "f78ffe946ef14b249095a0ff760eb757": {
      "model_module": "@jupyter-widgets/controls",
      "model_module_version": "2.0.0",
      "model_name": "HTMLModel",
      "state": {
       "layout": "IPY_MODEL_6280a42a0406453d9c0d6e27ab2aa4b0",
       "style": "IPY_MODEL_b4905aa77c5b44f4aedfcd3c6218fea7",
       "value": " 307/307 [02:23&lt;00:00,  2.17it/s]"
      }
     },
     "f7957b190d5f4d57b2ccda575cdf2e22": {
      "model_module": "@jupyter-widgets/base",
      "model_module_version": "2.0.0",
      "model_name": "LayoutModel",
      "state": {}
     },
     "f7bd8dc0b97843a9b976f4279110f504": {
      "model_module": "@jupyter-widgets/controls",
      "model_module_version": "2.0.0",
      "model_name": "HTMLModel",
      "state": {
       "layout": "IPY_MODEL_ad1b18b0d0aa48b98e27bab056dd5fe7",
       "style": "IPY_MODEL_745335fcd33642a0822ea0f17462e31f",
       "value": "100%"
      }
     },
     "f7fb6164e3b348478031c97f6d8a7471": {
      "model_module": "@jupyter-widgets/base",
      "model_module_version": "2.0.0",
      "model_name": "LayoutModel",
      "state": {}
     },
     "f8034655a7c040058c7c3ea2cddd7876": {
      "model_module": "@jupyter-widgets/controls",
      "model_module_version": "2.0.0",
      "model_name": "HBoxModel",
      "state": {
       "children": [
        "IPY_MODEL_10560e845cc94f67a22cdd9a620030c8",
        "IPY_MODEL_3d9a2c9d561446da92116124aae1a9c8",
        "IPY_MODEL_47f749f4c11349b9a3436d79601e1fb7"
       ],
       "layout": "IPY_MODEL_47837b49928f4b59a3952387caf7269b"
      }
     },
     "f807b19503ae47ebb367972fbf8ee78b": {
      "model_module": "@jupyter-widgets/controls",
      "model_module_version": "2.0.0",
      "model_name": "HBoxModel",
      "state": {
       "children": [
        "IPY_MODEL_981efebe10d44b8e8564cfc2fae81f40",
        "IPY_MODEL_a4b9d0985da4481eb80ee52dc28d8d4c",
        "IPY_MODEL_6440315222ef4fde8745806247bf35c6"
       ],
       "layout": "IPY_MODEL_558a75eba597497a8fd74847c3f1190e"
      }
     },
     "f835bbafbe73475e9640c20826b7cd03": {
      "model_module": "@jupyter-widgets/controls",
      "model_module_version": "2.0.0",
      "model_name": "HTMLStyleModel",
      "state": {
       "description_width": "",
       "font_size": null,
       "text_color": null
      }
     },
     "f83e0fe5b0a046d6bfbe2fa28742311c": {
      "model_module": "@jupyter-widgets/controls",
      "model_module_version": "2.0.0",
      "model_name": "ProgressStyleModel",
      "state": {
       "description_width": ""
      }
     },
     "f8428235b45e4dc2b4f0f4d2d3221960": {
      "model_module": "@jupyter-widgets/base",
      "model_module_version": "2.0.0",
      "model_name": "LayoutModel",
      "state": {}
     },
     "f867503ed4214ad9a37ddd8d5a02cccd": {
      "model_module": "@jupyter-widgets/base",
      "model_module_version": "2.0.0",
      "model_name": "LayoutModel",
      "state": {}
     },
     "f872e1f46038447e922f0f063c417151": {
      "model_module": "@jupyter-widgets/controls",
      "model_module_version": "2.0.0",
      "model_name": "FloatProgressModel",
      "state": {
       "bar_style": "success",
       "layout": "IPY_MODEL_11655e1adfe142b6b7f7ac69f6824221",
       "max": 521,
       "style": "IPY_MODEL_52dbf1cefca649bdae8ac0273a511ce7",
       "value": 521
      }
     },
     "f8a73d5d869f4cf186533657dc13141b": {
      "model_module": "@jupyter-widgets/controls",
      "model_module_version": "2.0.0",
      "model_name": "ProgressStyleModel",
      "state": {
       "description_width": ""
      }
     },
     "f8e53c3400e441f2854e732efa145e5b": {
      "model_module": "@jupyter-widgets/controls",
      "model_module_version": "2.0.0",
      "model_name": "HTMLStyleModel",
      "state": {
       "description_width": "",
       "font_size": null,
       "text_color": null
      }
     },
     "f8f8c175d2e94b13b077f648a34680a4": {
      "model_module": "@jupyter-widgets/controls",
      "model_module_version": "2.0.0",
      "model_name": "FloatProgressModel",
      "state": {
       "bar_style": "success",
       "layout": "IPY_MODEL_c6909e4fdfc34268bdc1f6a817f7d8c6",
       "max": 173,
       "style": "IPY_MODEL_9796b1beeec04f20a2a9eb6448c6c89d",
       "value": 173
      }
     },
     "f916bc5f526e4944837a14b48dd787dc": {
      "model_module": "@jupyter-widgets/base",
      "model_module_version": "2.0.0",
      "model_name": "LayoutModel",
      "state": {}
     },
     "f9405cef6acb4d468efe4ab35c2e8554": {
      "model_module": "@jupyter-widgets/controls",
      "model_module_version": "2.0.0",
      "model_name": "HTMLModel",
      "state": {
       "layout": "IPY_MODEL_641554183cc94fd09261056949ce3489",
       "style": "IPY_MODEL_2368c7b50d0c41c3af053951ba30a4fc",
       "value": " 90/90 [00:41&lt;00:00,  2.07it/s]"
      }
     },
     "f960224dd42e4df3aba54819447a296d": {
      "model_module": "@jupyter-widgets/controls",
      "model_module_version": "2.0.0",
      "model_name": "HTMLModel",
      "state": {
       "layout": "IPY_MODEL_f052410eca4d446f824931d7f1e5634c",
       "style": "IPY_MODEL_bf3c65955e4e409780a2c613861d6560",
       "value": "100%"
      }
     },
     "f964520503034d4aa7405ccfd8c5380b": {
      "model_module": "@jupyter-widgets/controls",
      "model_module_version": "2.0.0",
      "model_name": "HTMLModel",
      "state": {
       "layout": "IPY_MODEL_7dfae293fde644768e63bcb857956296",
       "style": "IPY_MODEL_c982484c55f042a186bf9045a29f084f",
       "value": " 301/301 [02:22&lt;00:00,  2.17it/s]"
      }
     },
     "f9dbfc42836d4f4d85d4e3e1729a8bbd": {
      "model_module": "@jupyter-widgets/controls",
      "model_module_version": "2.0.0",
      "model_name": "HTMLModel",
      "state": {
       "layout": "IPY_MODEL_f916bc5f526e4944837a14b48dd787dc",
       "style": "IPY_MODEL_c01659c484104a339bb4c9122f6f7de5",
       "value": "100%"
      }
     },
     "f9e7ae75d87b48c0a172f5c5db7f3d9d": {
      "model_module": "@jupyter-widgets/controls",
      "model_module_version": "2.0.0",
      "model_name": "HBoxModel",
      "state": {
       "children": [
        "IPY_MODEL_a52ffa6dabbe41faad68ec62f51d45dd",
        "IPY_MODEL_6da7a95a08044e32bd405a16b38b1fcd",
        "IPY_MODEL_1bdb8081814c4757867e7e788fb9c550"
       ],
       "layout": "IPY_MODEL_29a5ac0bde3d4db6a8384b96400dfb99"
      }
     },
     "fa27208b96bf44938bbfce086110cce4": {
      "model_module": "@jupyter-widgets/base",
      "model_module_version": "2.0.0",
      "model_name": "LayoutModel",
      "state": {}
     },
     "fac8173223064be7988f9dc3c768a4c1": {
      "model_module": "@jupyter-widgets/controls",
      "model_module_version": "2.0.0",
      "model_name": "FloatProgressModel",
      "state": {
       "bar_style": "success",
       "layout": "IPY_MODEL_4e8dd05c93f94204906d49da102fdeee",
       "max": 264,
       "style": "IPY_MODEL_95506667049440c28c516c1d8173143f",
       "value": 264
      }
     },
     "faf06f3b7d9f4a16ac20fc7758832e5b": {
      "model_module": "@jupyter-widgets/base",
      "model_module_version": "2.0.0",
      "model_name": "LayoutModel",
      "state": {}
     },
     "faf23f71a7ac46d2b46297f5442070ec": {
      "model_module": "@jupyter-widgets/controls",
      "model_module_version": "2.0.0",
      "model_name": "HTMLModel",
      "state": {
       "layout": "IPY_MODEL_bc78a0cdac2d433db79bf73173929f76",
       "style": "IPY_MODEL_fe4f094a8fd54562914b16ab42e99565",
       "value": "100%"
      }
     },
     "fb1288175f8146088a2173642c1905f2": {
      "model_module": "@jupyter-widgets/base",
      "model_module_version": "2.0.0",
      "model_name": "LayoutModel",
      "state": {}
     },
     "fb3b5e538e6f4b9095ec30dac69ad007": {
      "model_module": "@jupyter-widgets/controls",
      "model_module_version": "2.0.0",
      "model_name": "HTMLModel",
      "state": {
       "layout": "IPY_MODEL_b114a152ad7845259907099bd530a80d",
       "style": "IPY_MODEL_8e1bf806e40a490db6393bd80d14574e",
       "value": "100%"
      }
     },
     "fb876a01160447b7b64c8ca0a8870132": {
      "model_module": "@jupyter-widgets/controls",
      "model_module_version": "2.0.0",
      "model_name": "HBoxModel",
      "state": {
       "children": [
        "IPY_MODEL_bf0e84d638c1400fa6f5c2232b665b52",
        "IPY_MODEL_641c9f7437d744328c0f77e07e6d8300",
        "IPY_MODEL_735f94a39a2746e7bece3c7272b685a6"
       ],
       "layout": "IPY_MODEL_1156679dd5db4de482cbd8be47d5dcd0"
      }
     },
     "fbb6cf357de24486b2d840f362bf9d83": {
      "model_module": "@jupyter-widgets/base",
      "model_module_version": "2.0.0",
      "model_name": "LayoutModel",
      "state": {}
     },
     "fc17aff9e9464f53a72ed842e18730ca": {
      "model_module": "@jupyter-widgets/base",
      "model_module_version": "2.0.0",
      "model_name": "LayoutModel",
      "state": {}
     },
     "fc330d6f9359449f8d61aabe5e10994c": {
      "model_module": "@jupyter-widgets/controls",
      "model_module_version": "2.0.0",
      "model_name": "FloatProgressModel",
      "state": {
       "bar_style": "success",
       "layout": "IPY_MODEL_d4398cb1e0c04e61b99ec61bceb76f39",
       "max": 490,
       "style": "IPY_MODEL_0404f4b55fe148c29ffa21d8c1b2111c",
       "value": 490
      }
     },
     "fc3420f691604ead8c50e69c9e3cc732": {
      "model_module": "@jupyter-widgets/base",
      "model_module_version": "2.0.0",
      "model_name": "LayoutModel",
      "state": {}
     },
     "fc44c94b3cd44c3ba73763df57aa85de": {
      "model_module": "@jupyter-widgets/controls",
      "model_module_version": "2.0.0",
      "model_name": "HTMLModel",
      "state": {
       "layout": "IPY_MODEL_2597fbbf1679415b88418d9fc566420e",
       "style": "IPY_MODEL_adbb2736bc7a46fc9b3e2ab7c3557e5a",
       "value": " 325/325 [02:34&lt;00:00,  2.14it/s]"
      }
     },
     "fcad318b28784e0881975a9681bf72f4": {
      "model_module": "@jupyter-widgets/controls",
      "model_module_version": "2.0.0",
      "model_name": "HTMLStyleModel",
      "state": {
       "description_width": "",
       "font_size": null,
       "text_color": null
      }
     },
     "fcb0c35ff0b54c448b67cd872f56c9b0": {
      "model_module": "@jupyter-widgets/controls",
      "model_module_version": "2.0.0",
      "model_name": "ProgressStyleModel",
      "state": {
       "description_width": ""
      }
     },
     "fcc4bcdcd2134f15aeb60c9f0890b362": {
      "model_module": "@jupyter-widgets/base",
      "model_module_version": "2.0.0",
      "model_name": "LayoutModel",
      "state": {}
     },
     "fce1af64396949e9a6bef772d7c4a0fc": {
      "model_module": "@jupyter-widgets/controls",
      "model_module_version": "2.0.0",
      "model_name": "HTMLStyleModel",
      "state": {
       "description_width": "",
       "font_size": null,
       "text_color": null
      }
     },
     "fd1056944486486eb19b3497272fab1e": {
      "model_module": "@jupyter-widgets/controls",
      "model_module_version": "2.0.0",
      "model_name": "HTMLStyleModel",
      "state": {
       "description_width": "",
       "font_size": null,
       "text_color": null
      }
     },
     "fd368ec273ca439c828df6961fd90bb0": {
      "model_module": "@jupyter-widgets/controls",
      "model_module_version": "2.0.0",
      "model_name": "HBoxModel",
      "state": {
       "children": [
        "IPY_MODEL_5d0c23d2b76d4513af3294bdae6553ab",
        "IPY_MODEL_79892dfe91ae4fac839221c7217a5696",
        "IPY_MODEL_c0736b7c222a492690c7edbe68759587"
       ],
       "layout": "IPY_MODEL_7aca277885b549cda0a517408ec44d3a"
      }
     },
     "fd613c3ad143458f82edd5d3eb2300b4": {
      "model_module": "@jupyter-widgets/controls",
      "model_module_version": "2.0.0",
      "model_name": "FloatProgressModel",
      "state": {
       "bar_style": "success",
       "layout": "IPY_MODEL_d599972c53e64292bdc5ec846cd6241c",
       "max": 247,
       "style": "IPY_MODEL_f8a73d5d869f4cf186533657dc13141b",
       "value": 247
      }
     },
     "fd82f00bca0b47d99393574f5f7390d5": {
      "model_module": "@jupyter-widgets/controls",
      "model_module_version": "2.0.0",
      "model_name": "HTMLStyleModel",
      "state": {
       "description_width": "",
       "font_size": null,
       "text_color": null
      }
     },
     "fd93ea96165b423d9e77aaadf9dfaaf1": {
      "model_module": "@jupyter-widgets/controls",
      "model_module_version": "2.0.0",
      "model_name": "ProgressStyleModel",
      "state": {
       "description_width": ""
      }
     },
     "fdac155e80bd43919b5857502b62199a": {
      "model_module": "@jupyter-widgets/base",
      "model_module_version": "2.0.0",
      "model_name": "LayoutModel",
      "state": {}
     },
     "fdacbff60f654c119435692d57c2502c": {
      "model_module": "@jupyter-widgets/base",
      "model_module_version": "2.0.0",
      "model_name": "LayoutModel",
      "state": {}
     },
     "fe492ffe7218433e852a4a140b5e6f69": {
      "model_module": "@jupyter-widgets/controls",
      "model_module_version": "2.0.0",
      "model_name": "HTMLModel",
      "state": {
       "layout": "IPY_MODEL_5e29eab670f34c75856d6266f8c80b51",
       "style": "IPY_MODEL_2a4d36da7d6845d196a942674a83e2d3",
       "value": "100%"
      }
     },
     "fe4f094a8fd54562914b16ab42e99565": {
      "model_module": "@jupyter-widgets/controls",
      "model_module_version": "2.0.0",
      "model_name": "HTMLStyleModel",
      "state": {
       "description_width": "",
       "font_size": null,
       "text_color": null
      }
     },
     "fe76fb09c12840f5b0057a0be4c40aac": {
      "model_module": "@jupyter-widgets/controls",
      "model_module_version": "2.0.0",
      "model_name": "HTMLStyleModel",
      "state": {
       "description_width": "",
       "font_size": null,
       "text_color": null
      }
     },
     "fe7d14bb3fb2496090cb14f91cdc0190": {
      "model_module": "@jupyter-widgets/controls",
      "model_module_version": "2.0.0",
      "model_name": "HTMLStyleModel",
      "state": {
       "description_width": "",
       "font_size": null,
       "text_color": null
      }
     },
     "feacf716679d469681bb22cb462c5b9e": {
      "model_module": "@jupyter-widgets/controls",
      "model_module_version": "2.0.0",
      "model_name": "HTMLStyleModel",
      "state": {
       "description_width": "",
       "font_size": null,
       "text_color": null
      }
     },
     "fefc453372d74072b4465690313e327d": {
      "model_module": "@jupyter-widgets/controls",
      "model_module_version": "2.0.0",
      "model_name": "ProgressStyleModel",
      "state": {
       "description_width": ""
      }
     },
     "ff3bf7b9fe53468fadbe30a046247e61": {
      "model_module": "@jupyter-widgets/controls",
      "model_module_version": "2.0.0",
      "model_name": "HTMLModel",
      "state": {
       "layout": "IPY_MODEL_c53e29baa7e54cf69a438de68a654533",
       "style": "IPY_MODEL_6337966b17f242c8b54f10617cbc0d7b",
       "value": "100%"
      }
     },
     "ff8f01bc7afb4de99ee329dc783c81c2": {
      "model_module": "@jupyter-widgets/base",
      "model_module_version": "2.0.0",
      "model_name": "LayoutModel",
      "state": {}
     },
     "ffa4d291b66046c6abf8c07b3cdf583c": {
      "model_module": "@jupyter-widgets/controls",
      "model_module_version": "2.0.0",
      "model_name": "HBoxModel",
      "state": {
       "children": [
        "IPY_MODEL_9601666c07694231b8fca56643971181",
        "IPY_MODEL_6659c9cff2084f53956f571adc4c3335",
        "IPY_MODEL_f9405cef6acb4d468efe4ab35c2e8554"
       ],
       "layout": "IPY_MODEL_5aeae0fc20b14a7b91f1e550301d5139"
      }
     },
     "ffa55285e351443ea16cfc903d496474": {
      "model_module": "@jupyter-widgets/base",
      "model_module_version": "2.0.0",
      "model_name": "LayoutModel",
      "state": {}
     },
     "ffc29a44f00340629f1023232480cc3e": {
      "model_module": "@jupyter-widgets/base",
      "model_module_version": "2.0.0",
      "model_name": "LayoutModel",
      "state": {}
     },
     "fff80f56ea8d4ac3bb003fa28ce4e333": {
      "model_module": "@jupyter-widgets/base",
      "model_module_version": "2.0.0",
      "model_name": "LayoutModel",
      "state": {}
     }
    },
    "version_major": 2,
    "version_minor": 0
   }
  }
 },
 "nbformat": 4,
 "nbformat_minor": 5
}
