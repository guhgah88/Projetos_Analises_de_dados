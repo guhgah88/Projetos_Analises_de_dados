{
 "cells": [
  {
   "cell_type": "code",
   "execution_count": 1,
   "id": "04e4da68-6eec-4cb4-a8f0-568c9b9bbf90",
   "metadata": {},
   "outputs": [],
   "source": [
    "# Instalação das Bibliotecas\n",
    "\n",
    "# pip install selenium\n",
    "# pip install tinydb\n",
    "# pip install fake_useragent"
   ]
  },
  {
   "cell_type": "code",
   "execution_count": 2,
   "id": "a83bae1c",
   "metadata": {},
   "outputs": [],
   "source": [
    "import pandas as pd\n",
    "from time import sleep\n",
    "from datetime import date, datetime, timedelta\n",
    "from selenium import webdriver\n",
    "from selenium.webdriver.common.by import By\n",
    "from selenium.webdriver.support.ui import WebDriverWait\n",
    "from selenium.webdriver.support import expected_conditions as EC\n",
    "from selenium.webdriver.chrome.options import Options\n",
    "from selenium.webdriver.chrome.service import Service\n",
    "from tqdm.auto import tqdm\n",
    "from tinydb import TinyDB,Query\n",
    "from bs4 import BeautifulSoup\n",
    "from fake_useragent import UserAgent\n",
    "\n",
    "import warnings\n",
    "warnings.filterwarnings('ignore')\n",
    "\n",
    "pd.set_option('display.max_columns', None)\n",
    "pd.set_option('display.max_rows', None)"
   ]
  },
  {
   "cell_type": "code",
   "execution_count": 3,
   "id": "f9d61710",
   "metadata": {},
   "outputs": [],
   "source": [
    "links1 = ['https://www.flashscore.com/football/ecuador/liga-pro-2021/results/',#1\n",
    "'https://www.flashscore.com/football/ecuador/liga-pro-2022/results/',\n",
    "'https://www.flashscore.com/football/ecuador/liga-pro/results/',\n",
    "'https://www.flashscore.com/football/brazil/brasileiro-women-2021/results/',#2\n",
    "'https://www.flashscore.com/football/brazil/brasileiro-women-2022/results/',\n",
    "'https://www.flashscore.com/football/brazil/brasileiro-women/results/',\n",
    "'https://www.flashscore.com/football/peru/liga-1-2021/results/',#3\n",
    "'https://www.flashscore.com/football/peru/liga-1-2022/results/',\n",
    "'https://www.flashscore.com/football/peru/liga-1/results/',\n",
    "'https://www.flashscore.com/football/bolivia/division-profesional-2021/results/',#4\n",
    "'https://www.flashscore.com/football/bolivia/division-profesional-2022/results/',\n",
    "'https://www.flashscore.com/football/bolivia/division-profesional/results/',\n",
    "'https://www.flashscore.com/football/argentina/torneo-federal-2021/results/',#5\n",
    "'https://www.flashscore.com/football/argentina/torneo-federal-2022/results/',\n",
    "'https://www.flashscore.com/football/argentina/torneo-federal/results/']"
   ]
  },
  {
   "cell_type": "code",
   "execution_count": 4,
   "id": "cf37ceea",
   "metadata": {},
   "outputs": [],
   "source": [
    "links2 = [\n",
    "'https://www.flashscore.com/football/bosnia-and-herzegovina/premijer-liga-bih-2021-2022/results/',#1\n",
    "'https://www.flashscore.com/football/bosnia-and-herzegovina/premijer-liga-bih-2022-2023/results/',\n",
    "'https://www.flashscore.com/football/bosnia-and-herzegovina/premijer-liga-bih/results/',\n",
    "'https://www.flashscore.com/football/ghana/premier-league-2021-2022/results/',#2\n",
    "'https://www.flashscore.com/football/ghana/premier-league-2022-2023/results/',\n",
    "'https://www.flashscore.com/football/ghana/premier-league/results/',\n",
    "'https://www.flashscore.com/football/north-macedonia/1-mfl-2021-2022/results/',#3\n",
    "'https://www.flashscore.com/football/north-macedonia/1-mfl-2022-2023/results/',\n",
    "'https://www.flashscore.com/football/north-macedonia/1-mfl/results/',\n",
    "'https://www.flashscore.com/football/algeria/u21-league-2021-2022/results/',#4\n",
    "'https://www.flashscore.com/football/algeria/u21-league-2022-2023/results/',\n",
    "'https://www.flashscore.com/football/algeria/u21-league/results/',\n",
    "'https://www.flashscore.com/football/switzerland/super-league-2021-2022/results/',#5\n",
    "'https://www.flashscore.com/football/switzerland/super-league-2022-2023/results/',\n",
    "'https://www.flashscore.com/football/switzerland/super-league/results/']"
   ]
  },
  {
   "cell_type": "code",
   "execution_count": 5,
   "id": "89791a86",
   "metadata": {},
   "outputs": [],
   "source": [
    "def get_main_header(id_jogo,dictionary,driver):\n",
    "    driver.get(f'https://www.flashscore.com/match/{id_jogo}/#/match-summary/match-summary')\n",
    "    dictionary['Id'] = id_jogo\n",
    "    country = driver.find_element(By.CSS_SELECTOR,'span.tournamentHeader__country').text.split(':')[0]\n",
    "    date = driver.find_element(By.CSS_SELECTOR,'div.duelParticipant__startTime').text.split(' ')[0]\n",
    "    dictionary['Date'] = date.replace('.','/')\n",
    "    time = driver.find_element(By.CSS_SELECTOR,'div.duelParticipant__startTime').text.split(' ')[1]\n",
    "    dictionary['Time'] = time\n",
    "    league = driver.find_element(By.CSS_SELECTOR,'span.tournamentHeader__country > a').text.split(' -')[0]\n",
    "    dictionary['League'] = f'{country} - {league}'\n",
    "    home = driver.find_element(By.CSS_SELECTOR,'div.duelParticipant__home').find_element(By.CSS_SELECTOR,'div.participant__participantName').text\n",
    "    dictionary['Home'] = home\n",
    "    away = driver.find_element(By.CSS_SELECTOR,'div.duelParticipant__away').find_element(By.CSS_SELECTOR,'div.participant__participantName').text\n",
    "    dictionary['Away'] = away\n",
    "    try:\n",
    "        rodada = driver.find_element(By.CSS_SELECTOR,'span.tournamentHeader__country > a').text.split('- ')[1]\n",
    "        dictionary['Round'] = rodada\n",
    "    except:\n",
    "        dictionary['Round'] = '-'"
   ]
  },
  {
   "cell_type": "code",
   "execution_count": 6,
   "id": "ed1c0018",
   "metadata": {},
   "outputs": [],
   "source": [
    "def get_odds_ml_ft(id_jogo,dictionary,driver):\n",
    "    url_ml_full_time = f'https://www.flashscore.com/match/{id_jogo}/#/odds-comparison/1x2-odds/full-time'\n",
    "    driver.get(url_ml_full_time)\n",
    "    sleep(1)\n",
    "    if driver.current_url == url_ml_full_time:\n",
    "        WebDriverWait(driver, 8).until(EC.visibility_of_element_located((By.CSS_SELECTOR,'div.ui-table')))\n",
    "        table_odds = driver.find_element(By.CSS_SELECTOR,'div.ui-table')\n",
    "        linha_ml_ft = table_odds.find_element(By.CSS_SELECTOR,'div.ui-table__row')\n",
    "        dictionary['Odd_H'] = float(linha_ml_ft.find_elements(By.CSS_SELECTOR,'a.oddsCell__odd')[0].text)\n",
    "        dictionary['Odd_D'] = float(linha_ml_ft.find_elements(By.CSS_SELECTOR,'a.oddsCell__odd')[1].text)\n",
    "        dictionary['Odd_A'] = float(linha_ml_ft.find_elements(By.CSS_SELECTOR,'a.oddsCell__odd')[2].text)"
   ]
  },
  {
   "cell_type": "code",
   "execution_count": 7,
   "id": "713d7c14",
   "metadata": {},
   "outputs": [],
   "source": [
    "def insert_season(dictionary,season):\n",
    "    dictionary['Season'] = season"
   ]
  },
  {
   "cell_type": "code",
   "execution_count": 8,
   "id": "55384aef",
   "metadata": {},
   "outputs": [],
   "source": [
    "def get_score_ht_ft(id_jogo,dictionary,driver):\n",
    "    try:\n",
    "        if '1st Half' in driver.page_source:\n",
    "            WebDriverWait(driver, 8).until(EC.visibility_of_element_located((By.CSS_SELECTOR,'div.smv__incidentsHeader')))\n",
    "            home_goals_ht = int(driver.find_elements(By.CSS_SELECTOR,'div.smv__incidentsHeader div')[1].text.split('-')[0])\n",
    "            dictionary['HT_GH'] = home_goals_ht\n",
    "            away_goals_ht = int(driver.find_elements(By.CSS_SELECTOR,'div.smv__incidentsHeader div')[1].text.split('-')[1])\n",
    "            dictionary['HT_GA'] = away_goals_ht\n",
    "    except:\n",
    "        pass\n",
    "    home_goals_ft = driver.find_element(By.CSS_SELECTOR,'div.detailScore__wrapper').text.split('-')[0]\n",
    "    dictionary['GH'] = int(home_goals_ft)\n",
    "    away_goals_ft = driver.find_element(By.CSS_SELECTOR,'div.detailScore__wrapper').text.split('-')[1]\n",
    "    dictionary['GA'] = int(away_goals_ft)"
   ]
  },
  {
   "cell_type": "code",
   "execution_count": 9,
   "id": "cdc30b4e",
   "metadata": {},
   "outputs": [
    {
     "name": "stdout",
     "output_type": "stream",
     "text": [
      "Liga Pro 2021 Results - Football/Ecuador\n"
     ]
    },
    {
     "data": {
      "application/vnd.jupyter.widget-view+json": {
       "model_id": "2c45e9a89cf64d7d9cef5aacfc16585e",
       "version_major": 2,
       "version_minor": 0
      },
      "text/plain": [
       "  0%|          | 0/242 [00:00<?, ?it/s]"
      ]
     },
     "metadata": {},
     "output_type": "display_data"
    },
    {
     "name": "stdout",
     "output_type": "stream",
     "text": [
      "Liga Pro 2022 Results - Football/Ecuador\n"
     ]
    },
    {
     "data": {
      "application/vnd.jupyter.widget-view+json": {
       "model_id": "5a4ed557d10e47a482476f14c024463a",
       "version_major": 2,
       "version_minor": 0
      },
      "text/plain": [
       "  0%|          | 0/242 [00:00<?, ?it/s]"
      ]
     },
     "metadata": {},
     "output_type": "display_data"
    },
    {
     "name": "stdout",
     "output_type": "stream",
     "text": [
      "Liga Pro 2023 Results - Football/Ecuador\n"
     ]
    },
    {
     "data": {
      "application/vnd.jupyter.widget-view+json": {
       "model_id": "48942a8674d44d0bbaf7f2d1ed619bbd",
       "version_major": 2,
       "version_minor": 0
      },
      "text/plain": [
       "  0%|          | 0/242 [00:00<?, ?it/s]"
      ]
     },
     "metadata": {},
     "output_type": "display_data"
    },
    {
     "name": "stdout",
     "output_type": "stream",
     "text": [
      "Brasileiro Women 2021 Results - Football/Brazil\n"
     ]
    },
    {
     "data": {
      "application/vnd.jupyter.widget-view+json": {
       "model_id": "db6275ea04d4454c979a0865eaef316c",
       "version_major": 2,
       "version_minor": 0
      },
      "text/plain": [
       "  0%|          | 0/134 [00:00<?, ?it/s]"
      ]
     },
     "metadata": {},
     "output_type": "display_data"
    },
    {
     "name": "stdout",
     "output_type": "stream",
     "text": [
      "Brasileiro Women 2022 Results - Football/Brazil\n"
     ]
    },
    {
     "data": {
      "application/vnd.jupyter.widget-view+json": {
       "model_id": "a9a16c18b23c444a9d012375be946687",
       "version_major": 2,
       "version_minor": 0
      },
      "text/plain": [
       "  0%|          | 0/134 [00:00<?, ?it/s]"
      ]
     },
     "metadata": {},
     "output_type": "display_data"
    },
    {
     "name": "stdout",
     "output_type": "stream",
     "text": [
      "Brasileiro Women 2023 Results - Football/Brazil\n"
     ]
    },
    {
     "data": {
      "application/vnd.jupyter.widget-view+json": {
       "model_id": "04da17d1b7f143508d9837a10e0c71a8",
       "version_major": 2,
       "version_minor": 0
      },
      "text/plain": [
       "  0%|          | 0/134 [00:00<?, ?it/s]"
      ]
     },
     "metadata": {},
     "output_type": "display_data"
    },
    {
     "name": "stdout",
     "output_type": "stream",
     "text": [
      "Liga 1 2021 Results - Football/Peru\n"
     ]
    },
    {
     "data": {
      "application/vnd.jupyter.widget-view+json": {
       "model_id": "9064249ab00146dc8e295b7fc10a9cb7",
       "version_major": 2,
       "version_minor": 0
      },
      "text/plain": [
       "  0%|          | 0/240 [00:00<?, ?it/s]"
      ]
     },
     "metadata": {},
     "output_type": "display_data"
    },
    {
     "name": "stdout",
     "output_type": "stream",
     "text": [
      "Liga 1 2022 Results - Football/Peru\n"
     ]
    },
    {
     "data": {
      "application/vnd.jupyter.widget-view+json": {
       "model_id": "136ba34330d4439db46312977d642504",
       "version_major": 2,
       "version_minor": 0
      },
      "text/plain": [
       "  0%|          | 0/348 [00:00<?, ?it/s]"
      ]
     },
     "metadata": {},
     "output_type": "display_data"
    },
    {
     "name": "stdout",
     "output_type": "stream",
     "text": [
      "Liga 1 2023 Results - Football/Peru\n"
     ]
    },
    {
     "data": {
      "application/vnd.jupyter.widget-view+json": {
       "model_id": "9c56b6ec5c45458fb5bae688fcd30ffe",
       "version_major": 2,
       "version_minor": 0
      },
      "text/plain": [
       "  0%|          | 0/344 [00:00<?, ?it/s]"
      ]
     },
     "metadata": {},
     "output_type": "display_data"
    },
    {
     "name": "stdout",
     "output_type": "stream",
     "text": [
      "Division Profesional 2021 Results - Football/Bolivia\n"
     ]
    },
    {
     "data": {
      "application/vnd.jupyter.widget-view+json": {
       "model_id": "ed85ea4e5652497e985a82788786d547",
       "version_major": 2,
       "version_minor": 0
      },
      "text/plain": [
       "  0%|          | 0/242 [00:00<?, ?it/s]"
      ]
     },
     "metadata": {},
     "output_type": "display_data"
    },
    {
     "name": "stdout",
     "output_type": "stream",
     "text": [
      "Division Profesional 2022 Results - Football/Bolivia\n"
     ]
    },
    {
     "data": {
      "application/vnd.jupyter.widget-view+json": {
       "model_id": "3b09ca82ead24d2aaeae83a11a234370",
       "version_major": 2,
       "version_minor": 0
      },
      "text/plain": [
       "  0%|          | 0/335 [00:00<?, ?it/s]"
      ]
     },
     "metadata": {},
     "output_type": "display_data"
    },
    {
     "name": "stdout",
     "output_type": "stream",
     "text": [
      "Division Profesional 2023 Results - Football/Bolivia\n"
     ]
    },
    {
     "data": {
      "application/vnd.jupyter.widget-view+json": {
       "model_id": "66c64fd7faa744218e45ad3279f30224",
       "version_major": 2,
       "version_minor": 0
      },
      "text/plain": [
       "  0%|          | 0/274 [00:00<?, ?it/s]"
      ]
     },
     "metadata": {},
     "output_type": "display_data"
    },
    {
     "name": "stdout",
     "output_type": "stream",
     "text": [
      "Torneo Federal 2021 Results - Football/Argentina\n"
     ]
    },
    {
     "data": {
      "application/vnd.jupyter.widget-view+json": {
       "model_id": "914b895ae30143f2b4ffbd7664940d7f",
       "version_major": 2,
       "version_minor": 0
      },
      "text/plain": [
       "  0%|          | 0/465 [00:00<?, ?it/s]"
      ]
     },
     "metadata": {},
     "output_type": "display_data"
    },
    {
     "name": "stdout",
     "output_type": "stream",
     "text": [
      "Torneo Federal 2022 Results - Football/Argentina\n"
     ]
    },
    {
     "data": {
      "application/vnd.jupyter.widget-view+json": {
       "model_id": "aa50f8af83b744a3bc28c4d0cb656471",
       "version_major": 2,
       "version_minor": 0
      },
      "text/plain": [
       "  0%|          | 0/559 [00:00<?, ?it/s]"
      ]
     },
     "metadata": {},
     "output_type": "display_data"
    },
    {
     "name": "stdout",
     "output_type": "stream",
     "text": [
      "Torneo Federal 2023 Results - Football/Argentina\n"
     ]
    },
    {
     "data": {
      "application/vnd.jupyter.widget-view+json": {
       "model_id": "5135d20859474e7a81b5b2ffda00bd15",
       "version_major": 2,
       "version_minor": 0
      },
      "text/plain": [
       "  0%|          | 0/593 [00:00<?, ?it/s]"
      ]
     },
     "metadata": {},
     "output_type": "display_data"
    }
   ],
   "source": [
    "for i in links1:\n",
    "    \n",
    "    url = i\n",
    "    colecao_partidas = TinyDB('./base_flashscore_inverno_bk_casa.json')\n",
    "    \n",
    "    options = webdriver.ChromeOptions()\n",
    "    options.add_argument('--headless')\n",
    "\n",
    "    s = Service('./chromedriver.exe')\n",
    "    driver = webdriver.Chrome(service=s, options=options)\n",
    "    driver.maximize_window()\n",
    "    \n",
    "    try:\n",
    "        driver.get(url)\n",
    "\n",
    "        if ('No match found.' in driver.page_source) == False:\n",
    "            try:\n",
    "                WebDriverWait(driver, 8).until(EC.visibility_of_element_located((By.CSS_SELECTOR,'button#onetrust-accept-btn-handler')))\n",
    "                button_cookies = driver.find_element(By.CSS_SELECTOR,'button#onetrust-accept-btn-handler')\n",
    "                button_cookies.click()\n",
    "            except:\n",
    "                print(\"cookies already closed\")\n",
    "\n",
    "            while('event__more' in driver.page_source):\n",
    "                driver.execute_script(\"window.scrollTo(0, document.body.scrollHeight);\")    \n",
    "                button_more = driver.find_element(By.CSS_SELECTOR,'a.event__more.event__more--static')\n",
    "                button_more.click()\n",
    "                sleep(2)\n",
    "\n",
    "            jogos = driver.find_elements(By.CSS_SELECTOR,'div.event__match--twoLine')\n",
    "            id_jogos =[]\n",
    "            for i in jogos:\n",
    "                id_jogos.append(i.get_attribute(\"id\")[4:])\n",
    "\n",
    "            season = driver.find_element(By.CSS_SELECTOR,'div.heading__info').text\n",
    "\n",
    "            print(driver.title)\n",
    "            for id_jogo in tqdm(id_jogos):\n",
    "                procura_duplicado = Query()\n",
    "                if colecao_partidas.search(procura_duplicado.Id == id_jogo) == []:\n",
    "                    try:\n",
    "                        jogo = {}\n",
    "\n",
    "                        get_main_header(id_jogo,jogo,driver)\n",
    "                        insert_season(jogo,season)\n",
    "                        get_score_ht_ft(id_jogo,jogo,driver)\n",
    "                        get_odds_ml_ft(id_jogo,jogo,driver)\n",
    "                        \n",
    "                       \n",
    "\n",
    "                        colecao_partidas.insert(jogo.copy())\n",
    "                    except:\n",
    "                        pass\n",
    "        driver.close()\n",
    "    except:\n",
    "        pass"
   ]
  },
  {
   "cell_type": "code",
   "execution_count": 10,
   "id": "9641752b",
   "metadata": {},
   "outputs": [
    {
     "name": "stdout",
     "output_type": "stream",
     "text": [
      "Premijer liga BiH 2021/2022 Results - Football/Bosnia and Herzegovina\n"
     ]
    },
    {
     "data": {
      "application/vnd.jupyter.widget-view+json": {
       "model_id": "78f1d5ce7465439dbd4c99db85f245fd",
       "version_major": 2,
       "version_minor": 0
      },
      "text/plain": [
       "  0%|          | 0/198 [00:00<?, ?it/s]"
      ]
     },
     "metadata": {},
     "output_type": "display_data"
    },
    {
     "name": "stdout",
     "output_type": "stream",
     "text": [
      "Premijer liga BiH 2022/2023 Results - Football/Bosnia and Herzegovina\n"
     ]
    },
    {
     "data": {
      "application/vnd.jupyter.widget-view+json": {
       "model_id": "e50d8a09662744f5bfb60e2cc6a1933d",
       "version_major": 2,
       "version_minor": 0
      },
      "text/plain": [
       "  0%|          | 0/198 [00:00<?, ?it/s]"
      ]
     },
     "metadata": {},
     "output_type": "display_data"
    },
    {
     "name": "stdout",
     "output_type": "stream",
     "text": [
      "Premijer liga Results - Football/Bosnia and Herzegovina\n"
     ]
    },
    {
     "data": {
      "application/vnd.jupyter.widget-view+json": {
       "model_id": "d96c53cbc2f34a63ba8741c452e91491",
       "version_major": 2,
       "version_minor": 0
      },
      "text/plain": [
       "  0%|          | 0/108 [00:00<?, ?it/s]"
      ]
     },
     "metadata": {},
     "output_type": "display_data"
    },
    {
     "name": "stdout",
     "output_type": "stream",
     "text": [
      "Premier League 2021/2022 Results - Football/Ghana\n"
     ]
    },
    {
     "data": {
      "application/vnd.jupyter.widget-view+json": {
       "model_id": "6c7d2cc1d874461fa9dc95d1cc6e6ee0",
       "version_major": 2,
       "version_minor": 0
      },
      "text/plain": [
       "  0%|          | 0/306 [00:00<?, ?it/s]"
      ]
     },
     "metadata": {},
     "output_type": "display_data"
    },
    {
     "name": "stdout",
     "output_type": "stream",
     "text": [
      "Premier League 2022/2023 Results - Football/Ghana\n"
     ]
    },
    {
     "data": {
      "application/vnd.jupyter.widget-view+json": {
       "model_id": "e3d01ecfa8fe4691852829a194893ddb",
       "version_major": 2,
       "version_minor": 0
      },
      "text/plain": [
       "  0%|          | 0/306 [00:00<?, ?it/s]"
      ]
     },
     "metadata": {},
     "output_type": "display_data"
    },
    {
     "name": "stdout",
     "output_type": "stream",
     "text": [
      "Ghana Premier League Results - Football/Ghana\n"
     ]
    },
    {
     "data": {
      "application/vnd.jupyter.widget-view+json": {
       "model_id": "12c4b9f7b11342b48987323843d31ac0",
       "version_major": 2,
       "version_minor": 0
      },
      "text/plain": [
       "  0%|          | 0/140 [00:00<?, ?it/s]"
      ]
     },
     "metadata": {},
     "output_type": "display_data"
    },
    {
     "name": "stdout",
     "output_type": "stream",
     "text": [
      "1. MFL 2021/2022 Results - Football/North Macedonia\n"
     ]
    },
    {
     "data": {
      "application/vnd.jupyter.widget-view+json": {
       "model_id": "3922b9f5062f4c8bac6d830f08d35448",
       "version_major": 2,
       "version_minor": 0
      },
      "text/plain": [
       "  0%|          | 0/200 [00:00<?, ?it/s]"
      ]
     },
     "metadata": {},
     "output_type": "display_data"
    },
    {
     "name": "stdout",
     "output_type": "stream",
     "text": [
      "1. MFL 2022/2023 Results - Football/North Macedonia\n"
     ]
    },
    {
     "data": {
      "application/vnd.jupyter.widget-view+json": {
       "model_id": "03ecf9fc9bc44a038b918e0f7ac9023a",
       "version_major": 2,
       "version_minor": 0
      },
      "text/plain": [
       "  0%|          | 0/166 [00:00<?, ?it/s]"
      ]
     },
     "metadata": {},
     "output_type": "display_data"
    },
    {
     "name": "stdout",
     "output_type": "stream",
     "text": [
      "1. MFL 2023/2024 Results - Football/North Macedonia\n"
     ]
    },
    {
     "data": {
      "application/vnd.jupyter.widget-view+json": {
       "model_id": "ec72694eb2ad4ec4b630cab5b39145c2",
       "version_major": 2,
       "version_minor": 0
      },
      "text/plain": [
       "  0%|          | 0/108 [00:00<?, ?it/s]"
      ]
     },
     "metadata": {},
     "output_type": "display_data"
    },
    {
     "name": "stdout",
     "output_type": "stream",
     "text": [
      "U21 League 2021/2022 Results - Football/Algeria\n"
     ]
    },
    {
     "data": {
      "application/vnd.jupyter.widget-view+json": {
       "model_id": "d4bd3eef233d412e82123e99a14a9b24",
       "version_major": 2,
       "version_minor": 0
      },
      "text/plain": [
       "  0%|          | 0/306 [00:00<?, ?it/s]"
      ]
     },
     "metadata": {},
     "output_type": "display_data"
    },
    {
     "name": "stdout",
     "output_type": "stream",
     "text": [
      "U21 League 2022/2023 Results - Football/Algeria\n"
     ]
    },
    {
     "data": {
      "application/vnd.jupyter.widget-view+json": {
       "model_id": "74381af7def14085ba790c675e573bbf",
       "version_major": 2,
       "version_minor": 0
      },
      "text/plain": [
       "  0%|          | 0/239 [00:00<?, ?it/s]"
      ]
     },
     "metadata": {},
     "output_type": "display_data"
    },
    {
     "name": "stdout",
     "output_type": "stream",
     "text": [
      "U21 League 2023/2024 Results - Football/Algeria\n"
     ]
    },
    {
     "data": {
      "application/vnd.jupyter.widget-view+json": {
       "model_id": "8d0a4e198f25498abcf783dc9166dbb9",
       "version_major": 2,
       "version_minor": 0
      },
      "text/plain": [
       "  0%|          | 0/87 [00:00<?, ?it/s]"
      ]
     },
     "metadata": {},
     "output_type": "display_data"
    },
    {
     "name": "stdout",
     "output_type": "stream",
     "text": [
      "Super League 2021/2022 Results - Football/Switzerland\n"
     ]
    },
    {
     "data": {
      "application/vnd.jupyter.widget-view+json": {
       "model_id": "aab33482b1a44ccc8f30caa5ad6b6d06",
       "version_major": 2,
       "version_minor": 0
      },
      "text/plain": [
       "  0%|          | 0/182 [00:00<?, ?it/s]"
      ]
     },
     "metadata": {},
     "output_type": "display_data"
    },
    {
     "name": "stdout",
     "output_type": "stream",
     "text": [
      "Super League 2022/2023 Results - Football/Switzerland\n"
     ]
    },
    {
     "data": {
      "application/vnd.jupyter.widget-view+json": {
       "model_id": "91a55f5458df44c6a5e962befa919752",
       "version_major": 2,
       "version_minor": 0
      },
      "text/plain": [
       "  0%|          | 0/182 [00:00<?, ?it/s]"
      ]
     },
     "metadata": {},
     "output_type": "display_data"
    },
    {
     "name": "stdout",
     "output_type": "stream",
     "text": [
      "Super League 2023/2024 Results - Football/Switzerland\n"
     ]
    },
    {
     "data": {
      "application/vnd.jupyter.widget-view+json": {
       "model_id": "bd4c8db2ffee44aba4c95aaead054a6b",
       "version_major": 2,
       "version_minor": 0
      },
      "text/plain": [
       "  0%|          | 0/108 [00:00<?, ?it/s]"
      ]
     },
     "metadata": {},
     "output_type": "display_data"
    }
   ],
   "source": [
    "for i in links2:\n",
    "    \n",
    "    url = i\n",
    "    colecao_partidas = TinyDB('./base_flashscore_verão_bk_casa.json')\n",
    "    \n",
    "    options = webdriver.ChromeOptions()\n",
    "    options.add_argument('--headless')\n",
    "\n",
    "    s = Service('./chromedriver.exe')\n",
    "    driver = webdriver.Chrome(service=s, options=options)\n",
    "    driver.maximize_window()\n",
    "\n",
    "    \n",
    "    try:\n",
    "        driver.get(url)\n",
    "\n",
    "        if ('No match found.' in driver.page_source) == False:\n",
    "            try:\n",
    "                WebDriverWait(driver, 8).until(EC.visibility_of_element_located((By.CSS_SELECTOR,'button#onetrust-accept-btn-handler')))\n",
    "                button_cookies = driver.find_element(By.CSS_SELECTOR,'button#onetrust-accept-btn-handler')\n",
    "                button_cookies.click()\n",
    "            except:\n",
    "                print(\"cookies already closed\")\n",
    "\n",
    "            while('event__more' in driver.page_source):\n",
    "                driver.execute_script(\"window.scrollTo(0, document.body.scrollHeight);\")    \n",
    "                button_more = driver.find_element(By.CSS_SELECTOR,'a.event__more.event__more--static')\n",
    "                button_more.click()\n",
    "                sleep(2)\n",
    "\n",
    "            jogos = driver.find_elements(By.CSS_SELECTOR,'div.event__match--twoLine')\n",
    "            id_jogos =[]\n",
    "            for i in jogos:\n",
    "                id_jogos.append(i.get_attribute(\"id\")[4:])\n",
    "\n",
    "            season = driver.find_element(By.CSS_SELECTOR,'div.heading__info').text\n",
    "\n",
    "            print(driver.title)\n",
    "            for id_jogo in tqdm(id_jogos):\n",
    "                procura_duplicado = Query()\n",
    "                if colecao_partidas.search(procura_duplicado.Id == id_jogo) == []:\n",
    "                    try:\n",
    "                        jogo = {}\n",
    "\n",
    "                        get_main_header(id_jogo,jogo,driver)\n",
    "                        insert_season(jogo,season)\n",
    "                        get_score_ht_ft(id_jogo,jogo,driver)\n",
    "                        get_odds_ml_ft(id_jogo,jogo,driver)\n",
    "                   \n",
    "                       \n",
    "\n",
    "                        colecao_partidas.insert(jogo.copy())\n",
    "                    except:\n",
    "                        pass\n",
    "        driver.close()\n",
    "    except:\n",
    "        pass"
   ]
  },
  {
   "cell_type": "code",
   "execution_count": 11,
   "id": "08ac2b02",
   "metadata": {},
   "outputs": [],
   "source": [
    "colecao_partidas1 = TinyDB('./base_flashscore_inverno_bk_casa.json')\n",
    "colecao_partidas2 = TinyDB('./base_flashscore_verão_bk_casa.json')\n",
    "\n",
    "df1 = pd.DataFrame(colecao_partidas1.all())\n",
    "df2 = pd.DataFrame(colecao_partidas2.all())\n",
    "\n",
    "df = pd.concat([df1,df2])\n",
    "df.drop_duplicates(subset=['Id'], inplace=True)\n",
    "\n",
    "df[['Dia','Mes','Ano']] = df['Date'].str.split('/',expand=True)\n",
    "df = df.drop(['Date'], axis=1)\n",
    "df['Date'] = df['Dia']+'-'+df['Mes']+'-'+ df['Ano']\n",
    "df = df.drop(columns=['Dia','Mes','Ano'], axis=1)\n",
    "\n",
    "df = df[['Date','Time','League','Season','Round','Home','Away','GH','GA',\n",
    "'Odd_H','Odd_D','Odd_A']]\n",
    "\n",
    "df.columns = ['Date','Time','League','Season','Round','Home','Away','GH','GA',\n",
    "'Odd_H','Odd_D','Odd_A']\n",
    "\n",
    "df.fillna(0, inplace=True)\n",
    "\n",
    "df = df.sort_values(['Date','Time'])\n",
    "\n",
    "df = df.dropna()\n",
    "df = df.reset_index(drop=True)\n",
    "df.index += 1\n",
    "\n",
    "df.to_excel('Base_de_Dados_FlashScore_1x2_bk_casa.xlsx')"
   ]
  },
  {
   "cell_type": "code",
   "execution_count": null,
   "id": "fdabc3fa-b9a8-4216-8c0e-4909abe18289",
   "metadata": {},
   "outputs": [],
   "source": []
  }
 ],
 "metadata": {
  "kernelspec": {
   "display_name": "Python 3 (ipykernel)",
   "language": "python",
   "name": "python3"
  },
  "language_info": {
   "codemirror_mode": {
    "name": "ipython",
    "version": 3
   },
   "file_extension": ".py",
   "mimetype": "text/x-python",
   "name": "python",
   "nbconvert_exporter": "python",
   "pygments_lexer": "ipython3",
   "version": "3.8.10"
  },
  "widgets": {
   "application/vnd.jupyter.widget-state+json": {
    "state": {
     "015a368187944b44806d1981b00d8353": {
      "model_module": "@jupyter-widgets/controls",
      "model_module_version": "2.0.0",
      "model_name": "HTMLModel",
      "state": {
       "layout": "IPY_MODEL_045a0473567d4d40bfd63bc16e61f08f",
       "style": "IPY_MODEL_7cc515e01e9a4a1aa893e829d82bb909",
       "value": " 198/198 [19:29&lt;00:00,  7.30s/it]"
      }
     },
     "02e6cf206bf9485eaf097ed8c2d067cc": {
      "model_module": "@jupyter-widgets/controls",
      "model_module_version": "2.0.0",
      "model_name": "FloatProgressModel",
      "state": {
       "bar_style": "success",
       "layout": "IPY_MODEL_28230e2030bb4cef9192bb37054dca0d",
       "max": 239,
       "style": "IPY_MODEL_56ce928af4344018833edc488d9697c5",
       "value": 239
      }
     },
     "030fdfe50b9346ae99716d6ef7b5e368": {
      "model_module": "@jupyter-widgets/controls",
      "model_module_version": "2.0.0",
      "model_name": "ProgressStyleModel",
      "state": {
       "description_width": ""
      }
     },
     "03ecf9fc9bc44a038b918e0f7ac9023a": {
      "model_module": "@jupyter-widgets/controls",
      "model_module_version": "2.0.0",
      "model_name": "HBoxModel",
      "state": {
       "children": [
        "IPY_MODEL_ba4f85fa97254b2a8c73e7c7327877a7",
        "IPY_MODEL_82e2a98c84194dc89551b3dce4788444",
        "IPY_MODEL_34d7cdab50754e6f987729a263e7bb88"
       ],
       "layout": "IPY_MODEL_49da29a7756c40f4848cc35e5040fc96"
      }
     },
     "045a0473567d4d40bfd63bc16e61f08f": {
      "model_module": "@jupyter-widgets/base",
      "model_module_version": "2.0.0",
      "model_name": "LayoutModel",
      "state": {}
     },
     "04da17d1b7f143508d9837a10e0c71a8": {
      "model_module": "@jupyter-widgets/controls",
      "model_module_version": "2.0.0",
      "model_name": "HBoxModel",
      "state": {
       "children": [
        "IPY_MODEL_c599dfb39a4f4707bd25f24812b09587",
        "IPY_MODEL_28644c53c42f4902a79bfcf5b9a3a35a",
        "IPY_MODEL_d7f7aa39494340df8d75f49ae4946e6c"
       ],
       "layout": "IPY_MODEL_4b88b0b52eb64093a73a33dd1f1687d8"
      }
     },
     "064e7f58a69d4fbb8c334eca9006bd30": {
      "model_module": "@jupyter-widgets/controls",
      "model_module_version": "2.0.0",
      "model_name": "HTMLModel",
      "state": {
       "layout": "IPY_MODEL_ac980cc329d74ea6ab4e61c58946efee",
       "style": "IPY_MODEL_475dbb7880cf402d8314835bb46e9335",
       "value": "100%"
      }
     },
     "0707e914f04943b7a89ca53890dc899d": {
      "model_module": "@jupyter-widgets/controls",
      "model_module_version": "2.0.0",
      "model_name": "HTMLStyleModel",
      "state": {
       "description_width": "",
       "font_size": null,
       "text_color": null
      }
     },
     "07416e30889b4b648911bf8da036825f": {
      "model_module": "@jupyter-widgets/controls",
      "model_module_version": "2.0.0",
      "model_name": "HTMLModel",
      "state": {
       "layout": "IPY_MODEL_44503be589c2420ea69556f73271fbab",
       "style": "IPY_MODEL_e945a97cd0bb4599b1d992169767b2a3",
       "value": "100%"
      }
     },
     "074de5e2156748c2ae34f250fdee7f4d": {
      "model_module": "@jupyter-widgets/controls",
      "model_module_version": "2.0.0",
      "model_name": "ProgressStyleModel",
      "state": {
       "description_width": ""
      }
     },
     "082a5e89ccaf43c6893c448148f831c4": {
      "model_module": "@jupyter-widgets/controls",
      "model_module_version": "2.0.0",
      "model_name": "ProgressStyleModel",
      "state": {
       "description_width": ""
      }
     },
     "0ab9164f7e9a49cf85efdb1bf01742e8": {
      "model_module": "@jupyter-widgets/controls",
      "model_module_version": "2.0.0",
      "model_name": "HTMLStyleModel",
      "state": {
       "description_width": "",
       "font_size": null,
       "text_color": null
      }
     },
     "0bc3e094cc9d4ae08c8c426b439810df": {
      "model_module": "@jupyter-widgets/base",
      "model_module_version": "2.0.0",
      "model_name": "LayoutModel",
      "state": {}
     },
     "0d186b1743a14c5a80589bc6f3db9c55": {
      "model_module": "@jupyter-widgets/controls",
      "model_module_version": "2.0.0",
      "model_name": "HTMLModel",
      "state": {
       "layout": "IPY_MODEL_cadb4cd079dc4573a50274e8a926038e",
       "style": "IPY_MODEL_0ab9164f7e9a49cf85efdb1bf01742e8",
       "value": " 593/593 [59:24&lt;00:00,  5.82s/it]"
      }
     },
     "0eea16f42c2c4034aa82d0769af0dcaf": {
      "model_module": "@jupyter-widgets/base",
      "model_module_version": "2.0.0",
      "model_name": "LayoutModel",
      "state": {}
     },
     "10e988d14aa34c0bb4cbcd24d6565e4b": {
      "model_module": "@jupyter-widgets/controls",
      "model_module_version": "2.0.0",
      "model_name": "HTMLModel",
      "state": {
       "layout": "IPY_MODEL_8addfaeb439b4ae3b56159405f220f97",
       "style": "IPY_MODEL_411f0222828841d48ce345d73c6f6701",
       "value": "100%"
      }
     },
     "1191ee5f2c7c4166bf16e0d1d91f9643": {
      "model_module": "@jupyter-widgets/controls",
      "model_module_version": "2.0.0",
      "model_name": "HTMLModel",
      "state": {
       "layout": "IPY_MODEL_46e34fa9e1f0463ea1ad9dec271de088",
       "style": "IPY_MODEL_8f18ffae9d024b6c8be5fdff0f901e4e",
       "value": " 335/335 [33:43&lt;00:00,  5.75s/it]"
      }
     },
     "1276728fa1b545439dac68a0e65b29de": {
      "model_module": "@jupyter-widgets/base",
      "model_module_version": "2.0.0",
      "model_name": "LayoutModel",
      "state": {}
     },
     "12c4b9f7b11342b48987323843d31ac0": {
      "model_module": "@jupyter-widgets/controls",
      "model_module_version": "2.0.0",
      "model_name": "HBoxModel",
      "state": {
       "children": [
        "IPY_MODEL_9213fcdfe9df40f2bd8646ef32d82c31",
        "IPY_MODEL_fa25088b257f4179b3feebb81ccccc7b",
        "IPY_MODEL_a582758fc98e45dc9c35cc276c82e4b1"
       ],
       "layout": "IPY_MODEL_fe822a763ee74fb8a5922ed2a8d36799"
      }
     },
     "12f609c0b7624a7d8da0adab2aadc9ce": {
      "model_module": "@jupyter-widgets/base",
      "model_module_version": "2.0.0",
      "model_name": "LayoutModel",
      "state": {}
     },
     "1311e392c2cc489ab6e79a7fbf3addcb": {
      "model_module": "@jupyter-widgets/base",
      "model_module_version": "2.0.0",
      "model_name": "LayoutModel",
      "state": {}
     },
     "136ba34330d4439db46312977d642504": {
      "model_module": "@jupyter-widgets/controls",
      "model_module_version": "2.0.0",
      "model_name": "HBoxModel",
      "state": {
       "children": [
        "IPY_MODEL_c00d73a168304d9b94141e7e5b0b26fc",
        "IPY_MODEL_c920bb5767024556a97e53747fdc2316",
        "IPY_MODEL_3583be4b84fa44479ad416573de7d29d"
       ],
       "layout": "IPY_MODEL_c64d5b6bb6dd48ceb658fb55cb4c0c25"
      }
     },
     "13718c1018c542d79e9acc215c18d8cb": {
      "model_module": "@jupyter-widgets/base",
      "model_module_version": "2.0.0",
      "model_name": "LayoutModel",
      "state": {}
     },
     "13e0f94f92dd45d0a72823573660c10c": {
      "model_module": "@jupyter-widgets/controls",
      "model_module_version": "2.0.0",
      "model_name": "HTMLModel",
      "state": {
       "layout": "IPY_MODEL_96389e7a81874cb69cd5b971a90b3ec9",
       "style": "IPY_MODEL_4a2dde83cc434dd89cbe68ab6135d8f2",
       "value": " 242/242 [25:08&lt;00:00,  6.28s/it]"
      }
     },
     "13e51fc92ab846109db3a4e89c1248b7": {
      "model_module": "@jupyter-widgets/controls",
      "model_module_version": "2.0.0",
      "model_name": "ProgressStyleModel",
      "state": {
       "description_width": ""
      }
     },
     "147abb77bf1f42da8e0d2368d31b0923": {
      "model_module": "@jupyter-widgets/controls",
      "model_module_version": "2.0.0",
      "model_name": "HTMLStyleModel",
      "state": {
       "description_width": "",
       "font_size": null,
       "text_color": null
      }
     },
     "14887150ad3d44b1a6aac563a2270efd": {
      "model_module": "@jupyter-widgets/controls",
      "model_module_version": "2.0.0",
      "model_name": "HTMLStyleModel",
      "state": {
       "description_width": "",
       "font_size": null,
       "text_color": null
      }
     },
     "168774e7e8a34e5696e601a4b62dbd50": {
      "model_module": "@jupyter-widgets/controls",
      "model_module_version": "2.0.0",
      "model_name": "HTMLModel",
      "state": {
       "layout": "IPY_MODEL_e7d346ddb8d0450d90d764c44ceee900",
       "style": "IPY_MODEL_7f083cf624df42d0bdd391bf5dfffe5d",
       "value": "100%"
      }
     },
     "173033cc0c7b4005af5d774cdf9418f7": {
      "model_module": "@jupyter-widgets/base",
      "model_module_version": "2.0.0",
      "model_name": "LayoutModel",
      "state": {}
     },
     "17a2abb4e81a4085a2824f6131d8193c": {
      "model_module": "@jupyter-widgets/controls",
      "model_module_version": "2.0.0",
      "model_name": "HTMLStyleModel",
      "state": {
       "description_width": "",
       "font_size": null,
       "text_color": null
      }
     },
     "18a3babd11b94a09ac35d2c9fab8af84": {
      "model_module": "@jupyter-widgets/controls",
      "model_module_version": "2.0.0",
      "model_name": "HTMLStyleModel",
      "state": {
       "description_width": "",
       "font_size": null,
       "text_color": null
      }
     },
     "1913b08f5c064e88a4a47d85ba35a9b2": {
      "model_module": "@jupyter-widgets/base",
      "model_module_version": "2.0.0",
      "model_name": "LayoutModel",
      "state": {}
     },
     "1a63b4ce92b44c2ab563d1c0dbf9096b": {
      "model_module": "@jupyter-widgets/base",
      "model_module_version": "2.0.0",
      "model_name": "LayoutModel",
      "state": {}
     },
     "1a84208d7fe14a3996b0a70695390ab2": {
      "model_module": "@jupyter-widgets/controls",
      "model_module_version": "2.0.0",
      "model_name": "HTMLStyleModel",
      "state": {
       "description_width": "",
       "font_size": null,
       "text_color": null
      }
     },
     "1b8ca31ea76e473fb5481fc26cc1cf3c": {
      "model_module": "@jupyter-widgets/controls",
      "model_module_version": "2.0.0",
      "model_name": "HTMLModel",
      "state": {
       "layout": "IPY_MODEL_442c5d862d0a47ae8f5195792e673cd1",
       "style": "IPY_MODEL_dde3c2520b384b15b50692f20943473d",
       "value": " 274/274 [29:19&lt;00:00,  6.99s/it]"
      }
     },
     "1c9057756db9458dbf8e77980c7b8171": {
      "model_module": "@jupyter-widgets/base",
      "model_module_version": "2.0.0",
      "model_name": "LayoutModel",
      "state": {}
     },
     "1d2bf531d5c74623ad8cd40107213f65": {
      "model_module": "@jupyter-widgets/controls",
      "model_module_version": "2.0.0",
      "model_name": "HTMLStyleModel",
      "state": {
       "description_width": "",
       "font_size": null,
       "text_color": null
      }
     },
     "1ebbde2d97a245818963d0c86261eb80": {
      "model_module": "@jupyter-widgets/controls",
      "model_module_version": "2.0.0",
      "model_name": "FloatProgressModel",
      "state": {
       "bar_style": "success",
       "layout": "IPY_MODEL_3755d781e8564e85a721ce6d7e254133",
       "max": 242,
       "style": "IPY_MODEL_4cbf5e17911f47bda388c7f0d3ebcda7",
       "value": 242
      }
     },
     "1ecc818d0653427ca69f025c8cc4d445": {
      "model_module": "@jupyter-widgets/controls",
      "model_module_version": "2.0.0",
      "model_name": "HTMLStyleModel",
      "state": {
       "description_width": "",
       "font_size": null,
       "text_color": null
      }
     },
     "22d2019e4a9d44b094880b753ff53e82": {
      "model_module": "@jupyter-widgets/controls",
      "model_module_version": "2.0.0",
      "model_name": "HTMLStyleModel",
      "state": {
       "description_width": "",
       "font_size": null,
       "text_color": null
      }
     },
     "22fc1327707c4a948f08810e773e801f": {
      "model_module": "@jupyter-widgets/controls",
      "model_module_version": "2.0.0",
      "model_name": "HTMLModel",
      "state": {
       "layout": "IPY_MODEL_7fb8e07f8b2748e89c57a1d8c05cf3f1",
       "style": "IPY_MODEL_d9ea01bf50e847499d7dd1bfff1821d8",
       "value": " 306/306 [28:54&lt;00:00,  5.63s/it]"
      }
     },
     "23e1ae07629b4f5582314065e08d6b8a": {
      "model_module": "@jupyter-widgets/base",
      "model_module_version": "2.0.0",
      "model_name": "LayoutModel",
      "state": {}
     },
     "24515a94c67c4841a6529783c39cbae1": {
      "model_module": "@jupyter-widgets/controls",
      "model_module_version": "2.0.0",
      "model_name": "FloatProgressModel",
      "state": {
       "bar_style": "success",
       "layout": "IPY_MODEL_84d5884f4d7c4229b214c8430afc8945",
       "max": 465,
       "style": "IPY_MODEL_2e65901eb81f45678f73093379a5a12e",
       "value": 465
      }
     },
     "262e4b62b5af441293fad41b96397783": {
      "model_module": "@jupyter-widgets/controls",
      "model_module_version": "2.0.0",
      "model_name": "HTMLStyleModel",
      "state": {
       "description_width": "",
       "font_size": null,
       "text_color": null
      }
     },
     "2663452134c24e5797a330776e118047": {
      "model_module": "@jupyter-widgets/base",
      "model_module_version": "2.0.0",
      "model_name": "LayoutModel",
      "state": {}
     },
     "2669d93638194f899f3fca84c94aa784": {
      "model_module": "@jupyter-widgets/controls",
      "model_module_version": "2.0.0",
      "model_name": "HTMLModel",
      "state": {
       "layout": "IPY_MODEL_8e1d3764555d4a6faa0f3c2e8a88ccab",
       "style": "IPY_MODEL_1ecc818d0653427ca69f025c8cc4d445",
       "value": "100%"
      }
     },
     "26730767a88e49febc3ef6ecff760f37": {
      "model_module": "@jupyter-widgets/base",
      "model_module_version": "2.0.0",
      "model_name": "LayoutModel",
      "state": {}
     },
     "28230e2030bb4cef9192bb37054dca0d": {
      "model_module": "@jupyter-widgets/base",
      "model_module_version": "2.0.0",
      "model_name": "LayoutModel",
      "state": {}
     },
     "28266880acb446afa7ad5f816fb55fe9": {
      "model_module": "@jupyter-widgets/base",
      "model_module_version": "2.0.0",
      "model_name": "LayoutModel",
      "state": {}
     },
     "28644c53c42f4902a79bfcf5b9a3a35a": {
      "model_module": "@jupyter-widgets/controls",
      "model_module_version": "2.0.0",
      "model_name": "FloatProgressModel",
      "state": {
       "bar_style": "success",
       "layout": "IPY_MODEL_297008aefeca40a18cf2bdb4289ed5db",
       "max": 134,
       "style": "IPY_MODEL_030fdfe50b9346ae99716d6ef7b5e368",
       "value": 134
      }
     },
     "29005ff3e31246198e859d96f16897a9": {
      "model_module": "@jupyter-widgets/base",
      "model_module_version": "2.0.0",
      "model_name": "LayoutModel",
      "state": {}
     },
     "297008aefeca40a18cf2bdb4289ed5db": {
      "model_module": "@jupyter-widgets/base",
      "model_module_version": "2.0.0",
      "model_name": "LayoutModel",
      "state": {}
     },
     "2a8a21ee83aa4c4b8c8a193f10d18519": {
      "model_module": "@jupyter-widgets/controls",
      "model_module_version": "2.0.0",
      "model_name": "HTMLStyleModel",
      "state": {
       "description_width": "",
       "font_size": null,
       "text_color": null
      }
     },
     "2c45e9a89cf64d7d9cef5aacfc16585e": {
      "model_module": "@jupyter-widgets/controls",
      "model_module_version": "2.0.0",
      "model_name": "HBoxModel",
      "state": {
       "children": [
        "IPY_MODEL_c3bc4187c1b644099cb37067a0db9cd6",
        "IPY_MODEL_1ebbde2d97a245818963d0c86261eb80",
        "IPY_MODEL_f0d671f3ba5c4fe3a13dbb627767ed00"
       ],
       "layout": "IPY_MODEL_e62347dfc976443d8213125f47589948"
      }
     },
     "2d9bc8fbe95b438fb314c325e13e7f09": {
      "model_module": "@jupyter-widgets/controls",
      "model_module_version": "2.0.0",
      "model_name": "HTMLStyleModel",
      "state": {
       "description_width": "",
       "font_size": null,
       "text_color": null
      }
     },
     "2e2eead74a8044258155cd3a2bc9a717": {
      "model_module": "@jupyter-widgets/controls",
      "model_module_version": "2.0.0",
      "model_name": "ProgressStyleModel",
      "state": {
       "description_width": ""
      }
     },
     "2e65901eb81f45678f73093379a5a12e": {
      "model_module": "@jupyter-widgets/controls",
      "model_module_version": "2.0.0",
      "model_name": "ProgressStyleModel",
      "state": {
       "description_width": ""
      }
     },
     "2ec667b1ab7c409d965ed4710e777c62": {
      "model_module": "@jupyter-widgets/controls",
      "model_module_version": "2.0.0",
      "model_name": "FloatProgressModel",
      "state": {
       "bar_style": "success",
       "layout": "IPY_MODEL_d494eef013e24a0a8e54db30607ae64a",
       "max": 240,
       "style": "IPY_MODEL_2e2eead74a8044258155cd3a2bc9a717",
       "value": 240
      }
     },
     "2f70bf427d2044d587b42505bf8ac3a4": {
      "model_module": "@jupyter-widgets/controls",
      "model_module_version": "2.0.0",
      "model_name": "FloatProgressModel",
      "state": {
       "bar_style": "success",
       "layout": "IPY_MODEL_89785972ad124337aa2ca077da826fb5",
       "max": 108,
       "style": "IPY_MODEL_f292d4912f8c4ad1a6a4a4577f539ca5",
       "value": 108
      }
     },
     "304cdac577ca4474ba116a426938903a": {
      "model_module": "@jupyter-widgets/base",
      "model_module_version": "2.0.0",
      "model_name": "LayoutModel",
      "state": {}
     },
     "307fae1f1cb2438bb9be8d42907e738f": {
      "model_module": "@jupyter-widgets/controls",
      "model_module_version": "2.0.0",
      "model_name": "HTMLModel",
      "state": {
       "layout": "IPY_MODEL_82740deed88e4279a9458c81782581ce",
       "style": "IPY_MODEL_f2192471dacf4f8fb29f7935aa9f38e5",
       "value": " 200/200 [19:33&lt;00:00,  5.84s/it]"
      }
     },
     "320a0eb44c1b46bfb06545ac27410681": {
      "model_module": "@jupyter-widgets/base",
      "model_module_version": "2.0.0",
      "model_name": "LayoutModel",
      "state": {}
     },
     "33b6817c93c04c969f1ac5136cd5b841": {
      "model_module": "@jupyter-widgets/controls",
      "model_module_version": "2.0.0",
      "model_name": "HTMLStyleModel",
      "state": {
       "description_width": "",
       "font_size": null,
       "text_color": null
      }
     },
     "33ff03351b054b3eb6df94d063c7d9f7": {
      "model_module": "@jupyter-widgets/controls",
      "model_module_version": "2.0.0",
      "model_name": "FloatProgressModel",
      "state": {
       "bar_style": "success",
       "layout": "IPY_MODEL_1913b08f5c064e88a4a47d85ba35a9b2",
       "max": 306,
       "style": "IPY_MODEL_13e51fc92ab846109db3a4e89c1248b7",
       "value": 306
      }
     },
     "34d7cdab50754e6f987729a263e7bb88": {
      "model_module": "@jupyter-widgets/controls",
      "model_module_version": "2.0.0",
      "model_name": "HTMLModel",
      "state": {
       "layout": "IPY_MODEL_5ccea047232d4e12a2e021bf01bf9b03",
       "style": "IPY_MODEL_2d9bc8fbe95b438fb314c325e13e7f09",
       "value": " 166/166 [16:39&lt;00:00,  6.64s/it]"
      }
     },
     "3583be4b84fa44479ad416573de7d29d": {
      "model_module": "@jupyter-widgets/controls",
      "model_module_version": "2.0.0",
      "model_name": "HTMLModel",
      "state": {
       "layout": "IPY_MODEL_3fb5b8359ad94617aca33e910742d43e",
       "style": "IPY_MODEL_18a3babd11b94a09ac35d2c9fab8af84",
       "value": " 348/348 [35:51&lt;00:00,  7.62s/it]"
      }
     },
     "362cd778a9584628b824bed92cb80850": {
      "model_module": "@jupyter-widgets/base",
      "model_module_version": "2.0.0",
      "model_name": "LayoutModel",
      "state": {}
     },
     "3755d781e8564e85a721ce6d7e254133": {
      "model_module": "@jupyter-widgets/base",
      "model_module_version": "2.0.0",
      "model_name": "LayoutModel",
      "state": {}
     },
     "3833ddcda4504c0c8dd25c93c5d92d84": {
      "model_module": "@jupyter-widgets/base",
      "model_module_version": "2.0.0",
      "model_name": "LayoutModel",
      "state": {}
     },
     "3922b9f5062f4c8bac6d830f08d35448": {
      "model_module": "@jupyter-widgets/controls",
      "model_module_version": "2.0.0",
      "model_name": "HBoxModel",
      "state": {
       "children": [
        "IPY_MODEL_d45d83a9be614c96bcf9e057cd719064",
        "IPY_MODEL_e8a597b32b55461facc99c0c50001352",
        "IPY_MODEL_307fae1f1cb2438bb9be8d42907e738f"
       ],
       "layout": "IPY_MODEL_3c3d58dc725643a5930fe494abe396c1"
      }
     },
     "3a5d4697bae849e8ac0115d52bdfa5fe": {
      "model_module": "@jupyter-widgets/base",
      "model_module_version": "2.0.0",
      "model_name": "LayoutModel",
      "state": {}
     },
     "3a735f3a4d614e9d970e84f6f68f1c33": {
      "model_module": "@jupyter-widgets/controls",
      "model_module_version": "2.0.0",
      "model_name": "FloatProgressModel",
      "state": {
       "bar_style": "success",
       "layout": "IPY_MODEL_aeb514798bcd42e3b686003c39de2007",
       "max": 274,
       "style": "IPY_MODEL_a9428b2f57424422ab8d3d12bae85b95",
       "value": 274
      }
     },
     "3b09ca82ead24d2aaeae83a11a234370": {
      "model_module": "@jupyter-widgets/controls",
      "model_module_version": "2.0.0",
      "model_name": "HBoxModel",
      "state": {
       "children": [
        "IPY_MODEL_fbb19b24cc464e648a7c9302f12d345d",
        "IPY_MODEL_d233cbbbcc394a7599b841530d31fd6a",
        "IPY_MODEL_1191ee5f2c7c4166bf16e0d1d91f9643"
       ],
       "layout": "IPY_MODEL_f54138e535f34ad29f413b5381ace90c"
      }
     },
     "3c2b289cafbe4a399ed7c84aa6d0a16c": {
      "model_module": "@jupyter-widgets/base",
      "model_module_version": "2.0.0",
      "model_name": "LayoutModel",
      "state": {}
     },
     "3c3d58dc725643a5930fe494abe396c1": {
      "model_module": "@jupyter-widgets/base",
      "model_module_version": "2.0.0",
      "model_name": "LayoutModel",
      "state": {}
     },
     "3db57aa92f8d4e95b3a492a448cb38dc": {
      "model_module": "@jupyter-widgets/base",
      "model_module_version": "2.0.0",
      "model_name": "LayoutModel",
      "state": {}
     },
     "3eaf58b54809477384c176627e9d7e6b": {
      "model_module": "@jupyter-widgets/controls",
      "model_module_version": "2.0.0",
      "model_name": "ProgressStyleModel",
      "state": {
       "description_width": ""
      }
     },
     "3eb2cc4707e6492782d7e9d421e25554": {
      "model_module": "@jupyter-widgets/controls",
      "model_module_version": "2.0.0",
      "model_name": "HTMLModel",
      "state": {
       "layout": "IPY_MODEL_e2956b41876749ce99fb350edca575a7",
       "style": "IPY_MODEL_717049b261ee4f869d1dfa183211a294",
       "value": "100%"
      }
     },
     "3fb5b8359ad94617aca33e910742d43e": {
      "model_module": "@jupyter-widgets/base",
      "model_module_version": "2.0.0",
      "model_name": "LayoutModel",
      "state": {}
     },
     "40162ef2052a4175916ca1b5663421c4": {
      "model_module": "@jupyter-widgets/controls",
      "model_module_version": "2.0.0",
      "model_name": "ProgressStyleModel",
      "state": {
       "description_width": ""
      }
     },
     "402d6192ea2c4733ba6e4a733f042ec5": {
      "model_module": "@jupyter-widgets/controls",
      "model_module_version": "2.0.0",
      "model_name": "FloatProgressModel",
      "state": {
       "bar_style": "success",
       "layout": "IPY_MODEL_173033cc0c7b4005af5d774cdf9418f7",
       "max": 559,
       "style": "IPY_MODEL_4d6ed596b3bb4c4181e1dc0fe22e1e12",
       "value": 559
      }
     },
     "40a72cbfdf8443f8a8debc74e346c3f1": {
      "model_module": "@jupyter-widgets/base",
      "model_module_version": "2.0.0",
      "model_name": "LayoutModel",
      "state": {}
     },
     "411f0222828841d48ce345d73c6f6701": {
      "model_module": "@jupyter-widgets/controls",
      "model_module_version": "2.0.0",
      "model_name": "HTMLStyleModel",
      "state": {
       "description_width": "",
       "font_size": null,
       "text_color": null
      }
     },
     "4192540693b04808a81bdc25757499cb": {
      "model_module": "@jupyter-widgets/controls",
      "model_module_version": "2.0.0",
      "model_name": "HTMLStyleModel",
      "state": {
       "description_width": "",
       "font_size": null,
       "text_color": null
      }
     },
     "42ac484fcabf4888be36ef9659f63d40": {
      "model_module": "@jupyter-widgets/controls",
      "model_module_version": "2.0.0",
      "model_name": "ProgressStyleModel",
      "state": {
       "description_width": ""
      }
     },
     "42bb718d7b3b43ba81a82a5be9556c29": {
      "model_module": "@jupyter-widgets/controls",
      "model_module_version": "2.0.0",
      "model_name": "HTMLModel",
      "state": {
       "layout": "IPY_MODEL_3db57aa92f8d4e95b3a492a448cb38dc",
       "style": "IPY_MODEL_1d2bf531d5c74623ad8cd40107213f65",
       "value": " 344/344 [38:28&lt;00:00,  5.94s/it]"
      }
     },
     "42dbbe4660334ec2aece46861ca58321": {
      "model_module": "@jupyter-widgets/base",
      "model_module_version": "2.0.0",
      "model_name": "LayoutModel",
      "state": {}
     },
     "43585969b62c47e296bb269f9d5531d6": {
      "model_module": "@jupyter-widgets/base",
      "model_module_version": "2.0.0",
      "model_name": "LayoutModel",
      "state": {}
     },
     "442c5d862d0a47ae8f5195792e673cd1": {
      "model_module": "@jupyter-widgets/base",
      "model_module_version": "2.0.0",
      "model_name": "LayoutModel",
      "state": {}
     },
     "44503be589c2420ea69556f73271fbab": {
      "model_module": "@jupyter-widgets/base",
      "model_module_version": "2.0.0",
      "model_name": "LayoutModel",
      "state": {}
     },
     "46d9f25c46cc42199b09528f0ea18976": {
      "model_module": "@jupyter-widgets/base",
      "model_module_version": "2.0.0",
      "model_name": "LayoutModel",
      "state": {}
     },
     "46e34fa9e1f0463ea1ad9dec271de088": {
      "model_module": "@jupyter-widgets/base",
      "model_module_version": "2.0.0",
      "model_name": "LayoutModel",
      "state": {}
     },
     "475dbb7880cf402d8314835bb46e9335": {
      "model_module": "@jupyter-widgets/controls",
      "model_module_version": "2.0.0",
      "model_name": "HTMLStyleModel",
      "state": {
       "description_width": "",
       "font_size": null,
       "text_color": null
      }
     },
     "48942a8674d44d0bbaf7f2d1ed619bbd": {
      "model_module": "@jupyter-widgets/controls",
      "model_module_version": "2.0.0",
      "model_name": "HBoxModel",
      "state": {
       "children": [
        "IPY_MODEL_c0fe6fd6fa4b4c82b35849bf8026ab03",
        "IPY_MODEL_bfd0a41a1980412981fc9671b84c64bd",
        "IPY_MODEL_a42668dc00f34233a3de8b513aee7cb1"
       ],
       "layout": "IPY_MODEL_83a1084f7e7a41368487953f56bf582b"
      }
     },
     "49828df3eadd4c87be1bb3a79100d7af": {
      "model_module": "@jupyter-widgets/base",
      "model_module_version": "2.0.0",
      "model_name": "LayoutModel",
      "state": {}
     },
     "49a17effd0a84fbe81f11e22ca9371e0": {
      "model_module": "@jupyter-widgets/controls",
      "model_module_version": "2.0.0",
      "model_name": "HTMLStyleModel",
      "state": {
       "description_width": "",
       "font_size": null,
       "text_color": null
      }
     },
     "49da29a7756c40f4848cc35e5040fc96": {
      "model_module": "@jupyter-widgets/base",
      "model_module_version": "2.0.0",
      "model_name": "LayoutModel",
      "state": {}
     },
     "4a2dde83cc434dd89cbe68ab6135d8f2": {
      "model_module": "@jupyter-widgets/controls",
      "model_module_version": "2.0.0",
      "model_name": "HTMLStyleModel",
      "state": {
       "description_width": "",
       "font_size": null,
       "text_color": null
      }
     },
     "4ae9a3cf6250473ea2e636e591f223f4": {
      "model_module": "@jupyter-widgets/base",
      "model_module_version": "2.0.0",
      "model_name": "LayoutModel",
      "state": {}
     },
     "4b88b0b52eb64093a73a33dd1f1687d8": {
      "model_module": "@jupyter-widgets/base",
      "model_module_version": "2.0.0",
      "model_name": "LayoutModel",
      "state": {}
     },
     "4c473303be7e48d0a37b63def834fd95": {
      "model_module": "@jupyter-widgets/base",
      "model_module_version": "2.0.0",
      "model_name": "LayoutModel",
      "state": {}
     },
     "4c9d7b28c2df49b7a55f6d7d738345a1": {
      "model_module": "@jupyter-widgets/base",
      "model_module_version": "2.0.0",
      "model_name": "LayoutModel",
      "state": {}
     },
     "4cbf5e17911f47bda388c7f0d3ebcda7": {
      "model_module": "@jupyter-widgets/controls",
      "model_module_version": "2.0.0",
      "model_name": "ProgressStyleModel",
      "state": {
       "description_width": ""
      }
     },
     "4d6ed596b3bb4c4181e1dc0fe22e1e12": {
      "model_module": "@jupyter-widgets/controls",
      "model_module_version": "2.0.0",
      "model_name": "ProgressStyleModel",
      "state": {
       "description_width": ""
      }
     },
     "4ece8959cb3e4beba7be932b7ffed4d4": {
      "model_module": "@jupyter-widgets/controls",
      "model_module_version": "2.0.0",
      "model_name": "HTMLStyleModel",
      "state": {
       "description_width": "",
       "font_size": null,
       "text_color": null
      }
     },
     "4f24416788814388ba4cf4e0dd0ca442": {
      "model_module": "@jupyter-widgets/controls",
      "model_module_version": "2.0.0",
      "model_name": "HTMLStyleModel",
      "state": {
       "description_width": "",
       "font_size": null,
       "text_color": null
      }
     },
     "4faee228be024cab88ba9bb62191da30": {
      "model_module": "@jupyter-widgets/base",
      "model_module_version": "2.0.0",
      "model_name": "LayoutModel",
      "state": {}
     },
     "509a7569385949b8b6c39ec11278b446": {
      "model_module": "@jupyter-widgets/controls",
      "model_module_version": "2.0.0",
      "model_name": "FloatProgressModel",
      "state": {
       "bar_style": "success",
       "layout": "IPY_MODEL_320a0eb44c1b46bfb06545ac27410681",
       "max": 108,
       "style": "IPY_MODEL_9718e9b7456e47e5bcda5dde72de87af",
       "value": 108
      }
     },
     "5135d20859474e7a81b5b2ffda00bd15": {
      "model_module": "@jupyter-widgets/controls",
      "model_module_version": "2.0.0",
      "model_name": "HBoxModel",
      "state": {
       "children": [
        "IPY_MODEL_fcb046e759d341748bf0ee8e93e9a128",
        "IPY_MODEL_87496f2201a249f588e751112e2093ae",
        "IPY_MODEL_0d186b1743a14c5a80589bc6f3db9c55"
       ],
       "layout": "IPY_MODEL_81967515af9a43cbb090c3060fcec4bc"
      }
     },
     "54d1e4bf34f3419fb715a2629c548ebb": {
      "model_module": "@jupyter-widgets/controls",
      "model_module_version": "2.0.0",
      "model_name": "FloatProgressModel",
      "state": {
       "bar_style": "success",
       "layout": "IPY_MODEL_1a63b4ce92b44c2ab563d1c0dbf9096b",
       "max": 182,
       "style": "IPY_MODEL_837618572c234d4f8c9876bdf7ee3342",
       "value": 182
      }
     },
     "56ce928af4344018833edc488d9697c5": {
      "model_module": "@jupyter-widgets/controls",
      "model_module_version": "2.0.0",
      "model_name": "ProgressStyleModel",
      "state": {
       "description_width": ""
      }
     },
     "56f69c3d0d004e4f8fbc8a8cdc770c44": {
      "model_module": "@jupyter-widgets/controls",
      "model_module_version": "2.0.0",
      "model_name": "HTMLStyleModel",
      "state": {
       "description_width": "",
       "font_size": null,
       "text_color": null
      }
     },
     "592649bb3920414a90cba8cd7a696b25": {
      "model_module": "@jupyter-widgets/controls",
      "model_module_version": "2.0.0",
      "model_name": "HTMLStyleModel",
      "state": {
       "description_width": "",
       "font_size": null,
       "text_color": null
      }
     },
     "5a4ed557d10e47a482476f14c024463a": {
      "model_module": "@jupyter-widgets/controls",
      "model_module_version": "2.0.0",
      "model_name": "HBoxModel",
      "state": {
       "children": [
        "IPY_MODEL_5e0985bc7d4b449194f89fd68a00ed90",
        "IPY_MODEL_b0434d5f5004459e9b5cfdaf73a0d21e",
        "IPY_MODEL_a728cba1777f4d63a2d569a793631883"
       ],
       "layout": "IPY_MODEL_42dbbe4660334ec2aece46861ca58321"
      }
     },
     "5b069a8653944f6e8a163553dfecbaeb": {
      "model_module": "@jupyter-widgets/controls",
      "model_module_version": "2.0.0",
      "model_name": "HTMLModel",
      "state": {
       "layout": "IPY_MODEL_8c35a5ee718f4c93a6990240a6f51a33",
       "style": "IPY_MODEL_4192540693b04808a81bdc25757499cb",
       "value": "100%"
      }
     },
     "5ccea047232d4e12a2e021bf01bf9b03": {
      "model_module": "@jupyter-widgets/base",
      "model_module_version": "2.0.0",
      "model_name": "LayoutModel",
      "state": {}
     },
     "5ce12a7682174160b380c95c963cbed6": {
      "model_module": "@jupyter-widgets/controls",
      "model_module_version": "2.0.0",
      "model_name": "FloatProgressModel",
      "state": {
       "bar_style": "success",
       "layout": "IPY_MODEL_4faee228be024cab88ba9bb62191da30",
       "max": 306,
       "style": "IPY_MODEL_f5a0e0cef81e4d7e88e81ff7d4df7e22",
       "value": 306
      }
     },
     "5e0985bc7d4b449194f89fd68a00ed90": {
      "model_module": "@jupyter-widgets/controls",
      "model_module_version": "2.0.0",
      "model_name": "HTMLModel",
      "state": {
       "layout": "IPY_MODEL_d83951e35abc427f8f5ededb3dec151f",
       "style": "IPY_MODEL_33b6817c93c04c969f1ac5136cd5b841",
       "value": "100%"
      }
     },
     "5f26141be4e64252acc7ec224ca0caae": {
      "model_module": "@jupyter-widgets/controls",
      "model_module_version": "2.0.0",
      "model_name": "HTMLModel",
      "state": {
       "layout": "IPY_MODEL_b47e73e064884c1da54d4d0233023814",
       "style": "IPY_MODEL_6f366fe96be246d5b7c0709b8d96111c",
       "value": " 198/198 [19:15&lt;00:00,  5.43s/it]"
      }
     },
     "60d38b1666b74ee69c35d7199f1164c3": {
      "model_module": "@jupyter-widgets/base",
      "model_module_version": "2.0.0",
      "model_name": "LayoutModel",
      "state": {}
     },
     "6225b67035d24f8da5270e80915677f7": {
      "model_module": "@jupyter-widgets/base",
      "model_module_version": "2.0.0",
      "model_name": "LayoutModel",
      "state": {}
     },
     "642289987e65447ab945916fd37c91ce": {
      "model_module": "@jupyter-widgets/controls",
      "model_module_version": "2.0.0",
      "model_name": "ProgressStyleModel",
      "state": {
       "description_width": ""
      }
     },
     "64369d9002af489098372e85c0d2dbc4": {
      "model_module": "@jupyter-widgets/base",
      "model_module_version": "2.0.0",
      "model_name": "LayoutModel",
      "state": {}
     },
     "66c64fd7faa744218e45ad3279f30224": {
      "model_module": "@jupyter-widgets/controls",
      "model_module_version": "2.0.0",
      "model_name": "HBoxModel",
      "state": {
       "children": [
        "IPY_MODEL_5b069a8653944f6e8a163553dfecbaeb",
        "IPY_MODEL_3a735f3a4d614e9d970e84f6f68f1c33",
        "IPY_MODEL_1b8ca31ea76e473fb5481fc26cc1cf3c"
       ],
       "layout": "IPY_MODEL_abe357a5126d4ae98b4e593425ab4d1a"
      }
     },
     "690a34a55af94e80b89fa35b7d6d1439": {
      "model_module": "@jupyter-widgets/controls",
      "model_module_version": "2.0.0",
      "model_name": "HTMLStyleModel",
      "state": {
       "description_width": "",
       "font_size": null,
       "text_color": null
      }
     },
     "6c7d2cc1d874461fa9dc95d1cc6e6ee0": {
      "model_module": "@jupyter-widgets/controls",
      "model_module_version": "2.0.0",
      "model_name": "HBoxModel",
      "state": {
       "children": [
        "IPY_MODEL_fcc31ab65eb44cde9c1fa585d08c480e",
        "IPY_MODEL_33ff03351b054b3eb6df94d063c7d9f7",
        "IPY_MODEL_22fc1327707c4a948f08810e773e801f"
       ],
       "layout": "IPY_MODEL_a6df94691da3466ab93055ad80238002"
      }
     },
     "6c8b7472906245cdb2cc37a94a35ccfb": {
      "model_module": "@jupyter-widgets/controls",
      "model_module_version": "2.0.0",
      "model_name": "FloatProgressModel",
      "state": {
       "bar_style": "success",
       "layout": "IPY_MODEL_79ebf7663312430da2a269edd09ac889",
       "max": 198,
       "style": "IPY_MODEL_9b0c5583be114df2b053febeef351711",
       "value": 198
      }
     },
     "6e14a8c064054ebaaf5c410da8866f95": {
      "model_module": "@jupyter-widgets/controls",
      "model_module_version": "2.0.0",
      "model_name": "HTMLStyleModel",
      "state": {
       "description_width": "",
       "font_size": null,
       "text_color": null
      }
     },
     "6e1bd77ea6974467ba93beb05dba577c": {
      "model_module": "@jupyter-widgets/base",
      "model_module_version": "2.0.0",
      "model_name": "LayoutModel",
      "state": {}
     },
     "6f0eab1dbb3b415b91dfd1c7805254dc": {
      "model_module": "@jupyter-widgets/base",
      "model_module_version": "2.0.0",
      "model_name": "LayoutModel",
      "state": {}
     },
     "6f366fe96be246d5b7c0709b8d96111c": {
      "model_module": "@jupyter-widgets/controls",
      "model_module_version": "2.0.0",
      "model_name": "HTMLStyleModel",
      "state": {
       "description_width": "",
       "font_size": null,
       "text_color": null
      }
     },
     "717049b261ee4f869d1dfa183211a294": {
      "model_module": "@jupyter-widgets/controls",
      "model_module_version": "2.0.0",
      "model_name": "HTMLStyleModel",
      "state": {
       "description_width": "",
       "font_size": null,
       "text_color": null
      }
     },
     "74381af7def14085ba790c675e573bbf": {
      "model_module": "@jupyter-widgets/controls",
      "model_module_version": "2.0.0",
      "model_name": "HBoxModel",
      "state": {
       "children": [
        "IPY_MODEL_10e988d14aa34c0bb4cbcd24d6565e4b",
        "IPY_MODEL_02e6cf206bf9485eaf097ed8c2d067cc",
        "IPY_MODEL_aee85755b8fb4a4aa075b1682fce166f"
       ],
       "layout": "IPY_MODEL_fcb8ef87bc804079803fec2d607c966c"
      }
     },
     "74f515f4081a409c91bbd09a97ba0d9f": {
      "model_module": "@jupyter-widgets/controls",
      "model_module_version": "2.0.0",
      "model_name": "HTMLModel",
      "state": {
       "layout": "IPY_MODEL_26730767a88e49febc3ef6ecff760f37",
       "style": "IPY_MODEL_a278811172e04ae0953c1df4a77d7b61",
       "value": "100%"
      }
     },
     "7597d43255b847f0bdb79bb1c533feec": {
      "model_module": "@jupyter-widgets/controls",
      "model_module_version": "2.0.0",
      "model_name": "HTMLStyleModel",
      "state": {
       "description_width": "",
       "font_size": null,
       "text_color": null
      }
     },
     "75bd24c0dcd54feabec3e055d97720eb": {
      "model_module": "@jupyter-widgets/controls",
      "model_module_version": "2.0.0",
      "model_name": "HTMLStyleModel",
      "state": {
       "description_width": "",
       "font_size": null,
       "text_color": null
      }
     },
     "78011aed26994670b1856604d62ca49c": {
      "model_module": "@jupyter-widgets/controls",
      "model_module_version": "2.0.0",
      "model_name": "HTMLModel",
      "state": {
       "layout": "IPY_MODEL_fb12371980a04dbaad160308b08ea2e4",
       "style": "IPY_MODEL_6e14a8c064054ebaaf5c410da8866f95",
       "value": "100%"
      }
     },
     "78f1d5ce7465439dbd4c99db85f245fd": {
      "model_module": "@jupyter-widgets/controls",
      "model_module_version": "2.0.0",
      "model_name": "HBoxModel",
      "state": {
       "children": [
        "IPY_MODEL_2669d93638194f899f3fca84c94aa784",
        "IPY_MODEL_6c8b7472906245cdb2cc37a94a35ccfb",
        "IPY_MODEL_5f26141be4e64252acc7ec224ca0caae"
       ],
       "layout": "IPY_MODEL_6225b67035d24f8da5270e80915677f7"
      }
     },
     "79cc5676fa1c412fa8f2b390846683d5": {
      "model_module": "@jupyter-widgets/controls",
      "model_module_version": "2.0.0",
      "model_name": "HTMLModel",
      "state": {
       "layout": "IPY_MODEL_fa9ba242a7054412b95e25083e6c7992",
       "style": "IPY_MODEL_9c13922b0f744f9ba2c0730d447a058e",
       "value": " 108/108 [11:10&lt;00:00,  6.34s/it]"
      }
     },
     "79ebf7663312430da2a269edd09ac889": {
      "model_module": "@jupyter-widgets/base",
      "model_module_version": "2.0.0",
      "model_name": "LayoutModel",
      "state": {}
     },
     "7a08693a504449849fbace560b68ad05": {
      "model_module": "@jupyter-widgets/base",
      "model_module_version": "2.0.0",
      "model_name": "LayoutModel",
      "state": {}
     },
     "7a30b9ce67cf4293be5ce58004292b25": {
      "model_module": "@jupyter-widgets/controls",
      "model_module_version": "2.0.0",
      "model_name": "ProgressStyleModel",
      "state": {
       "description_width": ""
      }
     },
     "7bcac7b1f7ab4b7087166e4849ec5ba0": {
      "model_module": "@jupyter-widgets/controls",
      "model_module_version": "2.0.0",
      "model_name": "HTMLStyleModel",
      "state": {
       "description_width": "",
       "font_size": null,
       "text_color": null
      }
     },
     "7bd86bcaa1df405fb31ecd1c145b5b0a": {
      "model_module": "@jupyter-widgets/controls",
      "model_module_version": "2.0.0",
      "model_name": "HTMLModel",
      "state": {
       "layout": "IPY_MODEL_88cf1c9df65e4414a6c2bab55664dab6",
       "style": "IPY_MODEL_c4df9e0018ee4c12bad8b39e21ed6842",
       "value": " 182/182 [19:29&lt;00:00,  6.42s/it]"
      }
     },
     "7cb62fcca46b4e48b4f7705d187f0351": {
      "model_module": "@jupyter-widgets/base",
      "model_module_version": "2.0.0",
      "model_name": "LayoutModel",
      "state": {}
     },
     "7cc515e01e9a4a1aa893e829d82bb909": {
      "model_module": "@jupyter-widgets/controls",
      "model_module_version": "2.0.0",
      "model_name": "HTMLStyleModel",
      "state": {
       "description_width": "",
       "font_size": null,
       "text_color": null
      }
     },
     "7ed73e57d6d343d8b942464ec836b390": {
      "model_module": "@jupyter-widgets/controls",
      "model_module_version": "2.0.0",
      "model_name": "HTMLStyleModel",
      "state": {
       "description_width": "",
       "font_size": null,
       "text_color": null
      }
     },
     "7f083cf624df42d0bdd391bf5dfffe5d": {
      "model_module": "@jupyter-widgets/controls",
      "model_module_version": "2.0.0",
      "model_name": "HTMLStyleModel",
      "state": {
       "description_width": "",
       "font_size": null,
       "text_color": null
      }
     },
     "7fb8e07f8b2748e89c57a1d8c05cf3f1": {
      "model_module": "@jupyter-widgets/base",
      "model_module_version": "2.0.0",
      "model_name": "LayoutModel",
      "state": {}
     },
     "81967515af9a43cbb090c3060fcec4bc": {
      "model_module": "@jupyter-widgets/base",
      "model_module_version": "2.0.0",
      "model_name": "LayoutModel",
      "state": {}
     },
     "81b70d2e89984f6e8d1a6eddabe28660": {
      "model_module": "@jupyter-widgets/controls",
      "model_module_version": "2.0.0",
      "model_name": "HTMLStyleModel",
      "state": {
       "description_width": "",
       "font_size": null,
       "text_color": null
      }
     },
     "81d2a2a2b97c47a19404078463e9c3f6": {
      "model_module": "@jupyter-widgets/base",
      "model_module_version": "2.0.0",
      "model_name": "LayoutModel",
      "state": {}
     },
     "81f5e82206e3471f94f02e8d5abbcfc7": {
      "model_module": "@jupyter-widgets/controls",
      "model_module_version": "2.0.0",
      "model_name": "ProgressStyleModel",
      "state": {
       "description_width": ""
      }
     },
     "82740deed88e4279a9458c81782581ce": {
      "model_module": "@jupyter-widgets/base",
      "model_module_version": "2.0.0",
      "model_name": "LayoutModel",
      "state": {}
     },
     "82e2a98c84194dc89551b3dce4788444": {
      "model_module": "@jupyter-widgets/controls",
      "model_module_version": "2.0.0",
      "model_name": "FloatProgressModel",
      "state": {
       "bar_style": "success",
       "layout": "IPY_MODEL_7a08693a504449849fbace560b68ad05",
       "max": 166,
       "style": "IPY_MODEL_082a5e89ccaf43c6893c448148f831c4",
       "value": 166
      }
     },
     "837618572c234d4f8c9876bdf7ee3342": {
      "model_module": "@jupyter-widgets/controls",
      "model_module_version": "2.0.0",
      "model_name": "ProgressStyleModel",
      "state": {
       "description_width": ""
      }
     },
     "83a1084f7e7a41368487953f56bf582b": {
      "model_module": "@jupyter-widgets/base",
      "model_module_version": "2.0.0",
      "model_name": "LayoutModel",
      "state": {}
     },
     "84c02e2bc75540f88df6d66facadb085": {
      "model_module": "@jupyter-widgets/controls",
      "model_module_version": "2.0.0",
      "model_name": "ProgressStyleModel",
      "state": {
       "description_width": ""
      }
     },
     "84d5884f4d7c4229b214c8430afc8945": {
      "model_module": "@jupyter-widgets/base",
      "model_module_version": "2.0.0",
      "model_name": "LayoutModel",
      "state": {}
     },
     "8596c0e1d2764163bce2407e8b12a2b8": {
      "model_module": "@jupyter-widgets/base",
      "model_module_version": "2.0.0",
      "model_name": "LayoutModel",
      "state": {}
     },
     "866f92d2f75246a2a4dcccd1a677a3e2": {
      "model_module": "@jupyter-widgets/base",
      "model_module_version": "2.0.0",
      "model_name": "LayoutModel",
      "state": {}
     },
     "86b44bfd6ae744989d4fdcbf624b01e8": {
      "model_module": "@jupyter-widgets/controls",
      "model_module_version": "2.0.0",
      "model_name": "HTMLStyleModel",
      "state": {
       "description_width": "",
       "font_size": null,
       "text_color": null
      }
     },
     "870236c4e5224ea8a48707ddbfadf18e": {
      "model_module": "@jupyter-widgets/controls",
      "model_module_version": "2.0.0",
      "model_name": "HTMLModel",
      "state": {
       "layout": "IPY_MODEL_ce3e873a0dbc47d98f78eed81d91f275",
       "style": "IPY_MODEL_0707e914f04943b7a89ca53890dc899d",
       "value": " 134/134 [13:47&lt;00:00,  5.18s/it]"
      }
     },
     "8724d6e56219414b826e21e07a256ba4": {
      "model_module": "@jupyter-widgets/base",
      "model_module_version": "2.0.0",
      "model_name": "LayoutModel",
      "state": {}
     },
     "87496f2201a249f588e751112e2093ae": {
      "model_module": "@jupyter-widgets/controls",
      "model_module_version": "2.0.0",
      "model_name": "FloatProgressModel",
      "state": {
       "bar_style": "success",
       "layout": "IPY_MODEL_c152354aa3cd477cbfff4fc243176255",
       "max": 593,
       "style": "IPY_MODEL_a41819fd2e0b4df9b4e9ba82ab41a77e",
       "value": 593
      }
     },
     "88b41a79c6d240638c5bc144888e87b5": {
      "model_module": "@jupyter-widgets/controls",
      "model_module_version": "2.0.0",
      "model_name": "HTMLModel",
      "state": {
       "layout": "IPY_MODEL_d93052e7ab8048bcb304f326241c6912",
       "style": "IPY_MODEL_fca06d29335b4d39a0f5d72a2b322023",
       "value": " 108/108 [10:59&lt;00:00,  5.83s/it]"
      }
     },
     "88cf1c9df65e4414a6c2bab55664dab6": {
      "model_module": "@jupyter-widgets/base",
      "model_module_version": "2.0.0",
      "model_name": "LayoutModel",
      "state": {}
     },
     "892d5cf954684b86b5284b61ba0546b5": {
      "model_module": "@jupyter-widgets/controls",
      "model_module_version": "2.0.0",
      "model_name": "HTMLModel",
      "state": {
       "layout": "IPY_MODEL_e9ac632ed6654383a1c20ec395b2cf8c",
       "style": "IPY_MODEL_a68a7dbc2c004d4daf104124ba50cefd",
       "value": "100%"
      }
     },
     "89438e87abfa46ebb22858c206d86bf4": {
      "model_module": "@jupyter-widgets/controls",
      "model_module_version": "2.0.0",
      "model_name": "HTMLStyleModel",
      "state": {
       "description_width": "",
       "font_size": null,
       "text_color": null
      }
     },
     "89785972ad124337aa2ca077da826fb5": {
      "model_module": "@jupyter-widgets/base",
      "model_module_version": "2.0.0",
      "model_name": "LayoutModel",
      "state": {}
     },
     "8addfaeb439b4ae3b56159405f220f97": {
      "model_module": "@jupyter-widgets/base",
      "model_module_version": "2.0.0",
      "model_name": "LayoutModel",
      "state": {}
     },
     "8c35a5ee718f4c93a6990240a6f51a33": {
      "model_module": "@jupyter-widgets/base",
      "model_module_version": "2.0.0",
      "model_name": "LayoutModel",
      "state": {}
     },
     "8c3a03afafa44913bbd2042d5bfcd9e0": {
      "model_module": "@jupyter-widgets/controls",
      "model_module_version": "2.0.0",
      "model_name": "HTMLModel",
      "state": {
       "layout": "IPY_MODEL_3833ddcda4504c0c8dd25c93c5d92d84",
       "style": "IPY_MODEL_f90854fdc24d4ff88f9a1ba7efd332d6",
       "value": " 87/87 [09:08&lt;00:00,  5.67s/it]"
      }
     },
     "8c5a939e854f4808b5df96820576ba8c": {
      "model_module": "@jupyter-widgets/base",
      "model_module_version": "2.0.0",
      "model_name": "LayoutModel",
      "state": {}
     },
     "8d0a4e198f25498abcf783dc9166dbb9": {
      "model_module": "@jupyter-widgets/controls",
      "model_module_version": "2.0.0",
      "model_name": "HBoxModel",
      "state": {
       "children": [
        "IPY_MODEL_a291faae8898498dbffa4ae9176364d6",
        "IPY_MODEL_fdd0d5a247864bcb820cde422aefdfc6",
        "IPY_MODEL_8c3a03afafa44913bbd2042d5bfcd9e0"
       ],
       "layout": "IPY_MODEL_ab147bad764a47449af04003eeda3985"
      }
     },
     "8e1d3764555d4a6faa0f3c2e8a88ccab": {
      "model_module": "@jupyter-widgets/base",
      "model_module_version": "2.0.0",
      "model_name": "LayoutModel",
      "state": {}
     },
     "8e4b7ede3e874e21ad9a73c655ad181f": {
      "model_module": "@jupyter-widgets/controls",
      "model_module_version": "2.0.0",
      "model_name": "ProgressStyleModel",
      "state": {
       "description_width": ""
      }
     },
     "8ec7451b926d4ffeb9bd56a3b323665e": {
      "model_module": "@jupyter-widgets/controls",
      "model_module_version": "2.0.0",
      "model_name": "FloatProgressModel",
      "state": {
       "bar_style": "success",
       "layout": "IPY_MODEL_c315589a257d4a4382002c421083e27e",
       "max": 134,
       "style": "IPY_MODEL_3eaf58b54809477384c176627e9d7e6b",
       "value": 134
      }
     },
     "8f18ffae9d024b6c8be5fdff0f901e4e": {
      "model_module": "@jupyter-widgets/controls",
      "model_module_version": "2.0.0",
      "model_name": "HTMLStyleModel",
      "state": {
       "description_width": "",
       "font_size": null,
       "text_color": null
      }
     },
     "9064249ab00146dc8e295b7fc10a9cb7": {
      "model_module": "@jupyter-widgets/controls",
      "model_module_version": "2.0.0",
      "model_name": "HBoxModel",
      "state": {
       "children": [
        "IPY_MODEL_3eb2cc4707e6492782d7e9d421e25554",
        "IPY_MODEL_2ec667b1ab7c409d965ed4710e777c62",
        "IPY_MODEL_ad0a651eba474678bacd44b2dee3f8ef"
       ],
       "layout": "IPY_MODEL_4c9d7b28c2df49b7a55f6d7d738345a1"
      }
     },
     "9125037b9c854ed685c4f0ef76dcc10a": {
      "model_module": "@jupyter-widgets/base",
      "model_module_version": "2.0.0",
      "model_name": "LayoutModel",
      "state": {}
     },
     "914b895ae30143f2b4ffbd7664940d7f": {
      "model_module": "@jupyter-widgets/controls",
      "model_module_version": "2.0.0",
      "model_name": "HBoxModel",
      "state": {
       "children": [
        "IPY_MODEL_965cc3dcfed44c5fa5801d41768715b2",
        "IPY_MODEL_24515a94c67c4841a6529783c39cbae1",
        "IPY_MODEL_9c542412250e4c428df24f52c66bf459"
       ],
       "layout": "IPY_MODEL_db552e546bc74e6ca83fbb18ec246098"
      }
     },
     "915d029e742e4026a9aac91d2f97d9a2": {
      "model_module": "@jupyter-widgets/controls",
      "model_module_version": "2.0.0",
      "model_name": "ProgressStyleModel",
      "state": {
       "description_width": ""
      }
     },
     "91a55f5458df44c6a5e962befa919752": {
      "model_module": "@jupyter-widgets/controls",
      "model_module_version": "2.0.0",
      "model_name": "HBoxModel",
      "state": {
       "children": [
        "IPY_MODEL_892d5cf954684b86b5284b61ba0546b5",
        "IPY_MODEL_54d1e4bf34f3419fb715a2629c548ebb",
        "IPY_MODEL_d92558449dbc4b2b96a9d7fd0fcaa467"
       ],
       "layout": "IPY_MODEL_d965704869a84517a1be26733f0fbb3f"
      }
     },
     "9213fcdfe9df40f2bd8646ef32d82c31": {
      "model_module": "@jupyter-widgets/controls",
      "model_module_version": "2.0.0",
      "model_name": "HTMLModel",
      "state": {
       "layout": "IPY_MODEL_943d701eba29454fa93f9fea4d0d1299",
       "style": "IPY_MODEL_e246435c08cc426186a5a8cac8977b1f",
       "value": "100%"
      }
     },
     "943d701eba29454fa93f9fea4d0d1299": {
      "model_module": "@jupyter-widgets/base",
      "model_module_version": "2.0.0",
      "model_name": "LayoutModel",
      "state": {}
     },
     "94d40860d5c64515aa4494681c480b33": {
      "model_module": "@jupyter-widgets/base",
      "model_module_version": "2.0.0",
      "model_name": "LayoutModel",
      "state": {}
     },
     "94fdeffb65e24409949e3856de3172f3": {
      "model_module": "@jupyter-widgets/controls",
      "model_module_version": "2.0.0",
      "model_name": "HTMLStyleModel",
      "state": {
       "description_width": "",
       "font_size": null,
       "text_color": null
      }
     },
     "957c7c565f3a499aa32558c320f6f8d0": {
      "model_module": "@jupyter-widgets/base",
      "model_module_version": "2.0.0",
      "model_name": "LayoutModel",
      "state": {}
     },
     "96389e7a81874cb69cd5b971a90b3ec9": {
      "model_module": "@jupyter-widgets/base",
      "model_module_version": "2.0.0",
      "model_name": "LayoutModel",
      "state": {}
     },
     "965cc3dcfed44c5fa5801d41768715b2": {
      "model_module": "@jupyter-widgets/controls",
      "model_module_version": "2.0.0",
      "model_name": "HTMLModel",
      "state": {
       "layout": "IPY_MODEL_8724d6e56219414b826e21e07a256ba4",
       "style": "IPY_MODEL_9e4ea52f863f4a48a5f8889aa9e3a8bd",
       "value": "100%"
      }
     },
     "9718e9b7456e47e5bcda5dde72de87af": {
      "model_module": "@jupyter-widgets/controls",
      "model_module_version": "2.0.0",
      "model_name": "ProgressStyleModel",
      "state": {
       "description_width": ""
      }
     },
     "98966599c5f9427ca354a71c5a004713": {
      "model_module": "@jupyter-widgets/controls",
      "model_module_version": "2.0.0",
      "model_name": "HTMLModel",
      "state": {
       "layout": "IPY_MODEL_866f92d2f75246a2a4dcccd1a677a3e2",
       "style": "IPY_MODEL_86b44bfd6ae744989d4fdcbf624b01e8",
       "value": " 306/306 [27:53&lt;00:00,  5.11s/it]"
      }
     },
     "9b0c5583be114df2b053febeef351711": {
      "model_module": "@jupyter-widgets/controls",
      "model_module_version": "2.0.0",
      "model_name": "ProgressStyleModel",
      "state": {
       "description_width": ""
      }
     },
     "9c13922b0f744f9ba2c0730d447a058e": {
      "model_module": "@jupyter-widgets/controls",
      "model_module_version": "2.0.0",
      "model_name": "HTMLStyleModel",
      "state": {
       "description_width": "",
       "font_size": null,
       "text_color": null
      }
     },
     "9c542412250e4c428df24f52c66bf459": {
      "model_module": "@jupyter-widgets/controls",
      "model_module_version": "2.0.0",
      "model_name": "HTMLModel",
      "state": {
       "layout": "IPY_MODEL_d0ceb4c009d147de94b7390b14826046",
       "style": "IPY_MODEL_1a84208d7fe14a3996b0a70695390ab2",
       "value": " 465/465 [45:07&lt;00:00,  5.65s/it]"
      }
     },
     "9c56b6ec5c45458fb5bae688fcd30ffe": {
      "model_module": "@jupyter-widgets/controls",
      "model_module_version": "2.0.0",
      "model_name": "HBoxModel",
      "state": {
       "children": [
        "IPY_MODEL_e6b811882f9f431dbf0197cd74146bd6",
        "IPY_MODEL_cb66bf8e600b4b0a81d7ddcdda86a603",
        "IPY_MODEL_42bb718d7b3b43ba81a82a5be9556c29"
       ],
       "layout": "IPY_MODEL_a12e9632633742a7aff31d5e19a2acbb"
      }
     },
     "9cb1816ed298432a88c7bec7b2a9291c": {
      "model_module": "@jupyter-widgets/controls",
      "model_module_version": "2.0.0",
      "model_name": "FloatProgressModel",
      "state": {
       "bar_style": "success",
       "layout": "IPY_MODEL_1c9057756db9458dbf8e77980c7b8171",
       "max": 134,
       "style": "IPY_MODEL_f7341afddd504b33b7c9991ff841583b",
       "value": 134
      }
     },
     "9e4ea52f863f4a48a5f8889aa9e3a8bd": {
      "model_module": "@jupyter-widgets/controls",
      "model_module_version": "2.0.0",
      "model_name": "HTMLStyleModel",
      "state": {
       "description_width": "",
       "font_size": null,
       "text_color": null
      }
     },
     "a017eb0170394d95a60d8ae80635e203": {
      "model_module": "@jupyter-widgets/base",
      "model_module_version": "2.0.0",
      "model_name": "LayoutModel",
      "state": {}
     },
     "a12e9632633742a7aff31d5e19a2acbb": {
      "model_module": "@jupyter-widgets/base",
      "model_module_version": "2.0.0",
      "model_name": "LayoutModel",
      "state": {}
     },
     "a196cce57a9e4608b21c6c83ef075634": {
      "model_module": "@jupyter-widgets/controls",
      "model_module_version": "2.0.0",
      "model_name": "HTMLModel",
      "state": {
       "layout": "IPY_MODEL_7cb62fcca46b4e48b4f7705d187f0351",
       "style": "IPY_MODEL_d795423f737d465f9236983860ff73f0",
       "value": "100%"
      }
     },
     "a278811172e04ae0953c1df4a77d7b61": {
      "model_module": "@jupyter-widgets/controls",
      "model_module_version": "2.0.0",
      "model_name": "HTMLStyleModel",
      "state": {
       "description_width": "",
       "font_size": null,
       "text_color": null
      }
     },
     "a291faae8898498dbffa4ae9176364d6": {
      "model_module": "@jupyter-widgets/controls",
      "model_module_version": "2.0.0",
      "model_name": "HTMLModel",
      "state": {
       "layout": "IPY_MODEL_b63fbc441ed546cabe4c3a9ba369dd77",
       "style": "IPY_MODEL_4ece8959cb3e4beba7be932b7ffed4d4",
       "value": "100%"
      }
     },
     "a41819fd2e0b4df9b4e9ba82ab41a77e": {
      "model_module": "@jupyter-widgets/controls",
      "model_module_version": "2.0.0",
      "model_name": "ProgressStyleModel",
      "state": {
       "description_width": ""
      }
     },
     "a42668dc00f34233a3de8b513aee7cb1": {
      "model_module": "@jupyter-widgets/controls",
      "model_module_version": "2.0.0",
      "model_name": "HTMLModel",
      "state": {
       "layout": "IPY_MODEL_4c473303be7e48d0a37b63def834fd95",
       "style": "IPY_MODEL_81b70d2e89984f6e8d1a6eddabe28660",
       "value": " 242/242 [25:28&lt;00:00,  6.15s/it]"
      }
     },
     "a4875e1d9b674bf2a4f09cbaee99f56d": {
      "model_module": "@jupyter-widgets/base",
      "model_module_version": "2.0.0",
      "model_name": "LayoutModel",
      "state": {}
     },
     "a582758fc98e45dc9c35cc276c82e4b1": {
      "model_module": "@jupyter-widgets/controls",
      "model_module_version": "2.0.0",
      "model_name": "HTMLModel",
      "state": {
       "layout": "IPY_MODEL_d67cad565ee44f2f8e784bc522f2dce2",
       "style": "IPY_MODEL_262e4b62b5af441293fad41b96397783",
       "value": " 140/140 [13:22&lt;00:00,  7.73s/it]"
      }
     },
     "a68a7dbc2c004d4daf104124ba50cefd": {
      "model_module": "@jupyter-widgets/controls",
      "model_module_version": "2.0.0",
      "model_name": "HTMLStyleModel",
      "state": {
       "description_width": "",
       "font_size": null,
       "text_color": null
      }
     },
     "a6df94691da3466ab93055ad80238002": {
      "model_module": "@jupyter-widgets/base",
      "model_module_version": "2.0.0",
      "model_name": "LayoutModel",
      "state": {}
     },
     "a728cba1777f4d63a2d569a793631883": {
      "model_module": "@jupyter-widgets/controls",
      "model_module_version": "2.0.0",
      "model_name": "HTMLModel",
      "state": {
       "layout": "IPY_MODEL_0eea16f42c2c4034aa82d0769af0dcaf",
       "style": "IPY_MODEL_2a8a21ee83aa4c4b8c8a193f10d18519",
       "value": " 242/242 [25:30&lt;00:00,  5.49s/it]"
      }
     },
     "a9428b2f57424422ab8d3d12bae85b95": {
      "model_module": "@jupyter-widgets/controls",
      "model_module_version": "2.0.0",
      "model_name": "ProgressStyleModel",
      "state": {
       "description_width": ""
      }
     },
     "a9a16c18b23c444a9d012375be946687": {
      "model_module": "@jupyter-widgets/controls",
      "model_module_version": "2.0.0",
      "model_name": "HBoxModel",
      "state": {
       "children": [
        "IPY_MODEL_78011aed26994670b1856604d62ca49c",
        "IPY_MODEL_8ec7451b926d4ffeb9bd56a3b323665e",
        "IPY_MODEL_870236c4e5224ea8a48707ddbfadf18e"
       ],
       "layout": "IPY_MODEL_af829013260a488da57967698557cffd"
      }
     },
     "aa50f8af83b744a3bc28c4d0cb656471": {
      "model_module": "@jupyter-widgets/controls",
      "model_module_version": "2.0.0",
      "model_name": "HBoxModel",
      "state": {
       "children": [
        "IPY_MODEL_f446b4756ad8476d80ef8497b7696eeb",
        "IPY_MODEL_402d6192ea2c4733ba6e4a733f042ec5",
        "IPY_MODEL_d5567277a6434476b1d45b6aa130bff2"
       ],
       "layout": "IPY_MODEL_3a5d4697bae849e8ac0115d52bdfa5fe"
      }
     },
     "aab33482b1a44ccc8f30caa5ad6b6d06": {
      "model_module": "@jupyter-widgets/controls",
      "model_module_version": "2.0.0",
      "model_name": "HBoxModel",
      "state": {
       "children": [
        "IPY_MODEL_ba69e9a8c0944e6095c76b748f6f454a",
        "IPY_MODEL_e65e6588027143589c010d2f6d882c08",
        "IPY_MODEL_7bd86bcaa1df405fb31ecd1c145b5b0a"
       ],
       "layout": "IPY_MODEL_43585969b62c47e296bb269f9d5531d6"
      }
     },
     "ab147bad764a47449af04003eeda3985": {
      "model_module": "@jupyter-widgets/base",
      "model_module_version": "2.0.0",
      "model_name": "LayoutModel",
      "state": {}
     },
     "abe357a5126d4ae98b4e593425ab4d1a": {
      "model_module": "@jupyter-widgets/base",
      "model_module_version": "2.0.0",
      "model_name": "LayoutModel",
      "state": {}
     },
     "ac980cc329d74ea6ab4e61c58946efee": {
      "model_module": "@jupyter-widgets/base",
      "model_module_version": "2.0.0",
      "model_name": "LayoutModel",
      "state": {}
     },
     "ace7e465eb3d469c9000a23ecc4119ac": {
      "model_module": "@jupyter-widgets/base",
      "model_module_version": "2.0.0",
      "model_name": "LayoutModel",
      "state": {}
     },
     "ad0a651eba474678bacd44b2dee3f8ef": {
      "model_module": "@jupyter-widgets/controls",
      "model_module_version": "2.0.0",
      "model_name": "HTMLModel",
      "state": {
       "layout": "IPY_MODEL_12f609c0b7624a7d8da0adab2aadc9ce",
       "style": "IPY_MODEL_89438e87abfa46ebb22858c206d86bf4",
       "value": " 240/240 [26:28&lt;00:00, 10.97s/it]"
      }
     },
     "aeb514798bcd42e3b686003c39de2007": {
      "model_module": "@jupyter-widgets/base",
      "model_module_version": "2.0.0",
      "model_name": "LayoutModel",
      "state": {}
     },
     "aee85755b8fb4a4aa075b1682fce166f": {
      "model_module": "@jupyter-widgets/controls",
      "model_module_version": "2.0.0",
      "model_name": "HTMLModel",
      "state": {
       "layout": "IPY_MODEL_d464704c2de34a318909e5af6e57f1a8",
       "style": "IPY_MODEL_b91e5f4a064141e9a6cb0f74937d51e4",
       "value": " 239/239 [23:15&lt;00:00,  5.72s/it]"
      }
     },
     "af829013260a488da57967698557cffd": {
      "model_module": "@jupyter-widgets/base",
      "model_module_version": "2.0.0",
      "model_name": "LayoutModel",
      "state": {}
     },
     "b0434d5f5004459e9b5cfdaf73a0d21e": {
      "model_module": "@jupyter-widgets/controls",
      "model_module_version": "2.0.0",
      "model_name": "FloatProgressModel",
      "state": {
       "bar_style": "success",
       "layout": "IPY_MODEL_ddd2870397194b20b3b8a854ff38b3ec",
       "max": 242,
       "style": "IPY_MODEL_642289987e65447ab945916fd37c91ce",
       "value": 242
      }
     },
     "b1fbefee7cfa4c8684b04730d6478f1a": {
      "model_module": "@jupyter-widgets/controls",
      "model_module_version": "2.0.0",
      "model_name": "HTMLStyleModel",
      "state": {
       "description_width": "",
       "font_size": null,
       "text_color": null
      }
     },
     "b34be381c1e54dd9ad6f39b5fb87728c": {
      "model_module": "@jupyter-widgets/controls",
      "model_module_version": "2.0.0",
      "model_name": "HTMLStyleModel",
      "state": {
       "description_width": "",
       "font_size": null,
       "text_color": null
      }
     },
     "b47e73e064884c1da54d4d0233023814": {
      "model_module": "@jupyter-widgets/base",
      "model_module_version": "2.0.0",
      "model_name": "LayoutModel",
      "state": {}
     },
     "b63fbc441ed546cabe4c3a9ba369dd77": {
      "model_module": "@jupyter-widgets/base",
      "model_module_version": "2.0.0",
      "model_name": "LayoutModel",
      "state": {}
     },
     "b6a3db271c5041dcad18a7b685cb39d3": {
      "model_module": "@jupyter-widgets/base",
      "model_module_version": "2.0.0",
      "model_name": "LayoutModel",
      "state": {}
     },
     "b91e5f4a064141e9a6cb0f74937d51e4": {
      "model_module": "@jupyter-widgets/controls",
      "model_module_version": "2.0.0",
      "model_name": "HTMLStyleModel",
      "state": {
       "description_width": "",
       "font_size": null,
       "text_color": null
      }
     },
     "ba4f85fa97254b2a8c73e7c7327877a7": {
      "model_module": "@jupyter-widgets/controls",
      "model_module_version": "2.0.0",
      "model_name": "HTMLModel",
      "state": {
       "layout": "IPY_MODEL_13718c1018c542d79e9acc215c18d8cb",
       "style": "IPY_MODEL_14887150ad3d44b1a6aac563a2270efd",
       "value": "100%"
      }
     },
     "ba69e9a8c0944e6095c76b748f6f454a": {
      "model_module": "@jupyter-widgets/controls",
      "model_module_version": "2.0.0",
      "model_name": "HTMLModel",
      "state": {
       "layout": "IPY_MODEL_d2d3a408866a4da9b4064cd67915ad30",
       "style": "IPY_MODEL_efc7ac5e4fdb4c11a12cf544633661d7",
       "value": "100%"
      }
     },
     "bc1fff261f67421a9eb595201b1784cd": {
      "model_module": "@jupyter-widgets/base",
      "model_module_version": "2.0.0",
      "model_name": "LayoutModel",
      "state": {}
     },
     "bd4c8db2ffee44aba4c95aaead054a6b": {
      "model_module": "@jupyter-widgets/controls",
      "model_module_version": "2.0.0",
      "model_name": "HBoxModel",
      "state": {
       "children": [
        "IPY_MODEL_a196cce57a9e4608b21c6c83ef075634",
        "IPY_MODEL_509a7569385949b8b6c39ec11278b446",
        "IPY_MODEL_79cc5676fa1c412fa8f2b390846683d5"
       ],
       "layout": "IPY_MODEL_23e1ae07629b4f5582314065e08d6b8a"
      }
     },
     "bfa1741e84274270bc699042c13d3cba": {
      "model_module": "@jupyter-widgets/controls",
      "model_module_version": "2.0.0",
      "model_name": "HTMLModel",
      "state": {
       "layout": "IPY_MODEL_4ae9a3cf6250473ea2e636e591f223f4",
       "style": "IPY_MODEL_7597d43255b847f0bdb79bb1c533feec",
       "value": "100%"
      }
     },
     "bfd0a41a1980412981fc9671b84c64bd": {
      "model_module": "@jupyter-widgets/controls",
      "model_module_version": "2.0.0",
      "model_name": "FloatProgressModel",
      "state": {
       "bar_style": "success",
       "layout": "IPY_MODEL_362cd778a9584628b824bed92cb80850",
       "max": 242,
       "style": "IPY_MODEL_e80525f708d24ffbb544a5b422c713f9",
       "value": 242
      }
     },
     "c00d73a168304d9b94141e7e5b0b26fc": {
      "model_module": "@jupyter-widgets/controls",
      "model_module_version": "2.0.0",
      "model_name": "HTMLModel",
      "state": {
       "layout": "IPY_MODEL_d7d346e71b1a486abe4cef24b55ad125",
       "style": "IPY_MODEL_f1688a32bc804d2382fad7923b4ebc25",
       "value": "100%"
      }
     },
     "c0fe6fd6fa4b4c82b35849bf8026ab03": {
      "model_module": "@jupyter-widgets/controls",
      "model_module_version": "2.0.0",
      "model_name": "HTMLModel",
      "state": {
       "layout": "IPY_MODEL_957c7c565f3a499aa32558c320f6f8d0",
       "style": "IPY_MODEL_da68a6f06336475dab8e668afc37f724",
       "value": "100%"
      }
     },
     "c152354aa3cd477cbfff4fc243176255": {
      "model_module": "@jupyter-widgets/base",
      "model_module_version": "2.0.0",
      "model_name": "LayoutModel",
      "state": {}
     },
     "c291068728414742a0afb2d20bde3b86": {
      "model_module": "@jupyter-widgets/controls",
      "model_module_version": "2.0.0",
      "model_name": "HTMLModel",
      "state": {
       "layout": "IPY_MODEL_2663452134c24e5797a330776e118047",
       "style": "IPY_MODEL_592649bb3920414a90cba8cd7a696b25",
       "value": " 306/306 [28:24&lt;00:00,  5.17s/it]"
      }
     },
     "c315589a257d4a4382002c421083e27e": {
      "model_module": "@jupyter-widgets/base",
      "model_module_version": "2.0.0",
      "model_name": "LayoutModel",
      "state": {}
     },
     "c3bc4187c1b644099cb37067a0db9cd6": {
      "model_module": "@jupyter-widgets/controls",
      "model_module_version": "2.0.0",
      "model_name": "HTMLModel",
      "state": {
       "layout": "IPY_MODEL_e96979e897f24206af953b49f3f92b00",
       "style": "IPY_MODEL_22d2019e4a9d44b094880b753ff53e82",
       "value": "100%"
      }
     },
     "c4df9e0018ee4c12bad8b39e21ed6842": {
      "model_module": "@jupyter-widgets/controls",
      "model_module_version": "2.0.0",
      "model_name": "HTMLStyleModel",
      "state": {
       "description_width": "",
       "font_size": null,
       "text_color": null
      }
     },
     "c599dfb39a4f4707bd25f24812b09587": {
      "model_module": "@jupyter-widgets/controls",
      "model_module_version": "2.0.0",
      "model_name": "HTMLModel",
      "state": {
       "layout": "IPY_MODEL_dcb96423f36440618295be4dc0b13b88",
       "style": "IPY_MODEL_75bd24c0dcd54feabec3e055d97720eb",
       "value": "100%"
      }
     },
     "c64d5b6bb6dd48ceb658fb55cb4c0c25": {
      "model_module": "@jupyter-widgets/base",
      "model_module_version": "2.0.0",
      "model_name": "LayoutModel",
      "state": {}
     },
     "c8206d3cabc046fe8d7ab067523670d3": {
      "model_module": "@jupyter-widgets/controls",
      "model_module_version": "2.0.0",
      "model_name": "HTMLModel",
      "state": {
       "layout": "IPY_MODEL_bc1fff261f67421a9eb595201b1784cd",
       "style": "IPY_MODEL_56f69c3d0d004e4f8fbc8a8cdc770c44",
       "value": "100%"
      }
     },
     "c8ec1de8ec0b481a85fb858c669a2192": {
      "model_module": "@jupyter-widgets/controls",
      "model_module_version": "2.0.0",
      "model_name": "HTMLStyleModel",
      "state": {
       "description_width": "",
       "font_size": null,
       "text_color": null
      }
     },
     "c920bb5767024556a97e53747fdc2316": {
      "model_module": "@jupyter-widgets/controls",
      "model_module_version": "2.0.0",
      "model_name": "FloatProgressModel",
      "state": {
       "bar_style": "success",
       "layout": "IPY_MODEL_8c5a939e854f4808b5df96820576ba8c",
       "max": 348,
       "style": "IPY_MODEL_8e4b7ede3e874e21ad9a73c655ad181f",
       "value": 348
      }
     },
     "cadb4cd079dc4573a50274e8a926038e": {
      "model_module": "@jupyter-widgets/base",
      "model_module_version": "2.0.0",
      "model_name": "LayoutModel",
      "state": {}
     },
     "cb66bf8e600b4b0a81d7ddcdda86a603": {
      "model_module": "@jupyter-widgets/controls",
      "model_module_version": "2.0.0",
      "model_name": "FloatProgressModel",
      "state": {
       "bar_style": "success",
       "layout": "IPY_MODEL_d384ed1b2f3246ccbc8a57bbb11f5ec1",
       "max": 344,
       "style": "IPY_MODEL_d1912d123edf421b9705a7c9e4ab1db5",
       "value": 344
      }
     },
     "ce3e873a0dbc47d98f78eed81d91f275": {
      "model_module": "@jupyter-widgets/base",
      "model_module_version": "2.0.0",
      "model_name": "LayoutModel",
      "state": {}
     },
     "d0ceb4c009d147de94b7390b14826046": {
      "model_module": "@jupyter-widgets/base",
      "model_module_version": "2.0.0",
      "model_name": "LayoutModel",
      "state": {}
     },
     "d110abf36bd44a49b86e5ced4a1f8121": {
      "model_module": "@jupyter-widgets/base",
      "model_module_version": "2.0.0",
      "model_name": "LayoutModel",
      "state": {}
     },
     "d1912d123edf421b9705a7c9e4ab1db5": {
      "model_module": "@jupyter-widgets/controls",
      "model_module_version": "2.0.0",
      "model_name": "ProgressStyleModel",
      "state": {
       "description_width": ""
      }
     },
     "d233cbbbcc394a7599b841530d31fd6a": {
      "model_module": "@jupyter-widgets/controls",
      "model_module_version": "2.0.0",
      "model_name": "FloatProgressModel",
      "state": {
       "bar_style": "success",
       "layout": "IPY_MODEL_81d2a2a2b97c47a19404078463e9c3f6",
       "max": 335,
       "style": "IPY_MODEL_42ac484fcabf4888be36ef9659f63d40",
       "value": 335
      }
     },
     "d290e09e3cb24c51b5389afa95e3af22": {
      "model_module": "@jupyter-widgets/controls",
      "model_module_version": "2.0.0",
      "model_name": "HTMLStyleModel",
      "state": {
       "description_width": "",
       "font_size": null,
       "text_color": null
      }
     },
     "d2bc53e012124899adc27608b365d212": {
      "model_module": "@jupyter-widgets/controls",
      "model_module_version": "2.0.0",
      "model_name": "HTMLModel",
      "state": {
       "layout": "IPY_MODEL_0bc3e094cc9d4ae08c8c426b439810df",
       "style": "IPY_MODEL_7ed73e57d6d343d8b942464ec836b390",
       "value": "100%"
      }
     },
     "d2d3a408866a4da9b4064cd67915ad30": {
      "model_module": "@jupyter-widgets/base",
      "model_module_version": "2.0.0",
      "model_name": "LayoutModel",
      "state": {}
     },
     "d2ee5ba53e844335b2db7c62bbe78f4a": {
      "model_module": "@jupyter-widgets/controls",
      "model_module_version": "2.0.0",
      "model_name": "FloatProgressModel",
      "state": {
       "bar_style": "success",
       "layout": "IPY_MODEL_ace7e465eb3d469c9000a23ecc4119ac",
       "max": 108,
       "style": "IPY_MODEL_81f5e82206e3471f94f02e8d5abbcfc7",
       "value": 108
      }
     },
     "d384ed1b2f3246ccbc8a57bbb11f5ec1": {
      "model_module": "@jupyter-widgets/base",
      "model_module_version": "2.0.0",
      "model_name": "LayoutModel",
      "state": {}
     },
     "d45d83a9be614c96bcf9e057cd719064": {
      "model_module": "@jupyter-widgets/controls",
      "model_module_version": "2.0.0",
      "model_name": "HTMLModel",
      "state": {
       "layout": "IPY_MODEL_6e1bd77ea6974467ba93beb05dba577c",
       "style": "IPY_MODEL_4f24416788814388ba4cf4e0dd0ca442",
       "value": "100%"
      }
     },
     "d464704c2de34a318909e5af6e57f1a8": {
      "model_module": "@jupyter-widgets/base",
      "model_module_version": "2.0.0",
      "model_name": "LayoutModel",
      "state": {}
     },
     "d494eef013e24a0a8e54db30607ae64a": {
      "model_module": "@jupyter-widgets/base",
      "model_module_version": "2.0.0",
      "model_name": "LayoutModel",
      "state": {}
     },
     "d4bd3eef233d412e82123e99a14a9b24": {
      "model_module": "@jupyter-widgets/controls",
      "model_module_version": "2.0.0",
      "model_name": "HBoxModel",
      "state": {
       "children": [
        "IPY_MODEL_07416e30889b4b648911bf8da036825f",
        "IPY_MODEL_e41ca2752a9644a0bfddeb3bfc08dbb5",
        "IPY_MODEL_c291068728414742a0afb2d20bde3b86"
       ],
       "layout": "IPY_MODEL_304cdac577ca4474ba116a426938903a"
      }
     },
     "d52dee2e9e334221acdc2964cc506270": {
      "model_module": "@jupyter-widgets/base",
      "model_module_version": "2.0.0",
      "model_name": "LayoutModel",
      "state": {}
     },
     "d5567277a6434476b1d45b6aa130bff2": {
      "model_module": "@jupyter-widgets/controls",
      "model_module_version": "2.0.0",
      "model_name": "HTMLModel",
      "state": {
       "layout": "IPY_MODEL_1311e392c2cc489ab6e79a7fbf3addcb",
       "style": "IPY_MODEL_d290e09e3cb24c51b5389afa95e3af22",
       "value": " 559/559 [54:27&lt;00:00,  5.75s/it]"
      }
     },
     "d67cad565ee44f2f8e784bc522f2dce2": {
      "model_module": "@jupyter-widgets/base",
      "model_module_version": "2.0.0",
      "model_name": "LayoutModel",
      "state": {}
     },
     "d795423f737d465f9236983860ff73f0": {
      "model_module": "@jupyter-widgets/controls",
      "model_module_version": "2.0.0",
      "model_name": "HTMLStyleModel",
      "state": {
       "description_width": "",
       "font_size": null,
       "text_color": null
      }
     },
     "d7d346e71b1a486abe4cef24b55ad125": {
      "model_module": "@jupyter-widgets/base",
      "model_module_version": "2.0.0",
      "model_name": "LayoutModel",
      "state": {}
     },
     "d7f7aa39494340df8d75f49ae4946e6c": {
      "model_module": "@jupyter-widgets/controls",
      "model_module_version": "2.0.0",
      "model_name": "HTMLModel",
      "state": {
       "layout": "IPY_MODEL_64369d9002af489098372e85c0d2dbc4",
       "style": "IPY_MODEL_17a2abb4e81a4085a2824f6131d8193c",
       "value": " 134/134 [13:19&lt;00:00,  7.29s/it]"
      }
     },
     "d83951e35abc427f8f5ededb3dec151f": {
      "model_module": "@jupyter-widgets/base",
      "model_module_version": "2.0.0",
      "model_name": "LayoutModel",
      "state": {}
     },
     "d8ef89bf097943bebbca24951b456023": {
      "model_module": "@jupyter-widgets/controls",
      "model_module_version": "2.0.0",
      "model_name": "HTMLModel",
      "state": {
       "layout": "IPY_MODEL_b6a3db271c5041dcad18a7b685cb39d3",
       "style": "IPY_MODEL_94fdeffb65e24409949e3856de3172f3",
       "value": " 108/108 [11:20&lt;00:00,  5.54s/it]"
      }
     },
     "d92558449dbc4b2b96a9d7fd0fcaa467": {
      "model_module": "@jupyter-widgets/controls",
      "model_module_version": "2.0.0",
      "model_name": "HTMLModel",
      "state": {
       "layout": "IPY_MODEL_8596c0e1d2764163bce2407e8b12a2b8",
       "style": "IPY_MODEL_690a34a55af94e80b89fa35b7d6d1439",
       "value": " 182/182 [19:18&lt;00:00,  6.17s/it]"
      }
     },
     "d93052e7ab8048bcb304f326241c6912": {
      "model_module": "@jupyter-widgets/base",
      "model_module_version": "2.0.0",
      "model_name": "LayoutModel",
      "state": {}
     },
     "d965704869a84517a1be26733f0fbb3f": {
      "model_module": "@jupyter-widgets/base",
      "model_module_version": "2.0.0",
      "model_name": "LayoutModel",
      "state": {}
     },
     "d96c53cbc2f34a63ba8741c452e91491": {
      "model_module": "@jupyter-widgets/controls",
      "model_module_version": "2.0.0",
      "model_name": "HBoxModel",
      "state": {
       "children": [
        "IPY_MODEL_d2bc53e012124899adc27608b365d212",
        "IPY_MODEL_2f70bf427d2044d587b42505bf8ac3a4",
        "IPY_MODEL_d8ef89bf097943bebbca24951b456023"
       ],
       "layout": "IPY_MODEL_d110abf36bd44a49b86e5ced4a1f8121"
      }
     },
     "d9ea01bf50e847499d7dd1bfff1821d8": {
      "model_module": "@jupyter-widgets/controls",
      "model_module_version": "2.0.0",
      "model_name": "HTMLStyleModel",
      "state": {
       "description_width": "",
       "font_size": null,
       "text_color": null
      }
     },
     "da68a6f06336475dab8e668afc37f724": {
      "model_module": "@jupyter-widgets/controls",
      "model_module_version": "2.0.0",
      "model_name": "HTMLStyleModel",
      "state": {
       "description_width": "",
       "font_size": null,
       "text_color": null
      }
     },
     "db552e546bc74e6ca83fbb18ec246098": {
      "model_module": "@jupyter-widgets/base",
      "model_module_version": "2.0.0",
      "model_name": "LayoutModel",
      "state": {}
     },
     "db6275ea04d4454c979a0865eaef316c": {
      "model_module": "@jupyter-widgets/controls",
      "model_module_version": "2.0.0",
      "model_name": "HBoxModel",
      "state": {
       "children": [
        "IPY_MODEL_064e7f58a69d4fbb8c334eca9006bd30",
        "IPY_MODEL_9cb1816ed298432a88c7bec7b2a9291c",
        "IPY_MODEL_e3ff4288020c40ba93cb315283a1b24d"
       ],
       "layout": "IPY_MODEL_60d38b1666b74ee69c35d7199f1164c3"
      }
     },
     "dcb96423f36440618295be4dc0b13b88": {
      "model_module": "@jupyter-widgets/base",
      "model_module_version": "2.0.0",
      "model_name": "LayoutModel",
      "state": {}
     },
     "ddc3261e67154e1e8c0e0ff1acfb86c5": {
      "model_module": "@jupyter-widgets/base",
      "model_module_version": "2.0.0",
      "model_name": "LayoutModel",
      "state": {}
     },
     "ddd2870397194b20b3b8a854ff38b3ec": {
      "model_module": "@jupyter-widgets/base",
      "model_module_version": "2.0.0",
      "model_name": "LayoutModel",
      "state": {}
     },
     "dde3c2520b384b15b50692f20943473d": {
      "model_module": "@jupyter-widgets/controls",
      "model_module_version": "2.0.0",
      "model_name": "HTMLStyleModel",
      "state": {
       "description_width": "",
       "font_size": null,
       "text_color": null
      }
     },
     "de659c299c2949f98c29f8aeeb9a6fd9": {
      "model_module": "@jupyter-widgets/controls",
      "model_module_version": "2.0.0",
      "model_name": "ProgressStyleModel",
      "state": {
       "description_width": ""
      }
     },
     "df2e3c891f224fee9c0cb337c3141865": {
      "model_module": "@jupyter-widgets/controls",
      "model_module_version": "2.0.0",
      "model_name": "ProgressStyleModel",
      "state": {
       "description_width": ""
      }
     },
     "e246435c08cc426186a5a8cac8977b1f": {
      "model_module": "@jupyter-widgets/controls",
      "model_module_version": "2.0.0",
      "model_name": "HTMLStyleModel",
      "state": {
       "description_width": "",
       "font_size": null,
       "text_color": null
      }
     },
     "e2956b41876749ce99fb350edca575a7": {
      "model_module": "@jupyter-widgets/base",
      "model_module_version": "2.0.0",
      "model_name": "LayoutModel",
      "state": {}
     },
     "e2a90404db8c4fdf85d860e8fb9faabf": {
      "model_module": "@jupyter-widgets/base",
      "model_module_version": "2.0.0",
      "model_name": "LayoutModel",
      "state": {}
     },
     "e3d01ecfa8fe4691852829a194893ddb": {
      "model_module": "@jupyter-widgets/controls",
      "model_module_version": "2.0.0",
      "model_name": "HBoxModel",
      "state": {
       "children": [
        "IPY_MODEL_168774e7e8a34e5696e601a4b62dbd50",
        "IPY_MODEL_5ce12a7682174160b380c95c963cbed6",
        "IPY_MODEL_98966599c5f9427ca354a71c5a004713"
       ],
       "layout": "IPY_MODEL_9125037b9c854ed685c4f0ef76dcc10a"
      }
     },
     "e3ff4288020c40ba93cb315283a1b24d": {
      "model_module": "@jupyter-widgets/controls",
      "model_module_version": "2.0.0",
      "model_name": "HTMLModel",
      "state": {
       "layout": "IPY_MODEL_6f0eab1dbb3b415b91dfd1c7805254dc",
       "style": "IPY_MODEL_b1fbefee7cfa4c8684b04730d6478f1a",
       "value": " 134/134 [14:43&lt;00:00,  4.97s/it]"
      }
     },
     "e41ca2752a9644a0bfddeb3bfc08dbb5": {
      "model_module": "@jupyter-widgets/controls",
      "model_module_version": "2.0.0",
      "model_name": "FloatProgressModel",
      "state": {
       "bar_style": "success",
       "layout": "IPY_MODEL_f67c95d555bb4e6498a9c8d7c4012a62",
       "max": 306,
       "style": "IPY_MODEL_074de5e2156748c2ae34f250fdee7f4d",
       "value": 306
      }
     },
     "e50d8a09662744f5bfb60e2cc6a1933d": {
      "model_module": "@jupyter-widgets/controls",
      "model_module_version": "2.0.0",
      "model_name": "HBoxModel",
      "state": {
       "children": [
        "IPY_MODEL_c8206d3cabc046fe8d7ab067523670d3",
        "IPY_MODEL_f490cf13008e4bf8a9edc4b389e250aa",
        "IPY_MODEL_015a368187944b44806d1981b00d8353"
       ],
       "layout": "IPY_MODEL_1276728fa1b545439dac68a0e65b29de"
      }
     },
     "e62347dfc976443d8213125f47589948": {
      "model_module": "@jupyter-widgets/base",
      "model_module_version": "2.0.0",
      "model_name": "LayoutModel",
      "state": {}
     },
     "e65e6588027143589c010d2f6d882c08": {
      "model_module": "@jupyter-widgets/controls",
      "model_module_version": "2.0.0",
      "model_name": "FloatProgressModel",
      "state": {
       "bar_style": "success",
       "layout": "IPY_MODEL_29005ff3e31246198e859d96f16897a9",
       "max": 182,
       "style": "IPY_MODEL_df2e3c891f224fee9c0cb337c3141865",
       "value": 182
      }
     },
     "e6b811882f9f431dbf0197cd74146bd6": {
      "model_module": "@jupyter-widgets/controls",
      "model_module_version": "2.0.0",
      "model_name": "HTMLModel",
      "state": {
       "layout": "IPY_MODEL_a017eb0170394d95a60d8ae80635e203",
       "style": "IPY_MODEL_49a17effd0a84fbe81f11e22ca9371e0",
       "value": "100%"
      }
     },
     "e78c2b12965744b288ad5b945bb15d0a": {
      "model_module": "@jupyter-widgets/base",
      "model_module_version": "2.0.0",
      "model_name": "LayoutModel",
      "state": {}
     },
     "e7d346ddb8d0450d90d764c44ceee900": {
      "model_module": "@jupyter-widgets/base",
      "model_module_version": "2.0.0",
      "model_name": "LayoutModel",
      "state": {}
     },
     "e80525f708d24ffbb544a5b422c713f9": {
      "model_module": "@jupyter-widgets/controls",
      "model_module_version": "2.0.0",
      "model_name": "ProgressStyleModel",
      "state": {
       "description_width": ""
      }
     },
     "e8a597b32b55461facc99c0c50001352": {
      "model_module": "@jupyter-widgets/controls",
      "model_module_version": "2.0.0",
      "model_name": "FloatProgressModel",
      "state": {
       "bar_style": "success",
       "layout": "IPY_MODEL_f8ce4e3dd22842a1a2236135b594a479",
       "max": 200,
       "style": "IPY_MODEL_915d029e742e4026a9aac91d2f97d9a2",
       "value": 200
      }
     },
     "e945a97cd0bb4599b1d992169767b2a3": {
      "model_module": "@jupyter-widgets/controls",
      "model_module_version": "2.0.0",
      "model_name": "HTMLStyleModel",
      "state": {
       "description_width": "",
       "font_size": null,
       "text_color": null
      }
     },
     "e96979e897f24206af953b49f3f92b00": {
      "model_module": "@jupyter-widgets/base",
      "model_module_version": "2.0.0",
      "model_name": "LayoutModel",
      "state": {}
     },
     "e9ac632ed6654383a1c20ec395b2cf8c": {
      "model_module": "@jupyter-widgets/base",
      "model_module_version": "2.0.0",
      "model_name": "LayoutModel",
      "state": {}
     },
     "ec72694eb2ad4ec4b630cab5b39145c2": {
      "model_module": "@jupyter-widgets/controls",
      "model_module_version": "2.0.0",
      "model_name": "HBoxModel",
      "state": {
       "children": [
        "IPY_MODEL_bfa1741e84274270bc699042c13d3cba",
        "IPY_MODEL_d2ee5ba53e844335b2db7c62bbe78f4a",
        "IPY_MODEL_88b41a79c6d240638c5bc144888e87b5"
       ],
       "layout": "IPY_MODEL_40a72cbfdf8443f8a8debc74e346c3f1"
      }
     },
     "ed85ea4e5652497e985a82788786d547": {
      "model_module": "@jupyter-widgets/controls",
      "model_module_version": "2.0.0",
      "model_name": "HBoxModel",
      "state": {
       "children": [
        "IPY_MODEL_74f515f4081a409c91bbd09a97ba0d9f",
        "IPY_MODEL_f18cfa4e46004a2b8526e8feaeab6fdb",
        "IPY_MODEL_13e0f94f92dd45d0a72823573660c10c"
       ],
       "layout": "IPY_MODEL_28266880acb446afa7ad5f816fb55fe9"
      }
     },
     "efc7ac5e4fdb4c11a12cf544633661d7": {
      "model_module": "@jupyter-widgets/controls",
      "model_module_version": "2.0.0",
      "model_name": "HTMLStyleModel",
      "state": {
       "description_width": "",
       "font_size": null,
       "text_color": null
      }
     },
     "f0d671f3ba5c4fe3a13dbb627767ed00": {
      "model_module": "@jupyter-widgets/controls",
      "model_module_version": "2.0.0",
      "model_name": "HTMLModel",
      "state": {
       "layout": "IPY_MODEL_46d9f25c46cc42199b09528f0ea18976",
       "style": "IPY_MODEL_147abb77bf1f42da8e0d2368d31b0923",
       "value": " 242/242 [21:03&lt;00:00,  6.03s/it]"
      }
     },
     "f1688a32bc804d2382fad7923b4ebc25": {
      "model_module": "@jupyter-widgets/controls",
      "model_module_version": "2.0.0",
      "model_name": "HTMLStyleModel",
      "state": {
       "description_width": "",
       "font_size": null,
       "text_color": null
      }
     },
     "f18cfa4e46004a2b8526e8feaeab6fdb": {
      "model_module": "@jupyter-widgets/controls",
      "model_module_version": "2.0.0",
      "model_name": "FloatProgressModel",
      "state": {
       "bar_style": "success",
       "layout": "IPY_MODEL_3c2b289cafbe4a399ed7c84aa6d0a16c",
       "max": 242,
       "style": "IPY_MODEL_84c02e2bc75540f88df6d66facadb085",
       "value": 242
      }
     },
     "f2192471dacf4f8fb29f7935aa9f38e5": {
      "model_module": "@jupyter-widgets/controls",
      "model_module_version": "2.0.0",
      "model_name": "HTMLStyleModel",
      "state": {
       "description_width": "",
       "font_size": null,
       "text_color": null
      }
     },
     "f292d4912f8c4ad1a6a4a4577f539ca5": {
      "model_module": "@jupyter-widgets/controls",
      "model_module_version": "2.0.0",
      "model_name": "ProgressStyleModel",
      "state": {
       "description_width": ""
      }
     },
     "f446b4756ad8476d80ef8497b7696eeb": {
      "model_module": "@jupyter-widgets/controls",
      "model_module_version": "2.0.0",
      "model_name": "HTMLModel",
      "state": {
       "layout": "IPY_MODEL_d52dee2e9e334221acdc2964cc506270",
       "style": "IPY_MODEL_7bcac7b1f7ab4b7087166e4849ec5ba0",
       "value": "100%"
      }
     },
     "f490cf13008e4bf8a9edc4b389e250aa": {
      "model_module": "@jupyter-widgets/controls",
      "model_module_version": "2.0.0",
      "model_name": "FloatProgressModel",
      "state": {
       "bar_style": "success",
       "layout": "IPY_MODEL_e2a90404db8c4fdf85d860e8fb9faabf",
       "max": 198,
       "style": "IPY_MODEL_40162ef2052a4175916ca1b5663421c4",
       "value": 198
      }
     },
     "f54138e535f34ad29f413b5381ace90c": {
      "model_module": "@jupyter-widgets/base",
      "model_module_version": "2.0.0",
      "model_name": "LayoutModel",
      "state": {}
     },
     "f5a0e0cef81e4d7e88e81ff7d4df7e22": {
      "model_module": "@jupyter-widgets/controls",
      "model_module_version": "2.0.0",
      "model_name": "ProgressStyleModel",
      "state": {
       "description_width": ""
      }
     },
     "f67c95d555bb4e6498a9c8d7c4012a62": {
      "model_module": "@jupyter-widgets/base",
      "model_module_version": "2.0.0",
      "model_name": "LayoutModel",
      "state": {}
     },
     "f7341afddd504b33b7c9991ff841583b": {
      "model_module": "@jupyter-widgets/controls",
      "model_module_version": "2.0.0",
      "model_name": "ProgressStyleModel",
      "state": {
       "description_width": ""
      }
     },
     "f8ce4e3dd22842a1a2236135b594a479": {
      "model_module": "@jupyter-widgets/base",
      "model_module_version": "2.0.0",
      "model_name": "LayoutModel",
      "state": {}
     },
     "f90854fdc24d4ff88f9a1ba7efd332d6": {
      "model_module": "@jupyter-widgets/controls",
      "model_module_version": "2.0.0",
      "model_name": "HTMLStyleModel",
      "state": {
       "description_width": "",
       "font_size": null,
       "text_color": null
      }
     },
     "fa25088b257f4179b3feebb81ccccc7b": {
      "model_module": "@jupyter-widgets/controls",
      "model_module_version": "2.0.0",
      "model_name": "FloatProgressModel",
      "state": {
       "bar_style": "success",
       "layout": "IPY_MODEL_ddc3261e67154e1e8c0e0ff1acfb86c5",
       "max": 140,
       "style": "IPY_MODEL_7a30b9ce67cf4293be5ce58004292b25",
       "value": 140
      }
     },
     "fa9ba242a7054412b95e25083e6c7992": {
      "model_module": "@jupyter-widgets/base",
      "model_module_version": "2.0.0",
      "model_name": "LayoutModel",
      "state": {}
     },
     "fb12371980a04dbaad160308b08ea2e4": {
      "model_module": "@jupyter-widgets/base",
      "model_module_version": "2.0.0",
      "model_name": "LayoutModel",
      "state": {}
     },
     "fbb19b24cc464e648a7c9302f12d345d": {
      "model_module": "@jupyter-widgets/controls",
      "model_module_version": "2.0.0",
      "model_name": "HTMLModel",
      "state": {
       "layout": "IPY_MODEL_94d40860d5c64515aa4494681c480b33",
       "style": "IPY_MODEL_b34be381c1e54dd9ad6f39b5fb87728c",
       "value": "100%"
      }
     },
     "fca06d29335b4d39a0f5d72a2b322023": {
      "model_module": "@jupyter-widgets/controls",
      "model_module_version": "2.0.0",
      "model_name": "HTMLStyleModel",
      "state": {
       "description_width": "",
       "font_size": null,
       "text_color": null
      }
     },
     "fcb046e759d341748bf0ee8e93e9a128": {
      "model_module": "@jupyter-widgets/controls",
      "model_module_version": "2.0.0",
      "model_name": "HTMLModel",
      "state": {
       "layout": "IPY_MODEL_e78c2b12965744b288ad5b945bb15d0a",
       "style": "IPY_MODEL_fe6981a13d784686928652271f3f8071",
       "value": "100%"
      }
     },
     "fcb8ef87bc804079803fec2d607c966c": {
      "model_module": "@jupyter-widgets/base",
      "model_module_version": "2.0.0",
      "model_name": "LayoutModel",
      "state": {}
     },
     "fcc31ab65eb44cde9c1fa585d08c480e": {
      "model_module": "@jupyter-widgets/controls",
      "model_module_version": "2.0.0",
      "model_name": "HTMLModel",
      "state": {
       "layout": "IPY_MODEL_49828df3eadd4c87be1bb3a79100d7af",
       "style": "IPY_MODEL_c8ec1de8ec0b481a85fb858c669a2192",
       "value": "100%"
      }
     },
     "fdd0d5a247864bcb820cde422aefdfc6": {
      "model_module": "@jupyter-widgets/controls",
      "model_module_version": "2.0.0",
      "model_name": "FloatProgressModel",
      "state": {
       "bar_style": "success",
       "layout": "IPY_MODEL_a4875e1d9b674bf2a4f09cbaee99f56d",
       "max": 87,
       "style": "IPY_MODEL_de659c299c2949f98c29f8aeeb9a6fd9",
       "value": 87
      }
     },
     "fe6981a13d784686928652271f3f8071": {
      "model_module": "@jupyter-widgets/controls",
      "model_module_version": "2.0.0",
      "model_name": "HTMLStyleModel",
      "state": {
       "description_width": "",
       "font_size": null,
       "text_color": null
      }
     },
     "fe822a763ee74fb8a5922ed2a8d36799": {
      "model_module": "@jupyter-widgets/base",
      "model_module_version": "2.0.0",
      "model_name": "LayoutModel",
      "state": {}
     }
    },
    "version_major": 2,
    "version_minor": 0
   }
  }
 },
 "nbformat": 4,
 "nbformat_minor": 5
}
